{
  "nbformat": 4,
  "nbformat_minor": 0,
  "metadata": {
    "colab": {
      "provenance": [],
      "include_colab_link": true
    },
    "kernelspec": {
      "name": "python3",
      "display_name": "Python 3"
    },
    "language_info": {
      "name": "python"
    },
    "accelerator": "TPU",
    "widgets": {
      "application/vnd.jupyter.widget-state+json": {
        "7c0d1d6a9328456986dff39dc69fd347": {
          "model_module": "@jupyter-widgets/controls",
          "model_name": "HBoxModel",
          "model_module_version": "1.5.0",
          "state": {
            "_dom_classes": [],
            "_model_module": "@jupyter-widgets/controls",
            "_model_module_version": "1.5.0",
            "_model_name": "HBoxModel",
            "_view_count": null,
            "_view_module": "@jupyter-widgets/controls",
            "_view_module_version": "1.5.0",
            "_view_name": "HBoxView",
            "box_style": "",
            "children": [
              "IPY_MODEL_ff6c13d6f74542ffabe99a9202943659",
              "IPY_MODEL_b52cfbbbf7dd4fbb8050c8d181e49131",
              "IPY_MODEL_36605ba356dd486ba13712d8e287664c"
            ],
            "layout": "IPY_MODEL_8d79d70864b24b17983f4bc13b5dd4b1"
          }
        },
        "ff6c13d6f74542ffabe99a9202943659": {
          "model_module": "@jupyter-widgets/controls",
          "model_name": "HTMLModel",
          "model_module_version": "1.5.0",
          "state": {
            "_dom_classes": [],
            "_model_module": "@jupyter-widgets/controls",
            "_model_module_version": "1.5.0",
            "_model_name": "HTMLModel",
            "_view_count": null,
            "_view_module": "@jupyter-widgets/controls",
            "_view_module_version": "1.5.0",
            "_view_name": "HTMLView",
            "description": "",
            "description_tooltip": null,
            "layout": "IPY_MODEL_a57110ccefb148d98d6e4699362177e9",
            "placeholder": "​",
            "style": "IPY_MODEL_7c27e971ee7247c199d53b4b5bc749c8",
            "value": "Map: 100%"
          }
        },
        "b52cfbbbf7dd4fbb8050c8d181e49131": {
          "model_module": "@jupyter-widgets/controls",
          "model_name": "FloatProgressModel",
          "model_module_version": "1.5.0",
          "state": {
            "_dom_classes": [],
            "_model_module": "@jupyter-widgets/controls",
            "_model_module_version": "1.5.0",
            "_model_name": "FloatProgressModel",
            "_view_count": null,
            "_view_module": "@jupyter-widgets/controls",
            "_view_module_version": "1.5.0",
            "_view_name": "ProgressView",
            "bar_style": "success",
            "description": "",
            "description_tooltip": null,
            "layout": "IPY_MODEL_116f675e1f1446cb945a7db7d8c95aa0",
            "max": 26614,
            "min": 0,
            "orientation": "horizontal",
            "style": "IPY_MODEL_10db594a07aa438493af34cf7cb2e634",
            "value": 26614
          }
        },
        "36605ba356dd486ba13712d8e287664c": {
          "model_module": "@jupyter-widgets/controls",
          "model_name": "HTMLModel",
          "model_module_version": "1.5.0",
          "state": {
            "_dom_classes": [],
            "_model_module": "@jupyter-widgets/controls",
            "_model_module_version": "1.5.0",
            "_model_name": "HTMLModel",
            "_view_count": null,
            "_view_module": "@jupyter-widgets/controls",
            "_view_module_version": "1.5.0",
            "_view_name": "HTMLView",
            "description": "",
            "description_tooltip": null,
            "layout": "IPY_MODEL_5633ec8da3d64d7eb53ba71c5561e728",
            "placeholder": "​",
            "style": "IPY_MODEL_e79194028e46445c91ba8e3e946d6bc4",
            "value": " 26614/26614 [06:20&lt;00:00, 73.57 examples/s]"
          }
        },
        "8d79d70864b24b17983f4bc13b5dd4b1": {
          "model_module": "@jupyter-widgets/base",
          "model_name": "LayoutModel",
          "model_module_version": "1.2.0",
          "state": {
            "_model_module": "@jupyter-widgets/base",
            "_model_module_version": "1.2.0",
            "_model_name": "LayoutModel",
            "_view_count": null,
            "_view_module": "@jupyter-widgets/base",
            "_view_module_version": "1.2.0",
            "_view_name": "LayoutView",
            "align_content": null,
            "align_items": null,
            "align_self": null,
            "border": null,
            "bottom": null,
            "display": null,
            "flex": null,
            "flex_flow": null,
            "grid_area": null,
            "grid_auto_columns": null,
            "grid_auto_flow": null,
            "grid_auto_rows": null,
            "grid_column": null,
            "grid_gap": null,
            "grid_row": null,
            "grid_template_areas": null,
            "grid_template_columns": null,
            "grid_template_rows": null,
            "height": null,
            "justify_content": null,
            "justify_items": null,
            "left": null,
            "margin": null,
            "max_height": null,
            "max_width": null,
            "min_height": null,
            "min_width": null,
            "object_fit": null,
            "object_position": null,
            "order": null,
            "overflow": null,
            "overflow_x": null,
            "overflow_y": null,
            "padding": null,
            "right": null,
            "top": null,
            "visibility": null,
            "width": null
          }
        },
        "a57110ccefb148d98d6e4699362177e9": {
          "model_module": "@jupyter-widgets/base",
          "model_name": "LayoutModel",
          "model_module_version": "1.2.0",
          "state": {
            "_model_module": "@jupyter-widgets/base",
            "_model_module_version": "1.2.0",
            "_model_name": "LayoutModel",
            "_view_count": null,
            "_view_module": "@jupyter-widgets/base",
            "_view_module_version": "1.2.0",
            "_view_name": "LayoutView",
            "align_content": null,
            "align_items": null,
            "align_self": null,
            "border": null,
            "bottom": null,
            "display": null,
            "flex": null,
            "flex_flow": null,
            "grid_area": null,
            "grid_auto_columns": null,
            "grid_auto_flow": null,
            "grid_auto_rows": null,
            "grid_column": null,
            "grid_gap": null,
            "grid_row": null,
            "grid_template_areas": null,
            "grid_template_columns": null,
            "grid_template_rows": null,
            "height": null,
            "justify_content": null,
            "justify_items": null,
            "left": null,
            "margin": null,
            "max_height": null,
            "max_width": null,
            "min_height": null,
            "min_width": null,
            "object_fit": null,
            "object_position": null,
            "order": null,
            "overflow": null,
            "overflow_x": null,
            "overflow_y": null,
            "padding": null,
            "right": null,
            "top": null,
            "visibility": null,
            "width": null
          }
        },
        "7c27e971ee7247c199d53b4b5bc749c8": {
          "model_module": "@jupyter-widgets/controls",
          "model_name": "DescriptionStyleModel",
          "model_module_version": "1.5.0",
          "state": {
            "_model_module": "@jupyter-widgets/controls",
            "_model_module_version": "1.5.0",
            "_model_name": "DescriptionStyleModel",
            "_view_count": null,
            "_view_module": "@jupyter-widgets/base",
            "_view_module_version": "1.2.0",
            "_view_name": "StyleView",
            "description_width": ""
          }
        },
        "116f675e1f1446cb945a7db7d8c95aa0": {
          "model_module": "@jupyter-widgets/base",
          "model_name": "LayoutModel",
          "model_module_version": "1.2.0",
          "state": {
            "_model_module": "@jupyter-widgets/base",
            "_model_module_version": "1.2.0",
            "_model_name": "LayoutModel",
            "_view_count": null,
            "_view_module": "@jupyter-widgets/base",
            "_view_module_version": "1.2.0",
            "_view_name": "LayoutView",
            "align_content": null,
            "align_items": null,
            "align_self": null,
            "border": null,
            "bottom": null,
            "display": null,
            "flex": null,
            "flex_flow": null,
            "grid_area": null,
            "grid_auto_columns": null,
            "grid_auto_flow": null,
            "grid_auto_rows": null,
            "grid_column": null,
            "grid_gap": null,
            "grid_row": null,
            "grid_template_areas": null,
            "grid_template_columns": null,
            "grid_template_rows": null,
            "height": null,
            "justify_content": null,
            "justify_items": null,
            "left": null,
            "margin": null,
            "max_height": null,
            "max_width": null,
            "min_height": null,
            "min_width": null,
            "object_fit": null,
            "object_position": null,
            "order": null,
            "overflow": null,
            "overflow_x": null,
            "overflow_y": null,
            "padding": null,
            "right": null,
            "top": null,
            "visibility": null,
            "width": null
          }
        },
        "10db594a07aa438493af34cf7cb2e634": {
          "model_module": "@jupyter-widgets/controls",
          "model_name": "ProgressStyleModel",
          "model_module_version": "1.5.0",
          "state": {
            "_model_module": "@jupyter-widgets/controls",
            "_model_module_version": "1.5.0",
            "_model_name": "ProgressStyleModel",
            "_view_count": null,
            "_view_module": "@jupyter-widgets/base",
            "_view_module_version": "1.2.0",
            "_view_name": "StyleView",
            "bar_color": null,
            "description_width": ""
          }
        },
        "5633ec8da3d64d7eb53ba71c5561e728": {
          "model_module": "@jupyter-widgets/base",
          "model_name": "LayoutModel",
          "model_module_version": "1.2.0",
          "state": {
            "_model_module": "@jupyter-widgets/base",
            "_model_module_version": "1.2.0",
            "_model_name": "LayoutModel",
            "_view_count": null,
            "_view_module": "@jupyter-widgets/base",
            "_view_module_version": "1.2.0",
            "_view_name": "LayoutView",
            "align_content": null,
            "align_items": null,
            "align_self": null,
            "border": null,
            "bottom": null,
            "display": null,
            "flex": null,
            "flex_flow": null,
            "grid_area": null,
            "grid_auto_columns": null,
            "grid_auto_flow": null,
            "grid_auto_rows": null,
            "grid_column": null,
            "grid_gap": null,
            "grid_row": null,
            "grid_template_areas": null,
            "grid_template_columns": null,
            "grid_template_rows": null,
            "height": null,
            "justify_content": null,
            "justify_items": null,
            "left": null,
            "margin": null,
            "max_height": null,
            "max_width": null,
            "min_height": null,
            "min_width": null,
            "object_fit": null,
            "object_position": null,
            "order": null,
            "overflow": null,
            "overflow_x": null,
            "overflow_y": null,
            "padding": null,
            "right": null,
            "top": null,
            "visibility": null,
            "width": null
          }
        },
        "e79194028e46445c91ba8e3e946d6bc4": {
          "model_module": "@jupyter-widgets/controls",
          "model_name": "DescriptionStyleModel",
          "model_module_version": "1.5.0",
          "state": {
            "_model_module": "@jupyter-widgets/controls",
            "_model_module_version": "1.5.0",
            "_model_name": "DescriptionStyleModel",
            "_view_count": null,
            "_view_module": "@jupyter-widgets/base",
            "_view_module_version": "1.2.0",
            "_view_name": "StyleView",
            "description_width": ""
          }
        },
        "2181bd0dbe2b47579f86884b02129112": {
          "model_module": "@jupyter-widgets/controls",
          "model_name": "HBoxModel",
          "model_module_version": "1.5.0",
          "state": {
            "_dom_classes": [],
            "_model_module": "@jupyter-widgets/controls",
            "_model_module_version": "1.5.0",
            "_model_name": "HBoxModel",
            "_view_count": null,
            "_view_module": "@jupyter-widgets/controls",
            "_view_module_version": "1.5.0",
            "_view_name": "HBoxView",
            "box_style": "",
            "children": [
              "IPY_MODEL_3bf3fb70c2054bd1bfbfaaff554ec64f",
              "IPY_MODEL_e4047063ee6e44deb88a1809615a18af",
              "IPY_MODEL_8f948739d380408e9cffab199fcc5d2b"
            ],
            "layout": "IPY_MODEL_21e4c19a759d43618a606957c80cf2a1"
          }
        },
        "3bf3fb70c2054bd1bfbfaaff554ec64f": {
          "model_module": "@jupyter-widgets/controls",
          "model_name": "HTMLModel",
          "model_module_version": "1.5.0",
          "state": {
            "_dom_classes": [],
            "_model_module": "@jupyter-widgets/controls",
            "_model_module_version": "1.5.0",
            "_model_name": "HTMLModel",
            "_view_count": null,
            "_view_module": "@jupyter-widgets/controls",
            "_view_module_version": "1.5.0",
            "_view_name": "HTMLView",
            "description": "",
            "description_tooltip": null,
            "layout": "IPY_MODEL_32db8556d630493cbf4f5556f02632b3",
            "placeholder": "​",
            "style": "IPY_MODEL_2dab37e456ad401299620c3456b34400",
            "value": "Map: 100%"
          }
        },
        "e4047063ee6e44deb88a1809615a18af": {
          "model_module": "@jupyter-widgets/controls",
          "model_name": "FloatProgressModel",
          "model_module_version": "1.5.0",
          "state": {
            "_dom_classes": [],
            "_model_module": "@jupyter-widgets/controls",
            "_model_module_version": "1.5.0",
            "_model_name": "FloatProgressModel",
            "_view_count": null,
            "_view_module": "@jupyter-widgets/controls",
            "_view_module_version": "1.5.0",
            "_view_name": "ProgressView",
            "bar_style": "success",
            "description": "",
            "description_tooltip": null,
            "layout": "IPY_MODEL_69b01653991148f8a587821ce2d08bbd",
            "max": 10233,
            "min": 0,
            "orientation": "horizontal",
            "style": "IPY_MODEL_c8b433ade81d404994855a6c31fb5335",
            "value": 10233
          }
        },
        "8f948739d380408e9cffab199fcc5d2b": {
          "model_module": "@jupyter-widgets/controls",
          "model_name": "HTMLModel",
          "model_module_version": "1.5.0",
          "state": {
            "_dom_classes": [],
            "_model_module": "@jupyter-widgets/controls",
            "_model_module_version": "1.5.0",
            "_model_name": "HTMLModel",
            "_view_count": null,
            "_view_module": "@jupyter-widgets/controls",
            "_view_module_version": "1.5.0",
            "_view_name": "HTMLView",
            "description": "",
            "description_tooltip": null,
            "layout": "IPY_MODEL_d542d9a77d4e4255b0fa318a631eb25e",
            "placeholder": "​",
            "style": "IPY_MODEL_4bf5f1e931d441c8b81de0a5936853cf",
            "value": " 10233/10233 [02:15&lt;00:00, 106.91 examples/s]"
          }
        },
        "21e4c19a759d43618a606957c80cf2a1": {
          "model_module": "@jupyter-widgets/base",
          "model_name": "LayoutModel",
          "model_module_version": "1.2.0",
          "state": {
            "_model_module": "@jupyter-widgets/base",
            "_model_module_version": "1.2.0",
            "_model_name": "LayoutModel",
            "_view_count": null,
            "_view_module": "@jupyter-widgets/base",
            "_view_module_version": "1.2.0",
            "_view_name": "LayoutView",
            "align_content": null,
            "align_items": null,
            "align_self": null,
            "border": null,
            "bottom": null,
            "display": null,
            "flex": null,
            "flex_flow": null,
            "grid_area": null,
            "grid_auto_columns": null,
            "grid_auto_flow": null,
            "grid_auto_rows": null,
            "grid_column": null,
            "grid_gap": null,
            "grid_row": null,
            "grid_template_areas": null,
            "grid_template_columns": null,
            "grid_template_rows": null,
            "height": null,
            "justify_content": null,
            "justify_items": null,
            "left": null,
            "margin": null,
            "max_height": null,
            "max_width": null,
            "min_height": null,
            "min_width": null,
            "object_fit": null,
            "object_position": null,
            "order": null,
            "overflow": null,
            "overflow_x": null,
            "overflow_y": null,
            "padding": null,
            "right": null,
            "top": null,
            "visibility": null,
            "width": null
          }
        },
        "32db8556d630493cbf4f5556f02632b3": {
          "model_module": "@jupyter-widgets/base",
          "model_name": "LayoutModel",
          "model_module_version": "1.2.0",
          "state": {
            "_model_module": "@jupyter-widgets/base",
            "_model_module_version": "1.2.0",
            "_model_name": "LayoutModel",
            "_view_count": null,
            "_view_module": "@jupyter-widgets/base",
            "_view_module_version": "1.2.0",
            "_view_name": "LayoutView",
            "align_content": null,
            "align_items": null,
            "align_self": null,
            "border": null,
            "bottom": null,
            "display": null,
            "flex": null,
            "flex_flow": null,
            "grid_area": null,
            "grid_auto_columns": null,
            "grid_auto_flow": null,
            "grid_auto_rows": null,
            "grid_column": null,
            "grid_gap": null,
            "grid_row": null,
            "grid_template_areas": null,
            "grid_template_columns": null,
            "grid_template_rows": null,
            "height": null,
            "justify_content": null,
            "justify_items": null,
            "left": null,
            "margin": null,
            "max_height": null,
            "max_width": null,
            "min_height": null,
            "min_width": null,
            "object_fit": null,
            "object_position": null,
            "order": null,
            "overflow": null,
            "overflow_x": null,
            "overflow_y": null,
            "padding": null,
            "right": null,
            "top": null,
            "visibility": null,
            "width": null
          }
        },
        "2dab37e456ad401299620c3456b34400": {
          "model_module": "@jupyter-widgets/controls",
          "model_name": "DescriptionStyleModel",
          "model_module_version": "1.5.0",
          "state": {
            "_model_module": "@jupyter-widgets/controls",
            "_model_module_version": "1.5.0",
            "_model_name": "DescriptionStyleModel",
            "_view_count": null,
            "_view_module": "@jupyter-widgets/base",
            "_view_module_version": "1.2.0",
            "_view_name": "StyleView",
            "description_width": ""
          }
        },
        "69b01653991148f8a587821ce2d08bbd": {
          "model_module": "@jupyter-widgets/base",
          "model_name": "LayoutModel",
          "model_module_version": "1.2.0",
          "state": {
            "_model_module": "@jupyter-widgets/base",
            "_model_module_version": "1.2.0",
            "_model_name": "LayoutModel",
            "_view_count": null,
            "_view_module": "@jupyter-widgets/base",
            "_view_module_version": "1.2.0",
            "_view_name": "LayoutView",
            "align_content": null,
            "align_items": null,
            "align_self": null,
            "border": null,
            "bottom": null,
            "display": null,
            "flex": null,
            "flex_flow": null,
            "grid_area": null,
            "grid_auto_columns": null,
            "grid_auto_flow": null,
            "grid_auto_rows": null,
            "grid_column": null,
            "grid_gap": null,
            "grid_row": null,
            "grid_template_areas": null,
            "grid_template_columns": null,
            "grid_template_rows": null,
            "height": null,
            "justify_content": null,
            "justify_items": null,
            "left": null,
            "margin": null,
            "max_height": null,
            "max_width": null,
            "min_height": null,
            "min_width": null,
            "object_fit": null,
            "object_position": null,
            "order": null,
            "overflow": null,
            "overflow_x": null,
            "overflow_y": null,
            "padding": null,
            "right": null,
            "top": null,
            "visibility": null,
            "width": null
          }
        },
        "c8b433ade81d404994855a6c31fb5335": {
          "model_module": "@jupyter-widgets/controls",
          "model_name": "ProgressStyleModel",
          "model_module_version": "1.5.0",
          "state": {
            "_model_module": "@jupyter-widgets/controls",
            "_model_module_version": "1.5.0",
            "_model_name": "ProgressStyleModel",
            "_view_count": null,
            "_view_module": "@jupyter-widgets/base",
            "_view_module_version": "1.2.0",
            "_view_name": "StyleView",
            "bar_color": null,
            "description_width": ""
          }
        },
        "d542d9a77d4e4255b0fa318a631eb25e": {
          "model_module": "@jupyter-widgets/base",
          "model_name": "LayoutModel",
          "model_module_version": "1.2.0",
          "state": {
            "_model_module": "@jupyter-widgets/base",
            "_model_module_version": "1.2.0",
            "_model_name": "LayoutModel",
            "_view_count": null,
            "_view_module": "@jupyter-widgets/base",
            "_view_module_version": "1.2.0",
            "_view_name": "LayoutView",
            "align_content": null,
            "align_items": null,
            "align_self": null,
            "border": null,
            "bottom": null,
            "display": null,
            "flex": null,
            "flex_flow": null,
            "grid_area": null,
            "grid_auto_columns": null,
            "grid_auto_flow": null,
            "grid_auto_rows": null,
            "grid_column": null,
            "grid_gap": null,
            "grid_row": null,
            "grid_template_areas": null,
            "grid_template_columns": null,
            "grid_template_rows": null,
            "height": null,
            "justify_content": null,
            "justify_items": null,
            "left": null,
            "margin": null,
            "max_height": null,
            "max_width": null,
            "min_height": null,
            "min_width": null,
            "object_fit": null,
            "object_position": null,
            "order": null,
            "overflow": null,
            "overflow_x": null,
            "overflow_y": null,
            "padding": null,
            "right": null,
            "top": null,
            "visibility": null,
            "width": null
          }
        },
        "4bf5f1e931d441c8b81de0a5936853cf": {
          "model_module": "@jupyter-widgets/controls",
          "model_name": "DescriptionStyleModel",
          "model_module_version": "1.5.0",
          "state": {
            "_model_module": "@jupyter-widgets/controls",
            "_model_module_version": "1.5.0",
            "_model_name": "DescriptionStyleModel",
            "_view_count": null,
            "_view_module": "@jupyter-widgets/base",
            "_view_module_version": "1.2.0",
            "_view_name": "StyleView",
            "description_width": ""
          }
        },
        "fb8239fee2c84d00af5892133d551c0b": {
          "model_module": "@jupyter-widgets/controls",
          "model_name": "HBoxModel",
          "model_module_version": "1.5.0",
          "state": {
            "_dom_classes": [],
            "_model_module": "@jupyter-widgets/controls",
            "_model_module_version": "1.5.0",
            "_model_name": "HBoxModel",
            "_view_count": null,
            "_view_module": "@jupyter-widgets/controls",
            "_view_module_version": "1.5.0",
            "_view_name": "HBoxView",
            "box_style": "",
            "children": [
              "IPY_MODEL_eb0b60d5310d46329ff7c9c2044ac782",
              "IPY_MODEL_5a8e1ac301ef42459b60a550302d18f2",
              "IPY_MODEL_8ccb18d5e5d54a0dbb40afa4f14390ed"
            ],
            "layout": "IPY_MODEL_a26b43e6f40945b98d1c46df5a79f2a9"
          }
        },
        "eb0b60d5310d46329ff7c9c2044ac782": {
          "model_module": "@jupyter-widgets/controls",
          "model_name": "HTMLModel",
          "model_module_version": "1.5.0",
          "state": {
            "_dom_classes": [],
            "_model_module": "@jupyter-widgets/controls",
            "_model_module_version": "1.5.0",
            "_model_name": "HTMLModel",
            "_view_count": null,
            "_view_module": "@jupyter-widgets/controls",
            "_view_module_version": "1.5.0",
            "_view_name": "HTMLView",
            "description": "",
            "description_tooltip": null,
            "layout": "IPY_MODEL_4bc853e8ab3a4750bc290579d7689d2a",
            "placeholder": "​",
            "style": "IPY_MODEL_1543193e619d49d79ecace88dfe63f6c",
            "value": "Map: 100%"
          }
        },
        "5a8e1ac301ef42459b60a550302d18f2": {
          "model_module": "@jupyter-widgets/controls",
          "model_name": "FloatProgressModel",
          "model_module_version": "1.5.0",
          "state": {
            "_dom_classes": [],
            "_model_module": "@jupyter-widgets/controls",
            "_model_module_version": "1.5.0",
            "_model_name": "FloatProgressModel",
            "_view_count": null,
            "_view_module": "@jupyter-widgets/controls",
            "_view_module_version": "1.5.0",
            "_view_name": "ProgressView",
            "bar_style": "success",
            "description": "",
            "description_tooltip": null,
            "layout": "IPY_MODEL_c1ccb2ab8c534ca4b215d11154c7c0d6",
            "max": 10238,
            "min": 0,
            "orientation": "horizontal",
            "style": "IPY_MODEL_3c9891be0bdc408989548710c0e6ca5b",
            "value": 10238
          }
        },
        "8ccb18d5e5d54a0dbb40afa4f14390ed": {
          "model_module": "@jupyter-widgets/controls",
          "model_name": "HTMLModel",
          "model_module_version": "1.5.0",
          "state": {
            "_dom_classes": [],
            "_model_module": "@jupyter-widgets/controls",
            "_model_module_version": "1.5.0",
            "_model_name": "HTMLModel",
            "_view_count": null,
            "_view_module": "@jupyter-widgets/controls",
            "_view_module_version": "1.5.0",
            "_view_name": "HTMLView",
            "description": "",
            "description_tooltip": null,
            "layout": "IPY_MODEL_4a81cdce748c459e8357140153b21a32",
            "placeholder": "​",
            "style": "IPY_MODEL_acae7ed0a987487196f7c8df73a4c4da",
            "value": " 10238/10238 [02:15&lt;00:00, 82.05 examples/s]"
          }
        },
        "a26b43e6f40945b98d1c46df5a79f2a9": {
          "model_module": "@jupyter-widgets/base",
          "model_name": "LayoutModel",
          "model_module_version": "1.2.0",
          "state": {
            "_model_module": "@jupyter-widgets/base",
            "_model_module_version": "1.2.0",
            "_model_name": "LayoutModel",
            "_view_count": null,
            "_view_module": "@jupyter-widgets/base",
            "_view_module_version": "1.2.0",
            "_view_name": "LayoutView",
            "align_content": null,
            "align_items": null,
            "align_self": null,
            "border": null,
            "bottom": null,
            "display": null,
            "flex": null,
            "flex_flow": null,
            "grid_area": null,
            "grid_auto_columns": null,
            "grid_auto_flow": null,
            "grid_auto_rows": null,
            "grid_column": null,
            "grid_gap": null,
            "grid_row": null,
            "grid_template_areas": null,
            "grid_template_columns": null,
            "grid_template_rows": null,
            "height": null,
            "justify_content": null,
            "justify_items": null,
            "left": null,
            "margin": null,
            "max_height": null,
            "max_width": null,
            "min_height": null,
            "min_width": null,
            "object_fit": null,
            "object_position": null,
            "order": null,
            "overflow": null,
            "overflow_x": null,
            "overflow_y": null,
            "padding": null,
            "right": null,
            "top": null,
            "visibility": null,
            "width": null
          }
        },
        "4bc853e8ab3a4750bc290579d7689d2a": {
          "model_module": "@jupyter-widgets/base",
          "model_name": "LayoutModel",
          "model_module_version": "1.2.0",
          "state": {
            "_model_module": "@jupyter-widgets/base",
            "_model_module_version": "1.2.0",
            "_model_name": "LayoutModel",
            "_view_count": null,
            "_view_module": "@jupyter-widgets/base",
            "_view_module_version": "1.2.0",
            "_view_name": "LayoutView",
            "align_content": null,
            "align_items": null,
            "align_self": null,
            "border": null,
            "bottom": null,
            "display": null,
            "flex": null,
            "flex_flow": null,
            "grid_area": null,
            "grid_auto_columns": null,
            "grid_auto_flow": null,
            "grid_auto_rows": null,
            "grid_column": null,
            "grid_gap": null,
            "grid_row": null,
            "grid_template_areas": null,
            "grid_template_columns": null,
            "grid_template_rows": null,
            "height": null,
            "justify_content": null,
            "justify_items": null,
            "left": null,
            "margin": null,
            "max_height": null,
            "max_width": null,
            "min_height": null,
            "min_width": null,
            "object_fit": null,
            "object_position": null,
            "order": null,
            "overflow": null,
            "overflow_x": null,
            "overflow_y": null,
            "padding": null,
            "right": null,
            "top": null,
            "visibility": null,
            "width": null
          }
        },
        "1543193e619d49d79ecace88dfe63f6c": {
          "model_module": "@jupyter-widgets/controls",
          "model_name": "DescriptionStyleModel",
          "model_module_version": "1.5.0",
          "state": {
            "_model_module": "@jupyter-widgets/controls",
            "_model_module_version": "1.5.0",
            "_model_name": "DescriptionStyleModel",
            "_view_count": null,
            "_view_module": "@jupyter-widgets/base",
            "_view_module_version": "1.2.0",
            "_view_name": "StyleView",
            "description_width": ""
          }
        },
        "c1ccb2ab8c534ca4b215d11154c7c0d6": {
          "model_module": "@jupyter-widgets/base",
          "model_name": "LayoutModel",
          "model_module_version": "1.2.0",
          "state": {
            "_model_module": "@jupyter-widgets/base",
            "_model_module_version": "1.2.0",
            "_model_name": "LayoutModel",
            "_view_count": null,
            "_view_module": "@jupyter-widgets/base",
            "_view_module_version": "1.2.0",
            "_view_name": "LayoutView",
            "align_content": null,
            "align_items": null,
            "align_self": null,
            "border": null,
            "bottom": null,
            "display": null,
            "flex": null,
            "flex_flow": null,
            "grid_area": null,
            "grid_auto_columns": null,
            "grid_auto_flow": null,
            "grid_auto_rows": null,
            "grid_column": null,
            "grid_gap": null,
            "grid_row": null,
            "grid_template_areas": null,
            "grid_template_columns": null,
            "grid_template_rows": null,
            "height": null,
            "justify_content": null,
            "justify_items": null,
            "left": null,
            "margin": null,
            "max_height": null,
            "max_width": null,
            "min_height": null,
            "min_width": null,
            "object_fit": null,
            "object_position": null,
            "order": null,
            "overflow": null,
            "overflow_x": null,
            "overflow_y": null,
            "padding": null,
            "right": null,
            "top": null,
            "visibility": null,
            "width": null
          }
        },
        "3c9891be0bdc408989548710c0e6ca5b": {
          "model_module": "@jupyter-widgets/controls",
          "model_name": "ProgressStyleModel",
          "model_module_version": "1.5.0",
          "state": {
            "_model_module": "@jupyter-widgets/controls",
            "_model_module_version": "1.5.0",
            "_model_name": "ProgressStyleModel",
            "_view_count": null,
            "_view_module": "@jupyter-widgets/base",
            "_view_module_version": "1.2.0",
            "_view_name": "StyleView",
            "bar_color": null,
            "description_width": ""
          }
        },
        "4a81cdce748c459e8357140153b21a32": {
          "model_module": "@jupyter-widgets/base",
          "model_name": "LayoutModel",
          "model_module_version": "1.2.0",
          "state": {
            "_model_module": "@jupyter-widgets/base",
            "_model_module_version": "1.2.0",
            "_model_name": "LayoutModel",
            "_view_count": null,
            "_view_module": "@jupyter-widgets/base",
            "_view_module_version": "1.2.0",
            "_view_name": "LayoutView",
            "align_content": null,
            "align_items": null,
            "align_self": null,
            "border": null,
            "bottom": null,
            "display": null,
            "flex": null,
            "flex_flow": null,
            "grid_area": null,
            "grid_auto_columns": null,
            "grid_auto_flow": null,
            "grid_auto_rows": null,
            "grid_column": null,
            "grid_gap": null,
            "grid_row": null,
            "grid_template_areas": null,
            "grid_template_columns": null,
            "grid_template_rows": null,
            "height": null,
            "justify_content": null,
            "justify_items": null,
            "left": null,
            "margin": null,
            "max_height": null,
            "max_width": null,
            "min_height": null,
            "min_width": null,
            "object_fit": null,
            "object_position": null,
            "order": null,
            "overflow": null,
            "overflow_x": null,
            "overflow_y": null,
            "padding": null,
            "right": null,
            "top": null,
            "visibility": null,
            "width": null
          }
        },
        "acae7ed0a987487196f7c8df73a4c4da": {
          "model_module": "@jupyter-widgets/controls",
          "model_name": "DescriptionStyleModel",
          "model_module_version": "1.5.0",
          "state": {
            "_model_module": "@jupyter-widgets/controls",
            "_model_module_version": "1.5.0",
            "_model_name": "DescriptionStyleModel",
            "_view_count": null,
            "_view_module": "@jupyter-widgets/base",
            "_view_module_version": "1.2.0",
            "_view_name": "StyleView",
            "description_width": ""
          }
        },
        "55fec2b98dee4ea78de98ae2d77a1e3c": {
          "model_module": "@jupyter-widgets/controls",
          "model_name": "VBoxModel",
          "model_module_version": "1.5.0",
          "state": {
            "_dom_classes": [],
            "_model_module": "@jupyter-widgets/controls",
            "_model_module_version": "1.5.0",
            "_model_name": "VBoxModel",
            "_view_count": null,
            "_view_module": "@jupyter-widgets/controls",
            "_view_module_version": "1.5.0",
            "_view_name": "VBoxView",
            "box_style": "",
            "children": [
              "IPY_MODEL_a6b558d097964d73b78a1b344e632b0a",
              "IPY_MODEL_a29af3ce58eb439b858115a3e317114d",
              "IPY_MODEL_159d631bc75f402a8d7854466407ffda",
              "IPY_MODEL_9773280ba2b445f68b2a196a9e85530f",
              "IPY_MODEL_029338fc3a1845c4b472cc2a62c8954e"
            ],
            "layout": "IPY_MODEL_ae73039799bd4c4b95eef7bba8776fae"
          }
        },
        "a6b558d097964d73b78a1b344e632b0a": {
          "model_module": "@jupyter-widgets/controls",
          "model_name": "HTMLModel",
          "model_module_version": "1.5.0",
          "state": {
            "_dom_classes": [],
            "_model_module": "@jupyter-widgets/controls",
            "_model_module_version": "1.5.0",
            "_model_name": "HTMLModel",
            "_view_count": null,
            "_view_module": "@jupyter-widgets/controls",
            "_view_module_version": "1.5.0",
            "_view_name": "HTMLView",
            "description": "",
            "description_tooltip": null,
            "layout": "IPY_MODEL_cd7e5f500cc54cd285f836ca3b962282",
            "placeholder": "​",
            "style": "IPY_MODEL_56e4ae0f39f64bc6a8c6188bd3e363f7",
            "value": "<center> <img\nsrc=https://huggingface.co/front/assets/huggingface_logo-noborder.svg\nalt='Hugging Face'> <br> Copy a token from <a\nhref=\"https://huggingface.co/settings/tokens\" target=\"_blank\">your Hugging Face\ntokens page</a> and paste it below. <br> Immediately click login after copying\nyour token or it might be stored in plain text in this notebook file. </center>"
          }
        },
        "a29af3ce58eb439b858115a3e317114d": {
          "model_module": "@jupyter-widgets/controls",
          "model_name": "PasswordModel",
          "model_module_version": "1.5.0",
          "state": {
            "_dom_classes": [],
            "_model_module": "@jupyter-widgets/controls",
            "_model_module_version": "1.5.0",
            "_model_name": "PasswordModel",
            "_view_count": null,
            "_view_module": "@jupyter-widgets/controls",
            "_view_module_version": "1.5.0",
            "_view_name": "PasswordView",
            "continuous_update": true,
            "description": "Token:",
            "description_tooltip": null,
            "disabled": false,
            "layout": "IPY_MODEL_20f3fc992f2f4514bf4f8ffb66aab373",
            "placeholder": "​",
            "style": "IPY_MODEL_f5495c7f2b3c4e198006d41ae20b57fd",
            "value": ""
          }
        },
        "159d631bc75f402a8d7854466407ffda": {
          "model_module": "@jupyter-widgets/controls",
          "model_name": "CheckboxModel",
          "model_module_version": "1.5.0",
          "state": {
            "_dom_classes": [],
            "_model_module": "@jupyter-widgets/controls",
            "_model_module_version": "1.5.0",
            "_model_name": "CheckboxModel",
            "_view_count": null,
            "_view_module": "@jupyter-widgets/controls",
            "_view_module_version": "1.5.0",
            "_view_name": "CheckboxView",
            "description": "Add token as git credential?",
            "description_tooltip": null,
            "disabled": false,
            "indent": true,
            "layout": "IPY_MODEL_afc70556de3248b4a40522d5a5bcd739",
            "style": "IPY_MODEL_6c8c48f35640459d9c5b1176116875ab",
            "value": true
          }
        },
        "9773280ba2b445f68b2a196a9e85530f": {
          "model_module": "@jupyter-widgets/controls",
          "model_name": "ButtonModel",
          "model_module_version": "1.5.0",
          "state": {
            "_dom_classes": [],
            "_model_module": "@jupyter-widgets/controls",
            "_model_module_version": "1.5.0",
            "_model_name": "ButtonModel",
            "_view_count": null,
            "_view_module": "@jupyter-widgets/controls",
            "_view_module_version": "1.5.0",
            "_view_name": "ButtonView",
            "button_style": "",
            "description": "Login",
            "disabled": false,
            "icon": "",
            "layout": "IPY_MODEL_0bac6e70aa32459ab385b1105473296c",
            "style": "IPY_MODEL_1e570044a4fa4ac093bb736e2f5ca25f",
            "tooltip": ""
          }
        },
        "029338fc3a1845c4b472cc2a62c8954e": {
          "model_module": "@jupyter-widgets/controls",
          "model_name": "HTMLModel",
          "model_module_version": "1.5.0",
          "state": {
            "_dom_classes": [],
            "_model_module": "@jupyter-widgets/controls",
            "_model_module_version": "1.5.0",
            "_model_name": "HTMLModel",
            "_view_count": null,
            "_view_module": "@jupyter-widgets/controls",
            "_view_module_version": "1.5.0",
            "_view_name": "HTMLView",
            "description": "",
            "description_tooltip": null,
            "layout": "IPY_MODEL_d23b65e597e54bb6884d0d80379f4ca1",
            "placeholder": "​",
            "style": "IPY_MODEL_da87229f4791436fb9d3d6b4a991b8c1",
            "value": "\n<b>Pro Tip:</b> If you don't already have one, you can create a dedicated\n'notebooks' token with 'write' access, that you can then easily reuse for all\nnotebooks. </center>"
          }
        },
        "ae73039799bd4c4b95eef7bba8776fae": {
          "model_module": "@jupyter-widgets/base",
          "model_name": "LayoutModel",
          "model_module_version": "1.2.0",
          "state": {
            "_model_module": "@jupyter-widgets/base",
            "_model_module_version": "1.2.0",
            "_model_name": "LayoutModel",
            "_view_count": null,
            "_view_module": "@jupyter-widgets/base",
            "_view_module_version": "1.2.0",
            "_view_name": "LayoutView",
            "align_content": null,
            "align_items": "center",
            "align_self": null,
            "border": null,
            "bottom": null,
            "display": "flex",
            "flex": null,
            "flex_flow": "column",
            "grid_area": null,
            "grid_auto_columns": null,
            "grid_auto_flow": null,
            "grid_auto_rows": null,
            "grid_column": null,
            "grid_gap": null,
            "grid_row": null,
            "grid_template_areas": null,
            "grid_template_columns": null,
            "grid_template_rows": null,
            "height": null,
            "justify_content": null,
            "justify_items": null,
            "left": null,
            "margin": null,
            "max_height": null,
            "max_width": null,
            "min_height": null,
            "min_width": null,
            "object_fit": null,
            "object_position": null,
            "order": null,
            "overflow": null,
            "overflow_x": null,
            "overflow_y": null,
            "padding": null,
            "right": null,
            "top": null,
            "visibility": null,
            "width": "50%"
          }
        },
        "cd7e5f500cc54cd285f836ca3b962282": {
          "model_module": "@jupyter-widgets/base",
          "model_name": "LayoutModel",
          "model_module_version": "1.2.0",
          "state": {
            "_model_module": "@jupyter-widgets/base",
            "_model_module_version": "1.2.0",
            "_model_name": "LayoutModel",
            "_view_count": null,
            "_view_module": "@jupyter-widgets/base",
            "_view_module_version": "1.2.0",
            "_view_name": "LayoutView",
            "align_content": null,
            "align_items": null,
            "align_self": null,
            "border": null,
            "bottom": null,
            "display": null,
            "flex": null,
            "flex_flow": null,
            "grid_area": null,
            "grid_auto_columns": null,
            "grid_auto_flow": null,
            "grid_auto_rows": null,
            "grid_column": null,
            "grid_gap": null,
            "grid_row": null,
            "grid_template_areas": null,
            "grid_template_columns": null,
            "grid_template_rows": null,
            "height": null,
            "justify_content": null,
            "justify_items": null,
            "left": null,
            "margin": null,
            "max_height": null,
            "max_width": null,
            "min_height": null,
            "min_width": null,
            "object_fit": null,
            "object_position": null,
            "order": null,
            "overflow": null,
            "overflow_x": null,
            "overflow_y": null,
            "padding": null,
            "right": null,
            "top": null,
            "visibility": null,
            "width": null
          }
        },
        "56e4ae0f39f64bc6a8c6188bd3e363f7": {
          "model_module": "@jupyter-widgets/controls",
          "model_name": "DescriptionStyleModel",
          "model_module_version": "1.5.0",
          "state": {
            "_model_module": "@jupyter-widgets/controls",
            "_model_module_version": "1.5.0",
            "_model_name": "DescriptionStyleModel",
            "_view_count": null,
            "_view_module": "@jupyter-widgets/base",
            "_view_module_version": "1.2.0",
            "_view_name": "StyleView",
            "description_width": ""
          }
        },
        "20f3fc992f2f4514bf4f8ffb66aab373": {
          "model_module": "@jupyter-widgets/base",
          "model_name": "LayoutModel",
          "model_module_version": "1.2.0",
          "state": {
            "_model_module": "@jupyter-widgets/base",
            "_model_module_version": "1.2.0",
            "_model_name": "LayoutModel",
            "_view_count": null,
            "_view_module": "@jupyter-widgets/base",
            "_view_module_version": "1.2.0",
            "_view_name": "LayoutView",
            "align_content": null,
            "align_items": null,
            "align_self": null,
            "border": null,
            "bottom": null,
            "display": null,
            "flex": null,
            "flex_flow": null,
            "grid_area": null,
            "grid_auto_columns": null,
            "grid_auto_flow": null,
            "grid_auto_rows": null,
            "grid_column": null,
            "grid_gap": null,
            "grid_row": null,
            "grid_template_areas": null,
            "grid_template_columns": null,
            "grid_template_rows": null,
            "height": null,
            "justify_content": null,
            "justify_items": null,
            "left": null,
            "margin": null,
            "max_height": null,
            "max_width": null,
            "min_height": null,
            "min_width": null,
            "object_fit": null,
            "object_position": null,
            "order": null,
            "overflow": null,
            "overflow_x": null,
            "overflow_y": null,
            "padding": null,
            "right": null,
            "top": null,
            "visibility": null,
            "width": null
          }
        },
        "f5495c7f2b3c4e198006d41ae20b57fd": {
          "model_module": "@jupyter-widgets/controls",
          "model_name": "DescriptionStyleModel",
          "model_module_version": "1.5.0",
          "state": {
            "_model_module": "@jupyter-widgets/controls",
            "_model_module_version": "1.5.0",
            "_model_name": "DescriptionStyleModel",
            "_view_count": null,
            "_view_module": "@jupyter-widgets/base",
            "_view_module_version": "1.2.0",
            "_view_name": "StyleView",
            "description_width": ""
          }
        },
        "afc70556de3248b4a40522d5a5bcd739": {
          "model_module": "@jupyter-widgets/base",
          "model_name": "LayoutModel",
          "model_module_version": "1.2.0",
          "state": {
            "_model_module": "@jupyter-widgets/base",
            "_model_module_version": "1.2.0",
            "_model_name": "LayoutModel",
            "_view_count": null,
            "_view_module": "@jupyter-widgets/base",
            "_view_module_version": "1.2.0",
            "_view_name": "LayoutView",
            "align_content": null,
            "align_items": null,
            "align_self": null,
            "border": null,
            "bottom": null,
            "display": null,
            "flex": null,
            "flex_flow": null,
            "grid_area": null,
            "grid_auto_columns": null,
            "grid_auto_flow": null,
            "grid_auto_rows": null,
            "grid_column": null,
            "grid_gap": null,
            "grid_row": null,
            "grid_template_areas": null,
            "grid_template_columns": null,
            "grid_template_rows": null,
            "height": null,
            "justify_content": null,
            "justify_items": null,
            "left": null,
            "margin": null,
            "max_height": null,
            "max_width": null,
            "min_height": null,
            "min_width": null,
            "object_fit": null,
            "object_position": null,
            "order": null,
            "overflow": null,
            "overflow_x": null,
            "overflow_y": null,
            "padding": null,
            "right": null,
            "top": null,
            "visibility": null,
            "width": null
          }
        },
        "6c8c48f35640459d9c5b1176116875ab": {
          "model_module": "@jupyter-widgets/controls",
          "model_name": "DescriptionStyleModel",
          "model_module_version": "1.5.0",
          "state": {
            "_model_module": "@jupyter-widgets/controls",
            "_model_module_version": "1.5.0",
            "_model_name": "DescriptionStyleModel",
            "_view_count": null,
            "_view_module": "@jupyter-widgets/base",
            "_view_module_version": "1.2.0",
            "_view_name": "StyleView",
            "description_width": ""
          }
        },
        "0bac6e70aa32459ab385b1105473296c": {
          "model_module": "@jupyter-widgets/base",
          "model_name": "LayoutModel",
          "model_module_version": "1.2.0",
          "state": {
            "_model_module": "@jupyter-widgets/base",
            "_model_module_version": "1.2.0",
            "_model_name": "LayoutModel",
            "_view_count": null,
            "_view_module": "@jupyter-widgets/base",
            "_view_module_version": "1.2.0",
            "_view_name": "LayoutView",
            "align_content": null,
            "align_items": null,
            "align_self": null,
            "border": null,
            "bottom": null,
            "display": null,
            "flex": null,
            "flex_flow": null,
            "grid_area": null,
            "grid_auto_columns": null,
            "grid_auto_flow": null,
            "grid_auto_rows": null,
            "grid_column": null,
            "grid_gap": null,
            "grid_row": null,
            "grid_template_areas": null,
            "grid_template_columns": null,
            "grid_template_rows": null,
            "height": null,
            "justify_content": null,
            "justify_items": null,
            "left": null,
            "margin": null,
            "max_height": null,
            "max_width": null,
            "min_height": null,
            "min_width": null,
            "object_fit": null,
            "object_position": null,
            "order": null,
            "overflow": null,
            "overflow_x": null,
            "overflow_y": null,
            "padding": null,
            "right": null,
            "top": null,
            "visibility": null,
            "width": null
          }
        },
        "1e570044a4fa4ac093bb736e2f5ca25f": {
          "model_module": "@jupyter-widgets/controls",
          "model_name": "ButtonStyleModel",
          "model_module_version": "1.5.0",
          "state": {
            "_model_module": "@jupyter-widgets/controls",
            "_model_module_version": "1.5.0",
            "_model_name": "ButtonStyleModel",
            "_view_count": null,
            "_view_module": "@jupyter-widgets/base",
            "_view_module_version": "1.2.0",
            "_view_name": "StyleView",
            "button_color": null,
            "font_weight": ""
          }
        },
        "d23b65e597e54bb6884d0d80379f4ca1": {
          "model_module": "@jupyter-widgets/base",
          "model_name": "LayoutModel",
          "model_module_version": "1.2.0",
          "state": {
            "_model_module": "@jupyter-widgets/base",
            "_model_module_version": "1.2.0",
            "_model_name": "LayoutModel",
            "_view_count": null,
            "_view_module": "@jupyter-widgets/base",
            "_view_module_version": "1.2.0",
            "_view_name": "LayoutView",
            "align_content": null,
            "align_items": null,
            "align_self": null,
            "border": null,
            "bottom": null,
            "display": null,
            "flex": null,
            "flex_flow": null,
            "grid_area": null,
            "grid_auto_columns": null,
            "grid_auto_flow": null,
            "grid_auto_rows": null,
            "grid_column": null,
            "grid_gap": null,
            "grid_row": null,
            "grid_template_areas": null,
            "grid_template_columns": null,
            "grid_template_rows": null,
            "height": null,
            "justify_content": null,
            "justify_items": null,
            "left": null,
            "margin": null,
            "max_height": null,
            "max_width": null,
            "min_height": null,
            "min_width": null,
            "object_fit": null,
            "object_position": null,
            "order": null,
            "overflow": null,
            "overflow_x": null,
            "overflow_y": null,
            "padding": null,
            "right": null,
            "top": null,
            "visibility": null,
            "width": null
          }
        },
        "da87229f4791436fb9d3d6b4a991b8c1": {
          "model_module": "@jupyter-widgets/controls",
          "model_name": "DescriptionStyleModel",
          "model_module_version": "1.5.0",
          "state": {
            "_model_module": "@jupyter-widgets/controls",
            "_model_module_version": "1.5.0",
            "_model_name": "DescriptionStyleModel",
            "_view_count": null,
            "_view_module": "@jupyter-widgets/base",
            "_view_module_version": "1.2.0",
            "_view_name": "StyleView",
            "description_width": ""
          }
        }
      }
    }
  },
  "cells": [
    {
      "cell_type": "markdown",
      "metadata": {
        "id": "view-in-github",
        "colab_type": "text"
      },
      "source": [
        "<a href=\"https://colab.research.google.com/github/stephenkati/Awesome-books/blob/master/Kiswahili-Mozilla-Common-Voice.ipynb\" target=\"_parent\"><img src=\"https://colab.research.google.com/assets/colab-badge.svg\" alt=\"Open In Colab\"/></a>"
      ]
    },
    {
      "cell_type": "code",
      "execution_count": null,
      "metadata": {
        "colab": {
          "base_uri": "https://localhost:8080/"
        },
        "id": "QsulGF7c1q1E",
        "outputId": "b08cfafe-425c-4c1f-d8c2-c2f5f6613838"
      },
      "outputs": [
        {
          "output_type": "stream",
          "name": "stdout",
          "text": [
            "Requirement already satisfied: transformers in /usr/local/lib/python3.10/dist-packages (4.34.0)\n",
            "Requirement already satisfied: filelock in /usr/local/lib/python3.10/dist-packages (from transformers) (3.12.4)\n",
            "Requirement already satisfied: huggingface-hub<1.0,>=0.16.4 in /usr/local/lib/python3.10/dist-packages (from transformers) (0.17.3)\n",
            "Requirement already satisfied: numpy>=1.17 in /usr/local/lib/python3.10/dist-packages (from transformers) (1.23.5)\n",
            "Requirement already satisfied: packaging>=20.0 in /usr/local/lib/python3.10/dist-packages (from transformers) (23.2)\n",
            "Requirement already satisfied: pyyaml>=5.1 in /usr/local/lib/python3.10/dist-packages (from transformers) (6.0.1)\n",
            "Requirement already satisfied: regex!=2019.12.17 in /usr/local/lib/python3.10/dist-packages (from transformers) (2023.6.3)\n",
            "Requirement already satisfied: requests in /usr/local/lib/python3.10/dist-packages (from transformers) (2.31.0)\n",
            "Requirement already satisfied: tokenizers<0.15,>=0.14 in /usr/local/lib/python3.10/dist-packages (from transformers) (0.14.1)\n",
            "Requirement already satisfied: safetensors>=0.3.1 in /usr/local/lib/python3.10/dist-packages (from transformers) (0.4.0)\n",
            "Requirement already satisfied: tqdm>=4.27 in /usr/local/lib/python3.10/dist-packages (from transformers) (4.66.1)\n",
            "Requirement already satisfied: fsspec in /usr/local/lib/python3.10/dist-packages (from huggingface-hub<1.0,>=0.16.4->transformers) (2023.6.0)\n",
            "Requirement already satisfied: typing-extensions>=3.7.4.3 in /usr/local/lib/python3.10/dist-packages (from huggingface-hub<1.0,>=0.16.4->transformers) (4.5.0)\n",
            "Requirement already satisfied: charset-normalizer<4,>=2 in /usr/local/lib/python3.10/dist-packages (from requests->transformers) (3.3.0)\n",
            "Requirement already satisfied: idna<4,>=2.5 in /usr/local/lib/python3.10/dist-packages (from requests->transformers) (3.4)\n",
            "Requirement already satisfied: urllib3<3,>=1.21.1 in /usr/local/lib/python3.10/dist-packages (from requests->transformers) (2.0.6)\n",
            "Requirement already satisfied: certifi>=2017.4.17 in /usr/local/lib/python3.10/dist-packages (from requests->transformers) (2023.7.22)\n",
            "Requirement already satisfied: datasets in /usr/local/lib/python3.10/dist-packages (2.14.5)\n",
            "Requirement already satisfied: numpy>=1.17 in /usr/local/lib/python3.10/dist-packages (from datasets) (1.23.5)\n",
            "Requirement already satisfied: pyarrow>=8.0.0 in /usr/local/lib/python3.10/dist-packages (from datasets) (9.0.0)\n",
            "Requirement already satisfied: dill<0.3.8,>=0.3.0 in /usr/local/lib/python3.10/dist-packages (from datasets) (0.3.7)\n",
            "Requirement already satisfied: pandas in /usr/local/lib/python3.10/dist-packages (from datasets) (1.5.3)\n",
            "Requirement already satisfied: requests>=2.19.0 in /usr/local/lib/python3.10/dist-packages (from datasets) (2.31.0)\n",
            "Requirement already satisfied: tqdm>=4.62.1 in /usr/local/lib/python3.10/dist-packages (from datasets) (4.66.1)\n",
            "Requirement already satisfied: xxhash in /usr/local/lib/python3.10/dist-packages (from datasets) (3.4.1)\n",
            "Requirement already satisfied: multiprocess in /usr/local/lib/python3.10/dist-packages (from datasets) (0.70.15)\n",
            "Requirement already satisfied: fsspec[http]<2023.9.0,>=2023.1.0 in /usr/local/lib/python3.10/dist-packages (from datasets) (2023.6.0)\n",
            "Requirement already satisfied: aiohttp in /usr/local/lib/python3.10/dist-packages (from datasets) (3.8.6)\n",
            "Requirement already satisfied: huggingface-hub<1.0.0,>=0.14.0 in /usr/local/lib/python3.10/dist-packages (from datasets) (0.17.3)\n",
            "Requirement already satisfied: packaging in /usr/local/lib/python3.10/dist-packages (from datasets) (23.2)\n",
            "Requirement already satisfied: pyyaml>=5.1 in /usr/local/lib/python3.10/dist-packages (from datasets) (6.0.1)\n",
            "Requirement already satisfied: attrs>=17.3.0 in /usr/local/lib/python3.10/dist-packages (from aiohttp->datasets) (23.1.0)\n",
            "Requirement already satisfied: charset-normalizer<4.0,>=2.0 in /usr/local/lib/python3.10/dist-packages (from aiohttp->datasets) (3.3.0)\n",
            "Requirement already satisfied: multidict<7.0,>=4.5 in /usr/local/lib/python3.10/dist-packages (from aiohttp->datasets) (6.0.4)\n",
            "Requirement already satisfied: async-timeout<5.0,>=4.0.0a3 in /usr/local/lib/python3.10/dist-packages (from aiohttp->datasets) (4.0.3)\n",
            "Requirement already satisfied: yarl<2.0,>=1.0 in /usr/local/lib/python3.10/dist-packages (from aiohttp->datasets) (1.9.2)\n",
            "Requirement already satisfied: frozenlist>=1.1.1 in /usr/local/lib/python3.10/dist-packages (from aiohttp->datasets) (1.4.0)\n",
            "Requirement already satisfied: aiosignal>=1.1.2 in /usr/local/lib/python3.10/dist-packages (from aiohttp->datasets) (1.3.1)\n",
            "Requirement already satisfied: filelock in /usr/local/lib/python3.10/dist-packages (from huggingface-hub<1.0.0,>=0.14.0->datasets) (3.12.4)\n",
            "Requirement already satisfied: typing-extensions>=3.7.4.3 in /usr/local/lib/python3.10/dist-packages (from huggingface-hub<1.0.0,>=0.14.0->datasets) (4.5.0)\n",
            "Requirement already satisfied: idna<4,>=2.5 in /usr/local/lib/python3.10/dist-packages (from requests>=2.19.0->datasets) (3.4)\n",
            "Requirement already satisfied: urllib3<3,>=1.21.1 in /usr/local/lib/python3.10/dist-packages (from requests>=2.19.0->datasets) (2.0.6)\n",
            "Requirement already satisfied: certifi>=2017.4.17 in /usr/local/lib/python3.10/dist-packages (from requests>=2.19.0->datasets) (2023.7.22)\n",
            "Requirement already satisfied: python-dateutil>=2.8.1 in /usr/local/lib/python3.10/dist-packages (from pandas->datasets) (2.8.2)\n",
            "Requirement already satisfied: pytz>=2020.1 in /usr/local/lib/python3.10/dist-packages (from pandas->datasets) (2023.3.post1)\n",
            "Requirement already satisfied: six>=1.5 in /usr/local/lib/python3.10/dist-packages (from python-dateutil>=2.8.1->pandas->datasets) (1.16.0)\n",
            "Requirement already satisfied: huggingface_hub in /usr/local/lib/python3.10/dist-packages (0.17.3)\n",
            "Requirement already satisfied: filelock in /usr/local/lib/python3.10/dist-packages (from huggingface_hub) (3.12.4)\n",
            "Requirement already satisfied: fsspec in /usr/local/lib/python3.10/dist-packages (from huggingface_hub) (2023.6.0)\n",
            "Requirement already satisfied: requests in /usr/local/lib/python3.10/dist-packages (from huggingface_hub) (2.31.0)\n",
            "Requirement already satisfied: tqdm>=4.42.1 in /usr/local/lib/python3.10/dist-packages (from huggingface_hub) (4.66.1)\n",
            "Requirement already satisfied: pyyaml>=5.1 in /usr/local/lib/python3.10/dist-packages (from huggingface_hub) (6.0.1)\n",
            "Requirement already satisfied: typing-extensions>=3.7.4.3 in /usr/local/lib/python3.10/dist-packages (from huggingface_hub) (4.5.0)\n",
            "Requirement already satisfied: packaging>=20.9 in /usr/local/lib/python3.10/dist-packages (from huggingface_hub) (23.2)\n",
            "Requirement already satisfied: charset-normalizer<4,>=2 in /usr/local/lib/python3.10/dist-packages (from requests->huggingface_hub) (3.3.0)\n",
            "Requirement already satisfied: idna<4,>=2.5 in /usr/local/lib/python3.10/dist-packages (from requests->huggingface_hub) (3.4)\n",
            "Requirement already satisfied: urllib3<3,>=1.21.1 in /usr/local/lib/python3.10/dist-packages (from requests->huggingface_hub) (2.0.6)\n",
            "Requirement already satisfied: certifi>=2017.4.17 in /usr/local/lib/python3.10/dist-packages (from requests->huggingface_hub) (2023.7.22)\n",
            "Requirement already satisfied: librosa in /usr/local/lib/python3.10/dist-packages (0.10.1)\n",
            "Requirement already satisfied: audioread>=2.1.9 in /usr/local/lib/python3.10/dist-packages (from librosa) (3.0.1)\n",
            "Requirement already satisfied: numpy!=1.22.0,!=1.22.1,!=1.22.2,>=1.20.3 in /usr/local/lib/python3.10/dist-packages (from librosa) (1.23.5)\n",
            "Requirement already satisfied: scipy>=1.2.0 in /usr/local/lib/python3.10/dist-packages (from librosa) (1.11.3)\n",
            "Requirement already satisfied: scikit-learn>=0.20.0 in /usr/local/lib/python3.10/dist-packages (from librosa) (1.2.2)\n",
            "Requirement already satisfied: joblib>=0.14 in /usr/local/lib/python3.10/dist-packages (from librosa) (1.3.2)\n",
            "Requirement already satisfied: decorator>=4.3.0 in /usr/local/lib/python3.10/dist-packages (from librosa) (4.4.2)\n",
            "Requirement already satisfied: numba>=0.51.0 in /usr/local/lib/python3.10/dist-packages (from librosa) (0.56.4)\n",
            "Requirement already satisfied: soundfile>=0.12.1 in /usr/local/lib/python3.10/dist-packages (from librosa) (0.12.1)\n",
            "Requirement already satisfied: pooch>=1.0 in /usr/local/lib/python3.10/dist-packages (from librosa) (1.7.0)\n",
            "Requirement already satisfied: soxr>=0.3.2 in /usr/local/lib/python3.10/dist-packages (from librosa) (0.3.7)\n",
            "Requirement already satisfied: typing-extensions>=4.1.1 in /usr/local/lib/python3.10/dist-packages (from librosa) (4.5.0)\n",
            "Requirement already satisfied: lazy-loader>=0.1 in /usr/local/lib/python3.10/dist-packages (from librosa) (0.3)\n",
            "Requirement already satisfied: msgpack>=1.0 in /usr/local/lib/python3.10/dist-packages (from librosa) (1.0.7)\n",
            "Requirement already satisfied: llvmlite<0.40,>=0.39.0dev0 in /usr/local/lib/python3.10/dist-packages (from numba>=0.51.0->librosa) (0.39.1)\n",
            "Requirement already satisfied: setuptools in /usr/local/lib/python3.10/dist-packages (from numba>=0.51.0->librosa) (67.7.2)\n",
            "Requirement already satisfied: platformdirs>=2.5.0 in /usr/local/lib/python3.10/dist-packages (from pooch>=1.0->librosa) (3.11.0)\n",
            "Requirement already satisfied: packaging>=20.0 in /usr/local/lib/python3.10/dist-packages (from pooch>=1.0->librosa) (23.2)\n",
            "Requirement already satisfied: requests>=2.19.0 in /usr/local/lib/python3.10/dist-packages (from pooch>=1.0->librosa) (2.31.0)\n",
            "Requirement already satisfied: threadpoolctl>=2.0.0 in /usr/local/lib/python3.10/dist-packages (from scikit-learn>=0.20.0->librosa) (3.2.0)\n",
            "Requirement already satisfied: cffi>=1.0 in /usr/local/lib/python3.10/dist-packages (from soundfile>=0.12.1->librosa) (1.16.0)\n",
            "Requirement already satisfied: pycparser in /usr/local/lib/python3.10/dist-packages (from cffi>=1.0->soundfile>=0.12.1->librosa) (2.21)\n",
            "Requirement already satisfied: charset-normalizer<4,>=2 in /usr/local/lib/python3.10/dist-packages (from requests>=2.19.0->pooch>=1.0->librosa) (3.3.0)\n",
            "Requirement already satisfied: idna<4,>=2.5 in /usr/local/lib/python3.10/dist-packages (from requests>=2.19.0->pooch>=1.0->librosa) (3.4)\n",
            "Requirement already satisfied: urllib3<3,>=1.21.1 in /usr/local/lib/python3.10/dist-packages (from requests>=2.19.0->pooch>=1.0->librosa) (2.0.6)\n",
            "Requirement already satisfied: certifi>=2017.4.17 in /usr/local/lib/python3.10/dist-packages (from requests>=2.19.0->pooch>=1.0->librosa) (2023.7.22)\n"
          ]
        }
      ],
      "source": [
        "!pip install transformers\n",
        "!pip install datasets\n",
        "!pip install huggingface_hub\n",
        "!pip install librosa"
      ]
    },
    {
      "cell_type": "code",
      "source": [
        "from datasets import load_dataset\n",
        "train_data=load_dataset(\"mozilla-foundation/common_voice_11_0\", \"sw\", split=\"train\")\n",
        "test_data=load_dataset(\"mozilla-foundation/common_voice_11_0\", \"sw\", split=\"test\")\n",
        "validation_data=load_dataset(\"mozilla-foundation/common_voice_11_0\", \"sw\", split=\"validation\")"
      ],
      "metadata": {
        "id": "W62O4tNN2qkp"
      },
      "execution_count": null,
      "outputs": []
    },
    {
      "cell_type": "code",
      "source": [
        "train_data"
      ],
      "metadata": {
        "colab": {
          "base_uri": "https://localhost:8080/"
        },
        "id": "iye0YHV97TH4",
        "outputId": "05d58fca-3e09-4fe7-9ce1-5ea8e72c005e"
      },
      "execution_count": null,
      "outputs": [
        {
          "output_type": "execute_result",
          "data": {
            "text/plain": [
              "Dataset({\n",
              "    features: ['client_id', 'path', 'audio', 'sentence', 'up_votes', 'down_votes', 'age', 'gender', 'accent', 'locale', 'segment'],\n",
              "    num_rows: 26614\n",
              "})"
            ]
          },
          "metadata": {},
          "execution_count": 21
        }
      ]
    },
    {
      "cell_type": "code",
      "source": [
        "test_data"
      ],
      "metadata": {
        "colab": {
          "base_uri": "https://localhost:8080/"
        },
        "id": "wEddC_UF7qxb",
        "outputId": "8443ef78-d4db-441b-db63-a943cd3822f6"
      },
      "execution_count": null,
      "outputs": [
        {
          "output_type": "execute_result",
          "data": {
            "text/plain": [
              "Dataset({\n",
              "    features: ['client_id', 'path', 'audio', 'sentence', 'up_votes', 'down_votes', 'age', 'gender', 'accent', 'locale', 'segment'],\n",
              "    num_rows: 10238\n",
              "})"
            ]
          },
          "metadata": {},
          "execution_count": 22
        }
      ]
    },
    {
      "cell_type": "code",
      "source": [
        "validation_data"
      ],
      "metadata": {
        "colab": {
          "base_uri": "https://localhost:8080/"
        },
        "id": "S9qrLt3ZAnDt",
        "outputId": "5b423fca-e2de-4f59-90c0-3211befb92b6"
      },
      "execution_count": null,
      "outputs": [
        {
          "output_type": "execute_result",
          "data": {
            "text/plain": [
              "Dataset({\n",
              "    features: ['client_id', 'path', 'audio', 'sentence', 'up_votes', 'down_votes', 'age', 'gender', 'accent', 'locale', 'segment'],\n",
              "    num_rows: 10233\n",
              "})"
            ]
          },
          "metadata": {},
          "execution_count": 23
        }
      ]
    },
    {
      "cell_type": "code",
      "source": [
        "train_data=train_data.remove_columns(['client_id', 'up_votes', 'down_votes', 'age', 'gender', 'accent', 'locale','segment'])\n",
        "test_data=test_data.remove_columns(['client_id', 'up_votes', 'down_votes', 'age', 'gender', 'accent', 'locale','segment'])\n",
        "validation_data=validation_data.remove_columns(['client_id', 'up_votes', 'down_votes', 'age', 'gender', 'accent', 'locale','segment'])"
      ],
      "metadata": {
        "id": "go8qpC7E7-Lp"
      },
      "execution_count": null,
      "outputs": []
    },
    {
      "cell_type": "code",
      "source": [
        "train_data"
      ],
      "metadata": {
        "colab": {
          "base_uri": "https://localhost:8080/"
        },
        "id": "P5ZVTbw68epf",
        "outputId": "8a1087a0-dec2-4207-f2b3-f6684739940c"
      },
      "execution_count": null,
      "outputs": [
        {
          "output_type": "execute_result",
          "data": {
            "text/plain": [
              "Dataset({\n",
              "    features: ['path', 'audio', 'sentence'],\n",
              "    num_rows: 26614\n",
              "})"
            ]
          },
          "metadata": {},
          "execution_count": 25
        }
      ]
    },
    {
      "cell_type": "code",
      "source": [
        "test_data"
      ],
      "metadata": {
        "colab": {
          "base_uri": "https://localhost:8080/"
        },
        "id": "4Q6LXpeN8nWR",
        "outputId": "c4a1df65-9def-4220-8b16-2f64de299e8c"
      },
      "execution_count": null,
      "outputs": [
        {
          "output_type": "execute_result",
          "data": {
            "text/plain": [
              "Dataset({\n",
              "    features: ['path', 'audio', 'sentence'],\n",
              "    num_rows: 10238\n",
              "})"
            ]
          },
          "metadata": {},
          "execution_count": 26
        }
      ]
    },
    {
      "cell_type": "code",
      "source": [
        "import re\n",
        "\n",
        "# Modify the chars_to_remove_regex pattern to include the additional symbols\n",
        "chars_to_remove_regex = r'[\\,\\?\\.\\!\\-\\;\\:\\\"\\“\\%\\‘\\”\\�\\'\\(\\)\\*\\=\\_`\\[\\]\\/\\*°ː’•…]'\n",
        "\n",
        "def remove_special_characters(batch):\n",
        "    batch[\"sentence\"] = re.sub(chars_to_remove_regex, '', batch[\"sentence\"]).lower()\n",
        "    return batch"
      ],
      "metadata": {
        "id": "4mYjLbTg9MLX"
      },
      "execution_count": null,
      "outputs": []
    },
    {
      "cell_type": "code",
      "source": [
        "train_data= train_data.map(remove_special_characters)\n",
        "test_data = test_data.map(remove_special_characters)\n",
        "validation_data=validation_data.map(remove_special_characters)"
      ],
      "metadata": {
        "id": "RLcIVA7FAEIU"
      },
      "execution_count": null,
      "outputs": []
    },
    {
      "cell_type": "code",
      "source": [
        "def extract_all_chars(batch):\n",
        "  all_text = \" \".join(batch[\"sentence\"])\n",
        "  vocab = list(set(all_text))\n",
        "  return {\"vocab\": [vocab], \"all_text\": [all_text]}\n",
        "\n",
        "vocab_train = train_data.map(extract_all_chars, batched=True, batch_size=-1, remove_columns=train_data.column_names)\n",
        "vocab_validate = validation_data.map(extract_all_chars, batched=True, batch_size=-1, remove_columns=validation_data.column_names)\n",
        "vocab_test = test_data.map(extract_all_chars, batched=True, batch_size=-1, remove_columns=test_data.column_names)"
      ],
      "metadata": {
        "id": "WPD85I3yA836"
      },
      "execution_count": null,
      "outputs": []
    },
    {
      "cell_type": "code",
      "source": [
        "# Convert \"vocab\" column from each dataset to sets and union them\n",
        "vocab_set_train = set(vocab_train[\"vocab\"][0])\n",
        "vocab_set_validate = set(vocab_validate[\"vocab\"][0])\n",
        "vocab_set_test = set(vocab_test[\"vocab\"][0])\n",
        "\n",
        "# Merge vocabularies\n",
        "vocab_set = vocab_set_train | vocab_set_validate | vocab_set_test\n",
        "\n",
        "# Convert the result back to a list\n",
        "vocab_list = list(vocab_set)\n",
        "\n",
        "\n",
        "vocab_dict = {v: k for k, v in enumerate(sorted(vocab_list))}\n",
        "vocab_dict.pop('י', None)\n",
        "vocab_dict[\"ụ\"] = 45\n",
        "vocab_dict"
      ],
      "metadata": {
        "colab": {
          "base_uri": "https://localhost:8080/"
        },
        "id": "X95YfEL5BvX3",
        "outputId": "6e9eb68e-9fbb-41b7-879c-0460c7d0fa2e"
      },
      "execution_count": null,
      "outputs": [
        {
          "output_type": "execute_result",
          "data": {
            "text/plain": [
              "{' ': 0,\n",
              " 'a': 1,\n",
              " 'b': 2,\n",
              " 'c': 3,\n",
              " 'd': 4,\n",
              " 'e': 5,\n",
              " 'f': 6,\n",
              " 'g': 7,\n",
              " 'h': 8,\n",
              " 'i': 9,\n",
              " 'j': 10,\n",
              " 'k': 11,\n",
              " 'l': 12,\n",
              " 'm': 13,\n",
              " 'n': 14,\n",
              " 'o': 15,\n",
              " 'p': 16,\n",
              " 'q': 17,\n",
              " 'r': 18,\n",
              " 's': 19,\n",
              " 't': 20,\n",
              " 'u': 21,\n",
              " 'v': 22,\n",
              " 'w': 23,\n",
              " 'x': 24,\n",
              " 'y': 25,\n",
              " 'z': 26,\n",
              " 'µ': 27,\n",
              " 'á': 28,\n",
              " 'â': 29,\n",
              " 'ã': 30,\n",
              " 'å': 31,\n",
              " 'é': 32,\n",
              " 'ë': 33,\n",
              " 'í': 34,\n",
              " 'ï': 35,\n",
              " 'ñ': 36,\n",
              " 'ó': 37,\n",
              " 'ö': 38,\n",
              " 'ø': 39,\n",
              " 'ú': 40,\n",
              " 'š': 41,\n",
              " 'ū': 42,\n",
              " 'ụ': 45}"
            ]
          },
          "metadata": {},
          "execution_count": 30
        }
      ]
    },
    {
      "cell_type": "code",
      "source": [
        "vocab_dict[\"|\"] = vocab_dict[\" \"]\n",
        "del vocab_dict[\" \"]\n",
        "\n",
        "print(vocab_dict)"
      ],
      "metadata": {
        "colab": {
          "base_uri": "https://localhost:8080/"
        },
        "id": "tdUztTF4CCtT",
        "outputId": "1ccf1e7d-775a-4f18-da76-dce0f2735af5"
      },
      "execution_count": null,
      "outputs": [
        {
          "output_type": "stream",
          "name": "stdout",
          "text": [
            "{'a': 1, 'b': 2, 'c': 3, 'd': 4, 'e': 5, 'f': 6, 'g': 7, 'h': 8, 'i': 9, 'j': 10, 'k': 11, 'l': 12, 'm': 13, 'n': 14, 'o': 15, 'p': 16, 'q': 17, 'r': 18, 's': 19, 't': 20, 'u': 21, 'v': 22, 'w': 23, 'x': 24, 'y': 25, 'z': 26, 'µ': 27, 'á': 28, 'â': 29, 'ã': 30, 'å': 31, 'é': 32, 'ë': 33, 'í': 34, 'ï': 35, 'ñ': 36, 'ó': 37, 'ö': 38, 'ø': 39, 'ú': 40, 'š': 41, 'ū': 42, 'ụ': 45, '|': 0}\n"
          ]
        }
      ]
    },
    {
      "cell_type": "code",
      "source": [
        "vocab_dict[\"[UNK]\"] = len(vocab_dict)\n",
        "vocab_dict[\"[PAD]\"] = len(vocab_dict)\n",
        "len(vocab_dict)"
      ],
      "metadata": {
        "colab": {
          "base_uri": "https://localhost:8080/"
        },
        "id": "-wbcbL_BCIQl",
        "outputId": "bc17436b-92e6-49f5-8176-b21a4dfca24c"
      },
      "execution_count": null,
      "outputs": [
        {
          "output_type": "execute_result",
          "data": {
            "text/plain": [
              "46"
            ]
          },
          "metadata": {},
          "execution_count": 32
        }
      ]
    },
    {
      "cell_type": "code",
      "source": [
        "import json\n",
        "with open('vocab.json', 'w') as vocab_file:\n",
        "    json.dump(vocab_dict, vocab_file)"
      ],
      "metadata": {
        "id": "4CQEFb8HCTIt"
      },
      "execution_count": null,
      "outputs": []
    },
    {
      "cell_type": "code",
      "source": [
        "from transformers import Wav2Vec2CTCTokenizer\n",
        "\n",
        "tokenizer = Wav2Vec2CTCTokenizer.from_pretrained(\"./\", unk_token=\"[UNK]\", pad_token=\"[PAD]\", word_delimiter_token=\"|\")"
      ],
      "metadata": {
        "id": "s4A7OS02Cmo2"
      },
      "execution_count": null,
      "outputs": []
    },
    {
      "cell_type": "code",
      "source": [
        "from transformers import Wav2Vec2FeatureExtractor\n",
        "\n",
        "feature_extractor = Wav2Vec2FeatureExtractor(feature_size=1, sampling_rate=16000, padding_value=0.0, do_normalize=True, return_attention_mask=True)"
      ],
      "metadata": {
        "id": "Bf6TVJ2dCs-z"
      },
      "execution_count": null,
      "outputs": []
    },
    {
      "cell_type": "code",
      "source": [
        "from transformers import Wav2Vec2Processor\n",
        "\n",
        "processor = Wav2Vec2Processor(feature_extractor=feature_extractor, tokenizer=tokenizer)"
      ],
      "metadata": {
        "id": "je3W-3WxC0ia"
      },
      "execution_count": null,
      "outputs": []
    },
    {
      "cell_type": "code",
      "source": [
        "!pip install accelerate==0.20.3"
      ],
      "metadata": {
        "colab": {
          "base_uri": "https://localhost:8080/",
          "height": 512
        },
        "id": "3iEYhK5FFWwM",
        "outputId": "42e009e5-4a73-4184-97c0-62fa3aaa8857"
      },
      "execution_count": null,
      "outputs": [
        {
          "output_type": "stream",
          "name": "stdout",
          "text": [
            "Collecting accelerate==0.20.3\n",
            "  Using cached accelerate-0.20.3-py3-none-any.whl (227 kB)\n",
            "Requirement already satisfied: numpy>=1.17 in /usr/local/lib/python3.10/dist-packages (from accelerate==0.20.3) (1.23.5)\n",
            "Requirement already satisfied: packaging>=20.0 in /usr/local/lib/python3.10/dist-packages (from accelerate==0.20.3) (23.2)\n",
            "Requirement already satisfied: psutil in /usr/local/lib/python3.10/dist-packages (from accelerate==0.20.3) (5.9.5)\n",
            "Requirement already satisfied: pyyaml in /usr/local/lib/python3.10/dist-packages (from accelerate==0.20.3) (6.0.1)\n",
            "Requirement already satisfied: torch>=1.6.0 in /usr/local/lib/python3.10/dist-packages (from accelerate==0.20.3) (2.0.1+cu118)\n",
            "Requirement already satisfied: filelock in /usr/local/lib/python3.10/dist-packages (from torch>=1.6.0->accelerate==0.20.3) (3.12.4)\n",
            "Requirement already satisfied: typing-extensions in /usr/local/lib/python3.10/dist-packages (from torch>=1.6.0->accelerate==0.20.3) (4.5.0)\n",
            "Requirement already satisfied: sympy in /usr/local/lib/python3.10/dist-packages (from torch>=1.6.0->accelerate==0.20.3) (1.12)\n",
            "Requirement already satisfied: networkx in /usr/local/lib/python3.10/dist-packages (from torch>=1.6.0->accelerate==0.20.3) (3.1)\n",
            "Requirement already satisfied: jinja2 in /usr/local/lib/python3.10/dist-packages (from torch>=1.6.0->accelerate==0.20.3) (3.1.2)\n",
            "Requirement already satisfied: triton==2.0.0 in /usr/local/lib/python3.10/dist-packages (from torch>=1.6.0->accelerate==0.20.3) (2.0.0)\n",
            "Requirement already satisfied: cmake in /usr/local/lib/python3.10/dist-packages (from triton==2.0.0->torch>=1.6.0->accelerate==0.20.3) (3.27.6)\n",
            "Requirement already satisfied: lit in /usr/local/lib/python3.10/dist-packages (from triton==2.0.0->torch>=1.6.0->accelerate==0.20.3) (17.0.2)\n",
            "Requirement already satisfied: MarkupSafe>=2.0 in /usr/local/lib/python3.10/dist-packages (from jinja2->torch>=1.6.0->accelerate==0.20.3) (2.1.3)\n",
            "Requirement already satisfied: mpmath>=0.19 in /usr/local/lib/python3.10/dist-packages (from sympy->torch>=1.6.0->accelerate==0.20.3) (1.3.0)\n",
            "Installing collected packages: accelerate\n",
            "  Attempting uninstall: accelerate\n",
            "    Found existing installation: accelerate 0.23.0\n",
            "    Uninstalling accelerate-0.23.0:\n",
            "      Successfully uninstalled accelerate-0.23.0\n",
            "Successfully installed accelerate-0.20.3\n"
          ]
        },
        {
          "output_type": "display_data",
          "data": {
            "application/vnd.colab-display-data+json": {
              "pip_warning": {
                "packages": [
                  "accelerate"
                ]
              }
            }
          },
          "metadata": {}
        }
      ]
    },
    {
      "cell_type": "code",
      "source": [
        "from datasets import load_metric, Audio\n",
        "train_data = train_data.cast_column(\"audio\", Audio(sampling_rate=16_000))\n",
        "validation_data = validation_data.cast_column(\"audio\", Audio(sampling_rate=16_000))\n",
        "test_data = test_data.cast_column(\"audio\", Audio(sampling_rate=16_000))"
      ],
      "metadata": {
        "id": "p5S9EbKMC2Zr"
      },
      "execution_count": null,
      "outputs": []
    },
    {
      "cell_type": "code",
      "source": [
        "train_data[0][\"audio\"]"
      ],
      "metadata": {
        "colab": {
          "base_uri": "https://localhost:8080/"
        },
        "id": "1UNHytg0J4Ig",
        "outputId": "66ca8543-64e5-4584-c2dd-cd5e45acac91"
      },
      "execution_count": null,
      "outputs": [
        {
          "output_type": "execute_result",
          "data": {
            "text/plain": [
              "{'path': '/root/.cache/huggingface/datasets/downloads/extracted/d0c515954317076cb4654c80caae844d8922490cb28ecb53f2df4b52ab7baa52/sw_train_0/common_voice_sw_28660554.mp3',\n",
              " 'array': array([-8.52651283e-14, -1.35003120e-13, -9.94759830e-14, ...,\n",
              "         4.05998435e-06, -4.27663326e-06, -2.08104029e-06]),\n",
              " 'sampling_rate': 16000}"
            ]
          },
          "metadata": {},
          "execution_count": 39
        }
      ]
    },
    {
      "cell_type": "code",
      "source": [
        "import IPython.display as ipd\n",
        "import numpy as np\n",
        "import random\n",
        "\n",
        "rand_int = random.randint(0, len(train_data)-1)\n",
        "\n",
        "print(train_data[rand_int][\"sentence\"])\n",
        "ipd.Audio(data=train_data[rand_int][\"audio\"][\"array\"], autoplay=True, rate=16000)"
      ],
      "metadata": {
        "colab": {
          "base_uri": "https://localhost:8080/",
          "height": 93
        },
        "id": "hGQL7nH1J_nH",
        "outputId": "19cb0a58-3587-4b25-9558-8a94b8005889"
      },
      "execution_count": null,
      "outputs": [
        {
          "output_type": "stream",
          "name": "stdout",
          "text": [
            "wodini amekuta vitanda tupu na paka yuko juu\n"
          ]
        },
        {
          "output_type": "execute_result",
          "data": {
            "text/plain": [
              "<IPython.lib.display.Audio object>"
            ],
            "text/html": [
              "\n",
              "                <audio  controls=\"controls\" autoplay=\"autoplay\">\n",
              "                    <source src=\"data:audio/wav;base64,UklGRqQFAgBXQVZFZm10IBAAAAABAAEAgD4AAAB9AAACABAAZGF0YYAFAgAAAAAAAAAAAAAAAAAAAAAAAAAAAAAAAAAAAAAAAAAAAAAAAAAAAAAAAAAAAAAAAAAAAAAAAAAAAAAAAAAAAAAAAAAAAAAAAAAAAAAAAAAAAAAAAAAAAAAAAAAAAAAAAAAAAAAAAAAAAAAAAAAAAAAAAAAAAAAAAAAAAAAAAAAAAAAAAAAAAAAAAAAAAAAAAAAAAAAAAAAAAAAAAAAAAAAAAAAAAAAAAAAAAAAAAAAAAAAAAAAAAAAAAAAAAAAAAAAAAAAAAAAAAAAAAAAAAAAAAAAAAAAAAAAAAAAAAAAAAAAAAAAAAAAAAAAAAAAAAAAAAAAAAAAAAAAAAAAAAAAAAAAAAAAAAAAAAAAAAAAAAAAAAAAAAAAAAAAAAAAAAAAAAAAAAAAAAAAAAAAAAAAAAAAAAAAAAAAAAAAAAAAAAAAAAAAAAAAAAAAAAAAAAAAAAAAAAAAAAAAAAAAAAAAAAAAAAAAAAAAAAAAAAAAAAAAAAAAAAAAAAAAAAAAAAAAAAAAAAAAAAAAAAAAAAAAAAAAAAAAAAAAAAAAAAAAAAAAAAAAAAAAAAAAAAAAAAAAAAAAAAAAAAAAAAAAAAAAAAAAAAAAAAAAAAAAAAAAAAAAAAAAAAAAAAAAAAAAAAAAAAAAAAAAAAAAAAAAAAAAAAAAAAAAAAAAAAAAAAAAAAAAAAAAAAAAAAAAAAAAAAAAAAAAAAAAAAAAAAAAAAAAAAAAAAAAAAAAAAAAAAAAAAAAAAAAAAAAAAAAAAAAAAAAAAAAAAAAAAAAAAAAAAAAAAAAAAAAAAAAAAAAAAAAAAAAAAAAAAAAAAAAAAAAAAAAAAAAAAAAAAAAAAAAAAAAAAAAAAAAAAAAAAAAAAAAAAAAAAAAAAAAAAAAAAAAAAAAAAAAAAAAAAAAAAAAAAAAAAAAAAAAAAAAAAAAAAAAAAAAAAAAAAAAAAAAAAAAAAAAAAAAAAAAAAAAAAAAAAAAAAAAAAAAAAAAAAAAAAAAAAAAAAAAAAAAAAAAAAAAAAAAAAAAAAAAAAAAAAAAAAAAAAAAAAAAAAAAAAAAAAAAAAAAAAAAAAAAAAAAAAAAAAAAAAAAAAAAAAAAAAAAAAAAAAAAAAAAAAAAAAAAAAAAAAAAAAAAAAAAAAAAAAAAAAAAAAAAAAAAAAAAAAAAAAAAAAAAAAAAAAAAAAAAAAAAAAAAAAAAAAAAAAAAAAAAAAAAAAAAAAAAAAAAAAAAAAAAAAAAAAAAAAAAAAAAAAAAAAAAAAAAAAAAAAAAAAAAAAAAAAAAAAAAAAAAAAAAAAAAAAAAAAAAAAAAAAAAAAAAAAAAAAAAAAAAAAAAAAAAAAAAAAAAAAAAAAAAAAAAAAAAAAAAAAAAAAAAAAAAAAAAAAAAAAAAAAAAAAAAAAAAAAAAAAAAAAAAAAAAAAAAAAAAAAAAAAAAAAAAAAAAAAAAAAAAAAAAAAAAAAAAAAAAAAAAAAAAAAAAAAAAAAAAAAAAAAAAAAAAAAAAAAAAAAAAAAAAAAAAAAAAAAAAAAAAAAAAAAAAAAAAAAAAAAAAAAAAAAAAAAAAAAAAAAAAAAAAAAAAAAAAAAAAAAAAAAAAAAAAAAAAAAAAAAAAAAAAAAAAAAAAAAAAAAAAAAAAAAAAAAAAAAAAAAAAAAAAAAAAAAAAAAAAAAAAAAAAAAAAAAAAAAAAAAAAAAAAAAAAAAAABAAAAAAAAAAAAAAAAAAEAAAAAAAAAAAD/////AAAAAAAAAAABAAAAAAAAAAAAAAD+/wAAAAAAAAAAAAAAAP7//f8AAAIAAAD9//3//v/+////AQACAAAAAAABAAMAAQD+////AQAAAP/////9//3//v8AAAMAAQD9//v///8BAAEAAAAAAAAAAQAAAAMACAADAAAAAAAAAP//AAAAAAAA/v/7////AwABAP////8BAAMAAQAAAAQACAAFAAEAAAD///z/+//8//7//////wEAAQD+//v//v8AAP//AAAAAAIAAgAAAAIABQAGAAQAAQAAAAAA///7//v//f///////v/9/wAAAQACAAQABwAFAAIAAgD/////AQABAAAAAAAAAP///P8AAAAA///+//3//v8AAAAAAgAFAAEA/f8AAAIAAAD9//v//f////3//v8AAAEAAAADAAUA/v/6//3/AAADAAEAAwABAP3/+//8/wAA/v/9/wAAAAD+/wAAAwACAAEAAAD/////AAAAAAEAAgABAAAAAAABAAAA/f/+/wAAAAABAAMAAAAAAAIAAwADAAIAAwACAAIAAQD9//3//v/9//7/AAD///3/AAACAAQAAwADAAEAAAD+/wAAAAACAAEA//8AAAAA/f/6//7///8AAAIAAgAAAAEAAAD//wAA/f/8/wAAAgADAAIA/v/8//v//f/+////AAD//wAAAgD+//n//P8CAAIAAAD///v//f/+//3/AAAFAAQAAQAAAAAAAwADAAIAAAD+//z/+//7////BQAEAAQABQACAAAA/f8AAAAAAAAEAAUAAAD6//n//P8AAAMAAAD9//7//f/9////AAD//wIAAwADAAYABgABAPz//P/+//7/AAADAAMABAACAP7//P///wAAAQACAAEAAQACAAAA/f////7//P/9/wAAAQABAP3//f8AAAAA//8AAAEAAAABAAMABAAAAPv/9//4//7/AwAEAAAA+//7//7/AQABAAAAAgAEAAQAAAAAAAEAAgABAAEAAAD6//z/AAABAAQAAwD///r/+//8/wAAAQABAAMABQAGAAAAAAABAAEA/v/+/wAA/v/+//7//v8CAAMAAAD//wEAAQAAAAAA///+/wEAAwABAAMABQACAP3//v8AAAAAAgAAAAIABAADAAAA/v/+//3//P8BAAcABAD9//r/AAAAAAMABQAAAPz//v///wAAAAD+//z//f8DAAMAAAAAAAQACAAIAAMA/v/8//z///8AAP7/+//8//7/AAACAP3//f8CAAEAAAABAAYAAwAAAAEAAAAAAP//AAACAAIAAQD+//3////+//3///8DAAMAAgAEAAMA+//6//3////+/wAAAwAEAAQAAAD9//3//f8AAAMAAQD///3/AgAHAAUAAAD/////AAABAAMABAABAAAAAgACAP///v///wAA//////7//f/8//3///8AAAUABQAAAPz/+v/8/wAAAQABAAAAAgABAP7//P/8////AAAAAP3//P///wIABAADAAIA///7//v//f8AAPz/+/8DAAYA/v/4//z/AgACAAEAAQABAAEA///9//3//P/7//7/AAABAP//AAAEAP//+//+/wMAAgABAAQAAgD9//z/AAAEAAUAAQD8//v//f/9//3//////wMABQAEAAAA/f/8//7/AAD//wEAAAD9////AQADAAEAAAAAAAAA/f/9/wAA/////wEAAQABAAIAAAD+//7////+/wAAAAD+/////v/9//r/+f///wIAAgABAAEAAAD8//j/+/8AAAUABAAAAAEAAQAAAAAA//8AAP//+v/7////AwACAP//AAAAAAEAAgD///3/AAAAAP//AAADAAMA/v/6//v//f8AAAAAAgAAAAAAAAD+/wAAAQABAP7//P8AAAQAAwD///r//f8BAAEAAAAAAP///////wEAAwADAAAAAAACAAEAAAABAAEAAAAEAAIA/f/6/wAAAAD+//7/AQAIAAUAAAD9//7//////wAAAAABAP7//v8EAAIAAAAAAAAA/P/9//7/AQABAAAAAAAAAAAAAAABAAAAAAAAAAEAAAD////////9/wAAAwABAAAAAAD//wAAAgAEAP///v/+//z/AAAAAP3//v8EAAQAAgAAAAEAAAD9/wAAAQABAAIAAQAEAAUAAAD7//j/+//9/wIABQADAAAAAAABAAAAAAADAAEAAQADAP///P////7//f8AAP7///8BAAAA/v/+/wAABAAGAAUAAQD+//3//v/7//3/AgAFAAEAAQACAP/////+//7/AAACAAAAAQAAAP///v/+//3//f///wEAAQD+/wAAAAD+//z/+v/7////AAD//wAAAgAAAAAA/v/+//3//v8AAP//AgADAAAA/v/+/wEAAAD7//r//f8AAAMAAgADAAAAAAABAAAA///7//v//v///wQABwAFAAAA//8AAPz//P/8///////6//z/AAADAP///f/+/wAAAgD/////AAD+//z///8CAAUAAwACAAEAAAABAAIAAAD9//3//v/7//7/AAADAAEA/v///wAAAgAAAAIAAwAAAAAA/v/+////AAAAAAAA//////z//v8CAAMAAAD9//z/+v/5//z/AAAFAAMAAgAAAAEAAQD+//7////+/wAA///+/wAA//8AAAAAAAAEAAMAAwAEAAIA///9////AAD+/////v/9//z//f/9/wEABQAGAAYAAgD///7//v/+//3//f8AAAAAAAABAAUAAwACAAIAAgAAAP7//f/9//3/+//9/wIABAADAAMABAACAAAAAQABAAEAAAABAAEAAQABAP3/+//9/wAAAQADAAUABgADAAAA/f/8//3//v/+/////f/8//7/AQAFAAUABAAAAP7/AAACAAAA/v8AAP7//P/9/wAAAgAAAP7//P8AAAAA/v/+//3//v///wEAAQADAAMABAACAAAAAAD//wAA/f/9//7//f/9////AAAAAAAAAAAEAAQAAAAAAAAA//8AAAEA///+//7///8AAAUABwADAAEAAAD///3/AAD+//3/AAAAAAAA//8AAAAAAAAAAAEABAADAAIAAAD+//v//v8AAAAA//8AAAIAAwADAAAAAQADAAMABAAAAP7//P/5//r//f8CAAUAAwAAAAEAAQAAAP7/+//7//r//P/5//v///8AAP////8CAAIAAwABAAAAAQABAAAA/P/7//3/AAADAAEA///+//7//v///wAAAQABAP7//v////3///8EAAcABQD///7///8AAAAAAAAAAAAA///6//v//v8CAAMA///9////AAD//wAAAQD//wAAAAD9//////8AAAIAAQAAAPz/+v/+/wEAAQACAP7//f/+/wAAAgAAAP7/AAAAAAAAAwAFAAUAAwAAAAAA/v/8/wAA/v8AAP///f/+//z///8BAAEAAgAAAP///////wAAAwADAAAAAAD//wAAAAAAAP7/+v/9/wAAAQAAAAIABAAAAP3//v///wAAAAD//wAA///8//7/AwAEAAYABAACAP//+P/6///////+////AAD///7/AAAAAP7//f///wAAAQABAAAA+//6//7/AAAFAAUABQACAAEAAQABAAEAAQABAAAAAQAAAP7///8AAAMABgADAAEA/f/+//7///8DAAIA///9/wAAAgAAAP7/AAAEAAgABQABAAMABQAAAAAAAAD///3/+f///wEAAgABAP///f8AAAAAAQADAAUAAgD///3//P///wAA///+//z/+P/8//7/AQAFAAYAAgD+//v//f8BAAQABQACAAAA///+//7/AQADAAMAAAAAAP3//v8AAP7/AAADAAMAAwACAAEA///7//3///8AAAAAAAD//////v/7//7/AAAAAAAABAADAP///f///wAAAgACAAAAAAAAAAIAAAD+////AwADAAEAAQAAAP7/+P/5/wAABAAEAAMAAAD+//7///8AAAAAAAD+/wAAAQAAAP7///8AAAIAAwACAP//+v/6//n/+/8AAAAA/v///wAA//////3/AAAGAAkABgAAAPv/+f/3//3/AQABAAEAAgAAAP7/AAD+//7///8AAAIAAAD+/wAAAgACAAAA/f/9/wEAAwAEAAIAAQADAAEA/////wAA/////wAAAAD+//r/+P/7/wAAAQAEAAUAAQD9//n//P8CAAIAAgD///7/AAACAAAA/v8AAP//AAADAAEAAAAAAAAAAAAAAAAA//8BAAMAAwD///z/+//9/wMABgABAP3///////z//v8AAP7//f/8/wAAAAACAAQAAwAAAP////8AAAIAAQADAAQAAQABAAIAAgADAP//AAAEAAUAAwAAAP3/+v/3//r///8AAAAA/v8AAAEAAwD///r/+//9/wAAAgABAAIAAAADAAMAAQABAAAA/f/9/wMAAwACAAEA//8AAAMAAwABAAEAAwAAAP3/+v/7//7///8BAAYABwAAAP7/AAABAAAA/v/9//r//P8CAAMAAwABAAAAAQAAAAAAAQACAP7//f8AAAEAAQD+//7/AQABAAAAAAAAAPz//P8AAP//AAD+//7//v8BAAIAAQAAAP3//P8AAAAAAAAAAAAAAAAAAAMABAAEAAAA+v/+/wEAAwAEAAEA/f/7//3/AQAGAAQAAAD///3///8AAP//AAAAAAIAAwABAAQAAwD+//v//P/+//7/AwAHAAIAAAD+/wAAAwABAAIAAwABAAEAAwACAAEAAAD9//3////9/wAAAQD9//7/AAD///v///8BAAAA///+/wAA/f/6//3//v/+/wEABAAEAAMAAAD/////AgAEAAQABAABAAAAAAD8//z/+//6//v//P8AAAUABAABAP///P/6//3/AAABAPz/+v/9/wAAAQD///v//v/+/wAAAAAAAAAAAAACAAQAAwD//wAAAAD/////AAAAAAAAAAD///7//v8AAAQABAADAAIAAAD9//r/+f/8/wAA//8AAP7///8AAAAAAAADAAUAAAD//wEAAwACAAMAAQAAAAEA///+//7//v8CAAMA///8////AwAGAAMAAQD///3/+//7/wAAAAD+//3//P///wIAAwAAAP7//v8AAAIABQADAAAAAAAAAAAA/v/+//7////9//3//v/9/////v/+/wAAAgADAP///v///wIAAgD///v/+//8//r/AAAEAAUABAAEAAMAAAABAAQABAACAP7//f8AAAYABQABAP///P/8////AAD+/////v///wEABQADAP///P/7//v/+////wAAAAD9////AAABAAMAAAD+////BQAHAAQAAAD6//z/AQADAAMAAAABAAAAAQABAAAAAAAAAAAAAAAAAAEABAADAAIAAAD+//3//f/8//r//f/9/wAAAwACAAAAAQADAAEA/f/7//3/AAAFAAYABAACAP7//P8AAAAA/v/9//7/AAACAAMAAwAAAPv/+v/7//7/AAACAAEAAAD9////AQAAAP3//f8BAAMABwAFAAEAAAABAAEAAQAAAP7////+/wAABAAIAAQA///+//z/AAAFAAUAAgAAAAMABgAGAAEA/v/7//r//P/+/wAAAAD//wAAAQADAAUABAADAAQAAAABAAEAAAD7//j/+P/3//z//v8CAAMAAwADAAQAAQD+//r//P/9////AAAAAAIAAwACAAEA/P/2//j//f///wEAAQAAAAAAAQABAP3/+//6//z///8AAAMABgAGAAAA///+//v/+v/7////AAACAAEAAQAAAP//AwAEAAAA//8AAAAABAADAAQAAgAAAAAAAQAAAPv//P///wAAAAAAAAAAAAAAAAIABgADAPz/+v/5//v//v/+//z///8BAAMABgAFAAEA/v/9//r//P8BAAAA/////wIABAAEAAMAAQD9//z///8AAP7//f8AAAQABQAAAP/////+//3//P/7//7/AAAEAAQAAwABAP7////8//3//f///wAA/v///wAABAAGAAEAAAAAAAIABAAFAAAA/f/7//z/AAD9////AQAEAAMAAAAAAAAAAQACAAEAAAD//////v/+//7/+//7////AwAFAAYABQAAAPz/+////wEAAAD///3//f8BAAQAAgAAAPz//f///wAAAAD+//z//v8BAAQA/////wQABQAGAAMA/v/8//3/AgAEAAAA+//7/wEAAgAAAAEAAwAGAAIA//8AAAMAAAD+//7//P/+/wEAAgD///3/AAADAAQAAAD+/wIABgAEAAAA/P/8//v//f8BAAEAAAD///////8AAAAAAAD///7//v/8//n/+//+/////////wEAAgADAAYABgAEAP//AAD+//v/+//9/wEAAQD/////AAAFAAYABgAFAAAA/f/7//r/+v/8/wIABQABAAAAAAADAAIAAAABAAMABQAEAAEAAAD9//z//v////7/+////wIABgAGAAQAAgAAAP/////+//3//f/9//7/+//9/wEABAAEAAQAAAD8////AgACAAEAAAD9//n/+P/6//n//P/+/wAAAAABAAIAAwACAAAA/v/6//v//v/9//j/+/8AAAMABAAEAAIAAQAAAP///v/5//j/+////wAA/v8AAAEAAgADAAIAAQD///7/AgAGAAMAAQAAAP///f/8//7///8BAAAAAgAEAAIAAgAAAP7//P/+//v//f8AAAMABAABAP7/AAADAAAA/P/9//7//v/+/wIABQABAP7/AAAFAAEA/v/+//v/9//9/wQABAAEAAIAAAD9//z//f/6//z///8DAAQA///8//3/AQADAAEAAAAAAAMABQAEAAQAAwAAAP///f/4//z//v8AAAAA/f/9////AgAAAAAAAAD//wAAAwACAAUACAADAAIAAwACAAEAAQD///3/AAAAAPv/+P/+/wIA///7//z/AQAFAAYABQACAAEABQAGAAAA+P/3//z///8AAAAAAAABAAAA/f/9////AQADAAMAAwAEAAEA/v///////v8AAAAA/v8AAAMAAwAAAP///v/9//3//v8CAAcABAABAAAA/v/8//v//P/+/wEABgADAAAAAAAAAAAA///9//z//P/9////AQADAAQABgAFAAAA/v/8//7//v///wAA//8AAAIAAAD//wAAAQAAAP//AwAIAAcAAgD9//v//f/8//v//f///wAAAQADAAIAAwAEAAQABAACAAIAAAAAAAAAAAD+//7//v/+/wEABAAAAP//AAD///3//f/8//n/+v/6//7/AwAFAAYABQAHAAgABAAAAAAAAwAEAAIA///7//n/+f/9////+//7/wEABAD+//7/AwAGAAQABgAHAAIAAAD8//n/+P/8//z/+f/5//n//f8AAAAA///9/wAAAQACAAUAAwAAAAEAAQAAAAAAAAAAAP3//f/6//z////8//r/+//6//z/AAABAAEA/f8AAAQABwAFAAMABAAFAAYAAgD+//v//v/9////AAD//wAAAQABAP//AAABAAAA//8AAAAAAgADAP///P8AAAEAAAD//wAAAQD//wAA/f/6//v///8BAAMAAwABAAQABAD///7/BQAEAP7/+//3//r///////3/AAAAAAIAAQAAAP3/+f/9/wIABQABAAAAAgADAP///f/8/////v/8///////+//z///////v//P8CAAEA/////wAAAgAAAP7//f8AAAMAAAD8//7/AQD+//v//f8AAAIAAgAAAAAAAgD9/wAABgACAP7/AAAAAPn//P/+//z//v8AAAQABQAFAAEAAQACAAAAAQABAAEAAgACAPz/+v/+/wIAAgAAAAIAAwAFAAUAAwABAP7/+//8//7/AAAAAP3/+//9/wEABAABAAIAAgAAAAMABQADAAAAAQD///z//v///wAAAAD9//v/BAAIAAUA/v/5//z/AgACAAAAAgADAP///v8BAAAA//8AAAEAAgAAAP7//f/+//r/+v/8////AAABAAAA/f8CAAcABAADAAcAAwD+//3////+//r//f8CAAMAAQABAAQAAAD8/wAABQABAP7/AQACAP3//P8BAAAA///8//z/AgAEAAQAAQD8//v/AAAAAP3//f8BAAIAAgAEAAIAAgACAAMAAAD9//r//P/+//v//f8AAAAA//8FAAUA///+/wQABwACAAAA/f///wAAAAD///7//f/+/wAAAAD+////AwACAP7//P/9/wAAAwAAAPz/AAAEAAMAAQAAAPv//f8AAAAA///+/wAA///9/wAAAAD7//j///8DAP///v///wAA///9//v/+f/8/wAABgAEAAEABAAGAAAA/P8AAAIA/v/+/wAA/f/6/wAAAwAAAAAAAAAAAAAAAAAAAP7//P/+/wEAAAD8/wAABAAEAAEAAAACAAEAAgAAAP3//f8BAAIA///+/wAAAAD8//v/AAADAAIAAAD//wAAAQD///v//P8CAAMAAAAAAP7//P/7//z//v8AAP///f////7//P///wIAAQAAAAMAAwD/////AgAEAAAA/f/9/wIABAAAAP//AQAAAP3/AAACAAMAAAD9////AQADAAMA///6//r/AAADAP///f/9//z//////wEAAwADAAAA/f/+//7/AAAAAAMACgAIAP//+v8CAAIA/P/6//7/AAABAAAA/P///wQABwABAPv//f8EAAUA///8////AgAAAAMABAD+//n///8DAAIAAAD9//3///8CAAUAAwD//wEABQAFAAAA//8BAAIA/v/4//v/AQADAAAA/f8AAAQAAgD+//v///8BAAAA//8AAAQABAACAP///P/7//z//f8AAAMA/v/9/wEAAAD///3//f/9/wAAAgACAAAA/v8AAAMAAgD+//7/AQAEAAIA/v/8////BQAJAAQAAAAAAAAAAAAAAP///v////z/+////wIABAABAP7///8BAAAAAQAAAP7///8BAAAA/////wAAAQABAP//AAABAAAA//8AAP///f/+/wAAAgAEAAAA/f8AAAIAAAAAAAIABAABAAEAAwADAAAA+//7//n/+P/2//n/+//+/wEAAgAAAAAAAwAEAAYAAAD+//3//P8AAAAAAAD6//v//////wIAAwAEAAAA/P8AAAQAAQD//wAAAAD//wAA///9/wAAAAD9//7/AAD//wAA/////wAABAAGAAIAAAD9//3///////3//P/9/wAAAgAFAAQAAAD8//3/AQAAAP3//f8AAAIA/v/8/wEAAwABAAEABAADAAMAAgD+//n/+f/+//7//v/+////AQABAP///v8GAAYABAAAAPz//v///wAAAAADAAAA+P/5//7/AgACAP///f8AAAQAAwAAAP///v///wAAAAACAAUAAQD7//v//v8CAAMA//8AAAAAAAD8////AAD//wAAAQD+////AQAAAP3/AAADAAMAAwAEAAcABgD///r//P/+//3//f/8//7/AAADAAcABAD///3//v8AAAAA///+//7//P/+/wEAAAD+//7/AAAEAAgABQACAAEAAwACAP//AAAAAAAA+v/5////AwABAAAAAAD7//3/AgAEAAEAAAABAAMAAQACAAEAAAABAAMAAAD+//v/+//+/wAAAQADAAEAAgAEAAEA/f/9/wAA///+//7/AQABAAAAAgACAAMAAgD///z/+//6//z///8CAAMABAAGAAEA/v////7//f8CAAUAAQD/////AAAFAAYAAwAAAP7//P///////P8AAAQABAABAAAA///8//n/+f/9/wQABgAAAAAAAAACAP7//f/+/wAAAQAAAAAAAQD//wAAAwADAAYAAQD7//r//P/+//7/AQAEAAUABQADAP7/+f/8/wAAAAADAAYAAAD+//z/+//+/wAA/P/8//v/+v////z/+//9/wMABgAGAAcABAD+//3/AAABAAEA/v/5//n//v/+//3//f///wAA//8AAAQAAwD/////////////AAABAP///P8AAAEAAAAAAAUABAAAAAAA/v///wEABAAEAP///P/+//3//v8AAP///P/7//3//v8CAAEA/f/8/wAAAgAEAAEAAAAAAAEAAwACAAAA///9//n//v8CAAQAAwABAAIAAgACAAAA/f/9/wEAAgAAAP3/AAD///z//P8AAAQAAQAAAP///f/7//v//f///wAA//8AAAEAAQAEAAIAAAAAAP///P/7//3/AAADAAQAAgD+//3/AAADAAIAAQD+//v//v8AAAAAAgACAAAA/v/+//7//f///wEAAAD8////AgABAAEAAQD/////AQABAP//AwACAP//AAAEAAUA///6//3//f/9/wEAAwABAAEAAgADAAEAAAAAAAAAAwAAAAAAAgACAAQABgABAP7//P///wAA//8AAP7///8BAAMABgADAAAAAAD///7/AAADAAMAAAD//wAAAgAAAP7/////////+/8AAAMAAAAAAAIAAgADAAMA///5//r/+v/5////AwAGAAgAAwD+//3//P/9////AAADAAgABgABAAMAAAD7//r//f/+/wAAAQD///3/AgAEAAYABwABAP3//P/6//v/AAAFAAQAAgADAAAAAAD+//3/AAD/////AwAGAAMAAQAAAAAAAAAAAP3/+v/9/wEABAAFAAEA/f/+/wAAAAAAAAIAAQD/////AAACAAIAAAD//wAAAAAAAP3/+/8AAAQABQAEAAEAAAD9//3//P/4//z/AAAAAAAAAAAAAP//AAAAAAAA///+//////8AAAQABgAFAAEA/v/8//v/+f/5//r///8AAAAAAAABAP////8AAPv/+f/7//3/AAAFAAYABQAGAAUAAAD9//z//v8EAAgABAADAAUABAABAP//AAD9//3/+//5//z/AAACAAIAAAAAAAAA///9//z//v8BAAEA//8AAAAAAAAAAP7////6//r/AAACAAIAAgABAAIAAwACAP7//v////z//P/+//3//v8BAAMAAAD//wEA/v/8/wAABAAGAAMA/P/6////AgAAAP3///8BAAAAAQAAAAAAAAABAAMAAAD///7/+v/6//7//f/7////AwAFAAUAAAD7//7////+/////P/8/wAAAgADAAUABgAEAAEAAgADAAMAAQD///z/AAACAAAA///+//3//f/+/wEABAADAAAA//8AAAEAAQD//wAA///7//z/+//8/wAAAAAAAAEAAQACAAUABwAEAAQAAgAAAAAAAAAAAAAAAAD///7//f/+/wAAAAADAAMA/v/8//r//f////3/AAADAAMAAgAAAAAAAAABAAAAAQD///z//v/8//3/AAACAAEAAQABAAAA///+//v///8DAAEA/P/6//7/AAACAAAAAAABAAAA/P/7//v/+//9////AAAEAAYABAABAAAAAQACAAMA//8AAAYAAgABAAcAAwABAAAAAAACAAAA/f/+/wAAAAD9//3//f/8//3/AQACAAAAAAAEAAQAAwABAAEAAwAAAP3/AAAAAAAAAAD9////AAD8//r//P8BAAQAAwAGAAQAAQAAAP3//f/+/wAA/v/8//z//f/7//n/+f/8/wEAAAD9////AAADAAYAAgAAAAAAAQADAAUABQACAAAA/v/8//3///////7/AAD8//n/+//8//3/AQADAAAA/f/+//7//v/9//v/AAAEAAMAAQAAAP//AQAAAP3//v8AAAIABQAEAAMABAADAAEAAAD///7//P8AAAEAAAAAAAAAAAABAAEA/P/3//f//P/9//z///8AAAAAAwAAAP3//v8AAAMABQADAAEAAgABAAAA/v/7//7/AQD//wAAAgAAAP3//f/+/wAAAAAAAAAA/v////7//f/+//////8AAAAAAQAEAAQAAgAAAP////////v//f8DAAQAAwACAP3//P8AAAEAAQACAAAA//8AAAAAAgADAAAAAQAAAP3//f/7//3/AQADAAEAAAAAAAAA//8AAP///f///wAAAQACAAIAAgAAAP7/AAACAAAA///+//3/AAABAAEAAQABAAEAAgADAAAAAQAEAAEAAAABAP7//P/8//7/AAADAAEAAAACAAMABAD///3/AAAAAAAAAAAAAP7///8AAAEAAwAFAAIA/v/8//z//f////3//v8AAAEAAQD+//7////+//7/AAAAAAAAAgACAAQAAwD/////AgAAAP7//f/+/wMAAgAAAP////8AAAQABwAEAAMAAwACAAIA///6//v//v/9//7/AQABAAMAAwAAAP7//f8AAAIAAwABAAAAAgADAAEAAAAAAAIAAQAAAP7//f/9////AwAFAAMAAgAAAP//+//5//3/AAACAAIAAAAAAAAAAAABAAMAAAD9//7/AAAAAP7//v/9////AAAAAAEAAAD//wAA/v8AAAQAAwABAAAA+//5//r//P////3//f8BAAAA/v8AAP3//f8AAAAAAgABAP///v8AAAAA///+//7//v/9//7//v/9//7/AAACAAMAAwAEAAIA/f/8//7/AQAEAAQAAAADAAQA/v8AAAAA/f/+//3/+v///wMAAQD//wAA///9////AgAFAAUAAwAAAP//AwABAAAAAQD//wAAAAAAAP3/+/8AAAAAAAAAAP7/AAAAAP//AQAGAAcAAwD9//v//////////f/+//7/AAAAAP7/AAAAAP7/AQADAAEA///+//v//v8AAAAAAAAAAAAAAAAAAPz//P8AAAAA/v/7//r//P8AAAMAAQABAAEAAQAAAAAAAQACAAEAAAAAAP//AAAAAAAAAQADAAMAAAD+//3/+v/8//3//v8AAAAAAAABAAUABQAEAAMAAgABAAAA/P/8//7//v///wAAAQAAAP7//v///wEAAgAAAAAAAAD///7/AAABAAIAAgAHAAkAAQD6//r/+//9/wAABAAEAAIAAQAAAAAA/f8AAAYACAAHAAEA/v/8//7/AAAAAAAAAAD///z//P/+//z//v8AAAEAAAD8//r/+v8AAAAA//8DAAMAAAD+//j/+v///wQADAAIAAQABQAFAAYABQABAAEABQACAPz/+f/3//z/AwAFAAoACgAGAAQA//8AAP3/9v/8//7/+//4//T/8v/x//L/8//t/+7/8v/u/+z/6v/s//P/+f/8/wAA/v/5//b/+P/8//v//f8CAAUACQAGAAUADQALAAkACAAMAA8ACwALAAwADwAUABUAFQAXABYAEQASABMADQAIAA0ADQAGAAMAAAD8//n/9v/2//r/AAADAAIAAwAGAAgACAAMAAsAAwD///v/9f/0//b/8//1//7/AgAHAA4AFAAbAB8AHQAaABkAGgAaABcAEgASABgAGQAUABEAFgAPAAoABwD///z//v8BAPz/9f/w//H/9f/2/wAABwAMABcAGQAiACcALAAxADAAOQA6ADQANQA3ADEAJgAaABUACQD5/+3/2f/L/8X/uP+v/6j/p/+o/6H/pP+n/6T/pv+u/7f/vv/A/8L/0f/c/+D/6v/2/wMAGAAwADoASABeAGgAcQB9AIEAgACEAH0AZgBYAE8ARgAsABkAEgAAAPr/7//k/+f/7P/6/wQAFQAlACwAPgBMAFoAbQB/AIoAiwCJAIQAfwB0AGUAVgA6ACgAEADx/9z/vP+s/5//gf91/2r/XP9M/0L/PP84/zr/M/84/0H/RP9J/0j/Vf9h/3D/dv+C/5z/kv+U/5r/nP+h/5X/pP+p/6H/oP+g/7D/sf+8/9X/5P/4/xYAOABUAIYAtADVAAcBMwFYAYEBqwHZAf0BFgIyAkUCVAJ0AosCkAKdAqoCqQKyAqYCmgKOAlECKALhAYIBLgGjABgAg//O/hL+Tf18/Kb73PoD+k35lfje92L38Pan9nP2Z/aO9sv2QPfN94f4Vfk8+lP7bfyl/cn++/87AU8CcANyBGwFUAYBB6kHFwh8CMoI9QgGCf4IBgnrCNkIxgjBCMwI2QgZCU4JsQkZCocKFAtrC9cLDQwaDPQLYAuRClQJyAfLBWgDrgCs/YH6DPem8zTw3OzU6QTnp+S94ofh0+CM4AbhJ+LQ4+Lljuiy6wnvtvKI9n/6bP4wAv0Fiwm8DJsPIhI1FMIV2BZuF5cXOhdzFkgVpRPsEe0PoQ1YCwAJqAZVBDoCOwBf/vD8qfu0+g76s/nO+RL6vvqy+9D8T/70/8EBlwN7BWIHGwnFCisMRA0NDnMOaw7VDccMRgtYCdgG7QPVAFn9kfnM9QjyPe7E6prnvuR/4rjgnd8z313fTuDM4drjiOas6TTtBfEU9UX5eP2mAbcFiwkyDYkQcRPvFecXfBmBGuUa6RpdGj0ZtBe+FUsTtxAQDvkK+gcpBVkCxP9d/Vj7jvkC+An3Wfbi9dr1QPbd9sL3+Pha+g/85/3i//4BEgRWBoEIdApXDPQNTA83EKQQmBD2D8cO7wx+Cn0HGwRmACb8zPd38xbvDOtj5y7kfeFy30Te1t0V3jLfJuGO45PmQOoe7kjyxfYx+5j/6wPuB9wLYQ9QEhgVVRcOGWkaIRtoGy0bWRoNGUEX9BRIEj4P5wtlCL0ENgHM/Yf6nvca9RTzh/GS8C7wPvC98MfxRfP29Ab3WPnV+3f+TAFGBCcHUgqGDYIQghNVFvUYHBvBHNsdFx6DHQgcghn3FYcRMQz+BSr//fen8D7pGuKa2+zVItF+zTPLLcqByifMIM8Q08PXlt3242nqUPFT+PX+WgVvC/YQ3xVDGgkeAiFNI/Ik7yUPJm8lSSRNIrEfehydGHIU5w8kC0cGfwER/fD4QfUp8tXvQu487ezsRe0h7rTvi/GQ8wj2oviI+3H+VgGUBMEHGAuNDtsROxV/GHIbCR4zIJYhPyLxIVsgsh28Gb0Ujw4cBzf/vvbn7T3l5Nw/1bjOZslZxf/CHsLWwkvFzsiYzYHTHdpN4bjoQPDF9wn/xQU5DBMSJRfxG9Yf+iK+JbwnBymZKX8ptSgsJ88ksCHyHYcZqRReD78JHQTB/qr59PT+8LrtZuv/6VbpfemU6njste6Q8dX0Yvg+/AcA+QPnB+gLyg9pExsXXxqSHWcgciIjJPUk9iTjI4IhKh6CGY8TaQxVBH/7+/Fl6MLeb9UZzdzF8L+Eu+O4ObhYuSi8mcB6xpjNpNUv3hnnMPAk+bABggmzEDYX1RyWIYIlpyj/KrAsgy2jLUItBiw+KqUnUCSXIB8cHRedEQgMiwYLAe77Gvf88s/vYe3J6/bqJutO7OHt7e+U8mf1iPjO+6n+hgF5BDcHnwneC1gOxBAsE4oVzBcyGoIcVB6GH08gSiAiH90cBxkGFNcNIwZ0/evz4Ont3yfW68zjxFq+pLnRtsq1DbdJui+/ucVEzcXV9d5D6FTx9/k6At4JoRBWFlgbyx9pI28muCh5Kt0rnizFLBMsyyoCKUQmkSIyHjYZjRO3DYEHFAFA+8717fDi7A7qaeiv527oHOp/7Orv2vPX9+D79v+8Aw4HzAlODK4OlxBzEksUPRaAGNYaIh1KH1Ah3yJyI64ikyD1HHEXNBAsB478FPHp5GPYW8yGwVK4C7EkrOKpSKptre6yW7p+w97NC9lH5ArvQ/nKAlALfRJ+GIkdvyEpJdkn6SmZKyYtHi6SLm0utS11LPkpiCZOIj4dXxewEJoJaQKU+/z0E+9M6oPmaeSv4xbk6uUH6S7tzfHY9gX8EwHWBbcJ4QxvD1wRkRJEE98TURQnFUsWexcwGVgbmR2HH/8ggiEAIR4fBxtZFbUNXwTI+aTtQuHr1EDJ+75DtvKvIqw+q+es4bBWt46/OsmO0x7etejb8h38IgQpCwcR9xUlGlcd4h9UIrMkaSbkJ0opTirsKrYqnymuJ/4kKiFLHLQWRBDgCUADfvx19hXx7OwP6lHo+ec46cPrAe8R89H3tPyDAdkFgAmRDOoOdRAvEUkRVxGMEYUR2hH2Ep8UAhd1GSYc6x4QIXYiKyI8IG8cvBb7DtoEffkf7UDgXtMlx4K837P0rYaqtKkKrDKxY7gswT3LB9ZD4Rvs5/Xc/tgGpQ1EE5AX8RoPHqAgkSIuJLklSSdmKP0oJym8KIsnbSU5Ig4eTxm7E4MNHQeNAJH6LfVG8J3sRepa6cHpCuug7TbxQfXH+Sb+NQIhBngJwQtxDZ0OLA/OD94PCxAEEV8SShSNFm4ZcRyiH0IisSMjJOwiMyDuGpwTnwrZ/yb0UOeR2lzOYcNUujizmq7MrBmugLEVt5e+TscH0a3aXeSX7fv1zf2UBG0Kqg+CFMQYZhzuHz4jCiZKKK0pbCpzKlQpEyfEI7If5BqBFbkP9QmFBG7/EPtl94b0n/LG8b7xP/Ki89P1Yvgg+xf+IAEWBMgGDwnLCi4MSg2/DeIN0A3WDR4Ohw6GD9sQyRJqFf8XoxoNHcweph/xHpEcYhhcEmkKxgAg9mnqwN6Q0wvJTsB0uf608bJJs/+1sbpGwdbIGtHe2Y/iEuv38kP60wC7BlIMEhF0FYAZEB1ZIPwiESVTJu4mmCZJJR4j1x9iHDQYcxP5DmYKJwZHAtf+HvwJ+ov4qveK99b38/iX+nL8Cf+sAX0EOgfHCfQLhA2wDusO3w4jDmANngzQCyUMvgy8Dk4RqRQcGUEdeiF1JGgmRybuI0gfexcbDkYCL/V6527ZkswFwea3C7EirUesC65wspC4aMAZyUjSkNts5Nzse/SF++oBmgfFDJAR6BXkGSgd2h/9IS4j2CM6I+ghzh/fHKcZnBXDEc0NHwq7BoIDKgH6/pT9ifza+9j7K/xa/cf+pwAkAwUGLgk7DEEP0xH9E18VxhWOFWsUEhNREWsPHg5GDb0NzA6uELkTBRefGncdZx+tHxAeqBo3FAEMlwGY9SXpyNt3zx7EoLq4sySvoK2Erg2yZrdxvrLGLs832OHgOukG8TL4CP8lBdAKHxDWFAkZuxx4H2QhbiJ4Ipghux/9HMgZMBZgEvkOcgt7CHMGpwRwA7sCRAIHAkECYgKXAlcDMwSdBXUHuwmQDHcPghJgFb8XbBktGhka+hhmF1kVJBN+EWEQmRCVEa4TshbwGXAdwB8EISUg8hx2F9gOTwSj9/vp39vhzarB+7ZYr4Wqf6jlqZmtx7NKu/vDN80p1kDfZOc777P2ov2BBPEKNxEuF8EcbyEUJYQnViidJ1glhSGHHNYW1hAvC/YF+wEy/5P9gv1P/vn/1gHxA7sFEAcRCF8I0AjrCIoJrAo9DKwOJREHFIQWdhhtGecYUBdSFHsQCwzXB2MEHgLvAXwD4wYKDAgSKxiRHSwhWyJgIB4buhJIB+j5Yeu/3CfPkMOkutK0WLKKsn61WboowMzGT82e07nZld935ZbrUfKw+cUBNgqwEr8amSEMJ08qOyv5KWkmLCHMGgoUew3cB4QD1wDq/zkA3gHjA/8F4AfLCNcI8wdMBmQExQKjAa4BAQOMBV8J8Q26EiQXmRqFHNYcNxsWGPITJQ+rClQHhAWpBTAITgwGEhcY2B1hImYk9CPLH/EY7g7JAob1n+fv2iPPDsbfvly6d7gAuG25KrsXvs7ACcS+x5jLFtFE13/fxOg/86/+zwmnFKIdsSQWKb0q8SmhJtUhIRwWFsMQRwwrCZcH9gaeB1EISAnmCacJBAk0B5QFeAOsAdgAqAAHAgoEcgcsCxMPGxP3FTcY5RikGAQXWxSOEQkObwv9COkHVwiJCfAMhRBTFUEaUB4+IrUj+yPHIRod0hbtDf8DzPhR7enhCtelzU3F374TuuC2VrU+tYC2DrnGvMrBUci5z6jYjuLy7N/3PAIDDEoU6Bq2HxciviKMIScfAxwaGHAUBxEgDt8L4AmNCEgHRwZaBQMEPQMXAkABDQEBAe4BEwMIBU0H0AmnDNYOKBHmEhcU9BQfFfMUShQ9EzUS3xCMD8MO7w1nDi4PyBCPEwsW6RnBHDofoCDtHy0eFxnOEhUK6/9K9X3pF9/G1F7Mt8UmwNa8vbriuQe6KbvrvLi/vsMGyaLP79d/4fHrJfeWAXsLgBOyGbAdMR8lHwwdsRqHF58UYxJ0EHkPZA7mDewMogvVCaAHagUKA4UBYQCUAKQBogNuBkUJTAy4Dr4Q1BFZEmUSORIMEtYRCBIzEmISSxIJEkMRIhADDyIOog0VDqMP8BFhFYAYpxsZHbYcaxqoFDcNuQKo97brxt/U1T/M+sWowE2977uVugy7fbsGvXu//sKPyKHPm9ju4kfuEvruBHcOdBa/GzsfhiA3IEMfgB1yHCIbVhqtGaYYfRfgFPAR4g1OCdkEiQCo/b77cvue/Nn+4AH2BAoIdQoQDBwNqQ0bDoAONQ9rEKAR4hKWE6ATyxLIEK0OzguCCYIIfQjcChgO5RJUGNEckiBeIQsgcxvhE6sKUv889Ozoxd5/1kDP3slLxfrBNb+2vFS7y7qWuzG+78LEyZzS5Nzr5yLzk/1sBqgN7xJZFn4YaxnrGc8Zzxn/GXoZ2hisF9EVRBNJEEINQAqlBxAGRgU8BVoGYwcdCcUKyAvXDAgNTg0MDfwMBw31DMUN+w2MDokOBQ5iDWsL1QmiB8UFBgVNBMMF6wcXC9MPsxNSGJkbTh0RHsUbjRjZEuQLUwQy+/nywOmR4dLZytGfyyzFV8BlvJq5W7kbutC9MMNByobT89xw533xk/r5AqQJZQ+yEzIXChrpG68dah62HnAe8RzdGtoXeRTlEA0NngmzBmoE1wLUAX4BeQHUAZECRQNZBIEF5QZcCNMJsAsVDa4OBxAnETcSGxI5EpURXBBPD64N2wwKDDEMdQ1OD4cSlhUVGdgbbh3GHZobAxgzEiUL4wLS+VLxQ+jo3y3Y/NCKymrEjb+/u0+5krieucq82cHEyCDRY9pY5FPu5vfxABAJJBBKFlcbXB9FItsjeSTBIxkidh+5GxIYnxNBDzYLGwccBCQBPP8y/oz9MP7M/kgAHgKnA1wFYQaVBxwIcQgNCVcJoQrfC6gNlQ/pEFASoBKTEsoRuxAaENoPtxCgEoUVoBhRHAkfgSCDIMUd3xl2E7MLSAPO+fvwmOck32fXvM95yaTDUb8/vK66JbvrvObAJMa0zFDUi9yW5Wbuj/d+AAkJ9hDAF6Qd7SHTJBIm6SWQJBMiDB9zG5EXfBNGD+4KqAZ4ArH+ovtS+Vr4bPhR+Qn7Mf1F//8ASwI0A9QDawScBTwHXgkGDLQOKRHXEoQTbxOEEkoRexAMEM4QrBJPFZoYlxv8HSYf+B4bHZEZ4BTWDj4I+ABB+WrxLelA4VXZ/tGCy7bFksHNvsS9Or7uv2nDCcjRzX/URdyc5DfthfZW/7wHVA/xFZAbqR/SIqokvyX+JQcllSMHIb4dwRncFO8Psgq+BYQBC/6u+wT6T/kt+WD5zPkR+pj6Mfv4+zT98v4BAXMDOAbFCAALqgzPDXYO7Q47D9kPMhHkEo4ViBh8G2gefyC4IZIhRCCVHUwZQhQ3DkkHu//F95nvWud836XXjdB7yjTFY8G/vsC9aL5QwO3D8cggz3bWgt765q/vXfifAB4IHw80FVwaqx6+IVAkqCWvJfEkGCN4INccqhhVFMIPhwuqBy4EgQFY/4n9Tfx6++/6oPqz+h/77fsi/Zb+QABAAm0EYAYtCJoJ7AoxDCgNIw5VD9IQxRJHFboXaxrxHBkfzSAuId4gGR85HGIYABPgDLkFMP4g9rHtlOV53fzVUM99ycXEFMGDvqu9C76Ov6PCscY3zNnSENoL4jbqtPI1+0sDBQsCEmAYHB71Iqkm/ihDKn4qhylIJ/4jGiDCG3AX/BJxDjkKXgZHAyoANP3++tT4ZfeV9vT1vPX69ST3g/gD+ur7+v1zAP8CkAUpCNoKsA2zEOMTwhayGdIcuR8RIrgjfyRSJJcjeyH9HXQZ9xMBDhUHff9Q9/3uMue133XYotEezNLHncSrwnLBbcHcwmnFCskwzdHRjtcl3gHluut08k75TQAkBw4NWBIdF4IbJB+SIRIjfCObIw4jdiE2H28cvxn9FhAU3xDiDYALbwmaB/MFiQR1A/sCywKOAi0CTgL0Am8D9gNYBN0EbgUMBncGcwauBq4GEQdcBygHfgemB9wHFAjIB2wH+AZHBl8FJQRuApEAvv6G/PD5Mvdz9A/yr+9J7VDrrumS6MLnDuer5pzmB+e054DoZOl66h3s6e2V70jxBvMz9XH3R/n6+q/8fv4bAGoBcQJOA18EZAUoBsUGaAcvCCEJBQrGCpELcgyMDYAOSA/qD04Q2BAqERYRrxASEKUPEw8hDigNSQyrC0IL0gpjChUKCwo5CloKJwoDCisKOQo8CvgJeQkkCbwIAAjeBoIF8QNjApYAK/7J+1P50vZ59MPxG++h7Erqhuir5q7kSeNt4tzhbOEU4QnhyeHA4objtuQ15hroa+qi7MnuMvHn88n2efm/+y3+1wBfA7YFugeWCbQL5Q2zD1cR4BJwFCkWXRc6GOoYRRmuGcoZVBmLGL0XDBcoFh4V/RPtEjISuRFTEboQShAnEBwQ4Q8lD0kOiw2vDF8LqwmvB4wFfAMYAVr+Zftj+Jz13PK675fs4uk85+/kteJ/4MreXd2e3CTcytsK3MDc8N1w313hYOOr5ZToeutp7lDxZvTM9+D6vv2zAJkDKgaRCLsKggw2DrIP9xDjEZgSahMRFIoU3BQpFVwVihWTFVEVLBXNFJYUbhSVE88SSBK7ER4RRRBFD4MODQ5hDZgMpgvICj8KdglWCOgGlwV+BAED+AC2/pb8WPr392f1cfKg7yLt0+pq6OnltOMI4t7grt+g3g/e892S3o7fTOBp4V3jmOX951/q0OzB79ryE/YR+av7l/6iAXEEygaqCHoKYwwcDlEPJxDEEIgRZBLXEucSzxIME2gTbRMcE6YSaxI3EtURLRFcEJoP2w5TDpUNhAyiCwkLrQofCm4J1whmCDoI/QeAB9IGLwbFBTkFLwTKAn4BNACf/p/8TfoL+Oz1uPNK8b3uaexk6n/op+bz5JPjseIf4svhq+HW4a3i4uNE5enmseja6lTtB/DF8m31R/gu+y7+HAGjAyQGpAgfC1kN+A56EP8RVhNpFAAVZRXJFQEWBBbFFUgVuhQXFDUTKBLpEJMPVQ78DJoLGwqpCHsHMAYqBV4EdwPjAo0CZgJIAkQChgKeArYC1gLXAsMCZAL2AU8BXQBb/wn+mfz2+jb5kPeZ9aLzyPHn70Duouwl69HptOj751vn/ub85kPn3Oen6K7p9+qS7GLuZ/Cg8uH0YvcF+qb8Rv/VAW8E2QYfCUoLNA3uDmsQuBHHEpgTLRSIFL0UrBR8FAwUcxPiEvcR+hD5D8IOuA2oDIYLbwpQCZUI8QcPB4cGLwbiBcEFjQVmBTwFHwUZBcYESATIA0gDgwJzAWMAFv+d/Sn8j/qY+IP2uPTg8uPwz+7i7DnrfOkm6PvmsuXt5IvkceR75LPkhuWn5vDne+k96zXtgO8l8q70LPcL+gL93P+wAmEFDginCgMNUQ8sEcESXxSTFYoWQheiF8cXwBepFyIXihbtFe0UFBQSE+gR4xDND9QO5A3qDOILBQtiCqUJGQmACNQHiwcsB6AGBgZmBeIETQSNA38CRQEpAO/+iP3y+yr6gfjQ9u/0DvMX8TfvdO236zrqq+gy5zfmZeXB5EbkG+Rp5OrkyOXH5u3nlelu64XtzO8c8qv0Zfc7+hH92P98AjUFEAh/Cq0MxQ6fEGES0hPdFLcVWhaxFtsWvxYuFo8V2xTFE6ASchECEIkOCw2TCzYKqAg1BwcG5QThA9IC9QFSAcUAcgAAAJv/hv93/0j/Iv8W/+z+1f6n/kf+6f1f/eL8PfxU+3/6fvlY+Df3/fWb9Dvz8vG08H3vQu427VLsnuse66nqfOqP6vDqh+s17C3tXe7b733xRfM19SD3X/md+8v9HwBKAoEEqwalCIoKKQyRDesOFBDjEHgR7hEwEjoS+RF9EfwQWhClD/QO6w3oDBwMGwsfCjYJWwiIB9sGZwaqBSAF8gSjBGMEJgQABM0DjQNoAw0DnwJAAs4BHgFEAHb/av45/QH8lvod+Z73FfaH9M3yIPGk7zHu8OzF66vq5ulJ6ejoxOjG6Cbp2unY6vTrNe3N7pzwovLS9BH3WPnW+33+5wBIA54F6Ac7Ci0M9g2TD78Q+BH4EnQT3RMmFCkU7xOPE/4SPhJ6EakQyQ/BDrgNygysC6YKtwmxCM0HCAdhBqYF4QRFBLkDNAOzAiUChwEZAZwA7v9M/33+yf0b/S/8RPtI+kT5H/gV9wP2wfTE85rylPG68KHv3+457sPtje027RLtJO157Qvule5C71TwnfHo8kD0nvVJ9yn5DPv8/L/+uADLApYEaAYYCJ0JOwvCDPwN/w7CD24QIhGEEaoRrBGXEW8RGBGbEMsPKg+oDtsNMQ1LDE4LkQrCCfwIJQhtB+cGYwbiBTsFpgQzBMIDZQPkAk0CzAE5AZcA3P///kD+eP2k/Mj7n/qC+YL4aPdJ9iH1+/Po8uzx8PDj7/HuLe6e7UDt9uyp7JTszuwe7abtT+4d70rwhfHH8ir0rfVf9yn5BPvh/Mb+pQBnAiUE3wWLBxkJiQr6CyQNBg7pDqwPLhCZEPgQHhEpERERsxBcEO4PbQ/8DmAO2Q1KDYcM3AsxC4wK8AlKCbIIDwhYB7UG/wUcBXwE4QMGAz4CWAFcAGD/XP5g/UP8Ifv2+c34qPdZ9gr15PP/8gfy6PAA8EXvne4B7ojtRe1A7VXtfu3m7Vju++7M767w3PEW82H0vvU19774Mfrx+579Kf/uAGoCxgNGBbMGDAgyCS4KIAsLDNAMUg2nDewNOA5tDmUOSw4aDsYNiQ04DaAMEgzdC4sL2wpXCroJEwm6CCoIjAfiBicGsAUcBVgEdwOZAvwBXQGFAHn/jP7L/eT88/v6+vX5G/lP+Hb3ifaG9dD0W/S88yDzlPI78h3y7PGz8YrxpvEJ8oPy/fJR89LzqvSd9Xv2R/dV+I75yvrp+9j8+f0g/zwAjAGBAlQDeASABVUG9gaJBzgI7giWCeQJ/gktCngKugqwCpsKmwqNCoYKXgr7CawJhgleCS0J1QheCPsHuweCB/sGdQYWBssFggXHBAsEfQPkAmECngHDAO7/GP9k/nL9Yfxz+4j6qPns+Pb30PYR9lr1k/T982Pz9/KQ8j/yMfLv8d/xNfJ78tHyTvPb8270F/X/9ez2wffP+Pn5+fok/F79Wf5r/6MAyQHTAssDugSgBXEGNQfYB1UI/AiDCcYJGgpWCoAKngqsCs4K0AqnCoUKhwptCjAK8AmoCYgJMwmzCHcIDgiHBygHlQbNBSoFmATeAwwDKgIfASEAWf9P/vr8xvvM+sX5nPiX9272TvWU9Mjz7vJG8tbxUfHu8AzxBfHN8P/wsfFA8oryTfNU9En1UPZG91z4vfkX+yP8Nv2b/s7/owDiAS4DzANfBGkFdAbYBh4HvQc+CLEI5gjzCDkJegmCCXcJtgniCbMJtgkBCugJlgnLCQ0K6wmKCVgJVwkbCe8IZwjDB5QHIQdUBpQFDQU/BBIDMgKFAXUANv9B/vH8nvvD+pv5VPg59yz23/Tl83Dzk/Kd8b7wbfBu8OfvrO/O7/PvGvBf8Bfx2PF18jrzUPRh9Vr2rPdB+Zz6nPux/EL+QQCrAUQCRwPLBDAGVAdcCA0JfgmLCq8LWgzxDEINYw3zDfgOOQ+mDjEPERBBD34OXw8JEDsPTg7DDTsNag1BDb8LUQprCRsI0QbsBscFaAHe/sf/5/5y+/74e/d/9dTzlPL18I7vf+447NLqAOzG6/XpCOry6iLq5+mh7Gvunu2E7UXvmfHc86/18/V79gP5fPs6/Tz/xgDtAPgBJQWbBxIIcQioCd0KGAxRDS4OxA7TDqUOGw+AEEQRjRDjD9cP7w99EDkR0xCCD8QOLg8LEEQQNQ+aDQENVg1MDU4Mzgr/CF0HJQa5BAQDeAA7/Sv6q/dt9XvyHu/D63boeOUp40nhQ98c3e/aCtqx2n/b1ttO3B7e7+Ac5HLnMes67wDzUfdZ/EsBXAVUCZ4NDhEfFBgXzBnOG4oc6Bx7HY8dGx0JHBUalhgcF0UVzRPSEWQPsQ3ODOgLLwsJCkMJsgn1CcAKKws0C/gLuwy1DV4O4g0gDf0MSgwCC60IpQVPA/H/L/wB+Drz8O526inmo+H/3PvY8NV30yjRg89fzozOss9b0drT89bG2iHfWuQM6vPv6fW9+8UBsQeiDcYSXReHG3IeRyHMIyslWyXcJOgjlSIMIaIeuBuPGG8V2BJZEFQNdAouCKgGJAYOBToEFwSJBA8GSge6CMQJ7woPDeIOJBCwENAQhRB4EKoPlQ3mCpkHowT1AET8OPcj8kDtfOit4zPepNkt1gDTT9C/zXnMccyozObNCdCw0ovWwdpG3+Xk1OrN8PP2If0yA0cJ3g4eFPYYjhwdIAsj+CSSJswmYSYDJrwkuyKLIJwduBrEF2kUfRFWDoYLIgnYBhcF5wMVA4kCxAJbA58EHAY1B8YI5woQDeEOTxCsEFERHRLgER4RlA6BC/YIrwWoAbP83fZK8T/sBOfG4UTc/dbv0q3PMM1Oy73JOMldyoLMQ8/B0q7Wbdte4a7nMu7Q9Pv6lAFUCJkOTBQIGUsdMyE/JHcm1SfZJ3YnryY5JTIj9x9xHEQZRhYnE6cPqgu1CMgG2wTFAykC4gB9AXcC1gNTBQEGlweQChANng8KESIRfRLbE1EUlBMbEdMNhQszCQYF/v/P+U/0f+836gXlJt832VbUjtEaz1TM2Mk+yPzISsvJzRzQZdOY16/df+SU6jTxhPeq/ksG/QwNE08YOR0KIuIlGyinKQAqJCr/KYAoYyZ6IrsehBteGOMUSRCdC/0G0gQOA0wA+P3N+9P7lv2r/q7/dQG6AhoG2wr8DXIQIBGbEvsVGhh2F8AUMBIfELENeAmKAy39Tvck8WrrgOXo3eDXM9LjzWXLpseLxBzD28I4xE3Hz8k+zQrSo9f93hHmYu0n9Tn9FAX9DGAUmBrHIMAlJSovLWYuUS9dLwcvLS7EK8snaSOjH8gcrBmeFBAPNApdB7EF9AIpAEb+8f0J/xYB0wKtBJ4GGAnSDT8SgRRvFZAWrhgqG70aERjKFAEROw5lCRQDUfwj9Z3uyecm4fXZ3tK4zDHI48Tkwei+ObxZvNK9+cA6xO3G6cuf0f3YhOBI6IzwfPjIAI4IwhDGFxoeoSNWKCosJi6bL+cvdDDkL2su5SuVJ08kSiGkHosafhWPEBkNsgugCAgG4gMFA70DwwR5BkEI1wklC0UP8hLHFaoWGxasGFgawBo1GCYU1BBHDQ4JSQO3/D71/O4u6LfhQNug09nNtsh4xZLCKb9+vHq7RL2Rv1fC5MSTyP7NfNS92zPjtetI8x77NANHC/wSYBlDH2IkKikTLBguUy9oMAYx6C/xLUcqDyeIJOkhSB5iGVAU9xB/Dh4L6QjmBUwErgTMBGIGage0B1IJ7wzLENoTNRTSEzkWIRn+GqMYkhRLEc4O4QySB8gA/fln863tFuji4KLZetOnzdrKccdJw3bAlb4qwNbCxsQcx0TKsc7p1PnbPOOA6t/wZPhYAKoHng5zE6gYfx7vIjEmlicyKJMp+ip7KgYoMCROIDMeHxyqGC4UYw9EDIEKlggoBkIEFgM4A84EGAYMCNEITQqSDsESZxZYFzUXLBnnHEkeYRxSGDMUIRN6EK4L7gSj/Jr1z+9H6iPjttsL1LLOc8tJx6bDbsD3vo6/scENxL/GHcoAznnUsNuK49zqIfGn+MgA/gjRD2oVqRoCINskTCggKocqhCuJLDcsdinPJCEhgR4IHJoY1ROJD5UMiQpdCBoGdgRJAyQDAQTKBf0H8Qj3Cb4NkRLHFWEXpBePGdMcHB0BGxIXBBOvEJAN+gdAANT34e+f6THkIt0j1WbOOcl+xbLCz76OvDW8P7y6vzDDVsU+yaLNLNTD3Njj0Ooi8gL5PAJUC7URmxcMHE4hTidiKjUsDS0SLhMw7y++LJ4oECWSIlcgpRxjGOITjRC/DqkM8wokCNIFzAXOBlIJ3gr6CakKCw/zE0MXXRdcFrgYcxvAG1YZcBTpD1UNCgrVA+r76vJY61/mPeEq21fUXM23yH7GVsT2wUC/Sr3AvtLCe8bIyPTKRs+C1m7eS+Uf6xzxNPhaAVEK3A89FMwYMB7UI5cmOydzKAoqQSs+K80n+yOpIVUfNx2tGTcVQxGwDjMN5wtcCsEHAQakBioJ6wsIDSQM0Q32EykZxxsYGzkaih10IOYffhzRFp8SehBdC6kD0/pd8TDrPeZP4A7aWNKcyy/ILsb5w1PBzr16vJG/tcP1xjbJ8MsG0pTaDuIt6FTu3vQN/oAHtg22EjoXixyYIkMmWCe/J2go0im+Ko0ozSQjIboejB2kGiEWDxGeDXYMUAtTCeIG6gQlBJUFTQiYCr8KbArbDcoT0xjAGSAYvhj4G58eRB2KGKoTKRHpDvcJRQLk+F7xbOwC6EPi5trD05/O88vEyVXHC8T7wGLBxsTCyDTLOc120YnY/uD550Lt3/KW+uUDTwxqEYQUZBkiHw8kryYuJsglVybQJpImHCSwH6AbLxm0F2cVxBATDJgJDQk3CQUIMAbwBIEFyQg1DKENeA2UDgcTfRgZG5oafxk2GsQcIR3cGaQUuw/0DPQJHgTU+2vzy+zT52viTdvu0+TNC8qyx9jFjcNzwW7BvsM6yInMk8+F083ZPOL06u3xXvf0/VgGXw+sFo8ahx3NIR4n0CocK18pzyeKJwUniyTNH0IayBUSE9kQ1gyMBzsDnQH0AegBlAAB/1D/QQKlBsAJbQozC/sOAhVKGfMZCRm9GTAcxR1FHMsXCxOdD9EMhgiaATD5qPEo7A/nB+GW2TDSA80kyjPIAsaUw9fB8sKcxvDKps650YTWxt175lvuc/Qx+iEBxwkcEv8XPxtiHqwiXCdsKtsp0ydZJg8mfCV/IkoduRcaFBwSIBDNCyEGewLrAfoCagJ8ABX/RgAnBA0IIQpkCukLExCOFbkYKhhJFygYPxqgGgUYShOuDn8LIAiUA3X8T/St7YnoyePC3ebWjNAszM7Jmshux3nFh8R3xkXLN9D505bXzdzc5KPtQvUJ+2AAfgejDwMX0Rs7Hucg7CRkKNUppSgnJq0kpSMRItsetBl8FA4RQg/tDM8IFQSGAZUBNgLWAX4A+P/IAYkFDgnHClILfA3pEdgVtRdyF/AWjhdQGKsXpBQvEN4LSQipBMz/P/k28jjscOcg4xXecdhc0xnQxs4szm3NZsyMzCfPuNNM2JDbC99k5FLrkvLH+HH9MAKICGYP6RQhGC0a7xxyIO4iNiP1IYMg0h82H34dfhqvFnYTfBHZD5ENTQpLBwUGHAYKBjAFQgQcBFsFdQcFCY4JpgnMCl8NZQ96D4sOCQ4vDgQOmwz9CY4GdgMEASj+j/rA9eTwc+1o6h7na+OT35vc+Nou2p/Z3tgq2AbZd9te3gPhXONA5l/qbe8R9Nn3Gfvr/rsDMwiqC70Nnw9iEgIVxxYuF3IWERaVFpgWkBWqE5YRkxAOEEwP7w0MDLQKngoAC/cKhQrDCQQKZguVDEsNYw15DbcOehBbEUARWxDfDysQ7Q+5DlsMqwmuB9wFlQNqAEP8pPgp9mvzRvCI7NboV+Zn5LTi7uD63pPdit1A3u7eit804MrhGOTN5n7pxusI7unwtfQq+AT7U/3N/x8DRwa9CDYKjQs6DSYP9BCvEbgR3BHNEucTaBQYFJ8TFBS4FDoVbxUbFdAUMBUdFrYWlhYNFiwW6hZuFzgXIxbkFBgUlBNvEjMQJw15CnQIHAYaAyz/MPvd9wz1A/L27dHpTOaj42Lh1d5J3A3a2NjM2O7YFNmI2V7aN9zN3mHh6+Nd5lnpSO1H8d/0L/hG+wD/KAObBk4Jagu5DWIQuBJEFPsUoxWMFr8XkRizGF4YGhinGPoY1hhxGMQXmxfsFx0Y3RdZF7YWrBYUF9oW7hVvFFgTrBJgEYIP6AzvCW0HAwUdApP+e/q79pbzUvCI7HvovOSs4UPfw9xV2lDY19aG1r7WJtfS19/Yz9pw3VbgOuNW5sXpv+0c8ij2Hfre/asBvQVbCYYMBw8ZEWITbhXxFtgXMhiNGCoZbhkPGZQY6hddF/sWTRa4Fe4UFRTSE5cTOxPrEp8ScRJkElwSLRKJEdgQWRBLDxkOqAydCssIwgZnBOoB2f6x+9b42/V38v/uq+uQ6Kvl3eJT4B3eXdwY20Da3tnH2SPaItt23BDeHuCC4jzlN+hf6+ruhvL79YT5Dv2CAOgDAQfQCYYM4Q4XEfYSbhT0FfcWuhd/GPIYNRklGTYZKRm7GIkYLRiYF0MX9RaTFlgW5RVcFS4VtRQNFFsTPBIfEfMPVw6GDIkKKwi+BUgDWwA2/QL6wPZn8+rvk+xc6QrmA+OO4DLeH9yB2kLZxdiG2HfYKdlZ2uDb6t1l4Pni8OVT6eTswvBy9Bn4+PvO/4oD9wYzCicNvQ8qEmoUNRaEF70YuhlfGs4a8BrkGqEaLxq7GToZaBiaFxQXXRbAFS8VchTxE3sT6hJCEncRsBDND6AOZQ33CzsKVggkBtkDQQFT/m37XfgW9bbxYu4j6wfoCOUw4o3fQd122wHaGNmD2EPYrtiW2QjbtNzo3njhPOSg5xLr3e678nf2jfqF/ksC0gUaCToMGw+cEc4TuBUYF2EYaBnrGTsaSRoaGrQZSRmbGMkXGBdPFokVvhQoFKkTFhOnEkIS/BG7EVYR4BBfEMAPBQ8WDtkMcAujCbsHtgUEA0YAdP1D+hT3svMr8MTsbuky5jbjjOAN3gHcatov2ZPYTdiR2GHZftpC3GPe7uDX4+zmeeoy7vfxyfWX+YP9UwHIBA8ILAvhDVsQnxJxFO8VJRf2F44YARkOGd0Ymhg7GLYXFBeNFgMWZRXaFHwUIhThE6kTXhNRExQTzhKlEgMSTRF8EGoPGw53DLUKjQgFBmkDkQBe/QT6n/YH823v/Oul6FblSOKn30TdT9vQ2bPYDdj113bYWNnH2o3cut6U4YHkwudp6x7vAPPd9s/6tv5mAgwGYgleDDkPxxHxE8YVKxdVGEQZyxkRGhAa0hl8GQEZRhi6FxsXIhaXFQcVYxQEFIcTBhOkEl8S3xFzEf4QJhBtD1UOMg3tC/8JJAgHBpkD/wAh/ib74PeX9ETx5+2v6nnneOS64ULfEt1V2xraHNmn2MXYN9lT2vLb0d1D4CPjNeak6WHtLPEW9SH5Cv3dAKEEHAhxC3kOEhGNE6UVPReVGKgZXhq/Gv4a2RqKGisafxkCGVYYnBf9FkQWzxVJFdMUXhTxE5sTBhOoEh4SWhGMEHkPOg6pDP4KBwm3Bj8EgAGc/mr7KfjQ9Erx7e2O6kPnL+Rh4creetyt2i/ZIdiB11/X1tec2PTZt9vn3YvgT+O45kzq0e3G8cv1wfm1/aYBbQUDCWQMXA8wEr4U2RaeGBIaLxv8G3YcrRy4HF8cBRyhG+MaMhp7GcEYGxhhF5kWDRaFFccUURTOExwTbhKOEYkQcQ8zDoEMsQq+CGsG/AMdARH+7vqL9xn0k/AQ7ZPpMOYC4xDgZt0O2xfZo9e01izWT9bM1sTXjNmQ2w3eGeFq5BfoDuwf8DX0kfje/P0AIwXcCEwMpA+QEiUVSBfYGDMaMRu5GxEcFRzMG1MbnxrnGScZUhh7F58W2hUuFZgUERSEEyUTxhJkEgoSlhEdEWEQlw+MDiENvwvvCdQHkAX1AiwAKv3q+Zj2QfO7723sRukJ5iDjheA83kTc0trE2QfZ6Ngo2RHaXdvq3BffkuFx5JPn5+p97kDyAfax+YP9GAGMBM0HvQqFDdQP7BGuEw0VOhb+FokX0xflF9oXkhc1F8MWLhatFTIVmhQGFKATUxP3ErASbBIzEg4SwxF6EQ0RZhCdD6UOfQ0QDGwKaQgyBtEDKgFe/kX7GPjt9KjxVu4S6/LnCOV/4hfgB9573ELbpNpu2rnak9vI3JTe1uB943vmzulX7d/wzPS5+H78QgCxAxYHPQrpDDYPMRHtEhoU7hRtFZYVkxUtFa4UGRRDE2kSpBHzEE4Qxw9lDyEP+Q4qD3sP2g9vEM8QeRFEErMSKxMoE+4SsxLyEc8QRA9bDeUKMAhUBd0BMf4r+gn2DfLp7d3p1eUb4sze9du92anXHNaI1Z/VStaS11vZwdvj3nLiY+aj6hHvg/Mk+AD9cAGkBYAJ4gwyEPcSGhWjFqUXahiyGJIY8RfaFsIVgRQyE9QRSxDkDqoNzwwgDK8LaQsfC5sLMQzsDPYNkA6mD8wQpxGCEtISxhKMEjESJhGOD5sNBwtTCCcFqQHy/Yf5GvXy8N3s1eik5J/gb93d2sLYH9e21SfVuNXo1prY4tqG3dXgAOVq6QfusPJC9xn8JgHmBf4JnQ3qEPkToBZ+GJ0ZMRpRGisathmaGAQXSBWJE98RGBA+DnUM0QqqCfUIbwgTCLQHCwjxCM8JHwvwC+kMhQ7GDycRvRGmEdUR3RE7Ed0PBw4/C5MI6AVDAlr+vPkm9QHxsex16BTk+9+C3OHZ+tfq1XTUHdRq1M7Vwdfd2Zjc/99h5Cbp0e1d8hX3V/x9AUwGZwoEDooRuBR/F2QZhBrwGhobWhvBGpgZ9hfyFWMUtBLfEPEOwgwnCyoKVAmtCC4IyAcACOkIEAoEC60LswxIDtgPyxBAEVMRdBF/EcQQiA9ADZ8KPQhtBQUCxv1e+f30+vAP7Z3oVORF4Cbd09qF2G/WBNWP1PrUTdbV16PZPNyf3wPkcejB7Efx4/U1+2oA+AQwCfAMmRADFPYW/RgaGvoadBvGG2AbDxqJGMkWMhV0E2MRJQ/sDFUL4gm4CNsHxQYkBkwG8Qa1B1UI5AjiCXwLHg01DrgOEQ91DwIQ3Q+pDvwM7woSCcwGfwOj/3/7fves88LvUOvK5sTikd8F3WHaHNhp1oXVx9XR1h7Ykdn62zrfWuPO5/brcfAa9Wj6wP+PBNsIhQyAEBoUHRdfGXYaOxu/GxAcrxuIGqYYmRYxFWMTdREuD54M7Aq7CeMIxQeyBisGQgYqB+AHnAhwCSoKrQt/DZkOQA+SD9EPXRBrEG4PmQ3MC6YJYAeiBKEAw/xR+HL0rPAd7A/ohuM84EXdqNrj2LbW1dWq1bPWGtip2f3bwd7p4hDneeue7xr0QPkB/goD8gbfCpEOzxEEFQcXnhhkGQgaFxr4GWIZmRc7FmkUChNwEXQPnQ3HC/oKCAqZCdAILAiZCFUJTQrfCu0LkQwMDpoPfhCbEXERxBHoEb0RxhDVDu4MRArsB9MEDQGo/FT4QPTr7/rrGOcG4zTfKdzn2SvXkNUT1BvUmtS21bjXWdmG3P3ffuTO6LvstvFP9pL7TgCgBLcIWgxVEG4T4BW7F/gYDxqRGlMaFRoIGZ8XmBbOFG8TvhHgD3UOBQ0qDB0LjgroCbIJHgoSCrYKYQsLDMsMtg2wDncPDBDjD+MPqg/uDrIN7wuwCUcH7wSQATP+b/pp9rnypO4V6xTnZONk4KTdyNvQ2ZDY5tf119zYDdos3FPeQeGn5Ezoo+yJ8NH0/Pig/TgCHwZMCm4NzRCGE6oVohd4GD0Z4BjoGFMYXhckFt8TvRKvEFUPnA3KC6AK3AimCMkHpAcFB8kGvQd+CFYKfwrYCygNzA7mEO0QjBEbEU4RsRA+D5QNYwrmB30EYwGG/b/4RvS17wHsyufi4+DfX9wY2kbY+tZ81RXVr9UL1x3Zetsn3g/hF+Vy6Sruv/LD9s/7wgDCBXsKGA61EeEU9xc3GlcbwhuEG7gbPxtGGosYORaTFI4SDBE9DwINJwt/Cf8IXAjqBxUHmAaOB8IIlAokCzwMAA4aEIcSHxPFE1ITjhMfE3wRww/dC2IJtwUPAg7+Sfh589fttum65O/fb9vE1qvUEtK70EfPQs4Hz0jQ89JS1SzYbtuw39zkzukI793zQPkZ/wAFpwpLD5QTkRdaG2Ye/R+LIFggmyB8IIUftR3XGvYY3RbQFGwSkA9BDdcKlwkBCAYH1AW1BEsF/gW5B34IYAnsClUNJRCIEY8SoBKCE5ET7BK7ERIPtAyZCaUGkAIE/tn4UfPY7qPp2+Rk34naLtc51PTRmc8qzsfNk85O0EHShtRr1zHb99/p5B7qW+9H9Kb6swCaBv0LRhD7FO0YwBwEH0Ig4SD6IJQhvSCtH7odYRuVGWoXQBWrEucPTw1pC4MJ5QdhBhIF6QSPBYEG8wbvB+wIEwuuDSMPshAsEfARgBKiEtwRwQ+fDa0KgAhVBUsB3/ze98fzCu956i/lhODl3J/ZkNfQ1C7TCdIb0nnTVdQE1m7Xdtp53rjim+d162DwnfVM+xcBmgV7Co8O9BLjFlcZXBvsGx4dhB0aHUQcPBrrGNsW9hS1EnoQMA5oC6gJfgdSBusEEAT+A7QEIgayBkQISQkMDFUOLBBOEicTJxU5FfIVOBXyE2oSOw88DRkJRga6AQ79Kfnx89HvAuoA5q/hr97k26PYlteb1QTWuNUA1hbXWtgR2zLd/+AT5D7or+zk8Ej2ivqg/30ELQnDDZsRBxXRF3caGRwAHYwdMB2PHEgbTBm0F2AVABNWEF4N7gpoCAsGsAN5Ak0BJgFcAWYB2QIOBFwGmQj9CgANoQ+8EoQUIhdnFyQYUhgtFwgWyBLAD38LUQiYA0j+Xfmb8g7uP+hB45XeGNro1qnTJNLlz8PPp88H0OLRI9N71rbZyN374czm8OsI8TX3XfyUAv0HCA0FEi0WERr7HMsfIyFyIlUisyEMIcwe5BwUGsQX3hQGEtIOUAtLCf8FYASqAnoBaAHzAEMC6AITBf8GeQl9DCUO0xEAFPIWDhmhGaAawxl1GcIW7BNQEKoLAwjCAYf8Iva579bpCuP13d/Xm9OWz1fMhcpGyKzIrMgcykvMlc7o0u3WYdw+4fbmiu1h83b6cwBPB0INThLFF8cbCCB4IgsltCYGJyUnjiWzJCsikx+qHDgZOhZfEn8PZAtlCHMF0QJ/AbP/ff/Y/qv/YAAUAo0EbwYGCtILFQ8+EpsVRxjqGAYaThnVGaQXmRQiES0MlQjKApb9xfZK8PDpS+Ms3ovXMdOzznDLfcnGx/THGcimyVPLsc7c0kDXtdz24QnoKe7R9Jr7IAIpCAcOLhOjF+8brx4FIbUi3iOzI+cijCE9H2sdFhp6F6YUaBF4DvwKXQhpBeMD5AHdAJ8A4f/8AKcBmgMOBT0HBQryDCwQ3xGKFd4X9hkGG/UaoRrDGGEXqBM5EHQLmAYJAsv7JfZd77rpkONQ3m3ZRdRD0XPOOc3Sy2DLIcyszYHQVtOJ187b3eA35kTrDfHP9sr8MwIvB4ALtw/vE/oWZxmaGpIbWBxPHEgbjhnpF8IVKhSpEfgOSwx4Ca4HkwXeA9kBCgFCAPv/hwCpAIoCxQOjBV0HuwnMDKEPrBLCE1EWIxjnGdMawhkLGQoXwRXDEh4PHgqZBIYAw/qz9VnvTukL5APfWdsu11LUbdEX0KDPjs9T0eTSkNVw2Cfcy+D95VPr6O/Z9Lz5aP/aBEEJyQz+D1ITpRaFGZ0a0hqnGsEakBpnGS4XbBQiEucPuw09C4IICQYYBFQCNwF+APf/ff+K/2gAgwGxA1AFeweECe0LVQ9fEkkVZhb1FzcZ+RqmGycaMBgGFasSSA/tCpEEI/4++Dfyluyp5YbfWtnp1PDQk80IyxDJK8koyQ3LQc3o0F/Vk9n/3mjkQOvQ8Rf4mP3LAiMJBA9gFBsYmxqkHYAg0yJ4I0siGyHgH/0epBw9GYQV3hFmDxQMMwnIBeICMgE0/xf+W/3A/ff9sv71/6MBxwSRByUKXAwTD8ESmRYWGVIaQBtkHOkdxx3lG4EYChV3EX8NNQjlAAr6GvO/7CzmD99x2KzST85uykfH68RVxNXEFcY+yLLLkdDa1Xnb0eCv5/LuOfbd/MsBkAdUDTgTpBcwGgoc7B2QIHAhAyFPH2sdVBzRGhQYjxRpEXQOfgy6CVMHKQWBA7YCfQGDASgBnAKTA4EEOwa3B+cKNg2zD/sQShMgFvoYFBtaG+4bDxxAHe8bExpCFkMStA5eCSwENfzk9bLuROi34bPardX9z3PM1sgCx8zFBcZ7xzTJvMzr0NLWENz/4ZbnDO4R9U77XgHfBR0L1A+UFE8YnxqUHN0dMh+HH/YePh0LG5QYCBYPE5sPGwxwCKAF8QL3ACH/uf1Z/f38s/20/kwA6QGjA/wFKwjaCmsN7g9FEscUYhcpGr0crx4qIBEhwiFaIS8gSh04GUQUUA7MBwoA6fdj74Pn5N/b2EzSh8w5yArFdMOpwnnDZMXsyG7NgdKI2NDeu+US7FHyTPgf/ncDKghCDIkPvhJiFbgXFxnwGWsalRo4GtgY+haBFEwS0w/uDNUJAgezBOACQwHL/0n/RP9FAE0BpAJCBHYGJgkJCzgNnA66EKASbRQqFlgXgxmJG1IevR8/IUwisSK+InQgbx06GLISmAuCA8z6QfHx6CDggNhU0XHLIMe3w+PB7MCtwb3DzcbFykjP2dT42j7h0ed67WLzCflV/gMDSQa3CVcMRw8nEZYS8BOJFMoVxxXUFfEU8xPDEs0QTw/PDDUL/ggmB8AFcQRHBLEDVwTBBCEGvAc/CRgLHQwFDkQPwhBuESwSCRMvFNsV+BY0Gd4apR2EHx8hGiLPIRAh+h1JGvkTiw20BRH9XvT56gjj4dqC1DPO7snOxtHE4cTuxPbGGMkkzXnRDNZn2z/gEuYc637wLPVJ+Uz9kADRA1AG8wgfCx8NHA+zECoSCBO9E9ATchO1Ep4REBAJDkcMdQrPCEkHCAaJBVkFpwV7BoMHEAm2Co8M0Q01D5cQYxFNEiYSyhIaExUUQBX4Fb4XSBm4G6sctB2MHb0cCxs+FwQTcgxOBp/+W/dO71jn6OBM2sHVh9CnzWvL3speywDMYc7Y0GbVrdnE3nTjkOir7T7y6fbb+Uv9jf8JAuYDcQUVB0wIXAq9C2INSg6HD4AQwxDZEEYQBhACDxEOvQysC7kKoQkgCSYI7wfVBz0IwggtCSwKOAtxDCsNPA6TDg0PSg9GD64Pag9iEAIRgBIrFLsV+hcDGXEaQRpnGW8X0RO0D5MJQgPt+1/0K+225TPfCdkp1CDQL82Ay7PKaMvAzHbP19Lh1qvbpuD85d/q5O+G9Ln4U/yO/04CaASRBisI0gk0C78MYw7MDxYRKBJeE+UTYBRTFO4TYBNzEqoRYRBPDwsOBg0hDCsL6wpZCmcKcQrkCoMLkgtGDEEMXgwaDKALdAsNCzkLiwvWDHUOwRB8EycWjxgiGjYbuBrzGBgVQRATCoECwfoY8gXqweGy2pfUNs97y3vIdsdnx6bI1cr2zQbSdNbD287gHeYw6yjwl/RO+Nv75/6GAW0DpQWyB74JtQvKDf4P0xHKEycVgRYwF6wXfhf3FnkWFBUPFFIS1xBLD8ANagz2CisKfwlwCTcJyAkhCrwKZAuKCwwM0gsvDNwLQgzCDJUNag8JEboTHxbnGM4aGhw5HE4b4BhtFFwPTAg1AZr4RfAV6AngeNkn09nOE8snyQzIf8heyrDMVNAm1ALZ2d0N48LnluwN8e70kfgn+xj+JwA3AhUE3QX4B+kJSgymDg8RThM6FesWFxi1GN4YORhDF78VNBRDEvYP/Q3FCysKWwjzBvsFPQUABZkEqwTzBDEFYAWiBbYFCQZWBvEGygeeCJMKdQzhDl4R6ROtFicYgBmJGboYrBbfEn8OxwioArj74/S+7Q/nWeEB3BDYRdQ60vnQ+dAD0qrTbtZp2aPdr+F15s/qG+9D87/2G/qS/Pf+nQC5AigECgYGCPoJ1QzVDkMRSRMnFawWhBfDF5QX7BavFVIUWhJPEMsNWQsuCfMGxQTbAnUBlwD8/8r/5/98AJYBcwKwA7UEyAXWBtgH2wj/CWEL/QwID/UQvBPtFd0XeBkwGvIZRRhyFS8RJgyZBb3+MPfb79fo8uGR3J3XG9R+0VjQOdA90YXThdZ32pTemuN36Hnt+vE39h/6CP20/3oBOQODBKYFxAYFCG0J9Qq1DAQO5w9gEbsSwBNHFM0UlhQ3FCUT5hH/D+sNugsGCakGFgRcArAAlP84//3+hv9eALIB1wIKBPYEzAVsBuUGYQe5B6UIugnHC+4NrBDhE7YWsxmLG68ckhz6GvcXdxPQDfoGm/+z9+jvS+hZ4WvbZdaS0r/Pd85szrjPINJe1arZit4I5EjpQ+7Y8t/2f/pC/Vb/AwF5ArADLQW7Bk4I4QmKC18NMw8DEXYS3RP+FNcVKRY4Fp8VmhQtEw0Rlg6xCzkJfwZBBBACsgDa/zH/tf8AABcB5AEHAxAEAAWwBeQFlQbfBgUI1AhDChsMaw5RESQU+Bb3GKca3BpoGvgXMhSID1gJswI++7LzQOxx5erendn/1JzRks94zhzPmNB00/rWiNtX4GPlherm7kjzI/dz+lP9q/+mAc4DkQWHB1EJAgvmDFoOEBCZEQoTRxSOFXMWJRd/FzsXxRbSFYwUoRJzEP8N4guqCW8HggWlA2ACVQG2AEcAFQDm/xkARACVAM0A0wCNARQCQwODBEoGmggeC1cOVBEmFD4WvxcqGI4XcxX7EcQNegiaAvL7RfWP7jfojOKR3T7Z19Xp0+3SNNNm1NTWCNr53WXi2eao6xDwjfR7+ET8oP9SAvsEJgc3CbEKSAxZDS8OEg+sD50Q5BBZEaQR4REBErQRUhF8EJYPPg7VDP0KHQlWB4sF8gNsAj8BJgCu/1v/aP9h/3D/3v8SAJEAxQA6Ab0BdAJxA5kEXQZHCIoKvQw8D3YRVxPHFCIV/BTJE+oR7g4QC6gGUQHa+wT2N/CW6nzl+OAp3WTaiNjW1wnYi9m228beoeLi5qDrQvAB9V75g/0QAUcE2waqCAsKuQpuC48LkwteC0kLZAtVC4kLnwsLDG4Mzgz1DNwMqQwwDFcLRgoNCXgH+AVaBO4CbQEdABr/J/6d/S/98/yl/OT8VP3L/ZX+aP+mAAACwQO4BeEHMQqeDDsPiBHaE3YVqxZKF9wW3RW7E+QQEg2kCLoDMP6N+LjyD+255yLj7d6x22fZAdjy15zYj9pC3efgIOWE6UTuDvPJ9/r7FQB+A3MG5gicChYMAQ3YDTcOZg6fDrIO1A7cDs0Oiw5hDvANWw2tDKMLggodCdcHdgb+BJwDPQINARoAd/+5/kv+Lv5D/mT+rf4n/2T/DADOAJ0BYwJCA48EDQadByEJBwvQDIcOChBeEUISShL8EeoQOA+3DJEJ6AWWAQn9P/hF80nutumR5RLiNt/53KfbSdvp20TdUt8r4oDlDun/7AzxA/XW+If8EQD8AqEFBAgRCscLEA08DhMPug8hEFQQeRBbEBQQqA8XD1wOhg2eDLYLqQqsCasImgfRBuQF+gQiBHIDyAIPAmwBxQBgANL/av///oH+RP7u/dP90f0d/ov+Gf8WADMBiAL7A6kFVAfUCCsKVAshDEsMHAx/C0gKZQgpBmcDOwAB/YT5KPbM8r/vJO3i6hjpy+dQ5yHncec86HHpPusJ7RbvUfGN89z1K/iU+ub8C/8yAV8DZQVNBwUJrApBDIoNmg6FDzQQjBCnEF4Q4w8pDxwOAA2FC/oJhgj9Bn4FGQTyAtQBxQD9/3b/9/6C/lf+LP4D/hf+Pv6U/vP+Uf8KAMQAnQG+As8DHAWbBgAISQmFCpQLUgzCDNAMbwyFCysKZQgxBqMD2AD4/ef65fcb9Vjy0u+x7dbrXupL6YDoMegl6Fbo+ujo6QDrPOzL7Yrvd/Gi8+j1UfjX+mz9/v+oAkwFugfoCfYL3A1ND2kQPxHAEdcRlBEhEVsQWg8pDtoMlAtJCvUIlAc6BhMFCQT6AvIBBQFNAJv/8f6B/if+2v3d/Rr+WP7Y/pv/ngDvAVwD/QSYBkUI8wlVC6EMig0MDjYOww3+DMkL8gnZB2cFnAK8/5n8S/kn9hrzGvBh7c7ql+jp5lXlMOSL4zrjW+Pi4+PkNub45wzqYOw57zTyVfW0+Bj8n/8kA1kGaAlNDMwO9RCmEtwT0BQ8FToVHBVwFJETrBJfESsQ0A5lDRAMkgplCR4IxQaZBWYEWQNFAjUBQQB1/6j++/23/Xb9fP3O/Vj+UP89AJEBKQN/BCgGtgcECTEKBQujC7ULdgvjCr8JSAh7Bm0E6QE6/5P8rPm89tbzCvFk7vXr1un352TmQeV25O/j7uNc5CLlVuba59HpOuzF7pHxs/T39037mv78ASUFBQj+Co8NrA+hES8TYhRKFbcV3xXBFV4VvxS9E8ESlREgELcOQQ2vCwQKdgjaBl4F/wONAk8BGgAx/1/+s/2J/Ur9Vv3U/VX+Kv8lADYBdQKKA6MEugWTBisHhQe1B48HFgdIBkEF8gMwAlcAPv7w+5z5HPew9D/ywO+x7c3r7Ol96FLnd+by5dvlOubL5tTnO+n96gLtR+/58bP0qveq+qX90QDEA5YGXAnaC/8NAxDCEQgTKhQEFW8VkRWKFWQVvRTaE/YSyxGjEFEPyA1BDLIKEAlDB8oFVATFAoABLgAm/13+0v2L/V39ov0O/qj+iv9wAJkBzgLQA90E0AWTBiYHWgddBwgHTwZjBQ8EZgKcAI7+Pfzs+X/3CvW98l7wJe437Ffqu+hn51LmnOUf5TPlk+Um5nTn8ejI6h7tlu9q8on1u/jZ+y7/dQJ+BXMIFQuaDcYPnhEzE0UURBXqFRoWMRYLFqgVGRVYFGoTfBJyES8Q5Q6ADQUMaArICEwHngUUBK4CPQEVAAv/Vf7t/aP9t/0R/rf+l/+GAKoB5wL+Aw8F9gV8Bs8GzQZpBqgFdQTiAgUB5v5+/P/5ave39Anybu8F7bPqfeim5ifl8eMW44vieeLc4n7jreRg5kXojupC7SnwX/PZ9kX6z/1gAcQEIgg3CwUOnhDYErMUGxZEFxkYZRh3GFIYzBcNFzwWPhUgFMoSRxHtD2wOzgxDC5MJ2gc6BqQECgOYAS4A3/7s/R79ivxI/F38lPwM/Qf+AP8VAEoBfAKmA3wESAXHBf8F6AVGBYMETgPJARIAE/75+5j5Pfff9HXyKvD57e3rA+p66Bvn9+U75cfk3eQz5c/lA+eQ6GLqgewf7ynyJPVV+Nz7MP+SAgQGEAnqC4cO6BDaElcUmhVRFsIW5RaRFhUWWxWCFGcTQRIoEcMPgg5DDdwLkwo4Ce4HswZOBSAEJwPvAeUAOACI/y//A//q/l3/2/+HAJMBUwJFA0sE9ASmBfkFEAbsBSEFPQTsAh8BTf8L/Yz6HfiF9dHyTvDY7Yrrt+nS50TmXeV85AvkKuSZ5EHlVub057Hp1OtU7vfw7fMX90/6kP0TAWgEjwfMCnoNExCOElsU6RUhF9UXIBgWGMQXDBcDFs8UShOxETYQaA6oDAsLVAnYB2kGCgXOA58CegGCAMv/5v4x/t39of19/Yr98P1e/hL/+v/VAAQCCwPqA8oEdgXXBfAF4gVHBVAEPwPDAeP/xf2K+yX5oPYT9KzxZe8b7R7riekn6AbnbuYG5t/lWeYA5xroh+kE6xPtaO/c8ZP0j/e3+uT9JQFcBH4HgQoiDYoPyBFUE4YUnBXxFeAVjRXUFNwTdxLzEHwP3g0xDKsKJwmnB28GOQUbBBoDTAKuAdwAdAAzALT/lP+J/4L/0P8vALUAdQE0AjIDMQT7BAQG3wZwB+0HEgjuB2UHhwZkBdED/gHY/1396fox+Ff15PJL8MDtmOt96efnqeaf5Rrl8eQz5evlBueB6GTqfuzk7q7xePSj9/j6FP53AbQErgfICmQNhw+jETITOBQKFVQVGhWhFNkToBI1Eb4PCA4yDIQK3AghB8QFeQQaAz4CbQGsAEgA3/+V/6T/xv/B/yoAxQAEAckBxQJ1A4gEswWjBqEHkghoCQIKUApuCjYKswnXCIkH7wUNBOYBbv/I/PL5Jvdi9Fzxzu5i7NvpAuhY5trkBeSg44LjzOOo5PnlpOer6Rvsw+7Z8T/1d/gM/Lb/DgNwBqsJlAwODzkR8BIwFBMVUhVNFegU3xO5EmYRtQ8BDlgMoAr2CIIHQwbjBM4DLANIAp8BRgHoAMMAmwCHAKcA7AAhAXcBKQLAApUDkwRgBYIGuQeXCEkJ/wlzCnEKOgqrCaUIWAeqBaMDbgHc/hH8UvmD9rDz0PAe7tDrjelw59XlmuSS4wfjAeNF4w3kauUL5+7obOtI7kLxjPQJ+K/7Kv+UAhkGGQnqC2wOSRDwEfMSjxPKE1gT2BLsEaUQcg8ADpoMTQv4Ce8ICQgcB6EGSQbMBa0FgwVkBYwFbAVDBTwFSQU1BRsFXwV2BaYFNgaeBiAH2gd0CAsJrQkACjgKUwrdCR8JOQjEBsIEpwI5AC39IPoc97/zZvBc7T7qSefs5JTinOBd31vezt3l3Z7eqN8f4TrjnuV46K3rF+/G8p32nfqL/mcCKwaiCdUMqg8DEvITXxUiFpkWkBbaFQoVwBMbEoIQrw71DEYLpwlkCDUHOQabBSMFwQSwBM8E6AQnBWcFtwURBkEGmwYCB2QHzgc8CPIInAk7CgQLrgs1DJUM5AzfDF4MqguJCgYJGAedBPEB8P54+/73hvTD8D7t/unE5iPkv+HX36Teid043ZfdM95a3wHhK+OL5UvoYut07uLxYvXV+Hr86P8RAzUGJQmWC8kNuw/9EO0RiRKDEj0ShhFuEE0Pww01DMwKLwnBB5cGowXEBCwE9wPNA/EDJgR7BAwFfwUGBlwG2gZrB6MHKgiVCOcIewkCCpoKGwu3C0wMhgz1DEEN7QybDBIMxgpPCXsHBgVuAkn/wvtV+Lb0BfFU7dXpu+bd42PhdN8Q3jXd49w43QveXd9Z4YLjEOZG6Wjsve+B8y733vqm/kAClQXlCNMLOA54EC8ScBNYFMwU0hQzFIITgBL6EKkPFw6CDDMLtQmJCIoHmwYVBoAFDwX3BOIE2QTFBOME8gTfBBYFEwU+Ba8F4wV0Bh0H4AcACfYJ/AodDOwMdg3ZDbkNIA00DIsKTQiWBVcCj/5u+ln2xPFT7Xvpb+UD4krfzdxI24raMdq12hjc1N0e4CfjWebA6a7tqPF79Yj5fP0gAboECQgAC5kN0w+/ERwTChSZFKcUUhS9E9ASlBFPEOAOZg0HDLYKoAmvCPEHdAczBxgHCQdLB3cHnQf1Bw4ITAiHCJMIyQjzCC4JeQnjCZUKZws+DDwNdA5yD1gQHBFwEX0R2BCuD+gNRwsgCDwE5v/7+sT1lvAP6xTmSuHS3EzZK9Yr1PLSjNI/02PUmNZL2ZDceeBq5Azpke0a8sX2A/tk/00DGQedCmoNSBBkEhsUnhVZFuEW+haoFvIV+xTeE1cS/xCIDwwO5QyUC6MKDQp4CRYJEwkhCSwJjgnCCfAJPwpPCl4KWgo9ChoKEgobCgsKIApOCokKCAt9C+ELUgyfDJ4MPQyNCzgKnAhPBigD9f/e+173z/LR7Q7paeTp3+zboNj01RTUJtP60tnTk9XJ1wHbvd634mPn8euZ8Gb19Plm/ngCTwagCZ4MWg9nESQTgRRrFREWPRbzFXAVuRSrE3ISOhG1D0sOBg2vC5AKhwnJCEEI7Ae5B5MHtgfUB/gHIQhDCHgIdQhyCH8IaAhYCBwINQhbCFYI0ggZCY4JPgqrChALZguZCz8LqwqSCdQHvAW6Akn/lvsn93fyxO0i6Z7kVOC03IvZZNcQ1mrV/dVT15fZb9wQ4EPkkOiD7UryFffm+zMAbwQBCDQLLQ5GEDoSjRNTFAAV8RTFFCoUNxNGEgIRsg9IDt4MdAsACqgIdgeABqsF+QSVBBwECAQVBNYDJgQ4BGYEwATABBQFUQWOBeAFOwbPBmIHGAgeCdgJyQrgC4wMRg2YDcgNbw2dDFQLHwm5BowD3f/s+273t/IW7nnpEOUG4Wbdp9qA2CjXptYR1znYH9rZ3NjftuPK5xLssPAB9YH52/2/AYYF8wj3C70O3xDNEjwUMRX3FQAWARaXFcsU3BN+EiYRgw/RDTAMiAoZCawHfAaMBawEJQSwA3IDdgOSA9oD5gMpBGQEeQTHBNsELgVrBYsFHAZzBhQHuQdACHAJOwr7CrsLEgx4DBoMWgs6CloIHgYUA5D/qvtP99fyJ+7A6YLlo+GJ3qvbCNr82I7Yitmg2vHc3t/f4tjmnerh7hzz/PYc+53+MwJYBdEHaApHDOwNKw8LEPoQIxFdETgRuhCHEKwP2g77De4MEAz0CgMKJwlUCMEHEwe7BnYGJgZIBiAGHwY8Bh0GPgYWBvkF+gXEBdUFuwWoBRYGUAbmBnkHIghUCf4JBQvMC14M6gx4DCIM/wo5CSsHGwTjAA79y/h09Lnvfus55zfjAeAH3Tzb3tl42Qra29oR3WvfcOIR5qzp0+298bP1mvk4/acAuANyBvoIEwvSDFAOcQ9jEPcQYhGNEYARPxGyEAkQKA8sDhEN3gu6CokJUQhRBzYGWQWpBAQEyQNxA2cDUgNSA58DsgP+Ax8EggTuBBwFoAX+Bb4GYQfdB+8IiwlfCgcLWQv4C8YLlQvLCnkJGwiyBTgDJADB/EH5HvV+8b7tPeoc5xTkKOJ44IDfQN9e35zg/uEl5JXmP+mY7IvvAvMt9kj5m/wt/wACZwSPBpIIBgqpC6YMlA1fDpIOAw/XDqEORQ6CDfMM7AsLC/oJ1wgCCO0GIAZaBYgEAASZA1oDFwPnAukC3ALwAgkDEwNLA3wDtgMdBJMEEAW3BWoGRQcRCPEI6AmRCk8LtAvOC6cLDgsOCocIwwZcBJYBov5T++D3V/Tg8JztmOry57Pl9ePS4hriI+Kj4pjjMuUR52rp9+us7ozxg/R491L6I/3X/0cCigS6BnUIMAqfC7AMtw1ODsYO7A7bDrQOKQ6UDdgM7wszCxEKDwlPCFYHwAb7BZoFWgX4BCEF1wTuBBgFBAVEBSUFQgU6BQ8FQwULBSkFTgVDBbcF9QVyBtkGRQfZB/EHPQgKCKAHGgf5BZ0EtAKtADn+f/vS+MD16PIL8FLtAuvi6GHnKOaG5Wvlk+WM5pjnAOne6sDsIe9i8dTzavbT+Hr7uf0JAFcCPARSBiMIwgkyC2IMjg1KDtkOJg8ND+0OfA7QDRINMgw2Cy4KTglECFYHtQYYBp8FRgUpBQIF9wQKBfUEDAUGBfkE7ATWBNoEugSyBJgEhwStBKAEtgTsBBIFZQWcBbYFtgWTBUIFkwTSA8ICYQH3/zj+Qvwt+uz3r/WM84Hxu+9E7gvtDOxm6yPrFutp6wns9uxE7qnvJfHA8pH0e/ZE+Bz6+PvJ/Z//OwHBAkIEkQXVBtkHuAiICQUKXgp6CngKbwodCsMJUQnLCE0IrQccB5wGKwbjBaYFiQVrBUMFRgVHBTMFKQUqBR8FFgUhBQIF0gTEBJ4EeASIBHoEZAR7BJIEngSUBJ4EhgRLBBQEgQPTAhUCIwEIAMr+lP0r/Lz6Zfnf93v2MfX/8/3yGfKD8fDwq/C18Jzw7vB08fTxpfKO85j0gfWh9ub3Ivl/+tr7Rv2p/vT/HgEfAkkDUwQ/BTcG+wbEB1cIuwgeCUIJaAl9CZQJrAmdCbIJnwl/CXEJJAnTCH4IKgi7BzYH2AZMBswFPgWCBAQEXAO8AkkCsAE2AbgAQwDq/3j/Of8k/w7/9f66/l7+9P11/e78ivw0/Pb71fuV+yL7g/rR+f/4TPju95/3gPdw91T3Q/cW99z2wfb09jj3nfc2+JT48fhZ+cH5afof+xT8RP1l/nH/DACNAB8BawEdAkoDtwRRBrAHrAj+COUIiQgRCCUIoQiYCcsKnAsFDJ0LdgoYCZYHcQYBBgoGYgajBmMGiAUsBIUC7wDA/xv/Ff9J/33/jv8g/3n+tf3k/Fr8KPwc/Az8Efzq+5b7TPvt+pv6dPpm+i/6wvlx+fr4j/iR+IH41Phs+bP5HPob+vn56fmg+e75YfoN+yn8/fy//VL+p/7f/hD/aP/R/30AYQFGAikDzgNVBNAECAVGBYYF0wVNBqYGDAdyB9oHIwgTCBEI7QePBxUHsQZ5BgEGqQVsBeUEdgT2AygDZQKFAYUA1f9J/8T+ff5M/gT+uv1D/Z/8G/yc+0j7Kvss+1v7gvu0+7j7dPtQ+xz73frf+vj6MPuZ++r7Lfxv/IP8gvx6/E38Qfxs/Fz8f/zN/OP8Dv0J/QD9Av3k/Ob87/ww/Yv95v17/hn/of82AKsABwGGAd0BagIwA9IDoQR4BRsGlAYIByMHKAdaBzwHYAeUB3UHdgdWB/EGcQbVBRwFjgTnAzMD3AJOApkBHAGbAPD/YP8H/3/+Hf7L/VP9I/3U/Hv8Tvwd/BL88vvy+/H70vvn++L79vsZ/Fj8qvza/B79Lv1j/Yf9nv2r/ar9Ef6o/Vb+KQAbAPn/JQDn//7/9f/w//v/0v+9/+H/0v+p/5r/kf+o/4f/ev+a/43/lP+T/6b/4f/d/9P/7f/q/w4APwBTAH4AewB+AI0AgwCFAH4AmwCaAHkAmQB+AFQAUQAdABMA5f+P/6L/d/8+/zv/BP8C/xP/1f63/tj+1/7C/rv+0v78/g7/Jv89/2L/lP/B/9f/+f86AEUAcQCTAJgA2QDrAPMA8gDbAOkA5QDCAJ8AkQCHAGgAWgBkAEIAJwASANz/1P/c/9r/uf+X/63/s//F/9L/vP/P/+3/5f/p/woANgBhAHYAkwCuALIAtACrAJsAsADQAMUAuACqAKIAmwB+AGkAPwAZAAIAAAD2/8//0v+3/43/nf+o/5L/mP+Z/4//tv+u/6P/vP+0/77/3P/6/xYAKgAkACoARgBaAGUASABaAHwAbgBhAFYAXgBFABcAEQAEAPn/AwDn/8v/6//j/9P/1P/L/8j/sP+p/5b/k/+9/7D/qv/A/7b/x//V/8P/0//g/83/zv/h//X///8GABQAKAApABgANQAwAAIAHABEAE8AaACAAIEAmwCjAIEAmgCMAGEAbwBYAGIAkwB7AFYASAArACsAGAAEABwA+v8MAB0A+f8KANv/xv+//5D/qv+n/5b/pf+c/53/tf+1/6//tP+3/7r/rP/B/7H/qv/O/6r/oP+S/6b/zf+g/6X/xP/r//P/3/8HABUAEwATAAIADAAdABEABQAJACcATwBGADcATQBvAG4AZQB0AGsAbQBcAEsAagBkAE8ASAA9AEgAVQA+ADsARAAzACoAGwAOAAQA+v/k/9j/4f/Q/8H/u//A/73/uf/Y/+H/vf+u/9P/2v/k//r/4//j/9r/2f/z//v/DgALAAkADQAMAB8ADwAEAA4AAgAGAAYADQAcAAgAAwARACYAOQAoAA4AEwAfAAsADQAhAD0AQAATADAAQQAcABAA9P/8/xMAFAAqACcAEwAfACAAKAAvABEA///W/9L/2f+5/8//yf+v/57/of+//7f/uv+1/9T/8P/a//n/9//0/wUA7//1/wAADwAYAP//EAA4AC8AKwA+AEwASQAxADEAKAAoADYADgAFAAkA/v8EAPD//P8LAP3/DAAPAAkAAgD5/wcAAQDz/wQADAABAPL/6f/n//b/CwDv/93//f8HAAcA/v/9/xIA///p/+v/7/8LAAoA9f8AAAkAFwAFAPj/FgANABoAEwD0/x8ADQDy/wkA/f8HABsAGAAaACcAOwA3ACEAIQA0ACsAIgApABQAFgAiAAwAHQAnABQAEQD8/wcAFAAGAAcA9f8FABIA+P/2/+3/6v/2/+b/7P8KAAIA7v/w//T/+f/7/+7/3f/e/+r/8P/o/+b/7P/u//3/BQAIAAQA/v8AAPv/AAACAAsAHgAeABUACwAUABMAAwD3//j/EwAKAPn/EQAWAAIA//8FAA8ADAD9//T//v8UABkAEAANAAwACAD0//b/AADx//b/9//1/wYACQAOAAMA9P/+/wAAAAACAAcADgABAPr/AAAJAA8ADQAFAPn/8//5/wMA///z/wMACwAIAAsABQADAP7/+v/4//v/BgAAAPr/AAADAAQABwAJAAAA9//2/wIACAAGAAcAAwAEAAAA9//+/wQAAQD9/wQADgAIAPv//P8KAAkA/P///wgACQAEAP7/AwAMAAkACgD9//P/AgAGAAAA+v///wwADAAEAA8AGgARAAsABgAVACAACwD///j/BQAIAPL/+f/2/+z/+v/+//z/AQALABAACQD+/wEAAADv/+7/8P/2/wAACAAOAAgABAD6/+z/+P8KAAgAAQABAP///f8DAAUAAgD2//T/BQAHAAcACwAIAAgAAQAEAAwABQABAPr/+P/8//r/AgACAAoAEgADAAMACgAHAAAA+//7//n/BwARAAQABwADAPv//v8DAAoACAAPAA0AAAAJAAoA///6//z/AgAAAP///f8AAP//+P8AAAQA///8//7/AAAFAAcAAQAAAP7/CQASAA0AEQAXAA8ACAAJABAAEAAHAP7//P8AAP7/9//w//P/AwAGAAEADQAHAAMAEQAWAB0ADAD1//7////0//f/9//7//z/+f/y/+n/7//6//v/9P/0//z/+P/y/+//6//p/+b/7P/1//r/9f/q//P/AQAHAPz/8P/5//r/AAAOAAkABQALAAsAGAAlACIAJwAmADAARQBCADsAMAArADoAMwAiAB0AJAAwACcAHgAfACAAHwAUAAgABAADAAIA+v/0/+b/0//S/9L/xv+5/73/xv/D/7f/pv+d/53/qP+i/5j/oP+j/6H/sP/B/9L/3P/Y/9//8f8BABIAFQAaACMAMABGAEgARgBKAFoAdAB3AHUAcABgAGMAZABSAE4AQAAxACUAFAAWAAgA+P/2/+f/1//Q/8n/wv/B/67/l/+a/6T/r/+7/7v/y//Z/9X/2f/c/+f/9//5/wQAGAAZABEAFgAWABoANgA2ADIAOQA8AFAARQA1AD8APwA2ADoAMwAqAC8ANABBACIAEAAVABIAHAAQAAAA8v/l/+3/5f/O/9f/2P/R/97/0f/I/8X/uP/S/8P/tP/E/6z/pv+Y/5j/mv+B/3P/jf+S/47/qf+c/77/yf/P//D/5v/y/wQAGwArAEwASgBVAHAAhgCkAJUAoQCwAMsA1wDOAOgA3gDJAM8A1ADdAMQAygDJAKYApQCVAIwAaABWAEQALAAlAPL/6P/E/6X/uv+g/3//e/9f/1L/Of8e/wX/yP7E/pv+b/5U/lD+Rv4x/iX+NP4y/kH+UP5k/pD+t/75/iX/jf+u/+v/JABkALIAwQAFATEBLQFYAWYBWgFDAVsBbwE6ATMBTwFbAWABpAGpAeYBSAJ/AsYCEwNaA80D8wNKBHUEgAS0BIsEcwQtBHcDzALlAdIAsf91/u38VfvM+Ub4Avcj9bT0m/K487bwTfVjBQIHYwiuCh8LtgzLDCUNywxQDGQLmQpNCesHWgbMBEQD5AGTAGn/Qv6b/SL9u/zm/Ib9+v3u/isAqAFyA9QEawY4COwJUAveDDUOQg8FEFQQYxAeEDcP/A1QDCcK5QcWBdcBev7Y+hL3j/M/8Obs+Ol752nly+Oh4jbiPOLC4uDjneXH50XqLe1o8MXzKfff+mP+sAHYBJYHGgo9DAcOcw9vEOIQ2hCfEN8P5g69DRgMUgq2CPIGMwXVA00CMAFSAKX/Qv8B/z//p/8nAA4B7wG/AhQEOQVbBqAH6wgLCsUKoQtODMsMKQ0/DfkMZQzfC84KTAmXB2AFEwM1AB79Afqk9oHzB/C07PTpQeck5WLjFeKT4Wnh4eHt4pPk3+aq6cXsFfDr8+D3zvu8/2oDEwdnClQN1w/gEY4TbhTiFA0VeRSGE0MSqBDuDvIMzArECL0GkgSiAhgBrv9P/kj9svxC/BH8O/yb/Ev9R/6N/xQBtQJ1BFIGFAjLCZ4LLw16Dr0PhxDUEOkQiRCDD+0NDgyICUsGDAN1/2H7V/c180jvouv+5+3kbeIx4K/eEN4N3rXeBeAK4tjk/ud765Xv6fMi+HT84QDmBJYIIgwZD48RhBPUFMEVChaVFdYUvhMDEg8QEw62C1oJIgfjBO0CCwFT/wr+8Pwp/MP7kPu7+z/88vz3/Uj/nQAkAtwDkwV0B0UJ7AqYDA8OQQ8nELEQCRHhEDAQUQ/bDd0LpAnNBrUDWgB6/Lv43/TJ8P7sVenk5eDiT+At3qPc1Nua2yjcWt0W35nhgOTV58Lr2+/980D4ivyvALIESgh0C2oOxhCeEgQUyRQvFRgVjBSOEz4SzBABDzENWAtMCXgH3AVSBNoCrAHvAGgAGgAZAHsAJgHpAfICLgRvBcsGSwjHCScLbwyODXkO/w45D1EP2g7oDbAMCAsdCcEG/wM4Af79VPru9ovz2u9m7DnpReas407hjd9w3rTdlt0h3kjf2OAL4wPmH+md7KLwuPTT+Ov8FAEpBbkI5QvLDjkRMhOhFGkVwhWoFQ0VCxSxEgcRDQ8MDRQLCgkiB1gFzwOaAo4BzABeAEgAYgC4AGkBBQLWAuoDvwSrBYwGRQf3B18IoAjDCJAIFQiiB+kGyAW9BIIDKwK6AAv/qf0x/Jn6Sfn697z2nPW+9AL0RPPd8oLyOvI48kDyj/Lx8l3zGfTD9Gb1OvZK9zj4+PgQ+vz63Pvf/Lf9sf52/00ANQHQAakCVgPqA58EGwWzBUMGnQbpBloHxgfcBwUIJQgpCEcIFwjnB8cHYQchB9oGawYDBnsFCwWrBDcE1QNsA/ACmQJEAtIBiwE7AekAyAB5ACkAEAAGAOb/of9w/1j/S/8a/9/+w/57/ir+9f2o/VX9BP2l/FL8+vuj+1j76/qK+j762/mR+Uv57/i7+Jf4XPhE+FP4Zvho+Hn4w/j4+Dj5tPkh+pD6Dful+1j8H/35/cb+if9eAGABVQIuAwUE3QTBBXkGMQfiB3sIIQmgCQ4KXQqYCtUK5ArWCrsKmwpDCuwJlQn0CHkIvwfSBicGRAVSBHQDewJvAWUAff+W/sH93vzq+zn7ofof+qL5D/m0+Gn4Gvja9473Wvc29wT34vbX9sf2y/bQ9uH2IfdI94j34/c/+M34Ovm7+Vv68/qu+1b8//y//Yz+T/8SAOoArAF5Aj8D+AOsBD8F2wVoBvYGbAe2B/oHIQhOCIAIlgh/CFkIOAj/B9AHhgcVB5gGEgaaBQsFfgT4A08DpgIWApAB+ABdANP/QP+v/jL+wP1K/c/8bfwJ/KP7VPsD+7r6e/pN+hH6x/m4+a35mfmO+Xb5hPmi+dT5FPo2+m76w/oJ+2D71Ps6/Jn8B/2C/RH+lP4K/5b/HgCSAAwBdAHTAWIC4AI0A4gD4gMzBHQErQTZBPsEEAUkBSQFDAUGBdkEnQR9BEYEEQTkA44DIgPZAoYCGQK/AVAB4QB8ACIA1/99/zD/5v6k/mX+Iv7//cP9jP2E/VD9Gv0V/QL99Pzs/O38AP0L/SH9RP1v/Y/9r/3S/e/9MP5b/nn+n/7G/hf/P/9t/6v/zP8XAD4AQwBbAH8ArgC2AMsA7QD5AAQBFwE3ATEBJwE7AUIBUQFeAU0BNgE6AUkBSgFBARoBFAEpAfkA1wDBAJsAjABxAGwAcQBqAF0ASABMAEkAQQArAAEA9v/4/+X/0v/F/5b/if94/1z/f/9b/z//Uf85/z3/Jf8m/zH/Hf8l/xr/KP80/0P/VP9T/3X/fv+d/6r/nP/T/8D/vP/5//z/EgAXAAUAFwAoAFAAaQBpAIQAhgB7AHMAXQBeAGkAagBLABgAMwA9AAAACQAIAOb/9//p/83/tv+i/6v/lv98/4P/mv+K/33/rv+r/5H/o/+9/9T/y/+9/6z/v//r/+n/8P/v//X/EQAIABIAKwA3AEEAPwBYAHAAYABOAEQARABFACoAIAAuAEAAUAA0ABYAEQAUABIA8P/m/+3/5v/e/8//3f/i/9P/0v+//8D/v/+a/5P/of+n/6H/mP+e/5n/of+o/6j/xf+//7f/1P/f//L//f/m/wEANAAcAAEAFQAjACcAFAAWAC4AGgAqAEIAJgAzAEsAMgAjACQANwApAAAAIwAtAAoAFgAOAAcAAAD9/wYA6//p//r/7P/k/+n/5v/G/7f/w//D/8X/y//N/8z/2P/W/8T/6P/1/9L/0v/O/8n/xP+4/8f/xf/H/9X/1v/S/8T/1f/Z/9L/+P8HAPr/7P8BAB4AHgAxAEAAPQA1ADMAQwBHAD8APgBBADoARwBLAEEATwBHAEgAPgAqAE0AUwBHAEQANgAxABsAAgDd/8v/zv+k/5j/sP+o/5f/gf+D/5X/jv+E/3v/fv+I/5X/pP+n/77/z//K/93/7//3//7/AAAPABsAJQBHAGAAZwB1AHwAfwB0AIYAqACeALwAyQDFANIAnAC3AMcAigCiAI0AXAA/ACMAKgAFAPH//v/c/6r/o/+x/4//d/9v/1L/Pv8q/0L/Sv8X/wr/+f7Z/uv++v7t/uD+2P7c/uz+/v4I/xr/Jf8i/zH/TP90/47/nP/Q/wAAFQAzAFAAXQB1AI4AmwCyAMEA1gD2APwACAEfARcBJQFWAWgBdAFvAVEBVAE+ATEBQwEiAQgB9wDWAMAArwCbAHcAVwA8ADEALAAVAA8A6/+y/6//qv+H/2f/Tf8e/+j+3v7n/tH+sv6p/qD+kv6S/qD+u/64/rT+1v7W/s7+6f70/gr/K/8z/1D/dP+H/7L/xv+4/8D/y//z/yYAOgBEAEYAPwBRAIYArQC+AM4AvQDOAO4A5gAFAQMB8ADvAMAAzQDKAK4AwgCpAJ0AmAB/AHQAewBwAE4AQQAZABgAJgAZACEA8f/k/+v/2//5/+n/1//G/5D/nf+h/4T/lP+T/3f/if+H/3P/kP+D/4f/kP9s/5P/lv90/4D/af9i/3L/W/9V/23/Zf9j/33/ev+M/6P/k/+d/6n/rP+0/7D/y//d/9j/7//s/wAAJAATACwAOwA5AGoAcgCDALAArQCyANIA7wD8AAMBEwEGAfsADAENAf8A9gDzAN4A0QC+AKQAqQCIAIAAjQBZAEUATQA7ACkAFQDr/8z/tv+S/3L/Tv8i/wb/Av/d/sf+y/7B/sf+v/61/p3+jv6i/pz+pv6w/qn+wv7W/un+F/8i/y//Z/+C/5f/zf/p//z/DAADAC4ANgAaAEsAXQBsAJoAuQDaAPkAGQElASsBKwE6AUUBMAEYAf4ADgHvAOoAEQHkAPgA8gDjAA4B5QDjANcAjABvAFQAJgAIAPL/w/+V/3H/bf91/3T/nf+O/2j/gP9g/1j/YP9Q/1P/Fv8V/xb/E/86/xj/Wv9t/zL/c/+X/4z/z//Y/7r/AwDF/7r/DQDD//r/EwDB/wIAKgA/AHgAawCOAJwAfgC1AK4AfQBjADgAKwAoAAYACAANAPn/LAAVABQAWwBRAIwAmwBdAG0ATwAVABwA7v++/7//k/+S/63/t//i/+z/3v8GABsAFwAXAAYA/f+1/33/j/+B/3P/lf+J/47/0v/M/xEARQAnAEIAKwATAAoA8f+s/37/aP9V/2r/VP+N/8v/4f8wAFgAfgCqALUArgCWAFIAEwDo/7X/lf9i/1T/ef+T/+b/QwBpAKIA3wDhANAAsABwAEUA9f+z/53/ZP9t/4b/ff+h/+H/HABVAHsAfACeAJsAcgCEAG8ASQA6APH/qf+s/4//af+I/43/qP/v/wMAPACGAJ0AqwCgAHkAIQDy/9X/bf9q/1z/Rf+l/6X/v/8vACQASACFAFcAigCBABQAOAATAMT/3P+E/1z/mf9n/3v/q/+I/8v/6f+w/+T/6f/D/wUA///O/+H/4P///y8AIQAzAEoAQgCEAKcAZAA4ACgACAASAA8A6f/l//P/HgBFAD0AKAA0ADMAPQBhACoAHwAiAND/wf/B/4b/cv+c/5L/mP/O/+z/OAB1AI4AmQCSALcAoQBdACQAt/+M/4T/NP9W/5X/Z/+4/yQATwCtALIAxADbALMArgBQAOf/s/80/8j+8f6t/pf+JP8E/8L/cABIAOgADgEnAaEBHAGjANQA0v/9/jD/mf5t/n3+gv4Y/4L/uP8wALgAkQD2AFQBhgA1AFcAif///nv/5v6l/k3/Tf8DAIAAeQBvAcUBhQHyAYMBCAENATcAzP9z/wf/a/88/yn/6P8pAHMAgQD2AK8BrwDSAPwAm/9D/wH/QP7Z/X7+2f35/dz/K/96/zUAVACVAQYBlwDmAeMBTADKANIAWf8FAJ3/Of/j/ysAZABi/w8ADwF9AEoA+QBDAfj/xQChAMz+lv7F/en+H/97/e79rP5n/zP/4/4Q/woAGAEgAMn/iQAEAfH/w/+uAakBPwLhA3wDGAOZAxYG0wS9/uYCYQQ6/aj+d/zu+Er8Sfrm9wz62vpP/bT8N/y6Ac//GQHIBVgDVAUFBh0DUwTVA/X/RgD1AqMAAv9mApwDNwGgBvUJEfl6DJEZGuzHAbAPAOfe+Lz08N/j8KHvyuMx7Gf0IvHK+Pn8kQAkCX8JQA6EDNkQvhSrBjwTXBTTA/8RCQ4PBSAKkQU/AkAA7AXRAon0BALCCVbvzfYNA/ruWvZi+VTt1PS19JPwxfPR8ej4FPy592ACfgIKAtIJYwS0BgEMAQfLCokLZATsCScH2AFWBn7/vwEpBHf79gHw/Wf3ogJx+l333gDf+mf70v9o/Jb6AAGp/wT9cQMTAZwBagTiAcD/eQIzBCL/VAIsA97/SgXjAQD+0QONAd3/qwGe/nn/eADJ/Mb7Q/0u/Sj9t/2l/QD/d/+0/08AH//zAPsB/gGsAzMDFQPQA1wDDQJeAFj/2/9Z/TL7Vv0S/Mb6B/3U/YD++P/cAcACBwHjAAECaP83+zL9av3N+sL9zf7r/kL/TgKJA+v/kgPDA7EAfAIiAbP/ef/L/oj+Y/8l/9n/gwGb/tX/qP+V/ZD/4fwt/p8A7/7ZAJsBzv9JAZsDjQEkAtUDvwLwAxIDjAJPA3wCsAOlA4MC6gPWAqMAUgHj/sH90f5a/Oz8iP2c+8D86fwH/Lz94v0K/sr/9f73/kD/y/2p/tz9Avzw/Sr97PvE/df8A/5mAEz/lwEqA5kB9AI5AUT/yQD2/fr8mv6H/cj+c/9G/1ICfgNlBLsG+AYSCdUILAcBCR0HnAb+BkkEVAWjBFwBDAKMADz+tP9b/fr8IP9X/PT88v1U/Ob96v08/U7/9v5Z/jP/A/5m/on+lP3j/ln+N/7g/lr9pv3G/HT7EPxm+o36xfqe+TD7ovry+vb8z/vp/K79nfwu/mr9Ef0T/xz/DQAbAbgBEQR+BTYFsQZBCPUHsQj/B+0G5wfCBi4F4gXTBdsEFAUfBFYD2AQDBAQD7wQ9Bn8GqwanBqMG2wYMBUQDwgNOAZv/Wv58+qL6g/jx9Uj3uvS19Yn29PKZ9NX07vKy80D03fQM9hD3avdS+d36hPs7/TL+aQAiAXMAwgHDAVgBygASADMAlf8g/oL9of0q/dv9f/7h/68ByAKEBasFEAgrCzIKPQ3dDkoP1BAQESMTvBOQFY8XuBeKGTgacxiYFpgVZBAeDBwIvP86+/7yfupH5oLerNlP1lLU5dNM1F7XBNqU39XkZuvJ8vf3LgCJBA0Jzg4vDx4RdBJgEekPwA1wC7oH5QSaAYL9v/u3+Ar20/UA9MzzJPWw9fr35PqV/YYA8APVBmQKkwyADYURRxGkEf8T4REFFZkVORWGGjwabhzvHhEewB8kHRkb0xiDEtINcQa2/er1hOzS5GHdddbR0hfPbs1rzuvOwNJC2BvdIuXg7CLzU/sAAcAEjQmbC8UMOg5ZDc0M9AvSCMQGdQRsAQ8AZ/5R/Vn9wPzp/Pr9wf3Z/uYAlwH9A3cFsAZECI0ImwmBCaIJewksCe0IDAjZB+cG4AZfBioH1QhpCuMNjhDLFZYZ/RvyH6ogSSHGIGAdORkUFCoM1APY+qjvpuc/3zDXpdI+zmLMo8x3zY/Qa9ZG3EXjmeuO8gz6//8dBBsI7QooDKsMuQyjCm0IiwZlAxMAlv5Q/Yv7qPu1+sT6wPzy/Dv/aAInBC8H3AnkCqcL8wydDe0NgA5YDf4MpAs9CBQHnAQhAywDJQKLArECkgMyBekHQAtlEM8W+BoCIDAiESOBI5ogdx3KGM4STArDAQD3zeuY44fZMdSqz9fLAcz2y83N39B616LdF+U07sT0jfytAcAFEQkqC14MTQwkDK4IiAbiAxsAt/7C/Gr8+Pyk/Ar9HP5F/iIAoALhAzMHrwhvCfYKRwocCjULTgscC+MLwwoBCu4IWwY0BpUFwgV4Bt8GUgdAB54Icgn/CwUP4hIMF4cZJBzcGyIdKBs1GHEWdQ/lCmMC/Phi8Hnmjd/j1yzUbc8tzljOCc5C0wDWct5k5Trsi/Xv+W4BwgRWCGsLGAxTDToL2QnTBXMDcADF/Zf9i/vj/FX8N/yW/fr9OQCnAj0FcgfqCcAKmgvbC0cL8wu4CwcMUAtbCjgJVwc8BgAFugR/BEwEpgSHBIwEdAWpBhQJKwz8D1MU+xbuGYYbbhyCHFMa7RdgE4cN3AWY/Tb0AusO5CPcTtfi0uHP3M99z7jSrdYr3NPjgurb8cj4Gv4MA08HlwnjC4oMSAtGCnIHGATWATH/+fyy/Pb7SPzk/Mf81f75/zYCtASPBi8J/AmCC4wLDgtbC90KowrxCacJoQetBosFTwMDBI4CwgLiA8ECGwRzBM8EwwYyCUAMnQ+FEyYW/Bg2GqAasBt9GbQXsRQWD5UJogGG+W3xLOl54rvcvdf403TSY9F50jnV7Nhc3x/lQexW88/4yf7pAqMGOAmlCtsK7gl1CH4FVAPS/6D9UfxQ+qr6vfmL+uD78vyk/+ABNgV5Bx8KrAvoDHAOEw5RD/QO8g5WDlYMGgugCGUHpQXfBBEEpAPaA/IC8gPsAwMGoAh0C0QQ4xP9F2oa/BweHpoe/R08G9MYQxIjDMQD9/kn8Z3mZt/i11vSTM6Uy5TL8cs50FjU0Np44n7pTPKI+IT+mQOBB7MJjwoMCygJtwefBGcBi/9r/Kj66vlr+bj59Pp1/I3+sAGBBBcIxgqBDPQOlw8rEH0Q5g8JEM8Ogw1dDCwKEAjBBsIFAAUKBXIECgVYBdsEJwYEBwMJHQz6DswSdBZ5GIka5htUG50bYhnqFQASzArrA1v7RfFf6BXgXNik0v7NMMrByVrJpsu20HLVMd0o5fXsTvUa/OcBGwc2CjMMsg2SDBYL9QijBdIC2v9c/Qb85fp1+or7ffy0/icBPwR5CN8KNg5QEF4RlBJ0EkwShBHHEKgOeg1QC08IdwdvBKADFAPqAc4CEAIzAtgCiQP4BLAHpQrTDU8SrhTHF8wZcxkYGmYYohVXEqQM+wW5/uj10uxp5MzbPdUL0KfLxck0yX7Kz82G0s/YR+A16DnwQvhi/1MFBwqmDTQQWhGYEbAQ1w5hDK8JbwfpBHIC0AC1/2n/ov9SANQBawN3Bd0HsQnTCmIL3Qv2C6oLEwt+CtQJAwlXCP0GJgYSBQIEHQRgA1oDFAMUAgsC8QGnAhUEFAYNCVINihHjFBoYkRnQGisbShnfFlQSgwzcBS795/ND6g/hZ9m+0uDNucoDyZjJAcw20OnV9dzc5Eft8PU9/ZwDTAiZC38Oxw/vD6oOfgzqCRQHeASwAUb/gP3//Gz9Ef75/rsASgMKBhAJOgtXDZkO4w58D4gOvQ3zDJQLsAr0CFQHrwXNA34C/QHiAUYBCwGLAGUATgHXAfwDIwcXCxsR8RVBGvAd6x92ISMhVB/hG6UWwg9DB579OvJ/52rdfdTWzTHI28QNwx7DsMUOyjLQb9dQ4GHpPvKI+tAAOQYbCjwNrg8ZEHYPxQ3nC7EJOwdIBXQDFwNrA2wE2AXmBgQJ6Ar0DPIO7A/KEG4QoA+eDu8MTQtyCcYHYgYkBRkEEANCAjACuwIqAxgDxQKNAlgCUwJ5ArsDGQYXCcUNJxITFm8ZgBu1Hdgduhx1GhEWvxAdCagA+faZ7NHihdl50kXM0Md/xMjCPsTExrHLt9Ey2SDiceoq80j6HwBGBb4Jig0/D+kPmA/YDi8NAwu4CWMIBghcCFcJ6wr+CzANlQ5XEPMREBNGE8gSMBK8EBQPzgyBCuUIYQddBiEF4wPJAs0CKAP8AhMDTAI0ApkBgQBwAE8AnAGJA9UGogqlDYYQTxJ2FGsVkhWsFPoR2g6bCaYD3Ptl817rROOf3cPXw9LVzi/MT8wVzQjQbtT72obi6+k48rr4IP+9BKMJVA7+EPcSFxN0ElkRVA+EDU8LVwogCgwKqQreCuQKcQuSDM0Nig6GDssODw8mDr0M/go5CbYHSAYEBasDIgLRAOH/EP+s/iT+ov2H/SP9K/0p/Uv9gv5YAA8Dfga4CW8MHw9CET4TbBToE2YT2RHeDmIKZgQv/g737e9a6XTjEd4w2erVstO20gLTLNUV2SfeZeTA6jrxCPfK/FYCvwYCC0AOkBDqEXcSPxLwEFwP5Q05DWsMrwvnCvsJiAmzCKwIjghECKYIAglRCbYIxgfVBjAGjwXvBKEE7ANgA0ACFAHd/1z+eP2K/DH8Pvxg/Br8BPwQ/Y7+7QCnAzgHGguPDiESuBR/FogXGBgNGJQWaRP4DqoJAgMO/KT0fu2O5xTiy9042qXXTdYI1nvXadqY3iDjD+hY7Tnyqva8+kv+cQGGBE8H0AnPCuYKfQuqCwYMKwxRDB0NkA3BDZIN6gwFDLkLmgvrCmUKiglRCPUGoQWaBLwDXwNzA6cDigN0A1EDgQLBAbIBFwLoATQB9gAQAa8ANQANAW4CDwSOBjAJiwsTDUwOkg8nEPEPHg/vDawLLgj0A+H+S/nN8+nuXupt5lTjf+As3rncj9xf3bbeH+GF5FHoI+zL7znzo/YY+tT9gwFlBC8HzwmyCwoN5g3LDqwPYxDLEJcQEhAkD6EN5gtuCkAJGgisBm4FsQS0A8MCXgJwAv4CuwOqBG4FpwWjBZkFgwUhBXEEsgMcA3oCcwFUAIj/Uf+z/2EAhAFNAwkFbwYYCMkJCAvjC2UMqwwpDI0KWAhqBdMB6f3k+Qn2C/Iw7uTq0eco5U3jOOLH4UDivONw5WPn7+m77M3v+PJA9sH5Bv0nAEAD7wUPCOcJkAvrDPMNaw55DhgOWw2LDBgLdAlQCCcH/AUJBS8EkQMvAxkDiwMZBLwElAVQBvcGPwdEBygHnwb4BTwFVAQ5A/sB4QDp/z3/6v73/nz/QgBbAbsCEgSQBQYHMQheCRUKUQo6Ck0JGQhVBsMDPAFp/jL75/eY9HTxWO5k6//oKOen5dLkuuQG5fnlgudk6b7reu538aH04fcr+2P+RwHuA1wGVwj9CVkLRQy0DM8MtwxIDG4LigrGCd0IIgiaB/wGigZWBmMGhQazBhkHgwfSByQIVggVCLAHYge/BvYFEgUJBDwDSgJbAeIARwDw/z0ApgBZAVMCZwOjBNYFFgdPCCsJwwkcCvYJZgl6COIGtgRFAnf/bPwr+ZD1HfLp7tLrMunu5iTlF+Sh49Pji+Tq5SHou+q/7SbxnPRT+BD8gf/JAsUFXwiCChgMOA3iDTsOGg56DbgMvgu7CroJkwieB9QGJQa3BW0FVgWFBa0F7gVRBnYGuAbpBosGQwbxBUkFtQTkA+4CJwI9AXQA2P9B/x//P/+I/xAA3AAWAkkDYQSgBeMGBwjICDwJYAnzCPwHhgZ7BOYBNf9G/PP4k/VA8k/vnewX6mDoQ+eU5rHmVudt6DTqg+wa78TxlfSc98T6xP1RAMgCKgVOByEJYgp/C3AM7wwjDRsN+gySDA0MbguSCsEJ5QgjCFwHZQbRBYcFKAXQBJcEiASABDwE9QPcA7IDZQMEA3cCxAFCAdUAMACv/3//jv/d/18A+ADOAeUC9AMbBRYG8wbdBy8IJQjBB98GuwXmA6wBZP/R/Af6L/eC9OTxa+9i7ajrWuqp6WbpoulN6mDrCu337iLxmPMa9r34fvsl/n8A4gIiBewGjgjHCcAKdQu3CwEM7gt9Cy0LsQrfCSYJrAj3BysHkgYkBtIFVAXsBLUEWAQEBLYDTwMQA7YCVwIsAsIBdwFaARQBAAEdAV8BowESAsMCYAMXBPkE1gWIBk4HEQhlCJwIjghJCM0HrgZUBaADgwFZ/+T8Uvqp99n0bfIP8M3tLuyk6o7pIun26HHpPOpp6xzt6O4A8UzzsvUy+K36D/1r/6QBfgNWBfQGLghOCQgKjQryCgcL4QpxCvUJaQmYCOAHLwdfBtEFOAWsBHkEMwQYBBEEAgQsBD8EXgR8BGwEcAR9BGkEZARoBEMEXASXBKoEAAWLBRgGtgZ9B0II3QhsCcIJ9gn5CXAJrAiqBwMGFwTSARn/ZPxn+WL2j/Ow8ELu6evi6Z3oe+fu5g3nbOdJ6Lzpfutq7a/vPfLX9Hz3Q/rr/G3//QEzBCUG8AdZCZMKcAvsC08MXgwEDJsLJgttCosJwQj3BwoHZAbdBTgF2gSnBHEETARbBGEETAR5BH8EcQSJBH8EcwRlBHIEdwR0BLoEAgVeBfQFiAYfB9wHmAgpCZQJ0QntCb8JEAkHCLYG7gS+AlAAkv2T+on3hfR88aDuI+y76aLnOuZS5cDkquQ35SDmgOdU6XrrCu6z8L7z3va3+fT8AACwAmAFvQcFCuULLw1UDgwPZg+DDzEPqw7qDfgM7wvACpoJaghbB3EGkAXtBGAE/gO0A5IDoQNsA3UDrgO6A80D0QMIBA4E7gM6BE8EWQSrBOkESAW5BSkGoQYFB3gH0gftB9cHkAcLBx8G2gQ9A10BJ/+S/Ab6Tvdy9LLx8+6P7Hfqo+hA51Hm9uX/5Y7ml+cC6QHrMu2u74zyj/Wc+Kr71v7hAdAElAfyCSIM/g1zD3MQHxGbEYMRIxGDEJ0PoQ48De8Lrgo/CQsIxwbPBf4EGQSnAxgDsgKwAnwCVwJEAjwCKAIVAiUC/AHuASMCSwJ5AskCOAO8A2YEMQX8Ba4GWAcICFcIWghGCLEHwgaKBegDzQE5/5v8mvlX9ljzQfA57YXqSuhc5sHkBOTA4+fjxuQj5gToVOoV7SXwRvPM9k36rf02AX8EkgdSCuEMIQ/JEEwSPxO3E/ATphMUExsS4BCMD9wNFwxxCrII9QZqBf4D1ALuARsBeAAcAOD/2v/1//3/JwBrAK0AAQFXAagB8gFKAtgCVAPoA9AEnQWVBokHYAhXCd8JRQqEClIKmglgCOcGwgQYAhX/v/sv+FH0ePC47DTpDOZL4xbhkt+h3lne7t5C4DrimeSd5yTr+u748gr3cPuH/4UDXgfuCl8OLRGUE2cV4Ba8F/sXHhh9F5YWdRXUE/QR8w/8DdgLwQnVBwcGWQThAqgBnADN/z3/wP5O/kn+Iv75/RH+FP5C/lL+nv7w/iv/pf82ACoBHwJRA6gEBAaAB8cIKQovC9cLHAzSCwcLkQnABzQFDwKJ/qH6m/Zt8mnup+oP5/LjfeGK34TeQN6B3rbfsOGC5KjnVOuv7/TzlfgU/VsB4QXxCZMNHREoFIAWeBjRGZAayxpgGpMZMRhaFjsUvhE2D3YMjAnyBk8EqAF7/7H9C/ye+rH5KPm++FH4ZfjB+On4iPky+g77FPzq/Ab+EP+xAFACjgNvBUcHGwnfCn0MKw5fDx8QjBBMEJwPZQ5CDKgJZwa7ArH+Gfq49T3x3+zg6FnloeJI4LbeEN703fTex+D04hzmg+lG7XPxtfV3+or+vQLGBmIKBQ6vEE0TWhVDF2cYGxmPGckY7xigFv0W+hvwG/UahRqJGMQWGBSIEdIO3AsBCSYGjQNMAV//kv1b/Cz7iPpA+hn6bvrE+on7Nfws/Sr+F/+DAK0BMgOGBPUFsQclCSULvwx1DmAQkRH/EsYTxxNtE0gSrhBrDmQLkwc6A1b+CPnC8wXueehJ403eS9rE1uLT7dH20DrRadJ61C/Xedqt3nTjZOjt7YTzHvmT/qID7ghwDYARSBVDGO8axxwcHtge4B5GHhAdeBstGdoWChQkEToOTgvTCPgFwgPIAfX/0f7v/Zb9I/3//ED9dv06/uL+f/+hAJMBUwJ/A6YEjgV/BsAHIQksCmULVww0DSUOxg4PD+YONQ4wDdMLmgkOB50D9f/7+3z3J/Mg7kjpx+Sp4Azdt9lI15PVmdS51LbVW9ez2encwuAc5eTp0e7t8zP5df5wAxIIdQzYEFIUIxfYGb0bJx37HUQeKx42HaMb6BnSF2wVxBK+D8wM9gkwB40E7AH3/zn+m/y++/76fvo/+mb67vqY+4z8pf3m/kUACQK7AzwFIAfWCKEKiwwVDpcPyRDTEZ0S1RJpErYRnxCMDgwMFQlbBSUBvPzY98zy1e2V6LbjYd9N2/XXQNUq0xvS29Eh0njT3dXK2G7cheA55SrqXO/29GD6tf/ABIEJ9g0fEq0Vqhg2G0Edyh6LH/wf6R8wHzYejBx7GkwY2xUoEzsQXw2BCtYHQQW+Ar4A+P6O/XX8ZfvU+pH6hfqj+hD7zfuK/Kb9tf6l/80AGwJXA8UEGAY1B5kIeAlQCkoLagtiCyYLPwoKCRcHeASaATr+avqG9iry5u3E6cnlROL13nvcd9ok2bDY89jp2azbE97n4F/kH+hU7LzwM/Xq+YX+DgODB6cLuQ9iE7sWpRkoHFUe6x/iIEUhXSG+ILcfBB7pG4UZyBa4E4QQSg3nCfwG5AMUAbH+bvx9+i75U/iR91j3Zfdf9873evg6+Tv6+fr/+xb9Pf5U/2wArQGwAtQDvQSnBaUGGAd4B6cHNwebBmsFAQRVAiwAsv0f+2r4ZPW48ufvPO3p6tfoG+fO5RXlruTy5NTlCue76NXqD+2g72HyfPW1+Pz7Tv8yAmgFPQi2CpYNww+SEUITaBRvFeMVARYPFosV8hToE4USZxGxD9oNOgxSCqkI6QYCBVgD/wHLAHD/XP5n/VL8zvt9+/H60fpd+iL6kvrD+sn63vo5+4T7MPzi/ID9U/5B/yEAxwBZAdYBlQIlAxoD6wLbAnICWwKJAb8A2v/r/ib+Av2Q/MX68Pqu+Lf6kgLUAc4BEQKeALMA2/9x/xb+aP2A/DT7LPro+Mv3tPbH9ez0QfSd80XzAPPe8gnzUfOw8330YvVm9ob3t/hW+tj7j/04/60AXwIYBGgFtQYhCGAJrAqcC1QMyQwpDZQNrQ2NDUoN0wxADIULfQqOCSkICQc2BrEEdANwAmUBcgCE/6f++P14/dn8UPwh/BP8DPwY/H78sfzN/IX96v0u/pn+sP7a/ib/H//P/pP+dP4u/q/9Qv37/Hv8zfv8+oz6YPqK+V/5xPgB+Af4YPcZ9+H22fYj96H3BviX+G/53vnz+jL8k/2+/gwAZwHDAl0EqQUDByMIVgk6CjgLuAsJDIAMrgzMDHIMXQzHC0ELmgq4CRUJAAi1BscF3QRlA14CGwFNAFD/Bv6O/XX8vPsW+zP6CvrN+ZD5yvm9+ev5Yvq2+lH7t/s5/M/8Lf3U/T3+dP4O/xz/OP+n/8//6v/I/8L/pv+M/2D/KP/Y/oX+K/6L/Ub9+/yb/G38XPwp/FH8ivys/Bf9ef0q/rf+Zf8KAIwAUQH2Aa0CCgN0A10EzQQsBZIFqgUCBgwG+QXhBc0FuwUvBX4E5wOnAwADYQIWAn4B/gB9AOj/if8X/5v+cv41/vT99/3s/Wj9Qv1j/Uf9b/1S/YT9r/22/Rz++v07/s3+sv7L/u/+HP84/wn/RP84/x3/MP8//0L/Bf8R/w///f79/uj+0/7f/uT+vP6V/pn+sP7I/u7+5/4k/2//qv/o/zYAqgDQACwBfgGwAQcCKQJaAqQCxgLmAgUDEAMmAyYDGgMKA9QCtwKLAikC+wGKARABrgAcANr/cP8H/7X+VP4T/uL9qv15/W/9Vf1I/U79Z/2S/cL9zP0O/nT+lP7r/j3/dv/J/xsAQwB9ALMAzQDsAOgA+gDvAAsBDwHgANAAqwCLAGIAXwAuAAQABADK/6b/iP90/2n/Yv96/5r/p/+k/83/+/8UAEAAagB3AJIAvwDRAOIA4wDuAA0BAAH5AAwBBgHrAOEAywCiAIMAYwBFACsA+f/O/8D/f/9J/0//Jf/2/gX///7t/u7+3f7c/uL++P4B//L+GP8s/03/c/+D/73/1//Z//v/BQDt/wwAGQD8/x8AGgD+//7/9v8AABsAJAAHABEAMwA7ADgAPgA2AE4AggB8AJMAiACCALIApQDIANIAqQCwALYAtgCXAHAAXwBKABwA9P/m/9X/p/9w/2D/Uv8u/xD/Bv/z/tr+2f6y/qP+tP7M/gD/+/4X/1//c/+K/8L/DAAnAEIAgACfALsAzQDbAOcA/AATAfEA4gDpAOEAwwClAKkAcgBEADkACQD1/9z/uv+m/5j/m/9+/3H/gP9l/1f/YP9p/4P/f/9+/5v/qv+4/9r//f8TACYARQBlAHgAlgChAJkAqACVAJwAsQB3AF0AfQBkACoAGAABAPb/6v+9/6j/ev9b/1n/M/8b/xv/Iv8V/x//Pf9L/1j/X/+C/5b/mv+y/9v/BQD9/y4AXwBSAIEAmgDBANMAsADBAK8AvQDVAKgAmQCKAIcAeQBCAB4AFQD//9v/yP+l/43/ev9e/1P/Rf9N/0L/L/9B/1f/b/94/4X/n//D/9T/2v/4//n/CABJAFsATgBkAIIAjwCiAKYAjQCFAJgAmgB9AG8AVgApABwAEwAdABMAz/+v/63/tP+k/3v/ff9z/2//df9p/4P/j/+D/6D/tf/F/9n/8v8nACYAKQBSAF0AcQBqAIUAmQBrAIgApgCdAJoAfABaAFEARgAxACoAAgDm/9P/u//Q/7X/mf+J/2//h/+A/1v/Vf9f/13/XP9t/4T/kP+N/6v/1f/7/wYAFgBTAEMAOwByAIsAiQCDAJIAfgCEAJwAdwBhAEwAQQBCADgAHgAAAPL/xf+z/7n/qv+e/43/f/9e/2H/Yf8+/0v/Q/9S/3//hv+c/6b/w//t//L/JQBZAGAAgACKAIoAsgC1ALAAtgCnALQAqQB+AIwAjgBhADYAIAAIAN7/0f+k/4H/lv9u/2L/a/9J/yX/GP89/xj//f4t/yj/L/9P/2r/lf/U/97/6/9SAGsAdgDKANcAzQD6AC8BGgEVAUgBIQH+ABMB2QC0AL4AbAAXABwAFgDN/6D/i/8//yH/Nf8S/xT/HP/p/v/+GP/5/vz+HP8K/+v+MP9I/1P/nv+5/+f/FQBKAHQAjgDVAOQAAwEfARIBQAFTASMBGQEoAdwAnACDACkA6f+7/3r/Z/9Z/yv/C/8n/yf/Av9Z/5P/Rf9k/5j/aP+h/97/k/+n//f/yP/G/xEA8//d/zwAPwAqAJgAsQCWAPMAGgHjAA8BIwHMANYA5wB/AF8AmgBHAAEAOQDb/5H/wv98/xH/Gv///oP+mf7M/p3+rP7Z/tX+/P5W/17/fP/C/8P/7v8+AFcAWAC1AOsAzgD8AAoB4wDeAOYAwQCcAK4AqACDAIsAjABrAFoARQAgABwA6f+U/2X/N/8q/xD/7f7K/qP+yv7n/tP+8v4W/zv/cv/D//r/MABmAHYAtwDvAAkBCAHqAOAA7wD9APMA3AC9AKAAlABnADYAGwD8/9//wP+Y/6T/n/+U/63/j/+E/3D/U/9M/zH/Hv8a/wH/8P4m/0//Mv8+/0H/Qf+Q/6//tf/3/z4AaACXAO4AIwFGAWMBUwFQAUIBIQHpAOMAiwAjAFoAJgCQ/5b/q/9U/1z/cP9c/5z/zf+L/6f/JADY/5D/0/+H/z//ef9o/xD/Tf+Z/4r//f8pAC4AyQD3AMgAEwFdATgB9QAAAT8BFQG6ANEAfQADAEEALACM/4P/zP+9/6n/uP/I/wYA9v9p/+T/uP+j/t/+Gf/k/eH96f7t/fj9nP/2/ir/rAD//8v/XAElAab/KgFTAb3/jAABAdf/qf8+AfIANQD7Au4CtAHNBb8F4wGCBiQIFv5JAhAFFvjk+yf9nPP29oX4P/RG90z6vvhJ/R4AEP/TAyIFFwWTBtUGxgftBsEFoQZ5BbMC4QM0Ajv/4QBT/8r8nf/c/AT8jQB7+8f8+wBx+1P9lgH1+pv+fAJ/+XUBMwJa+m0C/gFR/aoAzALK/agAuQJB/UcDXgG4/zME0v9yAx4Cff1gBWH+Vvv4AxX7f/qAAZP7CfmSAyn9kPjMCuf73vvTDuT7rv91C5r/zP8VBhACofzKASsBn/rG/3D+V/yeAIP+Rf/G/zkFHABH/F8Ksf6G+XYGfP0O98f+Pf0P9iX8hf1l+CUAfv9y/DgG9QMEAV0JmgfNBFIIKwdmBXkE7QLYAkIARP0S/3T9kPkk/I/7/Pki/OP6zvyN/aD7Kv9R/139hQBAASsAMQIYAm4CFQStAukChAQBA1oCCAPcASoBqAAKANv/+P5G/g3/Fv5e/Gj+T/3e+7/9cfzT/Kv9Jf0f/iH+6v6q/wwAlAA0AZ8CKgLGAtsDYAMTBCADfAPUAzkBNQI+ASL/0v/k/RD+av5P/Gb9wP55/df9IQAa/6j/zAFLAM8BRgIPAecCpQFzAQQCkgAaARwAg//I/xn/1f4y/kP/dv7b/ZP/HP6M/lz/hP5K/8T+Gf/K/zj/X/8eALwA/P/MAOYBbQBRAfUBRAArAQYBi/+XAOj/pP6v/0X/zv4v/yX/t/+e/+f/NwAbACYBzgCRAMABLQGuAHwB1gAnAMsA4/+L/4UA//4o/4oAD/8s/0AARQCk/zMALAHG/x4BNAFi/1gBngA//ysAdv/O/p3+Xf4F/n/9mP2m/ZT9Xv0Y/mv+Kf4OACP/wf8nAub/6AHYARQADAO7/3b/cAGz/er+u/4m/SL/0v18/h4Alf/pALwBXQLPAlcD0AOKAyEE4wKNAmEDkAHkAGMB6wBzAAQBaQG9AdoCMANkBOkEPQVKBrYEXAXMBF8B9wFv/wX88vuE+Ln2GfYG8+ry4/JG8cny9/PR80r3I/k4+vX+JAAjAhgGBQbSB/8IfQd6ByAGxgMAAg4AXP28+/76wPg5+e/5R/m9+2n97v4eAUcCIAQFBUAFHgVEBfIEnwPQBHUELAXbCDAJLw7cExEVFByTIAMhEyWHJBgheh+/F48OGAgU+0Xv6+aq2fXRZMyBxHPFMMaXxlPP1NVs3ZjpbfEI+9gFhArOEKsWSBa5FwsYQxQiEyoQVwtfCroH1APiA9sC+wD3AUwBHQGfAscAOQFbAhUAFgFRAFX/IwG8/o///AD2/uAAygBLADYC8wBuAWYCVAGOAlYDOgQMB8UI5wvuEIETFhfeG/QcKB99ID8dmBvjFnYOUgiD/p/zO+t14ADYvNFFy7nIxseAyI3NgdNd2o7kHu4S95sB6Ag0D1MV0RbbGE0ZjBVaEz4PxQosB/EBiwCA/t77f/3s/Tf/QgHZAjYGzQe/CWMLvAsgDWELDwpRCg8HVgRJA88AEv6k/Oz6Bvk8+Mv2uPb89t71KPfb9xf5M/yH/Q8CDQdMCtcQMRZZGvwerCG9IwwkeCJfH4UZJRM9CxoBxPdw7V/jGdyc1GfPHs0nyy7N+dCj1fPdJuXI7Uv4DP/KBpsNVxAMFFgVKxS6E3EQiQx/CU8FRAJ7/yX9Nv3c/Jj9BwAVAUoD5QWIB/IJ6ApKC6ELPArzCAYHUgSXAjwA5v0q/eT7//mx+R/5Bfjw+Pb4//gG+2/7JP3+/7MB1AXICc8N5hNVGIYcdCCaInEkEiTrIage9hjoEd0I2/4G9a7p2N9Y2OXQaMw3yjrJwsuQz1DV3N265U7uu/de/9kFwgoBDikQSxAJDzoNdQrKBjsDYwAH/mL8I/xT/bv+2wAFBFEG3AhuC7gMrQ6yD0kPSw+xDXsL8glFB88ELAM6Acn/m/4Z/Tn8Z/sh+vf5ZPpV+vz6OPxU/Tb/GgKlBQQKCw/mFBUb6x/lI8EmwSfLJ/QkViD+Gp0Rjgd2/ePwjuXC2mLRWMsTxvnDVMTqxdzK6NAU2abiIOvO9Fn9lwPuCLYL3QzvDJ0LwQkiB8MDegBD/lf8IvsO/GL9tP9wAzYGQwlUDMANzw/aERkSaBLeEaEPmg3iCpoH3ATsAeH/Tv57/Hj7cfr7+U76fPod/AD+y/72AHED9QQUCFULVQ56E6gXuxsDITwjCCWOJlQl+SMEIP8ZfBP7CVkA7vVH6j/gr9aJz2zKFsYOxajFKshIzXLTfdv94zzsv/T7+3cBTQXjB/AIwwhwCMgGOATZAXb/zP3O/J38qf2//54CegWFCG0LXQ1ZDy8RIBJwEuwRmxBRDpIL+QgTBrMD2AE1AOn/jf8C/2H/Uf/v/0EB0wEmA1AE8gRaBlAHvgguC44N/BD2FMEYzBynHzYhPSLCIeQfdByLFp8PWgf5/Kby8udK3dvUrc17yMHFf8TPxUHJcc6g1cTde+Yh7zX3Nf6EAwcHgQg+CSUJmQfkBS4DNwBa/rf8SPyh/Ob9RAGTBPIHsAtVDtcQ6BI/FIMVdRVcFN4SWRBkDVsKVgfEBIgCXQHgAL3/PP8D/27+RP/x/2IA8QFgAh4DtAQzBfMGhAn/CzUQnxSFGB4cPx5cH+ofGx8tHLoXHBJGCv0A8/bL6znhK9ib0I7LPcgwxuXGgMmHzRfUs9vn49rsx/QO/NMBnASpBq0HMgf+BoQFCANJASz/sf2K/cf9sP9CAx4HWgt3D4ES3RS4FrwXcBhLGI4WHhTBEHUMMwjMA8v/D/2N++j6xfq4+rT6rPvt/B/+fAB9AgYE4QXJBgYIIwnKCV4MKg+OEioXMBrTHJseEx+eH8YdtBrCFkIQLAnM/xf1LOuV4DfY3NFYzJXJGMgkyD3KzM2V01LayuFX6ZLwrff/+zH/6wEQA+AEeAUiBR0FYQPWAuYC2AEPAyUFtAdZCwAOthDZEpETSRTHFNoUARREEtIPaQwYCToFRwFz/mH84/uK+9H6u/qU+gL73vvf/NH+qABHAhsEfgXCBkEIhQrMDbEReRYYG28euiDmIX0iwCG6HsEajxWQDvAFm/uf8ATmctzC1AjP/MrLyEzIYMlCzOrQEtdN3vDlvu1A9R37+P6BAU8DgQR6BbUF4wQlBEYDngJpAkACvQOcBpcJQQ2CELQSbRQBFSMVVhVnFOkSFREPDucKsQfqA4gAZ/5P/Tb9df30/Ej9v/2B/SX+q/5z/9kAqAEDA08EPAVYB+8JRw38ER4XfBuhHsIglSFTIcse8RkgFXAOrgXu/PDxVOcz3vvUTs8jyz3I38glykbNZdII2KjfB+ca7tD1rvv0/4MC0AM0BNMDgANIAogBtADK/6oA6AAIAnYFdQhxDI0QhhObFg0YZRiUGIMXohVUE/wP8wsgCA0EUAC3/Yv7I/vh++f7Of18/if/EwEhAl8D4wQ3BSAGlwbPBlgH6Qe9CREMQg9KEoAU9BYSGLMYXRhEFvUToA/0CbYDlvuI81PrSeMN3dTX8dNE0bPPAdAC0nbV5dkf32/lhute8YX2TvpB/g4BiwOUBUgGXQc0BwAHXQdWB2YIlgn0CjMNHg/eEBcSnxI6E2gTGBMAEtoPSQ1LCtoGygOcAMX9KPy7+gP6f/kc+Vf5gvkr+oP7Cv0z/hr/HgDDAWADLwW7B48Ktw4AE9MWRhpTHDoePh9HHkgciRiEEzwN2AQ8/Cbz1+kJ4i7bANa10lfQn8+G0MjSAtc23M3hJuiA7mr0YPkg/UEA5gIrBe8GFggDCRAJqgiyCEsIswi3CYUKcQzBDfgOUxAvEIwQoRAsEFgQ5w7jDNkKjgflBAcCR//J/U78tPtV++76v/pa+ub6qvvh/In+If9uAHwBQAKCBPkFgggMDI4PFRTUFvsYBBuCG3Eb1Rn5FmcT6w08B5b/RPcW7+nmMOCe2k7Wt9OJ0Q/RDNIw1D/YR9xK4WDnp+wd8mH23/l2/ScA6wLzBGYGxAdICIAIsggICRsKfAv8DNIOfRAeEjkTgxO4E5cTHhM+EjMQqA29CloHQQT9AHP+Bf3c+3T7Kfvz+qr7H/zY/Db+hP8+AS0CEgNuBHMFKAfbCA0Lag61EQ4Vbxe7GAYa4xnDGFoWohKHDmwIdgGw+VHxFuqz4qvcZdi61HnTt9LR0lnVN9ig3H7hleaw7LTxb/ZA+iX9TACIAo0ECAbKBiUIbwiJCB0JVQnXCjMMeQ1HDz4QcRHYETIR5xDID6IOOA2hCjkIaQW6AkAAEv4Y/XL8qfwM/UP9KP7S/qL/jQAbAW0CpgNPBDAF0wXzBqMIPgpiDBQP+RGPFA4W/RadFwAXbxUKE28PDwvZBYH/mvh+8aLqtuRL37zaAthT1nfVGtaG1zXaPN454gbnGeyF8Ez1IPk3/H//zAEiBAMGCgdnCBsJ0QldCoIKawsGDNoMug0LDqMOTQ74DZYNOgyUC1MKswh0B24FOQQ2A9cBbwEIATkBpwFZAasBtwGZAacBbQHfASUCnQKPA04E2wWgB4YJDwyNDjoRfxMtFWUWlxYSFoIU+RGNDg8KKQWj/3/5gfN57fPnZuNh32/cV9oG2eHYodkQ2zTdB+A749nmnOpI7gzyhvV/+Kn7v/5NAa0D1gXeB8IJEgs4DHQNQQ41D90PChAbEOEPoA/1DuwN4gzkC5gKOwnwBwQHVQZpBfoE2wTYBNIEvwSxBGcE9wOzA/0CAQJyAcYAQADo/6r/FAAFAekBWAP+BOYGJQmECtMLFA0IDk0O1g3wDJ0L+wlCB+wDmgAp/Zz55vUR8s7u3uso6bnmpuRt42TiEuIa4kDiheMY5brm4uhJ647u5fHj9Kv4Ofza/1oDUgZVCQkMiw5IEGQRTBLdEi0TfBJbEaIQVw8QDnwMmAqQCU8INgdhBocFeQVTBQYF7wTUBNYEWwTbAzgDcQIPAhoBigBgACgAzQBYARoCmgPeBI0G8QftCH4KXQv1C/ULawsVC9sJUgh7BmkErAIcAIT9Ffsa+OP1P/NZ8BTujeuB6abn6uXC5Ojjm+Pc40Tkc+Uq5xXph+sg7k3xpfTw9yb7Mv6FAWoEqAbiCNAKngwdDtcOyg9mEN4QQRGfEEwQLhCMD8kOxA3ODPoLuApmCR0ILwdOBuYEBwQ1A2AC7AEBAa8A7wDwAHEBAQL8AjMEIwWsBqkHWQh+CSwKTAr0CbEJXQk+CI0G6ARUAwwBev7U+xv5r/bw8xvxge7768jpt+es5Vvkj+P54hHjd+OK5BXm0ucr6pnsde+x8vL1LvlN/Nn/OgNKBioJmwu6DjMRfxIJFEcVTRZfFogVbBXpFE0TEBLHECsPjA1/C7AJywfBBfcDQAL5AMn/+P60/o7+j/67/n3/TgDXAOgBGANCBJYFjwaFB2kICgmOCZEJMQm6COcHowbqBPoCEwG//kf81fki94/07vFo7+nsb+q36BvniuXD5ErkQ+TG5EzlfeYk6NDpzes87jHxF/Tq9iT6eP2XAMUD5ga1CVsM+g5PEQQTiBTEFYgWAxfUFjsWaBVZFCwTZxGHD/YNIAw0Ch4ITAbLBPcCoAGWAJn/Iv+2/sf+Yf/w/8oAxgEIAz0EIQVjBkoH8AezCCkJkAlrCeQISwhKB84FpQONAXT/z/wf+mT32PRg8qbvNO326s/o9eZL5Vzk1+NI46Lja+Rd5Qrnxujl6qntSPAZ82P2xPn5/DIAsQMEByUKzww5Dw0SDxQ9FYgWaRcnGAUYCRcFF20WnxTmEiIRUw/aDBwKGAg5BisESwIVAQgA5/7u/Sb9Gf0N/e78zP0X/0sAiwEJA5UE4AXsBscHvghMCXAJpAlRCaQIiwfUBRoEAgKD//H8NPp59570u/EO75jsY+oz6JfmouWV5A/kL+S15Inlmeal6AXrXu0p8CbzuPYX+h79pADdAwwHNgrxDMQPBRLJE4oVrhZrF7QXhRdXF44WORXiE1ISfRA7Du8L0gmkB5kFUQNfASQAf/7X/P/7l/sp+/r6VfsA/N381v00/6sA7QFkA8sEJQYqB+sHuwjTCLgIZwhsB3QGAwU5A0gBCP/L/Bz6Y/fR9P7xcO8R7e3qIemf557mx+Vq5Yvl6OXW5uXnh+nH6/btufCw87H2/vkp/XQAmgPDBgAKvQxsD9wR8RPJFQMX6hdzGIIYSRieF6EWdhXNE+ARHhALDqsLcwlcB3UFigO9AT8A4P7B/fz8kPxE/Ev84fyC/UP+Xv+fALIBqALpAwYF1gWCBvIGPwcpB64G5gWoBCwDbwFv/0P9y/o7+KX1BfNu8LrtV+tW6Vbnz+Ww5Nnjl+Ob4w/kFOVp5kDodery7NzvC/Ns9sb5GP2rADQEYQdsCmwNJBBoEnQUNBZVFw0YcRh2GB0YVRc4FuUUWxN6EX0Pcw08CyIJAgfuBBgDTwHK/3T+O/1g/MX7dvtq+5P7FPzb/Lv9tv7Y/wEBKgI2Ay4EOgXjBS0GfQZ4Bg4GXQVbBCoDlwG7/9z9w/tx+f/2svSX8ibw4+0n7F/q4ujW5xbny+a95j3nQOhy6TLrNO1f7+DxgfRs93n6gP2cAJ0DlQZ7CSEMcw58EGAS2xPVFI0VEBYRFqYVJhUjFKoSPRGpD9ANwAvXCQEI8gUYBFQC1wCm/yP+LP2s/BH8BPwg/EP8x/yG/XL+SP8xAEIBPwI/Aw8EqwQtBXMFgQVJBbwE7gPdAoAB9/85/kn8Qvr996P1ivN38WTvg+3Y637qdunS6JTomugD6eXpLOvA7KHu3fBV8+31rPiC+2P+RwELBJ4GHQmWC50NRg/nEP0RvBJbE4ITWBPcEkQSkBFeEPsOiw0DDIMKzggTB5UFJwTNAoMBhwC0/9z+Xv7//dP9A/5Z/r/+PP8HANIAlQFpAhcDzgNrBNsEJgUyBSQFygRABJIDaAI+Afz/QP6f/O/6/vgb9y31VfOu8SzwxO557Ybs2+tn603rZuvO66Lsxu00763wePKq9Nb2O/mn+wr+qAAoA4YF1AfvCcsLdQ39Dh8Q2hB3EdMR1hGNEfsQRBBPDzQOBQ2pC04K1whpB+4FcAREAxoCJAFcAJ//Jf/c/tz+9f4j/4L/8P+SAFIBBAK5AnADAgRvBM4E+gTfBKAEPgSgA8ACqgFlAN3+Sf2h+675wvfH9c/zH/JT8KfuWO0Y7Bvrj+o06iPqj+o36wbsRe3m7qrwrPL39Gr35vmF/ED/2gFeBNoGSAlpC1ANEg96EKIRaxL6EkQTChOhEv8RGBH4D6AOKw2fCxcKhwjiBkEFyANwAjIBIwBI/5j+Bv7H/cr93P0N/nX+DP+o/10AFAHEAXgCCgN4A9ADCATnA8IDlAP2AkQCZQEyAPT+jP30+1n6vPgB9z71nvMh8rPwWe897mPtyOx67GHskuwO7djt+e468LfxffN19an35flA/Kf+CQFeA5QF0gfHCY0LRA2XDqcPfBAMEVQRNxHzEIsQtA+3Dp4NRwzqCmgJ3gdJBsEEZQP+AckAoP+k/hH+iv0X/er8Cf02/Zj9NP7R/o//YwA+AQkC1gKTAyMEsgQFBQsFFwXnBFAErAPNArMBigAe/5j96/sv+of4vfYH9WHzxfF+8GLvUu6p7UztE+1M7cjtcu6L797wTfIl9DT2SfiO+tv8Jv9jAbID7gXmB+kJlwv8DEwOQg/sDzgQWxBIEMIPEw9FDkUNEwzBCmEJ4gdrBvkEgwM/AvoA7/8i/0j+yv1o/Tr9Xf1t/cT9Ov7V/ov/PAAbAcABeQI2A5kDDwRvBI0EiQRsBAUEYgPHAtoByAC3/1f+Bv27+zn60Phs9//1wfSk87Ly1vEX8abwYvBx8Kbw4vCP8YPyk/PY9FH26PeM+VP7MP0H/7sAcAI3BM8FLgd0CK4JpQpPC9cLOgxhDEEMCwytCx0LdwqaCcMI5wfXBuEF8gT0AzkDggK3ATIBwQB2AG4AYAB3AMIACwFlAdYBVALxAnAD4QNaBK8E/QQqBT4FCgWSBEYEogOtArwBmgBU/wH+oPz/+mr57vdm9vf0g/NL8jDxKfBx79XueO5c7o7u++5671/wd/G18kr01/WQ95H5i/uX/Zz/owGfA3oFRwfbCFAKmgu1DJcNKQ6VDrsOuw6FDhAObg2GDKULtAqMCUwIGQf6BeAEzwOdAsYBMwGRAB8AxP/B/9L/5/86AGkA3gBqAb4BLAKDAugCLAMgAxsDFQPzArECTQLAAQoBawC5/7X+nv2R/GL7/Pmz+Gb3//Wu9FfzQvI88UnwrO8N787uye7j7lzv+O/+8D/ylvNH9Sn3DPkN+y39PP9mAW0DRQUeB6sILgp6C3kMdg0QDoIOzg65Do8OEw5PDY0MmAuAClMJFAjkBpkFYAQ8AxMCIgFoAMP/Fv+7/rT+uv72/kD/v/9zAAUBlAFBAvoCfwPfAz8EaARbBDUE5QNjA9UCLQI7ATMAN/8q/vv8nvtG+h757/eT9l/1e/TC8/fyTfLz8czx//Eo8nHyKfPl87H0rvXp9jX4g/nL+kP88v1h/64AFQKEA5gEnQXBBpkHZAgOCWkJrgnYCdsJuglUCeEIgAgACGYHtQYSBpQF1QTrA0oDzQI7AnsB7wCpADgApv8q/0v/hf8c//z+tv8+AP7/BgD0AMUBvQESAkoDDQQrBGUE8AQ9BdgEJgTJA7AD3QJBASEAj/9n/kb8lfpW+qT5fffv9Sn28vXF81XyKvOR8+XxUvFg83H0fPO389P1EvcG9933U/qJ/Gr9ev5iAGMCuwMZBMUEegf1CZAJVQluDAMPYQxJCqYNuw/7CmoH8AuVDLsDEP8pAzgCc/iP9d37L/wH9Vv1UP0i/sv5/fxBBQcHMwUrCRIP7Q47DMANTg9VDW0LAwvSCYoHsAVzAiz+/PuX+mz2tvKS84fzYu8Y7XPvqe/561bsR/Ea87DxXfSc+Uv65Piz+9L/wP9B/4kCVQXrA8QCjARoBN8BwAFRA+0CLQLxAjoDGAJ5AdsBNwFiAIcBjAKFAS8BjQKSAuMAAwEAA3ADEAOgBNkGvwYkBuUHowmeCVoKbg3fD1YQQRETE40TKBJlEfIQIQ81DBkJ6QVeAez74Pad8ijuqOmp5rrk/+JW4cngvuEe45LkQ+eH65DvEvPl9vH6Zf7SAE4DPgaWCO4JIgtZDN0MdQzJC6MLZQuzClcKEApGCRoIzQZ4BekDhgKGAZ4AMgCb/8D+Wf6r/ef8XvxY/OL83/wF/Zj9uP1s/Tz9qv1u/hD/+P/3AboDqAQeBhYI2QkwC0cN6g95EUYSDRMmE8gRyg+3De0KPweNA9T/SPuM9iTyD+6J6trnNOak5X7l8uXi57zpcetX7sLx2vSn9+n68P3Q/zkB1wLpAyUE9QQJBm0GfgYfB+wH4gfyB24IEwmTCXsJoQn1CV8JTQh8B34GRAX2A7wCxAG5AHL/Xv6M/bz8DvyO+277XvuI+yf8uvzG/Tz/ygC7AkEFHgjyCt4N9RDBE5QV4haUFyQXsxUfE9QPvAuSBvMAKfss9Y3veOpU5l3jCOEb4GXgi+G1433mCOr77f3xyvVl+Uf8Vf79/9sAMQHLAEoA4f8P/5T+if7o/oP/ogCUAtIELQfcCWgMHg6UD3UQWhC0D1wOtgx6CpEHwQTGAdv+hfyS+l/5+/gX+Zz5Qvob+z/8bf1+/rz/SAG0AvwDQwWkBlUIFAoNDHYONBH6EwgWtRedGD4YMRf/FMQRyA3uCDcD9vyS9hvwSupB5Y3hgt943rTeOeCn4rXlUul67Q3yZfYf+k79iP/hAAYBlgAlADv/a/6r/Qb9wfzk/D39NP44AIgCTQU0CB8LyQ1MDzEQphC7EOUPKA59DGEKiwdXBFIBzP6c/Ab7TPo6+oT6Bvve++b8wf3X/gsAOgF7AnIDWwT/BNQFEAc+CMQJygtLDmcQMhKNEx0UMhTrEucQHA4nCocFJwCE+oD0nu6f6ZrlouIZ4RHhK+JR5ELnHesJ7+Dy8fZh+jD9LP9YALkARgAl//L99Py2++r64vpd++77P/1Z/0kBrQNVBvoIhwuaDQUP8g87EKsPsA4hDX4LjwlUB0oFFwMTATr/0/33/Ib8dPzf/Ib97v2e/iL/yv+hAFwBbgJeA4gEvwW8BvIHYwkEC9EMlA4wEHkRxBFLERAQEQ5EC6sH2gNV/4/6jfVm8P3rIuh+5f7jvOPU5Hfm8ugO7G3vGPOl9gr6PP2m/xQBwwHNARwBBADx/sj9Hf27/GP8qvwS/fr9ev87AW4DuAXwB70JNQsTDCwM8gtJC4YKawn4B4QG4wRCA9sBqQCo/y//8f7x/in/G/8m/yj/S/9Z/4n/TwDSAMcBSgOYBBQGBAgxClcMxQ70EH4SmBP2E14T0BGBD0sMiwhvBJT/svrh9dvwmexG6ZPm5OQv5NLkQebz57Xqze3d8Ojz4vbI+c37Vv2P/g3/4v5v/uj9Xf3e/HH8u/xZ/TD+dP//ABAD8QTsBgAJqQrrC5MM9AyhDJALPgq4COMG7QQkA2kBGwDT/qD9Gf2t/HP8rvwf/T39W/0p/v/+r/+XAOABjANeBYsHQwrtDG8PfRKDFWgXrhh8GT4Z9RdsFQ0S3A1MCEICIvy29UPvh+ki5aPhB9/K3QfeTd9y4cLk0eg27Z/x6/Xy+Rz9V//RALMB0QFZAcEA5f/W/qX92fzQ/PD8fP3f/rQAuwL0BBUH9AhzCl0LJQxWDKoL1QqZCQAIIAYhBFMCiQAa/y3+mv1Z/Wn9zP1v/vH+Pf/q/5kAQAEoAuICxQOmBG0FvQZNCP4J5AsDDjIQ+RFOE+YTyxMbE18R5Q7VC+IH5gKU/V74sPJg7ezob+VW48vhcuGx4nrkAueN6tzuHPP29gr7vv44Aa0ChAPFAzADFALKAGn/6v00/Pb6hfpe+pf6uvuj/aL/1gEzBEIGGgiECaAKjAvNC4YL4Qr2CaEIrQb8BLgDTQI+AaAA9f9N/+P+zP6y/rL+A/9P/wgA3QA4AekB3wLwA5UFkAeACY4LyA2lD/wQthHaEXIRKBAkDj8LiQcRA9793/ja893uuOp5503lCOS844jkCeaW6DHs9O/R8+P3e/uW/jYB9ALVA/0DzwNvA7QCpAF8AGr/f/76/d39LP67/r//lQExA3cEuAWYBqoHSwhQCHYIUAjWB/EG4wWjBOkCnQHgAF0A7f96/0n/Z/9h/z//if/m/58A0AH7AkEEBwXLBSkHjAjqCWkLTA0iD40QURF5ERsRlQ8XDo8M8QnGBvACBP+y+tD1YvFU7Sjq2+eY5iXmoOXq5QnnAemH6xHuX/HW9P731foE/W/+C/+i/2wA8QDiAIEAKgDa/2r/zP7H/h3/0v9tAQ4DkwSwBcEGKQg/CTMKvgpDC5YLgwtHC/QJgAj4BocF1AS5A9MCBwJUATAB7ACrAGAA1QDEAbQC+wO3BKIFoAaKBxUJMQoiC2sM6A0qD2UPFA9+DkwNlwuhCfgGYQN//5T7evfy8nTupOqx53Hl2ONN4zXjzePG5UroG+sr7o7xaPX6+PX7hf6GANIBxQJcA1sD3wLkAQ0BfACp/8j+X/55/sr+sf8UAWICqwMqBRcHrQiaCZcKhwsWDBsM2AtJC0MKNQk/CIoHlgZ0BewEUwTAA2gDDgMHAy0DpANlBPUEBgVfBWEG1gZ6B2oIRAluCskKKgtNC0AKUAkoCMcGuATbARr/tPvv9+LzE/Dw7K3pd+dr5o3l1OTP5ArmvefG6WDsse9g8332s/mh/ID+BQBSAa0CoAOnA9ED1gNIA5QCuAE3AQUBKAEVAj0DLgT7BBcGUAcYCNQIpQmKCkgLnguUCwIL7wmsCNsHCwcGBkgFtwR9BOEDHQOrAiUCRwKeAlgDXwSuBHUFeAYeB8sHOwgYCWgKKguxCzUMtwuhCm8J6AcEBjEDYwC0/V/68fbx8iPvAezm6OfmxuXx5OrkouUp5yLpDOub7Q3xkfQG+GP7Vf69AHMCxgPEBBcFAAUBBdsENgRgA1QCYwHZAIwA3QBhAQQCLgNgBKUFgQYxB24IQQn8CasKuwqnCh0Kbgm1CKQHpgbIBSgFZASFA+sCWQLjAZgBzQE2ApwCVgNEBHwFcAZpB7wI8Ak8CwUMmAweDccMGgzlChYJ2wYZBCABq/0O+lP2XPLv7sfr3ujL5mblpeSw5GXlr+ar6Arr1O0u8XP0pffq+s79YQCGAh0EZQUrBqIGvgY+BrUF+QQjBG8DpAIxAtgBtQH0ATMCywKAA04EOgUpBhcHsgdRCNYIIQk2CTIJHwmwCEsIfQe7BigG/ARVBLsD9AJkAs8BwQGVAZwBLgLYAuAD7gQPBlMHYAgTCewJhApJChQKQQnhB0EGpgPoAOD9ePpR9+bzvvAb7l/rUun558nmluYc5yzoA+oW7Krug/Fb9GX3Yvov/ar/IQJQBNYF7waQB84HyQeBBwoHjQbDBQQFkQTKAyMDxQJ9AncCogLxAkYDxgMmBIoEIgVhBcEFUwagBuMGKgcWB74GiwZEBsoFTwXNBG8ETgS+Ax8DBAOdAoICvQLNAnMDAARqBAsFdQXDBeAFEAYlBs0FXQV2BAEDjQGL/wP97/qD+PL1+fPR8czvOO7h7PvrheuF6xjsLu2N7jbw+PH88yT2E/hN+or8fP5wADAClAPXBNsFdwYyB8UHBQg+CGIIkwh1CCAI2geUB00H7QanBkkG3wV5BSsF1AReBFkECATNAysE+wPfA/cDxQPLA7YDYwNVA0cDBAPTApMCVgIBAtABAwK2AZ8BAALXAesBNgL9AckBrwFnAeQAQQCx/6/+o/3m/Hv7KPpH+Qr4K/ez9tr1OvVA9fT00fRD9Xz1Evat9kr3TPj1+NX5xvp9+1n8Pv0w/v7+8f/fAJABXQIhA5sDGQT4BDQFPAUNBjIG2gUNBiUGmwV3BdQFEwWzBEAFdgTcA28E1gPcAoMDawMLAp8CFwOIAdEBrQLuAMgAPwKuABsAFQLqAML/nwEQAXz/2gAPAXn/PwD7AG3/Z/9BAO3+bv5m/2n+lP2B/gL+Hf28/Y39vPwa/VH9zvzm/Gb9XP0n/X79vv2Q/a798/0c/h7+Kv51/mX+T/5o/i7+I/5P/ir+KP56/mL+S/6z/ub+7v49/8v/GABLAOcAUQF2AcIBOQJ7AmwC2AIyAy0DhgOcA3gDswO6A3sDlwOtA2kDXANLA/MCrwJsAh8CwQFrAVABFgGUAF4AYwDs/5f/rv9b/xn/Pv8d/+b+Df8J/6L+q/7M/nX+dv6d/mL+bP6Z/lr+Tf6F/nP+c/6c/rL+0f7P/sb+1v65/p7+n/5r/mP+i/5N/hv+Mv4n/iL+PP5O/mD+iv6+/u7+F/86/1v/jP+5/9D/JwByAHoA0AAAAfYAVAGlAaMBzQETAhQCMgKKAo4CawKaAroCeQJ7Aq8CbgJEAnsCVALbAc8BxAFLAUoBVgHJALsA0gA3APf/GgCm/1T/ov9V/8L++/7l/k/+gf6//jL+Nv6w/kP+Ff6O/k3+Cf53/n3+Kf51/qn+RP52/tX+gP6V/hP/7f7T/k//Q/8C/4r/qf9P/6n/2v+M/8P/7P+D/5j/9v/D/67/7P/a/8z/+v/m/9z/LAAwACQAbABgAFIAlgCHAH4AxgC5AJMA6gAiAeIA9wA7AQsBEwFUATEBPgFvAUYBOQFUATEBIAEyAQQB7QAJAekAtAC8AKMARAA7AEwABwD6/wcAtP+J/5r/av9C/zz/Ff8L/yH/Cf/1/gL/Af/x/un+AP8S/y//Qv8m/z//TP8j/zf/Vv82/0z/iP9t/2//qP+k/5f/y//0//z/JAA6ACoALABhAFAALAB+AGIAUgCbAFEATQCYAHMAWgCAAI4AgQByAG8AdgBYAGgAdQBXAI4AhgByAJYAgQCTAI0AfAB5AGMAcAA0ABoANgD6/+H/9//Y/9v/AAD2/+//7f/7/woABwAeABUAFwAjAAQABAAKANv/y//Z/8f/z/+3/4X/gP97/3n/bv+H/5v/p//S/7v/wP/4/+3/9P8EAPb/AgANAP//8f/u/+P/3v8BAAoAAADy/+//6//q/wcA6P/c//z/8v/0//j/AgAHAAkADwAZAEYASABAAE8ATwA4AAcADgAoACgAIADz//r/FQATACAAAwD//ysAKwAWACEAMAApABEACQAfACAA/v/m/+f/x//F/8v/kP+t/7P/g/+f/6b/wv/l/7n/sf/m//L/DgAsAAYAGgAsAB8ALQAsACcAEgAQABwACQAAAAYA/P/9//f//f8UAA4ALAAjAAoAOAA4ADQANwArACYAFgAiACYACAD7/wcABgDt/+b/6P/n/9//x//K/9T/3f/h/9j//v8GAPj/FQAiAD4ARAAdACsAKQAaACkAAADv/+7/w/+7/7z/uP+0/8D/zf/W/+n/5f/u//v/+f/y//j/CQAFABQADgAIABUACAAOABIABwAHAAwAFwAKAPf/AAAKABAAEAASACUAKAAsACMAJAAqAAsADAARABUAFwDx/+H/7P/m/9//2//i//n/+v/s/+r/9v8IAAwACAALABUAHwAYAP//9f8AAPz///8CAP7/BgAFAPb/AQAGAOz/7v/4//3/BwD0//T/CwD7//j/CgAFAA4AGAARAP7/+/8LAAAA+/8IAAoA/v/+/wwACQD8//T/9//8/wUABQD+/wcACAD+//r/AAAGAAEAAQAMAP7//v8RAAYADQAGAPb//f/7/wYA///u/wAABAAAAAUA//8AABIABAD9/wQABwARAAAA7v8AAAUA9//2//3////p/+n////3/w0AGAAFABEACQAAAAAAAgAHAAAACgARAAUACQAHAP//9P/y/wMACgALAP7/7f/y/+3/8f/9////CQAHAPj/AAAOAPv/9f/5/+z/AgABAO3/9v/o/+f/5P/j/wQAAAD+/xYAFAAUABkAEgANAA4ADAALAAoAAAD3//X/6//n//T/AgAFAAEABgAGAAoAAgD0/wEAAAD3//j/9v8GAAEA9P/7/wAABgAMABQAEQAEAAAA8v/x/wIAAAD5//v/AAAIAAQA+P/0/wAA/v/t////CQAAAPz/8//w//T/9//7/wEADAAJAP//BgAMAAQACQAMAAkADwAIAPb/8f/2//n/8//1/wMABwAAAPz//P/9//X/9f/9//3/+f/u//P//P/v/+7/AAAMAAgA/P8BAAwAAgD+/wEAAAD//wQABQAAAAMA///3/wEABwANAA4AAQAEAAsAAgAAAAIA/P/w//T////+//3/+v/6/wUADgAOAAwACgABAPH/8//3//D/9P/5/wEACgAEAAAAAAD9/wAAAAAAAAkADQADAPn/9v/6/wAA///5/wMADAALAAwACgACAPj/+f8DAAkABQAFAAQA+//2//n//P8DAAYA/f/4/wAAAwAAAP3/8v/1/wQAAQD7/wMA/v/2//7/BAAFAAkACgAHAA8ADwACAPn/8v/w//L/+P/5//n/BAAHAPv/+P/+/wIABQAGABEAEQD///f//v8CAPz//v8CAAcACQACAPv/+//0//P/AQAKAAwABgD9//P/9v8AAP3/+/8AAAMABAAEAAQABAABAPz/+/8EABIAEwAMAAYA/v/4//f/+f/0//X/AgAFAAAA//8CAAgAAQD2//3/DwAQAAUAAAD///r//v8JAAkAAgD7//r/+/8AAAMA/f/z//P//f8BAAMAAgAAAP7//P8CAAoACwAFAAAAAAAAAAIABwAJAAMAAAD/////AwACAPz/+f/7//j///8FAAQAAgD///b/9//+//7//P/6//f/+f/8/wAABgAGAP7//v8AAAEAAwABAPr/9v/7//3///8AAPv/+P/7/wUACwAFAAAAAAACAAMAAAD7//3/AgACAAEA+//2//f//f8AAAAAAwAFAAgACQAIAP7/9P/w//r/AAD+//r/+/////7/BAANAAoAAAD+//7////9//f/9P/z//T//f8IAAcABQAKAAgAAgD+/////v/8//r//P8DAAYACAACAP3/AAAIAAoAAQD7////AAD7//X/9P/2//j/AAAAAP3/AQADAPz///8EAAMAAAABAAIA/v8AAAUAAAD4//7/BgAFAP7/9//5//n/+f/6//n/+v///woADAAKAAQA+v/4//7////9////AQAJAAsADgANAAUA/f/7/////P/6//7///8AAAUABwABAPf/9//9/wIABQAAAPv/AgAKAAcAAQD7//v/AwAJAAoACgAKAAAA+P/+/wAA/P/4//L/9v8AAAAAAAD9//3/AAD//wIABQACAPv/+v8BAAQA///7/wAAAAD+/wEAAwAEAAQAAwACAP7/9//y//v////5//v/+v/8/wIABwAHAAMAAwADAAQAAQD//wEAAQD8//3//////wYACQAHAAEA+v/8/wQABwD///H/7v/0//7/BwAFAAAA///9/wMACQABAPr/+P/8/wAAAwAHAAYAAQD7//j/+/8AAAAA/v///////v/9/wIABAABAAEABgAMAAwACQABAP7////+//r/+v8DAAcAAAD8/wAAAQD+/wAAAwAEAAQAAQACAAgABQD8//j/+v/6//j//f8DAAAA+//9/wAA/v/7////AAD7//z/AAD///3///8AAP////8CAAMABgAEAPz/+/8AAAIA/v/0//f/AAAGAAMA//8AAP//AAAEAAQAAAD5//b//P//////+v/6//7/AgAKAAYAAQACAAYACAAIAAIA+v/+/wMAAwAAAPr///8DAAAA/f///wUABAD+//v//v8AAPr/9v/4//r//P/7//v/+f/6/wIACAAHAAEA/P/7/wEABAABAAMAAAAAAAUABAAHAAUAAgD9//r/AwAEAP//+//5/////v/8//v//f8BAAYADAALAP3/9P/8/wUABQAAAPb/8f/6/wUACAAAAPj/+/8DAAoACwAGAP7/+//9/////P/9/wAAAQD9//z/AAACAAAA9f/x//z/AgAAAP7//v8BAAEA/f/6//r/AwAGAP7/+P/+/wUABgADAAAAAgABAAAA/////wAAAgAAAP7/AQAIAAkAAQD9/wAABAADAAAA/P/9/wAAAgABAP3/+f/8/wAAAQD///3/AAD/////AwAFAAQAAQAAAP///v8BAAIA+f/y//L/+/8DAAYAAQD6//r///8HAAYA/v/6/wAAAQACAAAA+v///wAAAAD9/wAACwANAAYA/P/7/woAGQAYAAcA9//+/w8AFwAPAP//7v/m/+3/+v/7//L/3P/W/+//BgACAOz/3f/o/wUAEQAEAPn/+/8KABIACQAGAA4AFAAKAPz/AAAYACUAEwD1//L/EgAmAA4A5//e//z/FwAKAOf/4/8AAA0ACAD7//z/CwAHAP//BQAfACkADQDx/wAAJgAvAAMA0P/T//7/DgDp/7T/rf/U//T/6f/J/8v/6f8FABIAFAAYACAAHgAYABwAKQAnAA0A+P8GAB8ADwDt/+D/7f/1/+H/yP/G/9z//P8DAO//8v8dAEAAOgAnAC0ASgBKAB8A/P8LADgAQgAUAOT/4//z/+P/wf+9/8z/q/9w/3f/z/8XAAcAx/++/xEAaABwADUACgAkAFMAXgBAABgA+v/p//j/JgA1ANr/aP9+/xUAZQDm/yz/SP9WACgBsgB6/wz//f8YAfsAv//T/kP/hgA9AZoAQ/++/on/fwCXAA0Auv/G/9b/EQC2AB4BewA1/9z+CgBAAf8Aw/8O/y//Df+O/hb/+QBZAj0Bvv75/qED4wd1BZr94Ph+/F4DKgTp/Nv1Jve8/tgD2QGa/Nn6af5qA7kFzgTGAjwBoABeARAD4ANRAjj/fP0R/w0CrwLx/4r8p/sA/fr93/03/p3/WwAC/4L9tf8uBYgHNAJj+lD6mAN0CwIHIPpz9KL8DgegBUj6l/MR+UYCAgS+/nH7XP7aAT0BIgBWAjMF7AP9/zQACwWyBuABHP3s/tUD3wLg/Lj7kwFZBUMA5Phb+uQC2gWb/kf3WfqaAxgGLP8h+e37AANLBC7/L/w0/1AD6AIz/zz+TAHdAj8AVf1s/gwCYQKN/hb8cP5QAvgBo/2C+6f++gIBAxL/A/2e/9oCYALw/qX9bgC3AgoCVwC+/zIBNALVAGD/o/6W/tT/egAPAPz+V/1b/nsB3QFk//r8j/3hAUoEbQGR/n//yAI0BEMBwv6U/8kABQE0ACf/W//R/2j/9v58/mr+lf9TAEv/6f2E/ssAlgHO/3/+gv8OAYQB8gCKAJUAgQATAMr/nAAVAdn/Kv6E/ab+agBIACT+9fx9/v0APQFc/wf//wBTAkwB0P+SAI4CEwI5/zH+RQBaAnoBzf68/Ur/LgEGAcv/3/5o/kH/tQASAT4A4v7p/uEAgQHt/6T+Bf/tAMEBEgBB/+wAcwIkAvT/Rf68/4wB6gDx/oP9of7IALoAO/98/jD/RwD//xr/Zv8MAAUA4f/t/1gAlwDc/5P/HwAgAOv/DABmAG8A4v/T/xwAtv8s/z7/0P8KAG//B/+a/1UAdwAWAN3/NACUAAEBYAGzAKr/tf/4AKYBIwCf/kj/yQDgAEf/hf64/6gACwAB/0H/XQCCAPL//v+PAIgALAB/AMMAWwDV/+T/uwAkAY0A4P/5/64AkQCY//7+CP+e/+r/YP/+/l7/EABBAMP/ff/X/x0ACAAwAIYAeQD6/4f/GwAUAaQAO/+y/rL/2QBtABL/8f5kAFYBVgDX/jH/1AAWAYb/Rv77/rQAIwHn/8r+Pv+UACUBtwD9/7H/IACLAMAA4QBsAOf/CwBwAMMArADR/zz/sv8TANL/sf/K/9f/+//n/6H/mP+l/8//3v+i/8b/KAB7AN4ArAAhACEASwBTAEYAzf9c/4T/2f8cAAIAhP94/7v/w//W/+L/0//v/ywAVwBLAAsAzv+//7r/wP/O/8j/6f/4/+X/7f/u//j/AADn/9D/1//x/yQASwAcAAQAJQA8AFgARAA2AEYAZQCFAGEAWgA6ANX/p/+s/8//4f/x/w4ABAAPACoANwBOAEoAKQBCAHgAZQA8APj/hv9v/6b/yv+l/0j/Pf+O//r/MgDz/9j/AAAbACsA0v+W/9L/8//x/8//sf/S/wwADQDs/xcAbACRAFoAIgAfADUASQD3/9f/CgD9/9r/mP/D/0UAVAAAAK//AgCUAJ0AKgDA/+r/QgA5AL//h//Q/wAADQDm/9r/AADq/9b/z//S/87/nf+C/43/n/+V/2b/W/+d/97/EQBPAFkAWQCAAG0AOQA4ABYADQAjAN7/xP+w/7b/EgDd/5T/rf/l/z0ANQANADQAXABPACkA/f/1////v//g/zwA+f+8/+b/BQAEAA8A+f/h/xUALAD5/8v/4v8KACgAJQD1/ykAdQCPAJcAjgC9ALcAmACRAD8ACgA+AH0AUAAHAAIAKAA/AAEA7P8jAG8ApgB5AFsAdwBnABwA1/+j/6n/1P+s/47/nv+1/+f/8/////f/7/8tADIAAgAGAAMA7//9/9n/p/+t/4v/ev/A/xEAMAAmABoADQAhAC4A/P/M//r/HwDv//P/7v8AADQAAAD//yQASQB2AD0AHwAyABUA8f/j/8T/uP/o/+v/1v/O//D/PQAeAPb/RwCXAKAAZQAoAFgAuwCsADIA5/8dAGgAeABUABoAXgCaAD8A+f/t/yAAMQC//37/o/+o/4n/Zv8i/xX/Iv/z/uD+2P7X/tX+pP6j/sX+r/53/mz+if7I/vb+4P7s/hP/Vv+r/6L/rP8HAFoAkwCzAPUAYQGvAdgB6AH4ATACUAIvAhEC+QH4ARYC7AGeAY4BhgF2AVMB+ADLALkAkABuABkA+v8HAOH/wv95/0n/TP/m/mH+EP7c/cX9lf1S/Tn9Fv35/PT8oPxz/Jr8Wfwc/DD8TPyj/Nz8+fx7/RX+pP4D/zT/1/+GANcAIAFjAfUBtALaAs4CEAN3A8gDgwMhA1YDfwNHA+QCpwL+Aj4D4QKXArACBANCAxsDDgNoA7cD3QPJA7QDDgQiBLIDbAMyA/kCjwKLAZ4A9f8D/8r9Rvzg+s35jvgp9+P1+PRx9L3z6fKu8vbyWvPA8x70IfXe9mP44PmH+2z9vf+JAe4CjgT7BUoHJAh7CB0JhgmTCY8J4wg2CM8H7wYTBi0FKwTUA38DAQMRAzYDogN+BAQFxQXTBq8HwQh9CQQK2go1C2QLYQukCu0J8QhCB18FAwNYAJ39gvpU9wf04vBC7mzr5uga53flgOTV40XjyOO65MTlaOd46Ubsnu/U8mj2dfqr/s0CXwa/CR8N0A/YEWoTkBSdFTYWEBaWFewUDRR+EgcQcg3YCiIIPgUyAgEAgP5S/cH8YvzL/ND9av4h//n/FwGnAsQD1QRrBksIMAqNC4oMXQ2UDf0Mfws9CcIG+wN7AML8MfnS9cnybe8j7IPp0eZw5FviZuBw3+ve497K3yzhrePx5lnqae678j730PsEAEIEQwjLCykPGxKdFOMWrxjkGZEajBreGZcYfBbSE88QiQ1KCt0GlAPuAJT+qPw9+xT6g/le+Vr5rfld+pH7Mf3v/vgAhAN2BmQJ+QtgDpcQYBJzE6cTSRNjEsUQUQ4aC8EHKwTo/0/7mvb98YHt/uiq5Mfgid3J2oLYBNdR1pnWqtdi2Rfcdd914xfoBO1K8pn3+fxaAlgHKwyVEHMU6BepGrgcFR7EHqwesh0aHOEZNxcjFKcQQw3aCY8GrAMkAR7/hf2J/CL8I/zP/M79Of8ZARMDeAUACKQKiw0oELMS+BSgFugXYhgCGNkWtRTRESwO3QkeBQIArfo49dnvneqX5fPgqdzg2I7V1dL30MrPkc9W0O/RotQ02Ivcq+E45y3tSfNR+Uf/6QRKCjcPhBNuF68aRx0+H0ogpiBKIBsfPx2WGnMXCBRLEJIM3AhlBXsC8f/y/an87vvC+yP88fwp/tX/wAH5A6EGYwlFDDUP+hHBFCgX1RjXGRcamhkeGKIVexKLDvQJ5wSI/xb6j/Qa78Ppj+TU36Pb9dfJ1E7Sv9AD0D7QctGC05PWcNr73iXkpel873z1XPsiAbMG2QuUEMsUVhhTG6UdGh/dH9AfAB+aHV8bnhiIFe8ROg6ICuYGpwPKAF3+dvww+4T6V/rd+uD7O/0Q/zYBxQOEBloJhAx0Dy4S0RTQFmIYWhlNGZcYAxd1FEwRXg23CMEDdv7Q+D3z3e2g6NXjdt+X23PY4tUC1ODSlNJg0+PUItdm2mfeKONp6OLtt/Of+VX/xgTUCWsOfxLpFaEY1hpoHFMdjh0MHQscaRolGGAVEhKWDhALfQccBAIBhv60/E77qfqK+gf7P/yE/U3/dAGSA0EG6ghnC0wOGBGME9kVsxf8GKgZdhlUGFgWZxOXDzMLHgaTAPn6VPXb76vq0uV74abdbNrV16jVNdTE0+zT8dTv1pbZLt2s4b3mPewV8in4P/74A1IJSQ6MEjcWNhltG/4c5B0mHq0dkRzCGnMYtRU5EqsOFwssB7cDhwCo/cD7Lfo/+T/5t/nt+mj8Of6UAPICmAU1CMgKkg0SEIYSwhRrFtkXkBhrGJUXoRX5EnsP+AoMBpoAD/t39c/vtery5aTh4N2g2hrYD9ai1PfT/dPY1IvWG9l83KvgoeUa6wXxGfc9/VQD3QgXDsgSuRYvGt8c7h5EIN8g9yBDIPoeFh1qGlsX3xMBECIMGAhFBPIA9f2k++P52vim+AT5BPpb+yj9W/+6AUQEygZvCRkMoQ7wEMkSNRRKFZwVDhXaE74R7w5wCx4HdAKA/VD4F/P37S3pxOS+4DbdS9oG2F3WUNUH1X3Vndaj2HPb3N4Q4+DnFO2f8j34Bv6ZA70IqQ3zEa0V5hh/G3Ydsh57H6YfDx/sHVEcKBp+F5UUbBEgDtcKywcfBc8CCQHd/zP/Ef+K/zgALgGEAuMDfQUaB8AIjwpJDA0OmQ/QEM0RUBIbEhQRWQ8HDdEJ3wWnAff8Ivhs87ruaup65vbi/t9x3UbbutnI2DbYPdjx2FnacNwU33jibubQ6qjvofSu+ZX+YwMTCPELiA/aEmsVmBcZGTMavhqhGi0aCBmQF7MVhRMrEaoOWgwICgQIPAbVBNwDBQPHAqwCyAJMA+IDswSiBdoGFQhLCcgKEAwqDQwOlA7JDmIOeA0bDB4KwQcOBdoBiv4/+7v3WPQS8ePtJOuS6E3mcuT14ujhRuFH4YzhXOLe44zlx+d+6mbtk/Ak9Lv3PPvg/jcCjAWZCAwLhQ14D+QQDRKsEv8SzBI0EoERPRDFDkINeAu/CfUHUAbgBHoDhgKpARABAQHvADIB1gFgAjkDXARBBV4GoQeiCL8JsApdC+8LKwwEDHQLsQp5CbMH5gWKA9gAWP6A+7H4//Vf8//wtu7x7GXrCeo16aPofOiv6D3pNOqV61jtS+/E8Xj0H/cc+g39tv9oAuwECAfsCH0KsAufDFYNug24DZkNLw1xDJcLcgo3CQEIwgZxBUIEbAO3Aj8C/wEAAlICvwJQA/UDyASgBXUGbwc3CAcJ2Ql/CgcLUAtuCzoLtwrVCY8IDgcwBTED8QCL/kX8/fnZ98L15/M+8snwqO+I7rftKu3u7P7sK+3U7bLu8+9/8Qbz6/TK9q/4tvps/Az+s/8rAXUCiAOVBJkFRQb6BpoH5wchCCgIIAjSB2kHLAeQBhwGxgVGBRUF2wSpBMQE0QTMBPMEMAVWBX0FtAX/BTsGgAa/BvUGQgdNB1oHbAclB9EGewb3BSMFVwSAA3ECbQE/AAz/zf2W/HL7JvoR+QL4/fY29mv1z/Rj9BD0y/O58+rzGfRf9Mz0a/UW9sr2pveL+Ir5iPqU+6P8mf2g/rD/ogBhAToCBAOVAy8EqAQNBV8FiwW0BfYFAgbaBfcF/QX1BdMFwgX0BcIF0gX4BdQF+AX+BRgGQAY4BlgGfgaJBocGhwaBBmAGHwbQBXYF7wRXBJkD4AIQAgUBLAAu/xr+KP0S/BT7E/og+Ub4cPfM9jD2y/WB9TL1PvVJ9Wj1y/X/9Wz2FPdz9xX4u/hE+ST69frd+7D8fv2R/lj/LgALAawBYAL0AngDBgR8BN8EWAXLBSwGkAbTBiAHaweBB5IHrQeqB58HqQebB4QHawdgB1oHAgexBnQGCwaTBfIEcgThAxYDhgL0AU0BkQDy/3r/uv4I/nb9zPz/+0v7v/oQ+nn55fiC+C34ufeW93b3W/dH90v3gfeE97D3BPg5+Jv4FPmV+TH6vvpw+yP8sPx3/RX+tf58//j/uQCFAQ0C0wJ+Ax0E5gRvBeEFXAbLBiQHTgeRB7wHzgf/B/sHBgghCAII6AfEB40HQAfMBnAG9gVhBdoENwSkA/4CVAK3AfEATgCb/8v+Ff48/Wn8wPsJ+2P6xfkr+eD4bvj+99X3fPdN9yr37fbd9r/2s/bb9hX3Xves9y34yPhL+Qn6uvpc+yX80fyH/Sj+3f6t/2QAIQHYAb8CdQMPBN4EegXyBV0GywYoB1gHZAehB9gHyAf8BwsI9AfzB84HyQeGBxMHwgZlBt4FNwW8BC0EigMJA2wCwQEQAXEA1/8N/0n+qf0D/Uf8pPsY+6L6R/r8+bL5Y/lF+f74wvjC+HT4UvhP+Dz4UPhn+Lb4E/ll+c/5UfrQ+k/7zvtI/OP8XP3f/Xb+GP/J/00AFgHDAT0C1QJIA8MDCgRDBLgE7QT2BDkFeAWSBbUF5wUtBhwGAgYyBhIGygWGBVQFGgWuBG0EJwTWA4YDKwP/ApACCAK3ATwBrwARAJP/Mf+f/jD+3f2L/Uf9C/3i/Kr8Vvwl/Ar8vPuE+2/7S/s6+zD7PPtj+3n7i/vM+wr8Lfxi/Jf81/wB/UP9sP33/U/+tf48/7H/6f9mANoAEgFQAYAByAHvAQYCPwJQAn0CqgLBAvcCEQMkAzIDQANDAycDJwM0AyQDDwMeAwsD3wLUAtkCxQJvAjsCHALGAXABQwECAbAApABYAP3/7P+2/5r/av8d//n+2v6i/mH+Uf5E/iT+CP7w/er94P3Z/dL9zf3O/cr9yf3G/cb97/0h/if+Qf6E/r3+4v73/i3/X/9l/5H/wf/L/+j/FABEAFQAbwCuALkAvADHAN0A9QDaAO0AEAENAQwBMwFiAVsBZwGKAZIBfwFwAYoBiQFWAUgBZAFTATMBMAE5ASkB8ADoANYAtACQAEsARQAQAMD/tv+h/3n/Qf9B/zr/9/7d/t3+wv6Z/pT+mP6B/ln+V/56/oL+h/6T/rX+u/7I/vX+9P4M/xH/GP9F/0D/XP+U/6n/sf/Q/+7/8f/p/+j/GQAfAAcALABFAFkAcACRALkAzADkAO8A+QD7APgAEAEEAfQACQEMAQwBAAHqAPsA9gDCALwAwQCbAHUAVwBPAEUAIAAPAP//3P/L/77/lP98/4L/UP8X//3+/P4R//X+7/7+/uP++v4x/yr/I/9B/0H/Uf9S/0r/i/+P/4b/wf/c//f/CAAbADoALwA2AF8AWAA2AEUAYABjAGkAeQCeAJsAcwB/AJ4AqQCMAHMAkgCWAIEAjACPAIMAkACUAHsAfwCIAH0AbgBcAFsAXQBCABkADwAoACoA+//a/+3/4P+n/4T/iv+D/1D/Lv8a/xb/Gf8H/w3/D/8S/yb/HP8c/0P/UP83/0v/ev97/4f/vv/N/8H/4/8KABwAHQAhADQANQBGAE0AMQBCAEUAMwBNAGIAbABgAGgAjgB8AJIAxQC+AMgAywDCANQA1QDFALkAuQC8AKkAkgCXAIYAYABdAFgAKwAMABEACwD7/+j/3v/j/9L/rv+T/5b/of+I/1j/Tf9a/0L/QP9L/0b/Tf9A/0r/Wv9Z/2n/f/+F/47/u/+7/8D/6P/V/9n/AAD9//z/CgAMABgAEAAHACoAGAD1////DwAQAAMACAAlADsAFAAXAGAAUQA0AEoAXABdAGwAfAB5AH0AdQByAGcATABFADwALwAfACAAIAAZABIA7v8LACgA+//z//7/+/8EAPP/5P/9/+b/1f/d/8z/5P/S/57/p/+r/6X/rv+5/7b/rv/N/+v/5//7/wAA6f8PAB0ACgAPAAUAEQADAPD/AwD+/wAABQDv/+v/AgAJAA8AHAAKAAEAEQAUAAIA9P/3//n/9v/3//v/7v/q//f/6//f/+T/7//4//r/AQAkAEIAKQAjAEsAVQBCAD4ARAA8ADcAHgAYADAADgD4//n/7v8HAP7/5v/1//X/9P/y//D//P8AAOf/2P/1/wAAAQADAPP/9f/v/+z/9P/o/97/0P/Q/8r/sf+//8z/uf/A/8L/v//y/wkA+////xUAPAAuACMATQBCACoANAAsABUADQAKAAMA/P/1/+3/6f8BAAAA+f8aACIAIgAhABwAMQA/AFQASgAiADUATQA0ABkAGQD5/83/2v/V/8L/1f/l/9v/y//U/+r/4//U//H//v/i//T/CgATABwABgADABoAFwD3//f/EwD9/+L/5P/q//T/3P/D/9r/+P/x/9z/8/8aABYABgAaACkAIgAMAAUAJgAVAPP/EAATAPD/5P/r//P/6//c/+P/4v/n/wAA8P/l//v/AQAAAP3/EAAMAP//IQAeAAEABgAIAAoACAAGABEAFQAIAAUAFQAWAA8ADgANAAwACQAJAAUAAgABAAcACwD4/wkAGgAKABIADgAJAAsA/f/+//v/7///////5v/q////9v/f/+b/8//m/+T/6P/s//n/9P/y//r///8GAAsACwANABEADgATABkAEQARAAoADAAPAAEABgANAAYA//8BAAgABgAGAPr/+v8EAAcABwD5/wAAAAD1//P/5v/x/wAA+v/3//r/BwANAP7//f8LAAIA/v8JAAIAAgAJAAUABAD5//P/9f/4//7/AAD9//v/AQAFAAUAAQACAAwABQAAAAsAEAAGAAEA/v/z//D/6f/z//7/6//v//r/7//w//v/////////9/8GABYABwALABMACAAAAP3/AAACAP3/9f8AAAwAAgDz/+3/+//4/+//+f/3//7/AwAAAAYABQADAAEA/v/8//3/AAALAA0A/f8AAA4ABgD5//X/+//8/wAABwAFAAIA/f/9/wEA/v8AAAIA/f/9/wQAAwAAAAEA9f/r//L/AAAAAPT//f8JAAYAAQAIAAQA9/8AAAgA/v/9/wcADAACAPr///8FAAIA/v8EAAcAAwACAAoACgD9////BwAHAPv/9f/7//r/AQAKAAcAAwACAAEA/f/4//3/AAADAAoAAADt//X/AgAAAP7/+v/6//v/9f/6/wQABQD7//P/9v/3//f//////wIABQAAAAUACgAHAAMACAAJAAYAAAD6//v/+//8////+//6/wQABwACAAUAAQAAAAgABgAGAAgABAABAPz//P8CAAAA+//8//r/9P/z//P/9//3////CAAKAAMA+P/9/wAA//8EAAgADAALAAYABgAEAAMADAAKAPn/8f/2//z/AAD9////AAAAAP//9//4/wAABQAJABAAEAAFAP7/AAAGAP//9P/z//r//v/6////AgD3/+z/8v/7//r//P8EAAUAAAAAAAcACgANAA4AAwD7/wEADQAMAAcAAAAAAAMAAwACAP3//f8BAAAA+P/0//n//v8AAAAABAAJAAUAAAD//wIACAAPAA0ABgAIAAkAAwAAAPz//f/8//P/8v/6//z//v/7//X////+//T/+v8DAAwADAAGAAMAAgD+//3/BAAJAAQAAwAEAAIAAgADAAQABgAAAPv/+f/y//b/AQAEAAYAAgD6//j/AAAGAAsACQAEAAAA//8EAAYAAAD6//j/9v/8/wQAAQD5//X/9f/0//P/8v/5/wAA///9/wEABQABAP//AgAFAAUABQABAP7///8CAAgABgAEAAAA+//+/wAA/P8BAAQA/f/7////AgD///v/+//8//3///8CAAkADQALAAcAAAAAAAAA+//9/wMABAAFAAAA+v///wMAAAD6//v/AAACAP7/AQAKAAgA///6/wMABgABAAEABQADAAAA/v8CAAUA/v/4//T/9P/z//r//P/3////AgD+//3/AQAGAAAA+/8BAAYACAAHAAEAAQAFAAcABgABAP7//v8AAAAAAAABAAEA+f/1//j/+v/6//3/AQAFAAQAAAAAAAEA/f/9//r/+P/+/wEAAwAEAAUAAwD///z/+//8/wMABwAEAAIAAQD9//v/AAAEAP///P8AAAcABwAEAAIA//8AAP7/+f/8/////f8DAAUABAABAP3//P8CAAgAAwD9//z/+v/3//n/+f/8/wAAAAD9/wEABwAFAAMAAwAAAAAABgAHAAUAAQD+//3/AgAGAAQABAD+//n/+v/5////AAAAAAEABAACAAAAAQADAAAA+f/4//7/AwAEAAAA//8BAAIAAAABAAUA///7//7/AQABAAAA+//5/wEABgAHAAMA/f//////+/8AAAQAAQD6//f/+//+////BQAFAP7/+v/7/wIABgADAAQABAABAPv//f8AAP///f/7//z/AAABAPj/+P8AAAIAAQAAAAEACQAIAAEABAALAAUA/f/8/wAAAgAGAAUAAwD9//X/+v8BAAMAAAAAAP//+/8AAAgABAD9//r/+f/9/wEAAgACAAAA///6//f//P///wQABgD///v//v8AAP7/AAADAAAAAAACAAEA/f/7//v//v8GAAIA/v/8//n/+v/+/wIAAAD5//f//f8AAAEAAgAAAP3/+v/8/wAAAgAGAAkABAD//wEACAAHAAEA/P/8//3//P///wEAAAD+/wAABgAHAAQAAgAAAP3/AAAEAAEA/f/6//f/+f/+/wAAAwADAAAA/P8AAAMAAwADAAEA//8CAAkACQADAPv/+P/7/wEABgABAPz/9//4//7/AgADAAQAAQAAAAAAAAADAAMA///+/wAA/P///wIAAQD///v/+v///wUAAwD9//z//P/8////AAABAAYAAAD8//3//v/8//v/AAAEAAAA/f8AAAQABgACAP//AAAAAAEAAAD8//3///8AAAAAAAAEAAoACwAJAAQA/v/7//r//P////v//f8BAAAA/v///wAA//8AAAQAAQD6//r//P8AAAMAAAD//wIABQABAP//AQAEAAIAAQD///7/AwAHAAMA/f/6//7/BwAFAAAAAgABAPz//f8AAP///v/+///////7//z/AgAGAAQAAgAAAP7///8AAAAA/v8AAAcACwAIAP//+v8AAAAA/f/7//z////+//n/AAAEAAAA/v/7//f/+v8AAAAAAgAHAAQA//////7///8EAAYABwAIAAIA//8AAP//AgAFAAAAAAD//wAAAwAFAAMA//8CAAMAAAD+/wAA///8//v/+f/5//z/AAACAAMABAAEAP//+P/4//n/AAADAAQABgAGAAIAAAABAAUABgABAPz///8CAAIA///7//v//v/+//7/AgABAAIAAgAAAAAAAAD9//r//v/8//7//////wEA///6//v//P/8//n/+P/9/wIACQAKAAYAAwACAAIAAAAAAAEAAAD//////v/7//v/+//5//r//P/6//v/AQABAAMABAADAAMAAQD+//3///8CAAAA/f/5////CAAKAAYA///8//v/+v/5//z/AgAFAAAA9//4//7/AwAAAAAAAgAFAAUAAAD7//3/AQAAAAAA/f////7/9//4/wAABAAFAAUABgAEAAAA+v/5////AAD5//r/AAABAAAA/v/9/wAABgAHAAAA/v8AAP//AAADAAMAAAD9//7/AAACAAAAAAD9//z/AgACAAAA/v8AAAQABwACAPr/+/8CAAUAAwAEAAQA+//0//n/AgAIAAMA/f/8/wMAAAD4//v////+/wAAAAAAAAIAAAD5//z////7//7/AgAHAAkABwD+//n//v8EAAYAAAD5//r/AAABAAAA/v/9/////f/8//z//v8BAAIABgAKAAsAAwACAAYAAwD9//7/AAABAAcAAQD6//3/AQAEAAAAAQACAP///////wEAAgD///3//f//////AAAAAP//BAACAAAA/v/7//z/AQADAP7//P/7//b/+P8CAAMAAAD7//z/AAD+//z///8CAAUAAQD9//z/AwAGAAEA///5//7/AgAAAAAA+P/3//3/AgAGAAMAAwAAAAIABwAKAAYAAAAEAAQA//8GAA0ACQANABAADgAOAA0ADAAFAAYADAAGAAIAAAADAAQA+v/5/wEACQAIAAYABQACAAIAAAD///7//f/1/+7/9v/8///////7//3////4/+7/8v/5//n/9f/0//j/9v/4//j/9f/8//r/+//8//v//v/0//H/8f/m/+T/5//n/+v/9v8DABQAFQARABsAIgAkACcAJwAnACcAJwAmABwAEgARABYAHgAfABUAEwAZAB0AGwAOAAcACAAAAPf/9//6//P/6P/q/+P/3f/l/+j/6v/0/wkAEgATABwAFwAXABgADQACAPv/+//3//f/7v/f/9j/x/+9/7T/u//J/8b/yv/P/9H/0//d/+r/7f/8/wYAGwArACoAPwBFAEQARQBEAEAALwApACUAIAAcABcADwD0/+//7v/r//X/6P/k/+P/2P/U/87/x//I/9j/4//q//P//v8KAAcADwAgACEAGQAeACQAHgAgABgACwAHAAEA/f/1//f//P/+/wMAAgAAAPj/8f/2//D/7P/v//7/CwAEABYAJwAoADQANQBGAEcAKgArAC0AIAAIAPX/3v/E/8j/0f/b/9z/3P/l/+j/+P/+//v/BwAVACAAGQAbACUAJgAvADEAKQAtADsARQA+ADoAOgAdAAkABADl/8L/o/+M/3//cP9t/3H/a/9f/3H/if+J/5P/m/+p/7P/rf+2/7T/sv+9/73/xf/l/wIAEgAsAEsAbQCKAJsAtgDMANoA4gDmAOMA3QDmAOoA5ADcAOgAAAEIARYBHQEhASMBDAH4AOQAugCAAEwAFwDi/7T/h/9X/yn/E//z/sb+rf6O/mb+Qv4U/t/9mP1Z/TL9Cv0E/RP9Iv1W/aT9Af5j/sn+Qf+s/wsAaQC0AOoAFgFDAWYBhwGdAbIBzgHmAQgCJgI3AkcCQgIuAhUC2gGVAWEBNQEVAfcA7wAYAWIBuAEjArECMwOtAx4EbQSoBL4EpARQBN8DVAOcAsIB2gAFADL/Uv5v/ZX8xvvq+gz6T/mO+L33LvfH9nT2bval9iP32PfC+Nv5DPtb/J790v7s/98AoQEoAoACvQLhAtkC0QKvAogCeAJXAmICXwJVAnwCngK9AtMCBwNQA6EDDASJBD0FEQYMByUIUwmfCr4LzAy1DTYOWA4ZDnsNbAznCu4InQYaBFABeP6g+8X4DvZh8/jw3u7x7GDrDeoQ6YnoVeiK6D/pduo27G3u//AL9F/3zvpq/ukBOwU2CMIK/gyKDnUP+g/rD2kPiw5WDfELTQqCCMQGCwVQA5IB3f9T/gz9APwh+4z6bPrP+qz7+/yt/sgAOAPaBZwIPAuoDa8PMBFPEqcSWRKqEVMQhQ5PDNkJPQdFBEgBTP4W++X3ufR+8W3umuv16MLmCeXJ413jquOq5IPm6ujp63XvSfM19/P6lf4TAh4Fzgc7CjEMyA01D1YQNhHLEfoR/BGqEdEQhg/MDbELIQk9BlkDWwBY/bT6ivjx9gT2lPWm9Wf2p/cp+dL6svzD/soAwgK8BMEGvwjCCtAMxw6xEEoSnROPFMgUiRRqE04Rlg4gCxIHegKh/dH4CvS57+/rieja5eLjcOKy4YHhvuGL4pXjDuUS51jpHOxO7+fyAfc4+6L/OASOCL0MWxAeE2AVsBYUF9kWyhUjFPYRaA/HDA0KTwe8BG0CUQB+/un8e/tj+oj5//jl+Bz53/km+9L8Mf8bAlAF6AikDFsQ5RPmFmoZKxvkG8EbnhqIGLsVJhL3DXYJlwSt/736q/Xq8DLsledn43PfENwz2QzX59WK1S7W+NfT2oLeAOMp6IvtJvO5+AT+/QJ4B14LtQ6NEc4ToBUKF/kXmRjJGJEY9BfiFkQVGROREJQNTArKBiYDwf+Z/Pb5EfjD9i72ZvY694/4L/rq+wH+CgDPAcMDigU6BwgJ0greDO8O9hDwEoYU0hWFFjwWExUFE/gPDAxZBwcCl/wb98Tx9+zA6EvldeJl4EDfj96a3jrfEuBY4ePi5+RR5+/pAO2B8HT0qPgb/b0BVwbKCskOQRLpFLEWnxd9F6QWKRX9EnEQzw0mC3sIKwYxBHIC6wBy/zv+Ff3L+7H6rfnQ+Fn4Nvix+Nj5ivsX/h4BegRiCEEMBBCSE4kW7xhZGt0aphp3GYYX1hSfETMOWQpdBnACTf4X+vv12PGo7Z/pu+X94bjeLtyC2p3ZoNnN2vXcB+De4znoAe3l8bT2W/t8/zQDpgaFCfkLBw62DyoRNhIxE8sT5BPvE2cThRJOEXIPVg3VChQIPQWBAu7/cP2o+3X6wPnA+Vf6Xvul/Fn+/v+MAUkDuwQYBmQHtggzCpYLIQ23DhoQThEsEm4SJxJLEYAPKA03Cq8GCQMa/y/7bPfb87fwwu1D60XphOcf5inlxuTp5FHlDuZZ5xbpIut+7Qjwt/KV9Zn4mvuf/qcBaQTuBiAJ7QppDEUNpA2/DXMN5gwoDFULmwrSCQEJXQjBBwgHSwaLBbAE0gMbA2wC6wHLAeABQQLgArcD2QTuBQAHBAjiCMQJaAriCk0LfwuXC3AL+ApoCqkJiAglB4cFvwP+AQsA9P32+/759vfw9Q/0LPJb8MnuXe1R7KrrWut+6wns/+wp7n3vFfGk8h30oPUa94L4CPqf+x79wf5pAOcBYwO4BNwFvAZQB8sH8gfjB98HuwerB4gHUwd3B28HWAeEB1kHNwc/BwsH3wa1Bo4GTQbiBbEFgAUiBc0EkQSFBKAE3QQ4BagFVAb7BoUHDAhICGQIVgjtB3QH2wY0Bn4FnwTJA9oCwwFvAN7+LP1A+yX53vaD9EfyP/Bf7qjsW+tl6tjpsem06Sjq9Ory62btB++18KXypvS/9gP5F/s9/X3/bwF7A4kFTgcJCaAKBQwYDcgNSw5sDjkO0Q0XDUwMfwulCtMJEwmJCOQHPAfoBn0GEgbQBYIFVQVZBZQF7wVrBiIH3AerCIMJMQrACgoLHAsFC40K1gnqCJEH/wUwBB0C5f9Z/dH6SPiZ9R7zqvB07n/souok6dfn7OZE5uDlIOaK5m3n3+iD6qHsAO+U8VX0DffH+XL8CP9sAZYDowWnB3YJ9wpQDG0NWQ7xDjMPRA8GD7EOHw5HDXUMowvJCrcJrgjHB9MGCAZHBaMEXgRVBHIEwwRhBTsGHgf3B+oIywlxCgQLWAtrC2MLHgueCv4JKwkLCK0GCwUOA+AAkP7d+wL5RfZd84nw9+1560/pc+ff5bbk9OOo47vjKOQS5X3mL+gU6lrs1+5V8RD04/aB+UD8Hv+9ATwEvAYtCWELSA3xDmoQdBEKEl4SNxLpEW0RcRCFD5AOkg29DMoL2wonCqUJFwmFCPYHkwdpBwcH1AblBvsGUgeaB/gHjwgUCXEJkAl4CS0JrAjFB3oG9QQnAzQBEP+X/BD6u/df9eTynvB07m3sperx6GfnHOYN5T/kxeOh49TjiuSe5RrnJel76zHuKvEl9Gf3ofqf/YgANgOiBcYHsAlsC+MMPg58D5gQjRE3Er0SKhNHExIThRK2EcMQgA8zDu0MiQtoCmsJrQhKCBAIJghJCIMI5QhBCYAJjQmjCY4JTAn2CHwIIwijBwAHdAbPBR4FOAQVA8IBFQAx/hP8nPn39jz0cfG77i3s2OnJ5zTmDeU55NfjyeMy5M3kkOXF5gHojulD6wftUe+18Vv0PPdC+qb9+wAzBFIHUgoTDXQPXhG4EsYTgBTJFJkUOBTfE0gTlRLJEQcRWBBuD4EOgA1UDCcL3gmKCD8H8AXqBCcEbQMTAwYDQAPPAz8E1wSzBU0GoAbhBtoGngZABmcFfgSKAzcC6wCO/xj+nvwT+1/5fPe89cnzq/Gl74Xtn+vg6TjoBOcg5qHlueU35ibnd+gx6lTsee7S8FTz5fWv+DP7zP2UABkDrAU6CKkKDw1EDywR3hJLFE4VCRZHFh0WsxXeFLQTPRKoEAYPSw2CC8IJLgi/BnMFNQQgA0YCjgECAYkARgAdAB8AcgC6ADABywFsAiwD1wNyBPgEYgWNBW4FGQV6BJ4DeQIEAVL/gP2E+3n5ZfcV9fjy+/D+7kztr+ta6mHprehL6D7ouehs6V7q0+uH7XHvnPH083v2HPnO+5P+LwHHA2YGwQgMCwENng4zEFMRNBK+EuYS7xJmEqMR6BDgD5QOKw3eC5IKQgkCCN8G7gUYBXAEywNQAysD+ALmAgEDOQOuAwgEggQgBZ8FPQalBuMGOAdEBwgHiQbWBe0EogM0Ao0An/6g/ID6VvgY9uPz0fHB7+PtIOyR6l/pVeiT5y7nJOdn5+rn0ego6sPrje2y7xzyovRV9x365fyy/2wC9ARiB7QJuguODSAPWBB6EUkSvhL3EtcSqRIWEi0RThAoD+0NogwuC9cJmwhkB1gGgQWjBA4EuQNEAw0D+wL+AjQDRgN5A94DMwSHBNAEKAVZBW8FgAVFBf4EbwShA9cCpgFZAPz+SP2W+9T59PcN9h/0XvK18CvvuO1v7HzruOpF6u/p5elV6tfqpuvE7Bnutu+N8Y7zsfUW+Hf6z/xO/7QB/QM6BlEIMQrxC48Nyw7ZD8YQVxHSEfwR3BG4EUQRlhC4D80OzQ2aDIYLbQpGCU8IWgd3Bt4FUAXTBHwEMAQKBO8D3gPhA+kD+gMQBBAEDgQOBOwDxwN8AxMDiwLBAfIA3f+R/kn9ufsF+mj4q/be9CnziPEa8Kzudu2b7MfrROsV6xbrT+u563/shO2m7gbwqvGL82v1hPfu+Tb8sf4UAVEDxAXUB8gJnwsBDUUOTA/zD2UQoRCkEG0Q7g9vD8gO0Q3yDPELzwrFCZ0IfQd4BnEFlgTTAxsDowJRAh0CAAIuAo8CtwIfA7ADEgSTBP4EQgWFBZoFkwVeBQYFiATOAxUDBQLFAKD/M/6f/PD6JflP9331q/PY8S7wqe5P7RjsPeul6kDqTeqT6irrEuwr7ZfuPvAa8hH0FvZh+M36E/1v/+EBKgR1Bp0IjgpxDAEOYQ+FEEIR4xEcEhcS6hFjEc8Q5Q/TDs8NowxuCyYKAAnuB9UG5gX/BB8EbgP4ApUCEALCAdAB0gHZAQQCUwK7AgwDZgOdA7UD7wPiA4EDIwOXAsoB5gDH/2X+CP2b++r5MviP9t70KfOZ8SLwqe587YPslusE66nqguq/6lXrLuw/7azucPBW8mz0s/YU+Z77HP6YACIDjQX9BycKEwzxDYIP5RDeEY4SJRNLEysTxhIaEksRRhAFD5wNNAy3CjkJwQc8BvwE6gPKAtMBKgGPACMA+v/W/+X/DwCAABIBfwFDAuUCbwMYBH4E6QQQBfUEzwRZBKwD1QLCAW0A//5g/Zv77vkY+Ev2nvTP8k3xG/Cx7oTt0Owj7K7rbeuB6+TrXOxQ7Vbuhu8s8dTypfR69oD4wfrU/Of+CwE/A0wFPAcNCbcKVQydDb4Oow9GEOEQEBEGEcsQVBDYD/EO4g3sDM4LiQpRCUIIFAcIBjoFYAS+A1gDGAPrAtcCHANlA7kDNwStBEMFvwUxBo8GpwbRBsYGggYlBmkFngSnA0oCwwAk/1v9W/tM+T/3O/Us8yXxXe+s7R/sz+qe6czoWOj45/LnUOjc6M3p+upS7Pvt0O/k8QD0LPa0+B37aP3u/2YCyAQ1B20JWgs2DfcOfhC2EZcSXRPoEwwU/RORE+USGBIEEckPYQ7vDHYL7gmICA4HzQXDBJIDzAJcAvgB2gH0AUICrwJHAw4EvwSJBWYG/AZtB84H9gfhB5oHAgcXBvAEeAPKAej/yf2H+x75rPY49OPxn+9R7Vvroekh6Nzm3+Vj5RXlS+Xn5bPmDOiN6W7rkO2z7zby0/SH90r6I/3//60CVwXMBzYKcwxMDvMPUhFvEkQTshOqE4cTLhNnEngRShAWD7wNQQzUCk4J2wdlBj4FFATZAg0CGwFvAPD/Qf8J/xX/VP/A/0wAKQF0AvADRQXCBokIegozDHQNbA4HDzsPqQ4bDfkKYwhEBXUB2fzU98byqu1z6CDjad6e2oLXVNXV01zTQNQk1vnYfdwN4a/mr+wA82b5t//qBYsLbhCWFPwXxRp9HBUd7xziGzoa4RfhFOIRxg6ZC5EItgUcA/MAXf/+/Rz98/z6/Db9zP1n/h3/EQAMASsCfwPlBIUGLAi5CZoLkA11D30RbxNwFS4XTRjNGE8YExfuFK8Rhw17CAYDG/3G9kfw8ulU5EjfENv11+rVSdX81YPXAdp13V7hyOVn6vLuWPNU9976tv3b/2UBlQJrA9YDQwRnBIME8gR3BSUG/gYrCI8JFQuADJ8NoQ45D4sPWw+nDtsNzAy0C1AKlwjyBmoFFgTIArwBCQGrAK8AugDRANQABAFtAXkBmgHwAWkCEQOlA1oEJQVUBs0HLgnHCk4M1Q0SD6UPuw8ID68NewuOCBQF3QCM/PL3O/O/7prqYufM5AvjGOLh4bHi4eO65Qrocepo7TvwDfPI9eP34PlO+1n8Vf0L/uf+z//dAPEBEQNFBDQFUgZFBxsIOQkpCssKPAtiC/MKRwpRCRgI/wbXBegEPAStA14DTANwA9kDPQTcBKUF3AUqBjUG1AWHBQUFvgSIBIsEcARqBB0FvgXzBuQIIQv7DQwRohNuFUYWGRagFMAR/w2kCcIESP+E+VTz3+z95q/hTN0U2rLYP9ke2xTeieF/5XjpLu3i8Bv0/vam+eT7qf2X/vH+5v6b/mf+Vf6d/m3/+ADbAucE8AYyCaALtw3dDxURyBH2EU4RfxCVDoYMWQr/B/UFggMxAe7+jv0k/Q39CP5r/4MB3wN3Bb4GNQeAB8QHAAheCGsItAi+CK8IOQiNB54HQQjxCXwMfg/OEXcTdBTaE/IRSg4fCqwFswCX+5j1k++L6cvjsd5x2uvXDNdX2Kba390G4gfmX+qB7r/yS/Zc+WP8d/4xAGcA7/8t/zT+2f2L/d39Wf59/z4BuAJKBCoGmwhtC/sN6Q8tEZsRSBHRD8sNcQswCcUHLgbfBCUDrwHLAMT/9f8rAMcB8gPjBToIlAj3COwH6gaCBgQFigUXBb0FMAb8BdEGXQaUCC0KkA0sEUwTDRf9FhIX2xNhD00LZgQ/AJX52vPz7bPm8uFc2w/YsdVr1ZvYjdtY4aLlJOqD7hfxavTp9Uv4PfqD++P8Xfze+xX6x/g2+Nv3n/nV+13/UAMCB+8Keg0YEI8SXBQNFrcW8hYiFlsUuBHEDfYJUQahA4kB7P+B/x3/pP95ACgBOQI8A/MEVgbzBh0HTAYoBWQDeQHa/zr+xf0f/vD+AADMAacElwdqC30PcBPyFjoZIRrRGLgV6hAmC8oEC/6y94jx9usW5wTjyt/j3Zrd7t7V4YblL+q/7vHyivag+EX60voH++T6Ffq0+Wv4tvce93b29faR99b5jPyr/zED+QVTCdkL+g26D68QjxFyEbwQ6g5UDJIJUwZjA7cAB/8b/oH9hf2P/Xf+vf8jAR8DMgW9B5kJywoYCxYKrQg5BgoERQKuAHkAewBjAQ0DlwRFByMK6w1wEvkVkxnFGz4cvRpaFtkQ3glZAhz7tPMh7V3nquLi3hDc2dqt213eGeLf5tTrlvBv9Jb24ffj95H3/fb19UX1G/Ry83XyjvHN8aXyQvVp+L/8zwGjBqwLKA86EmsU/BWYF/kXKhhcF6sVHxNzD5ILiQcxBGUBpP+T/j/+v/7H/sb/uwAlAiUEhwXKB34IsAgrCNMFxQNTALb9sPvC+aT51fmc+/H9EQGABfwJSw9JFDAZoBwKHtUdzRpbFqYPqQdf/4X2u+7f5kvgRdt319DVadV710XbGuB35Yjqd+8782z2Cfh0+KD4E/h59431yPPK8gzypvK985T28foiAPoF9QocELsUahgaG14ckR3DHeQczhqWF0wUOBAnDOsHLQT6AUcAXP+b/nL+8v41/wAAwwCkAZICRwO7AyADIQJvADX+3fvM+Qz50Pib+XD7G/7OAZwFKQqtDgkTqhdMGwIezh60Hega1RWLD98HmP+e9/XvNen54hrex9qb2GjY99lB3aThjubv66PwTvS+9t338fcl91D2PfXj86zy1/HJ8SDyf/MR9rL5nv4cBA0Kmg9tFGkYixq1G+4b/hpQGZ8WxROtECINXwmgBXsCMgC+/tX9Bf66/rr/6ABYAeYBAwLXAd8BRgEjAX0Ae/+T/of8NPvt+Qv5PPmW+Z37N/5XAe0EPwhbDIcQihQOGAAbDh1BHSQcqxiSE2wN+wXR/rT2h+886fList5F28/Z+NlS25necuJG56rsqfH09S75yPtP/en9lf2U/Nz7xPp7+lv6XvoK+2n8G//XAXQFcwmLDRARYxQTF78XjRiBGL4WFhVuEp4PugxTCGwGTQEVAxQP+hEiFIkWsBZFGFoY/xeGFaISZA8jDHAImwRkAcT+hPy3+kn6gvky+h77CfyQ/QL/vQAtAr0DswT3BB4FHgVTBFsDrAIhApkB5gFTAq4CBgShBSQIhwpcDUwQQBK+E+4T2xJZEOsMfggZA3D9GvfX8NrqAeWU4MvckNqt2XnZYNvS3Wrhi+VX6UDtRvG89Xn5GP0kAG8CfQSQBT8GFAafBa4FOgWTBfwFMgYAB8kHLAlJCuULVA1BDpAPBhAVEHkPSw7bDDULsQnFB7gF5QMZAloArP5I/cz7z/qQ+jr6oPpQ+/77Bf0I/ub+mv8uAMYAXQH5AdQCUAPyA8YEqwXLBgUIfAm8CioMRg23DcgN8wxxC3UJ5gbZA10Axfz4+EX10fFx7p/rJul+52zm9OU+5ujmJuix6aHrie3n723y3/S39/X5Sfxi/tf/cAGPAoIDbQRZBU8GHAf7B2sIGwliCZoJ9gmRCeAJhgkSCc8I1gdjB8wGXQbWBS4FvAQFBLMDGANnAvwBUgESAbgAlAB3AAgAGgANAAsAGQBLAHUAuQBuAbYBMQLIAjsD4gNgBMkE+gQnBW8FaAVRBR8FxgRLBJwDtAKNAUQAtv48/ZP74fke+G/2YPXz8/DyVfKP8Z/x2vEE8pHy6/KF81T0BfUt9j/3Z/jr+Tr7YPzI/f3+EwB7AXwCpAO2BGcFbwbKBgcHXAcvB4wHnAeGB5cHPAcqB9UGlwZRBtIFqAVOBfgEcQTXA1oDpwIjArgBbAFVATkBVAFpAYwBkgGTAcMBuAHQAasBnwG9AXEBYwF0AYkBtwEGAmsClgLKAvYCwQKEAhoCXgG2AOz/8v4E/v78IPxE+1768PlS+dH4s/hS+DT4L/j59wv4Kvj/9xL4KvgT+Gb4r/ju+In5F/rm+sL7g/yW/VD+LP8iAKEAYAEHAmoCxgIuA6QD2QM0BMMEHAVyBdQFEwY3Bl8GVAYqBv0FkwVDBfkEmgQ8BMMDZAMiA/ECvQKoArUC1AIGAyMDSQNKAx4D/gK/AmECMgIaAuYBrQFrATwBKwHiAJQALQCg/yL/XP6c/d38+/sv+1/6rPn6+H34VPgt+DL4WPjT+HP53/lz+tb6Nfuq+9T7/vsB/Or72/vL+9f7IfyN/Pf8qP1V/vj+7//GAFIB0QE8AoQC0ALxAgUDNgNcA5gD2wMjBHQE2QQbBSwFUgVxBYUFNQXPBJIEHwS7A0ADwAJUAukBhwE2ATIBJwEIARkBLgEvATsBLAHwAKgAFACj/1//3v50/jz+J/75/dn96/3v/eT9uP2n/ZH9Xf0w/dD8nfyd/IL8i/yq/MX88fw6/ZT9w/30/S3+Wf6S/nv+gf6n/oH+k/6f/qb+y/7c/ij/dP+X/8X//f9JAKcA1wDnABQBLAEtATkBKwH8AOYA3ADfABMBRAF2AZQBowHPAfwBGwLtAbYBmQFYASwB8ACeAJ8AyAC1AKMArwCtALsAtwCWAF0AQQBoAFcAEwDi/8D/t/+y/57/iP+A/1b/F//9/uT+4/71/tf+4/4U/wH/6P7b/q/+bv4g/vj99f0B/ir+SP5o/q3+9f5B/3b/df9u/1r/Sf89/xL/+/4S/0f/Zv99/8v/AgAwAG4AnQDIAM8A5wACAQoBQwF3AYkBjAGBAW8BUQEYAfMA7gDZAPYAGAETAUcBlwGmAYgBcwE5AQIB1QCLAFEAEgAAABAACwAFAAoALwA1ADQALQDZ/53/hP9i/zn/+f7j/vf+8v76/v/+4P7Y/tL+t/6k/oz+cv5z/nf+av5x/mz+Z/6D/oH+ff6W/rr+4v4Y/2r/s//0/ygANAA4AEMAIgAAAPz/6P/n//H//f8yAGsApgDwADIBXgGIAZkBggFfAR8B6ACvAI4AnwCSAKEAxgDNAOUA6ADdAOMA4QDhALcAZgBWADEA6v/s/8r/sv/c/7j/kf+T/4v/j/99/2//ff+S/5v/cf89/yX/Fv///t/+0/7F/rP+0P72/h3/Vv9g/1z/ff9u/y3/A//h/r/+tv6d/q/+Fv9L/4b/6/8JACsAUgBuAI0AfgB5AGEAPgBDACIAFQBPAEoASQCNAKQAuwCwAJAAvQCtAIsAjACDAIsAZgA6ABEA5//j/+7/+f/s/9f/1v8AAA8A6f/u/+T/1//O/6f/u//C/5n/kv+b/7P/2f/V/9P/+v/7//D/7v/j/9j/tf+x/6f/kf+u/8D/2f/m/9D/4v/6/wwABwDr//j/+//O/8X/0f/T/87/rP+z/9L/zP/R/93/9/8AAPH/+v8VACcAHgASABQADgDx/+z/AADu/77/l/+q/8v/yv/O/9L/6P/q/8v/yP/J/9H/2v/C/8j/6v/w/+j/0//a/+T/zP/R/9b/1v/f/+H/1v+5/8r/5v/8/xMACgAWACwAOgAuAAAA+P/u/9L/0P/b//v/6//O////CgARABYA7P8MAB8A6//j//b/+//t/8//0P/w/9f/wv/n/wQA+P/i/wEACgAhACEA8v8hAB8AHQA6AAsAJAAoAPz/8//6/wAA7f/l/9b/0v/H/6//yv+8/6T/uP/I/9D/3f/1/+j/yf+7/7P/wv/K/7//tP+v/6X/rf++/7D/tf+5/8v/BgASAAoAGgAWAPv/+/8AAOv/0v/R/97/xP/C/9j/2P/a/8T/1v/q/+v/6P/R/+H/2v/o/+3/2f/7//D/8v8AAAMAEwANABYADwAQABgAIAAeAAIAEQAbABMAIAAyADsAMgAXAAgAEwAdACYACQD6/wYA6f/k/9L/x//y//D/3P/n/+//+/8QAPT/5f8EAPr/6//c/9n/4f/H/67/rf/M/8L/qv/B/9D/4//Y/9L/+f/7/9n/v//m/wEA6v/1/+T/AAATAND/6P/p/7//zP/N/93/2P/I/8T/3f8FAPH/AgAZABUAMgAfABAAFAD+/+3/5f/u/+r/1v/Q/9X/3v/X/9v/+v8QAB8AFAAWADIAKAAPAAAAAAAOAAYA7f/o//7/+//d/9j/7f8AAP//+////woA+v/e//H/CAAFAOn/4P/s/+X/5//j//D/9v/p//j//P/4/+//5P/q/+z/6v/q/+3/7P/u/+b/2v/g/+T/3//Z/+v/9v/q/+n/8v8FAP//7//3//n//P/u/9//3P/X/9X/0v/Z/+z/9v/v/+r/9P8DAAUA9P/s/+//9v/z/+X/7//5//T/8P/8/wgA///8//n/5//c/9f/6P/9/+r/1v/h/+7//P8HABAAFgAVAA4ABQAHAAAA5//i/+L/4P/h/9r/2//l//H/+f/2/wYADAD/////7f/k/+f/2P/R/9b/3f/c/+D/6//q//T//v/7//7/AAD+/////v/0/+7/7//s//X/9f/h/+L/6v/l/+3/9//6//7//P/9/wAA+v/2//f/7v/p//X/+P/s/+j/8v8AAAIA/v/7//7//f/u/+j/6//k/93/4P/v//f/8f/w//r/BQAHAAMABAAEAAEA9//v//X/+//x/+n/8f/x/+n/6f/x//3/9f/z/wIABgD9//T//P8CAPn/7//t/+z/4f/c/+n/9f/8//X/6v/1/wMAAAD8/////////+//5v/u/+n/4P/g/+f/5//l/+v/6//x//L/8P8AAAUAAQACAP//AAD4/+//9f/3//H/5f/t//v/9f/2//n/+f8BAP7/8f/x//f/8//o//D/9P/0//v/7//n/+3/7P/s/+f/5P/q/+3/8f/1/wAA///y//T//v8IAAcA///6//f/+//3//H/7v/k/9//4f/q/+7/7P/s//D/+v/9////AwADAAIA/f/7//3/+v/y//D/9v/1/+//7P/x//j/9//x//P/9//9//r/9v/3//L/8P/5/wQAAwD9//b/8//6//b/6v/p//L//P////v/+v/9//T/6f/s//L/+f/7//P/7v/r/+z/9P/8/wAA/P/5//f/9P/5//X/7v/x//L//P8CAAMAAwD3//P/+f8AAPr/8v/u/+b/5//p/+f/6//t/+z/8v/4//j/8v/v//H/+v8AAPz/+////wAAAAABAAUAAAD8//v//f/8//X/8P/w//X/9v/y//T/9//4//v/9//y/+7/8P/3//3//v/8//f/7//v//P/8//u//D/8//4///////1/+3/7v/0//n/+v/9//3/+v/z//L/+P/5//b/8v/3//7//f/2//b/+v/8//7///////v/8v/v//j/AAD+//j/8//x//D/8f/z//X/8f/t//D/9f/4//P/7P/x//n/+//6//P/9f/7/wAAAAAAAPz/+f/9//z/9f/u//T//P////3/+f/6//r/9f/2//3/AAD6//f//P8GAAYAAQAAAPz/+f/9/wAAAwAAAPf/8//2//f/7//m/+X/7v/y//j//v/+//r/9v/7//7/+//4//b/9//9//v/9//y/+7/6//w//r/+P/y//H/9v/4//T/7//y//X/+P/7//3//f/5//r/AQABAP7/+P/3//7/AgD///r/+//2/+7/6//q/+z/7f/s/+7/9f/2//H/+f/+//r//P/7//3/BQAEAP//AQAAAPn/+//9//b/8v/1//n/AAACAP7/9v/0//r//P/8//j/+//6//b/9f/w/+v/7//5//f/9f/3//X/8//z//X/+v8AAAQAAAD7//b/+f/6//T//f////3/AAD9//n/9v/1//H/7P/s/+//7f/w//X/9f/v/+z/7f/w//b/+v/7/wAAAgD+//v/9v/6//b/6v/k/+b/5//h/93/3//r/+3/7P/u/+7/9P/y//f//v/+//f/6//y//b/+f/6//b/AQAHAAYABwAJAAIA+P/z//H/9v/2//X/9v/7/wAA+v/2//7/AQAFAA4AEQARABEACwAJAA4ACgAAAPv/+f/3//f/9v/2//r/+v/5//j/7P/d/+X/7f/9/wgABAABAP3/AwADAPr/+f/9//3/9//7//3/9v/z//D/9P/v/+H/4f/n//H/6//e/+X/8f/w/+z/5f/o//7/AQD8/wkAEgANAAUA/v8OABkABwAAAAwAGAAOAP7/AQAHAAUA+f/s//T/+v/z/+7/AAATAAcA9v/r/wAAEgACAPv/BAAVAA8AAQAAAAUADQADAAAACwAMAAUAAAACAAcABQDr/9v/4P/c/9D/yP/U/9//5f/g/97/6v/0//7/BAAEAAcAFAAVABwAMgAzACUAEwAKAAsACgAAAPX/+f/4//X/6//Y/9b/1f/T/9r/9/8CABIAMABBAE4AQQAvACgAMgA6ACsAIwAlACgAIgAQAAQABADy/+n/+/8CAP//9f/9/wIABwAJAPL///8UABcAHgAlACsALAAYAPr//P/r/8H/rv+g/5r/h/9l/0//Vf9Y/0n/TP9c/3j/kf+g/8H/3f/0/wUADQAWAB4AGAAWAB4AIgAjAPz/2P+w/4b/dv9e/2v/dv+Y/7X/yP/z//r/IAAfAEYAhQCuABUBOQF9AaMBowGWAVQBYgE8ARYB/gDOAM4AjgBIAOz/h/9V/xD/A//7/hr/ef+S/8//DAAuAE0AOwAyACgAQQA4ACwAMAAaAA0Aof85/9D+hv5R/vD9Ef4i/m/+nP6C/rX+hP53/iL+AP4t/iL+mf6w/hD/af+S/+P/2P+CAPIAoQFbAuYC8wMOBGAEDwSYA5ADugKvAhwCKgJhArcBugHxAKEA3P8U//X+p/6H/53/XABOAdwB4QL/AgUEBgVHBpQHegh9CVEJlwgiBg8Dc/8J+/j2vfLv767tcuwL7ErsBe7Q75HyQPWS+Df8Uv9pAkwEfAZXB4gHXQcjBsgFTAQgA8kBNwAw//H8c/vZ+fn41fix+Df63ft4/gQBCwOwBTwHmQgVCdYI1QjPB9QGoAURBZsFlgaNCZINqBPQGpohrChSLS0wgC9YKgsixhU7B3r2leWT1ZbHYL1HtlG0VraqvKLGfdLg4Fzvu/1dCnYU2BuWHzcg8xyYFyYQyQep/5n38fHa7UPs4ew37wf0ePkyAAwH4g1tFFEZGh0HHlMdPBqlFIEOswYuAEf6mfVB847xmPKA8yX1ZvcA+Rz88/28AEoDbwX7BzQIawmkCYcKzAxDDz0VLRtKIngorysgLSApHCLgFg0J2/pm633ehtKIyfnDhMAawRPE4Mpy1LPfnOxo+XMFwQ73FLYXbRdgFDIPPQn1Amn9KfhP9Gjx3O/77ybxq/QV+YH/VgYZDegToxijHMQdcx0jGw0XfhIIDIAG8f+d+vT10vFG8I7u1O8u8ePzsvfV+nL/SgI2BmMIJwpAC60JRQkvBusEJwTBBFUJ0A79F/cf9icZLR8uNCwiJAcb8Q38AOzzL+ab2wbQTchwwTO+Lb+7wk3Mn9a05cfzNgGrDfgTuhnxGJ4WvxFaCoYEVvyO95fxDu6Y7FPrg+4P8cj3n/49BgMPBBW0G4EeTCAZH8MbvhfiEFELVAMO/TX3gPHN7nbrdeyU7VfwJfUQ+Q4AcQQYCoEOEhHIFOkSYRKkDp8J7QYKAhYEmAckEDocsSb+M0I5szv9NhQrqR5KC0L7AOrK2qbPdMJhu7mz/bAms7u3ZcSb0m3lbPeiBvkTJRovHbYaGxXfDp0GLP+J98bwpOvn5jLkDOQK5vLr2POv/VsJvROwHSQkQShwKbImRCM+HAQW+w4aB2wBDfqy9arxGe+u7zXwS/T590H8xgBeA+IGWAiWCbsKLQrfCR4HwwNdAfb+FwEYBqwP9B1RK4Q5mUH/Q4ZANzQ3JlQTwwEb8WfgwNMCxaC6orACqmuqFa5Nuw/LJN9M9GgF/xO9GgMeBBz6FtwQ1AhqArf6uPP/7CPnMOM64Rjjt+dH8Nf60wZ4EkYcLSS4J8woISbuINwaCRPrC+EEN//B+gj3XPUL9CP0T/XI9pv5lvyA/4gClwSMBlEHCgcLBxUFZQTMAjcBbwJ9A3UJaRDvGmEndzGcPLE/FEDFOT4t6R9sDG38deo227fOAcEiutWy+rENtRW8+8my13zp8fdABGYNJRARER8NeAheAuH7X/Y68Pjr2eeq5Zvl9ud/7Uv1q///CmgWbyDgJ+AriiyUKa4jRRy4E8ULEgSV/Vv4bvT08dTvuu/F8J/z3feB/PYBTwYCCp4LogvgCuoIKAflBGIDVAEYACwAQwCQBMkKhRSIIPorJDd7PAQ+UzjpLMoeVwy6+1LqmtvNzvjCsrv6tCS0d7euv7PNdd1k76v+lgsAEwcVCRQFDyQK0gMC/u74E/Ox7ZznreNW4UrisecX8PD7bggUFc4eKCVUKHUnuySqH2EaihRfDwMKKQSo/7754/V48trwtPFw8+r3Bftz/wkCOAP5A2ACzQJrAYUCdgPrAy8GIQX4BosH0gppEREZ6SV/L+06uUDBP7E7ny1bH/gLXPkD6evXYc3wwAm6drV8s8y4fL/hzeXcw+3x/WwIuRDCEQ0QzAoGBMn96vYj8qPsuOg55bfj6OQZ6O/vTvlaBQYRexvBI+wndCorKCYlTiDvGbwUlA1SCDECI/0p+ST1Y/T/8sL02/ZO+WX9S/9zAiID3gPvA5MC4wJOAb8BLwHEAOAA7P+0ARgDiwivD1sZoiWpL/c5ND69Pkk5Xi46IUIPFf/l7Obc7M4lwaO4kLGAsFmzOrs9yCfWweaH9CIAPAi3C7QMGgoBB94Ce/6M+hv2wPK770TuV+4p8OX0rvpmAicKVhGzF1wbvh0KHXob+hiTFXwToBBqD5UNrgvXCS8GBgTaABX/Kf56/Yv+/v1J/gP9Nfv1+QL4mfhW+ff7uf7nAJIDEASnBVYHJwvoEZoauiVeL9s3TDs0OcAybSZNGC0IYPj/6XfcL9ECxq+9vLfptBa4GL9Dy/TZbOms9+UBsQhcCo8JqwbHAnb/VPzK+Wz28PMI8UPvYe968fX2P/7cB3kQjhgkHpEg0CAIHjEbzRYIFPEQdA4eDVkKEwm6Bf4DfwHK/x4Aov43AOT/lAAzABL+Dv2u+WD5CPgH+ST8Tf77AscEUgd6CI0JvA3rETYbqyQiLpM25zezNYYr6xxSDE75Kusv3XnTTMyyxLjBEb3OvFW/SsXs0f3dS+03+ekBqweMBtsE8f+W/OX64vjH+bH4mvi+96b1CvZ+9lb7lgGnCK8RjheJHY8flB9mH28cMhzoGf0YHBjKFCEToA2pCVAEyv7Z+y/3TvdU9jv3Uflq+R/81Pr3+wz8gfyUALUBrQbtB2wJlgrdCCIMLw4oFy4hnCvjNp050jm0L3Eh8A8P/G3tUt5Z1XTMWcV3wDS6+ri/uHW/RMon2IDoWPVXAfsGCglkB1ED/ADw/U/9CPz9+pj5oPan9FDyZvM/9879XgbIDl8X5hwvIFAguh6OHFkZ5BakE6QREQ9qDN0JQwbrAx4A5v29+7j6Hfyq/O7/UwHhAiwDzgAMAGD9of4jAEICPAbKBjgJfwhuCYQNoBNBIFkrYzcOPkY9DzfdJjsVEAFZ77nhH9VfzcLEP764uNizubQhuTXE1NL24d/xWf2FBbkIUAevBSwCswB4//X93P0U+wz5KPXK8W3xnPJQ+Pf+HAg1EUoYcx3THuwe3xxwGr8XZBWyExgSgRCvDfMKGQcOA3n+wPoY+ab4cPr3+3b+GAAIAHT/of0U/tn/MgNkBx4KnAzdDPQLhAsHDegTAx60KZ80vjo7O/gz/SVeFNYB0/GR5BraE9LeypPEWb9pu5a7zsDMymjYZ+bj8879DANYBPYB/P76+1r6G/pu+mX79vpm+br2GvTn8rDzePdK/VkF1g2OFHUZdxuyG1caoBdpFQwT2hEHEQ8PdA0/CkQGZwFq+3b3SvTh80j1Xve++9f+igHBAoADhQWhB20LHg59EBgRuQ+9DRMLwQw6EfAZ1yPqK+0x+C+nKQMdQg3Q/lPwoeah3RnXA9INzCXJLMZXxxTMbtNc3qjoG/MH+u39Hv/m/J/6h/db9oL2Pfip+n77XfxY+1z6LvlT+QX8WACHBzsO3RRpGcgbHByXGfMW6xI9EMgN2gvoCvYIugfDBMgBUv4W+635CPno+iP9QADWAn0EAQZRBn4HQAidCcwKzQr2ChIKXQrEDJ4RjBlCIkkqbS8dLygqOSALE4EFbPcU7Azigdkh00jMQ8hBxVLFz8hAzuDXfeHw60f0Pvkl/IL7EfoR9zH1IfUr9mj4kPlY+k36vfmC+W76d/32ArMJ2xC3Fp4a+BwYHKMa2xc3FVETBxEaELENrwtWCDwErAB+/Dr6b/gq+SP7Bv5cAYMDqwWLBogHRQhWCXIKTAsVC/UJ0ggPCKAKOQ8OGIwhlCqvMeYxhC7XIxwXyQiy+WLuuOJG27PTms1pyfbEMcWNxo/M99Qh39bqWvPA+of9t/2b+8f3u/W08yL09fSF9Qj21vRL9IDzM/RM9wX8DgPjCYMQvBXTGF4avBmXGEcW3hOhEQ4P0wyNCbcGVgMFAJP9Uvs+++/7hP4hApMFcwnOCy0Ogw81EOgQGhBMDxANmQqFCB4HbgkCDggWWx93J0subC/SLCglqxkEDq4AAfZ664LijNtv0zbO58hzxt7GYMl+0ITYjOIU69bx4fZ1+MT4G/dZ9gD2afY19+/2uvYY9S/0gvMU9Cj3WPt4ARkHYAxnEKcSfhSOFKQUEhRBE8wSBRGYDwUNaQqFB80DfQGp/g7+Jf4l/zMCmAR1CJoKJQ0eD9APJBGmD+UOCgx8CY0H8wWvCPgL7BOVGwEjEik9KQooPyCTFwoNawFn+H/teuYh3qDWq9CKyg7Jt8fIykjQidfg4IrnG+6m8Qr0HPVI9Or0GfXF9hD4kPiQ+Tj5b/mF+b/6mP2gAIgFIwogDpERnBM3FZgVvxWSFVoV6BSBE+oR2g6kC+AH5QNxAdz/KAAiASwDuQWQB5sJgwpTC/ILCQwxDHcLggq6CLEGsQWbBZkHjQs6EdkXvR08Ir4j+CHsHGkVXQzMAff3T+7E5anecddD0iHOEMxqzGLOhdMM2q3hxOhP7rfyQ/XW9ib3gfcw+M/46fmQ+kT7yvsS/M787/0GAAMDogbWCuwOPBJNFE0VOBUfFPoS8xFIEYYQVQ8eDi4M1AluB40FnQSwBKoF8gbaCDMKOgvcC3MLZwu9CgkKYQnbB7MGTgVKBJAEHQaKCWYOQBT7GWMegSB3H7EbdRVzDa4E5fuu81DsveUq31DZl9QF0UjPes9E0tnW6txu4+Xoye0Z8V/z+vTK9dv2uvfM+Bj68Pqn+yP8ofyT/eD+1gBrA5UG+QnNDPMOwg+pD+EOpw0aDdsM4QwlDYQNaw3LDOYLhwqtCRUJ0AgMCWIJ3wkkCicKaQl9CJwHqQYtBtMFtQW7BfYFjgbGB5gJXQwxEO8TaheRGeIZMxhqFDsPsAjyARD7qfT/7mDpcOT332/cv9ku2DjY6tmC3dDhgOYK6w/vIvIW9Fn13vVt9sT2a/eA+Lz5g/se/eP+pAArAmkDiATGBeMGGgi7CDIJVgkyCXgJnAkzCtsKwgvDDAwN9AwlDF4LgAprCYwIzwejB2UH9wZyBukFegUbBewErgS3BJgEgQTQBAwF2gVNB20J9wtBDh8Q8RCWEAgPZAzkCA8FagHb/YH6A/eW80bw/exD6tTnZOYF5qXmMei86c/ryu2Z71DxcvLo82X1G/f/+N768vzJ/o4ABAJKAxkElwT1BO8EFAXgBKwEhwRJBEQELARfBKQEMwWxBSIGpQa7BhYHLAcmByMH6wbZBpsGcwYABmsF5ARTBPUDgQNKAywDNANBAywDVAOnAyQEjgQdBb8FWAbcBvgGAAfYBnMGtQW6BLUDRAKFAIH+ZPw6+hD4H/Ze9Pvyt/G08P/vae9M71HvlO9w8JjxJfMM9fv2+Pjk+qT8iP5WANkBbQOzBLoFpQbmBgsH7wZwBhoGlAUSBY8EEgS5Az8DwgIoAtIBpwGDAYQBhAHdATQCcgK0AvICOgN0A+cDTASiBNkE6AQlBRMFygSJBF4ETAQaBAAEAQQABAAE7wPCA6QDegMtA/cCqQIsApcB0wDK/6v+b/0y/Db7LPpL+XP4tvc192v2yvVi9Q71GfVR9c/1qPZ591D4Sfky+kb7Svwm/TD+Kv8HAK0AOwG6AfYBLgIvAj8CbwJyAo0ClgKkAsYCuwK3AsMC0QIGA1IDngMPBFUEkgTRBMwE6QTKBKAErgSLBHoERgTqA20D0gI0ApIBDQGPAF4AQQAlABIA+f8CAOj/DwBDAFIAhwCaALwAlABmAEcA2v+K/wf/jv5B/s39Vv3H/Dn8wvte+/n60/rH+tz6OPti+7n7Hvx4/AD9gv0a/qD+L/+l/wwASgBYAJAAkACxALkAnQC1AIoAfQBMAPD/yP+p/7D/vf/q/xUATwCkANUAGwFkAcEBIAJsAscCAQMmAy4DKAMsAwADtwJ6AkUCCQLLAZsBUgERAecApQCFAF0ALgAhAPb/0P+a/2f/Uf83/xX/2P7H/p3+lv6S/kH+Uf5C/jz+Z/5T/mr+pf7W/t3++v4J/yD/Yv9X/4f/mf+Z/8b/mv+p/8f/y//Z/83/tv+Z/6v/mP+T/5T/dv+m/7j/uP/Q/+L/+P8eADcAAQAIAB8AOABcACwAQABVAEsAZABXAGUAcgCIAJUAhACHAGAAdwCTAH8AhQBnAJMAtgCuAMQApgCwAK4AkwByAGYAiQCAAJoAcgBOAEkA//8CAN//xv/T/9//BwAAAA4A9f8TAC4AGgAzABQATwBUAB0ADQDr/+r/w//E/53/nv/A/6L/yv+T/57/s/+L/7b/lP+k/7H/xv/X/5L/j/94/5b/oP92/5X/mP+V/37/iP+s/6L/uv/K/9j/y/+n/7j/u//X/9H/v//l/87/8v8UABQAPwAsACsAHAAlADwAPQBwAFwAcQBbACwAOQAHACwACgDO/9X/vP/N/8b/zv/M/+r/+v/w/ygAIgBbAGYATwB/AFUAZAB4AIIAkAB9AHwAZwB8AGIAYwBxAEYASQAlABwAJwAkACQADwAeABkAEgAKAAYA+P/i//j/5f/t//7/GQA+AB8AKQAlAAsACAASABgAAQDm/9n/+v/L/7H/yf+t/7D/jP+O/43/gP+L/3X/jP+G/53/of+a/73/tP/H/57/jf+C/2b/fP+U/7v/tP/c/9P/3f8MAMj/z//S/+b/1P+p/9L/3v8GAOT/8v8XABAAQwAxAE0AXABgAGUATgB6AHIAgACPAJMAgwA+AFMAZABmAFAAKgBFAEYATQBTAF8AfgBfAFIAMwAnAEUALwBGADEAEwAiAAgAGAAUABsAHwANAA4ABwAiAAMABwDu/7D/wv+H/63/x/+Q/5n/Zv9s/3r/Tf9N/1r/av95/5H/i/+M/73/1v/Y/8r/yf/Q/8r/3v/9/xsAGgAPAB0AJwA1ADUAMAArABUAEQAjACgAJgAwACcAHAASAPn/DQApABIA/f/u/+b/+v8FAAQACAADABAAKQAnADEASAA8AEIAQwAzAD0AKgAuADMAGwAbAAkAFwAmACcAJgAJAAkABwAIAPH/z//g/+L/wf+7/9n/1f/O/8T/1P/z/87/2//p/+3//f/0/woAFwAuACUAIQAtAA8ADgAKABwAGQD+/wAAAQAPABIAIgAUABAAIAD+/wIA7f/u/wUA1v/V/9P/z//s/+v/8P/y/+3/5v/c/9//4f/a/+j/AgADAO//6P8JAAAA6P/4/+b/3v/k//P/BQD5//L//v/4/+P/7P/3/wUABAABABMA8/8KADgAOwA9AC0APAA5ADYATQBOADwALgA9ADoAMQAsAC8ANwA/AFYARgA3ADEAKAA9ADgAJAAdABkAIwAsACYAJQAwAB0ACgAaAAsACAAMAN3/3P/K/7L/2//W/8v/yP+5/7r/rf+w/8L/s/+o/7H/o/+m/73/0P/X/8j/zP/i/+T/4f/0//H/7v/r/+r/AAD1/ygARQAyADQAFgAmABwAFgAYAAYAHQAhADIAMAAyACYADgAeAAAABAAeACsARAAtAC4AKwAMABIAHwAVABIAGQAYABkAHQAoABUAAgAAAO//8f/+/wkACwAOAAwA+P/e/9n/5P/G/7D/wf/r/93/h/+w/yIAxf9U/9D/MwDW/3P/EwCoANv/ev9RAGwAvP/B/20AkQC9/6r/kwBZAJz/DQBfAL3/gP/d/ywA/f/N/zMAYQDt/9D/RwAlAKv/x//7/+f/EQBAAGUAqwB2AD8ADwDG/67/qf/V/ysAfACUAIoASADm/3v/Iv8M/w7/Wv/g/2EAugDIAJgAPQDQ/4L/g/+s//L/OgBdAHIAOwDP/4r/QP/9/hT/av+v//r/UAB0AFkAHgABAPb/BABSAJ4AsgDbAOEAqwC9AJwAVQBYAFkAMAAsAC8Av//J/wsAtv+t/9j/p/+0/xQAyv+L/w8A8/+u/wUABwDv/0YAXwD4/xIALACd/6f/+f/j/wEAZgAeAK7/4/+K/y//Wv9b/5D/+/8yACsAawBzADYAIwDx//v/+v8HAFAAaQBFAMz/jv+B/zj//f55/xMAFwBDADwA3v98/yf/M/+h//7/w/8JAM4AKACN/6cAFAF/ACQB1wERAV4AkgBLAI//iv/E/7r/qf+l/7//tf+M/4j/If++/lv/ev8E/2YAsAG+AHIAAQGd/9r9Lf7S/q3+vv/vAZACIgI0AmIBmP+3/lr+yP0Q/t7+X//X/3YAdQA1AEMA8f/u/z4AHQC7//r/kQB0AKAAmQHiAToBuQEiAnwA5v9wAIX/Rv65/mP/kf70/i8ADADY/0sAaQBi/7T+Jv9R/+3+qP/zADsB+QF+ArIBrQE9ATr/jv64/hH9nPtD/nIAWP4CADQEOQFa/KL+cwCT+7z80AU1CIICTAK+Bhj7s+wE98gBVfhMBIYmNh6PB9QTagnB2kjS9Oiq4PXgeA1yJnAWchTZHFH/q91U5HXwo+y1+wUdTCRZFcUQXQrZ8M7gIutJ9rv7agyRHOQYMgxqAaHzkObs49PrSvkuB7YRVRZPE/QIQfuT8BDtVe+M9dsBKw+vE6QQWQxDBJ32HO7e8AT26vnDA7UOBQ6gBsMC4PwH8m/u3vXS/IQA/gfXDocLwgJH/jf7UPW89Iz9GwWgBqEJaAxQBkD9Pfok+T/3NvpvAQoG6gYPBkEDf/44+Vv2Ovho/AIAiATXCEkI2gPh/4H8LfkX+FX7PwFJBeIGpAjPB2IBhftD+uX42fdc/LAC+QTFBYgGqgM0/sL6tPnc+Qj8QQBjBBYGbAWjA14AMPzx+Yv6m/yz/08DywUgBhEEkQAe/W36LPkJ+h/90wBrA0QF0AWPAwgA8P1n/Mf6E/yb/5IBZwJ/AxADJQCh/cD8K/yx/PP+tAGDAx0E1ANAAvv/D/4z/X39iv6tAMICzwM/BIADmQF5/6H9I/zm+zn9cP6u/zsBqwHoAN//C//w/Ub9Kf6B/5wAzgHaAtcCtgGgANr/I/+X/vX+RgDQAJcA4ADmAIn/Av7b/cf9J/25/Xv/fQDIAMgBjQLTAd4A2ADCAOH/lf9gAIMA9P+QAHYBtwAGAMkAcQDU/u7+qv+z/n7+NABVAJT/lADUAFz/IP/B/+f+yv6jACUBmQB1AQECjAAt/3P/H//U/W/+6//R/63/yACqAAf/6f6L/8L+5P5YAYMCGwIvA9gDkgFq/0f/Ov6v/Jv9ef/Z/ywANQGuANv+if3a/Hj8rPzp/Xn/qAB9AaABHAE1AIP/dP/E/w4BxgKpAy8EdARbAxEBjv+7/rn9r/3j/q3/mP+A/wj/8v0S/ej82v3Q/+8B+AOmBTQGYQUHBL0CgAEeAZwBrAIrBAsFhgR6AxgCMf9C/Cn71foC+lj6FfxX/Eb7lvov+mT4dfap9ir3xfaL9ov36Pcj9wb4J/pj/GD/gANdBwEK3As+DHoLVwpJCJYFrAO9AXb+hfvF+Q/4mfaB9y/6jvxJ/8UCuQXdBvQHXwrjDFoQFhZIHdIj1ClaLzQxaC/GK8gkXxogD6cDfPYt6Vvel9MDyRjCP75qvPq9P8QYzbrWEeLw7db30//QBlsM8A9XEqcUpRUzFRMUwxFfDjQKLwaSAvf/yv6u/icAaQKkBOwGzgjXCdQJAAoKCqEJoQp9C7oLCQxpC5AJxAZ3BO0B3P/N//z/sf/a/yb/u/zb+hf6GvuA/v0FVhBrGhElfS2zMU4xQi10JrgcSBKhB8n87PDi5KTY+stDwfC4WLTStPm5FcJYzEDYJOOh6yf0Av0yBMwLqxSKHMAgzyHgIEUbAhKWCRYD0/2c+jH7Gf77/l//XAEOAtABmgS/Cu0Qahd3HiEj2CKBH48aAxMXDMYGoQN1ApwBDQFU/5n8bfjk8/zwk+9g7wfxA/SZ9XH2zvb79Xr00/MI9W32svgM/A7+4/2p/cr8NPqK+Y777v6ZAzoLtRMYGWEeTiJKImgg8B2eGlEVcBBwCzgEUvwz9E3rNOJW25rWJtQ91eDY0t2R43Xpn+5U84b30PtgAB0Fegl9DFUOvw3pCroGYwKR/nz7kPvL/TEASAMlBmQH0AZ9BY8ErAOHA/UEWgcLCS8JvAhQB/IEXwLwAcYDYAWiBy4KSwojB7UDXAE8AAoDlguZGMomojT6PjlDdEBpNuIn6hYkBYPzI+QD1yDJC7z3sSyqzKQIpvuu6LtHzOXfvfLRAIMLVRQ/GQQcECDxI6YlNCYpJEYd9BItB6b6Je/I5+LjTuKG4wDmCujW6X3t2/KF+X8D/Q+OG24lVC2eMIIveCwwKHojjx8yHOkY3ROCDOYDWvml7vrlgOAz3vzep+IS55frxe578TX09fU8+SD+cANQCPkM7w8/DwENywjhAyn/dPup+hv6yfrg+9n74frD+Ev3jfWy9dj3EPtQ/3sDIwfOCAMK2gnnCYYKaAvfDS4PmA8wDvMJSAIH+jPxx+jW5InijuSK6DPtcPIO9dv3Ofl++53+TgPECecNahJxE8kQxgwwB5ICvf4t/jj/+QAiA1YDNAMnAWP/OP/3/3wDJwgYDZoRqhRIFaIUdROQEbEQKhAEEBsPQgzOB2YB2/lp8rrsyOjk5uHmWOcR6NbnD+e+5l7nTumu7N7xdfZl+kX92f0z/lT9Kf0m/vv+AwFqAj0D7AIIAssAbf9Q/w7/8P+cAB0BjQHNANcARwBSADgBIALWA0UFzQZyCCsK5gtMDjURaBTLGHkd2yKCKZkwvzcOP29E5kacRXA+XDIhIV8MM/b637nLU7q0rFKiVJyzmfqaGqHxqjq5P8q73X7wSwEREC4aBCG7JC8mTyXEItcedhiSEP4GQP2k867rquYL5InkCeeO62bwFPYT/U4DRgvCEl8ZkB+/IhglgCRcIo4gbB0BG9IYjBblErYO8gn9Ayj//voO+cL3kPeV+An44fdc97j36fiz+xIBzQU+ChANpAykB7EAJPga7o/nw+GY313gmeFJ5j/qDO/v9BL70wGSCBgPiBOzF2wZGxrFGs4aPRx5HKMdlR3jGsEXuxGjCiwDXvtq9BDuW+hb4zXfkdtY2d3YBNk225DeVeFr5f/oLuxQ8Kf0UvqCAEgHFA3PEZ0UJhTfEvsOpwrABfL/l/vp9WTxNu1F6hXqzOqk73r1e/wRBIYJHQ9vElUVVxc9GfMbOB2IIMsi1CY9LPIxjzyoRbJQClp+XktfXlZnSk03ASA6CW7vMtmVwi2uKp2njmyFAYDSgr6KZZi4qoi+wdNE5h74mwf4FOUfpyhtLycxgjBdKsYhiheAC2gCavrx9q7zxPHw8s3xn/OI9YT6KwLSCLAT0BrwIAclOCQbJcQhGSAeHjwajRiVEWcM4gTH+3f1R+6I7EzqW+tn7XLt2e+b7hfx9/J39s38LAE9CekLBA9pEI4Orw44C7EL7QmSCAcHtALRAKf5f/cr9Mfx5PLW7/zzW/Cy7t/ukeg96/bnBusE8Gfx3fnQ+skA2QFtAU8GuwP4CGAJNQrhDPcIcgp8Be4CDwHU/NP+Zv2R/jEAOAGkApwDCQbZBTIHegZNBq4FpwKfARD8vfg29Vbw8e6M7CvsLeos6vDqu+mG7JDuV/JL9lf67P9DAq0FTQhCCpYN3A5TENgRvRBxEJMPUAzhC6EJKQhZCVoIvAp6C60LVgz6CXMJaAZlBDwExAMHBrcIRg7gFPAc0CX3LRA3NTvgPEY70DMxKn8bNgru9xbjys6dvCOt5aAamS6WuJe3nSqnKbNoweHQHuAN7yL+8QvpFlYhACokL3czdDSZNJUzMy42Kjgj2BpcFCELYwTJ/m76BfkA+B75SfoS/Ef/vQHIA74GyQhsCkYM1QvqCyAKWAi6BowEuQQNAo0CqwF4/47/d/x5/Y/6SflA+pj3Lvpz+qf+fwU9DOkUQh2nJqErNTOUNTg1lzPvK3omYBiMDVf/Ge3z4JzOZsXRuQOwpq2BqA+sCq5Atc+818QY08HbgOoP9zwCbw8SGN0g6CeOLMosGi8DLWYoAyYdHrAX4g/MCY//nwC4F20fQiEIJqsm/yfcJVkm6SK9H6MeXxjkFR8ShQ1FClsG8QRxAvwAigApAAECiwJCBBUHNgeiCNgJowmaCtwKoQsYDPYKLwqQCZ8HywT7AuX/Ev5z/Rb71PuH+l75Qvsz+VH6XPn09sH4w/XF9vX1QfO29cfyfvSh9PryffYZ9Rr4R/qp+7r+8P7fBJcHZgoFD2YQLxUwF4cZLhwEG6MachjFFf0R5gvqBb7+APjW8Dvpb+Ml3YfYitUo05HSu9GW01TV19fF3fHhOumI8LT2A/8JBQMLFA/SEt8VgBYZGPkX/xcqF7YVORQiEREPEgyuCQAIOAY/BX0EUwMDAtMC8AKPBF8HHwrIDwAVqxxSJP8q8zL+N809nEGgQlZCmj3eNzMvuCMGFmoGf/dd5njWWccVuF2sC6KemvaVb5MVlPSXQp8NqNKyJL8Izbfb+ema+PAF3hJfHq8nZzDJNl47gj58P6Y+Bj0MOiQ1QzCkKV4i8xpFEsYLPQQ8/ab4jfL17mPsOOrZ6rXr5+2r8f31PPouAKkFRgriEBcUNxmMHAsclR+zG48Z5xbXDSUL/QB5+bX02emS5ufeWdmq1wDTQdRN1MvVj9n93GDiLujR7n71mvwKAsQIpA5YE3AZThxfIMUi0yMDJSYkFiR/IfMfpxzlFzIUOQ2yB2AAjfkZ86XqGOW83c3X+tJozrnMmspQy4DMZc6z0gjXB93Y4rfp3/A597T+CAUdC6MQIRVwGTAcLh5HH58f7B5CHeQbQRmJFsIT6BDTDtELvQl9B0UGOwaRBYkH1gi3C98PMhMzGS8eoCQwKsUuaTT1NVQ3VTamM40v0ye2H48U4Aju+87uAOIn1HLJQb6CtZeup6gRprajN6WFp5mrJLJfuPDADcqY1IHeI+kd9CH+DQnOEWMbwSIcKU8vaDKCNl037zefN/E0/zJnLs4q/CWhIDocnRZVEmQNiQndBTUChf/F/KD7Kfq2+Xj5w/nE+sj6dfw5/cX9n/7//rH/f//L/4r/Uf8R/27+AP70/JX8Gfu1+ZT4WfZZ9dXzO/J88VXwL/By8D/wJvER8hnzNfXT9in5Ffu8/Ef/xADsAqwEDAbJB8UIIwqgCogLIQwRDKkMyQtnC38KiQgbB6sEOAJz/1j8c/mU9q7zB/EN75fsYut46nTpCeqa6bXqQuy+7JHvIvFv89H2v/hx/P/+wwFmBZ0Hpgr4DPQOtBAHEhUTXxPhEyATiRKWEfEP7g7uDHML3wl3COIHPgc5B2sHjwihCYALjQ39DtMRHhPgFJYWXxYzF94V5xMYEt4N4wkFBRT/cPme8v3r4+Un31bZGtRGz7XLzMgKx47GFsdzyBrLpc7T0nLYCt6U5NnrsfKB+vgBQAm/EDcXGR3fIlEn6CoFLg4vCzCoL7EtIixjKKskqSB8GwEX3xHMDBYIigMr//n72fgB9gr1EvNL8yv0SvRh9zD5cfzuAPsDDAk0DVARCRY8GTkccB5LHzIfJB4UGy8XCRIQC3wE3/vC8lbqXuDc14XPO8cMwQK7o7Y/tKKy57KvtJS3cbyTwn3JHNL82pHkPO8w+eYDHg4zF34gNCgcLzA1RTm0POo+ND/UPiE9OjoxN5ky4S30KNcirB3EFwMSFQ1vBxQDwf68+vP33PTn8o/xHfCt75Dvpu9b8PXwk/HK8pTzifSz9df1mPb/9t72e/fU9t328fY69vn2jvap9mv3WPeL+Ez5Nvp2+578Cv5+/14BlgKeBA4GggelCSMK6guIDNwM9g0MDS4NBQxUCjUJpQZLBDoB3v0h+on2k/JW7t/qgObE48rgEt4c3S7bsNuF3LTd2OBx45bnJ+wN8bH2QPzdAX4HPw3SEeUW4RrqHUwhgyI1JH4kqSNeIxghUR8AHUUa2xc9FRITsxBYD9ENcw2VDVANxQ4xD74QhhIRE60UyRSHFOcT/xFzD+ULPgetAQn83/TV7Zvmgt4G2KXQNspcxVXAkr1nuy26Jrt4vIS/YcQ/yXnPtNby3YjmLO+R94QA5QglEWkZWiC+JqAs1jDNNGo3ljhdOS04oDZENLYw9SwmKAMjzB2GGJwSTw0GCHACO/45+UP10fE57lvsE+rI6ELoNegW6X7q5+xr7+XycPbq+s7/AQQOCTANmxGBFXkYQxuZHJsdPB0bHOUZohbSEoANeQhGAqb7HfXp7YfnC+Hi2knVntCdzIrJr8dlxhzHMchxyi/OMdKw11jdDeQn6wXyh/mTAJsHNw6DFOsZjx7AIr4lZyjvKdYqGCthKoIp4ifoJXgjKSFpHj4btBhwFZ0S5w/iDHoKoQc4BfUCdgCK/lb8DPos+Ef2g/QA82DxIPAq7xzusO1c7Rztie377Qjvb/Co8arztvUk+P36Y/1CAO4CigUcCCMKLgyuDe4OqA/yD+0PMQ8wDpQM1QpfCIAFpgIO/8P79PcJ9HTwoexm6RDmUOMG4erest3o3PbcTN1v3lvggeJ45Y7oauxq8F707/gb/XQBpQWyCXYNrxDhE0sWhxhAGlIbJBxLHEwc6htfG4kaphkAGRwYsxdJFzkXkxfQF8oYjxmPGtIbkxzKHUkeRh4UHskcOBvOGEMVFxEbDCcGpf+9+AvxMukp4V/ZzdFiyijES756ufi1drORsrCyS7Q6t3C7CsGExxbPV9dr4PHpkvN4/SAHgBBWGaQhMCnWL3A1xTlHPV0/bUBzQB4/Fj3rORE2hjF9LBonKSFvG4MVnw/aCXUEbv+C+lz2VPLx7hPsj+n554zmqOVd5anlcuaz53rpgesb7vfwOfSl9zf7Cv+VAjUGpwnJDHgPkhFsE6EUzRRzFG8ThBFKDxoMXwhfBLT/FPsm9jbxZ+yr52Djbt8r3EXZDNfK1fnUANX61WbXfdlv3MPfqeMN6Jrsd/GL9rr71gDaBbMKQg+LE1cXuRq3HRcgACJSIwUkPSQdJIIjPSLXIAUf5RynGiwY0RU9E7IQ+g2RC3YJ/gbxBOUCPQG5/0j+XP1K/Nz7hPtT+5773ft7/Dr9Af7l/vD/qwBWARgCVQJaAvIBQAE6AKX+zvyF+un3L/U98i/vGewa6UPmieNm4WXfoN2z3PPb3ts93P7cet454K3iZ+Vm6Pjry+/r8xH4afzmACsFaAmUDWwR+RQPGMEaMR3/HmQgQyGBIWwh5SDlH3cewxy8GlQY5RViE5MQ5w1OC5sIMQbmA+UBKQCH/lH9ZfzX+5X7ovsJ/J/8pP3a/iEAvQF1AxQFtAZbCNAJAAvkC2wMeQwLDCsLrQnHB0QFJwLZ/vP66fbd8mPuHuoD5hvist6N2/7YDNey1SLVGtXQ1VTXctk93JHfc+PC51vsb/HA9vX7MwF3BnwLOxCiFKAYIxwRH2MhLSNbJPIk+iRLJEIjqyGSH0IdeBqcF3oUMBHvDakKqwedBOYBdv9B/Zb7EPoP+X74KPhR+On4rvno+m/86P3//xwCDAQ4BjQICwqfC/8M+g1wDn0O3g29DCwL9AggBucCPf8f+9n2ffIL7qvpZeVj4QzeB9uI2N/WtNVV1ZzVi9Za2MPavd0y4SrllulK7j7zUPhJ/UoCHAejCyQQEBSMF5kaDh1EH7UguCFSIkci6SEVIfAfVx6IHHEaEhi2FQQTXRCrDfsKYgi3BXEDLAEx/6L9EfwC+076xvmm+dn5UvoV+yz8gv3a/mkAEAKZA0cFnQbeB/QIUgm/CbUJ8gj1B04GPQTVAef+t/tK+KT07vA/7bHpYOZS46ngdt6+3Ibb8Nri2ljbktxL3ongU+OJ5ibqEO5i8tP2VPve/0EEowjJDI8QChQ1F60ZnhtMHUsezx6/Hg0e9RxjG4UZWBfpFDASZw+iDNAJRwfeBKoCuwBQ/03+ef19/ar9H/5Z/6IAbwJ/BJQG5gg0C4YNoQ+aES0TUxRHFW0VHBViFMcSkBDGDVIKTQbSAd78nPcB8hnsfeYU4cnb3taT0u3O4MvJyXbI/8d5yKjJz8vPzpXS9db324/hb+fW7VL05fqfAQsIWQ49FLgZzx4bI98m/SlQLPUt3i4YL6EubC2pK2AplyaSIxggRhxuGGUUaRB2DJUIGgWsAY7+CvzH+ev3fPZt9fb01/QH9bz1p/ba9235+vrI/LP+igBuAvADhQXvBrYHcwisCFwIuAd3BtgEpwIRAAv9gPn29SXyHe4t6kjmluIm3xnclNmQ1wLWI9UK1YLVotaD2A7bLd7W4Qjmt+qr7+D0WPrJ/yMFYgpcDwAUQBgHHCYfryGqI+4kjyWWJfwk3yNUIlgg+x1UG4oYyBXkEgYQdw0QC9wI9gZ/BVUEeQMQA+UCKwOnA0gETQVSBn0HswjmCRsL8AuyDD0Ncw1TDaIMtAteCmAI/gU2A/H/Q/xO+Bf0ou8I64LmCeLB3dTZKNYR04fQic5gzefMJs0mzunPZdKa1W7Zw93P4iXote3C89T56P/5BccLShFwFhgbOR/DInwlcSfQKHMpQCloKPUm6CRlImsfKxywGBEVZhHCDYIKSwdwBBUC0f9n/nL9tfzC/CL91/36/noAOAIkBDkGOghKClQMMw6+D/0Q7BFWEnsS9BHqEHcPJQ2MCmAHmgOc/wb7PPZH8SfsSOdY4o7dRtlQ1QTSVM8tzQvMlcvOyxvNGM/S0WTVe9lH3qjjRelT75T1sfvdAf4HsA0DE/UXMRzvHwYjMiXYJrgnxCdKJxImXCRHIp0frxyOGTsWAxO4D2oMTQl+Bg0EtAHb/4f+Wv3J/Jf8o/wx/f79JP+PABwC2wOsBYwHfglLC8YMNw5pDxcQjhCHEPoPAA92DW0L5QjmBUwCYv4++rn1KvFs7MjnWOP93j3b2dfl1MXSNtFd0F7QE9GP0tnU0tdk25HfUORQ6abuUPTm+ZD/JQVlCm4PABQRGKcbjh7dIIcieCPmI6wj6yLEIfwf7x2aG/UYTBZ3E58Q5Q1CC84Ipwa4BB8DBwL7AGMAYgBZALYAdgFMAm8DqgT1BXIH5ghTCq8L1gzjDZMO9w4gD9AOFA7rDEMLGQmHBnsD+f8u/Az4x/Nj7+Dqd+Y34k7eytqn1xXVO9P30WDRutHH0lnU39Yc2rfdDOLD5t7rVfHE9n/8FgJeB5wMjRH4FdcZTB36H+8hXCMRJCgkkSNjIsggrx4kHHYZeBZLE1kQOw1JCqsHQwVMA5MBUgBz//r+Gv9n/w8AOgGPAicE+QXQB84JrQuUDXoP6hAwEhUTphPAEz0TTxKwEKcO7gu5CBwFzgBn/Jv3n/KW7WvohePA3mLac9YR01zQNs71zHPMv8z0zc/Pn9Il1hba695Q5OvpAPAg9kj8ogKiCFYOrxOWGAIdlCCeI/ElcydLKGYo0id4JrskcCKOH5QcPRmqFS8SyQ6ACzIIRwXaAp0A7v6Y/Z38OPwu/IP8Rf1T/pD/HgHPAqMEeAZKCCYKpAsADRUOsA7kDukOYQ4oDc0LuwlTB5gEMQHP/Rf6HvYY8gbuHupC5tbitd+63HLayNiK1wHXQNcA2G7ZnNtN3l/hAOVA6aDtQ/IS9+H7zgB9BfAJEw7VES8V7hctGs8b2RxLHTAdqRx+G/MZCxifFVwTzhDRDUULpAgKBgQE9AFAAC7/Rv7Z/Z/9vv2N/lP/ZQAMAo0DMAUeB8QInApmDLoNIA8lEL4QMREqEbUQ1w9vDqEMcgraB7UEUwHU/e35D/by8d3tDupF5u7iyd8n3f7aNdlM2PjXH9j12H7atdxT33rifeZx6rLujvMr+Pn8zgFCBqwKpg7+EVkV+BfgGYgbTBypHKgcAxzLGkUZbBc7FcYSJBC5DeEKUgguBtIDAwJkADL/af7S/dX9AP6z/pT/ggDTAQEDyQRZBsAHigmfCgQMPA3jDY0OoA6BDvMNzQx7C8kJrQcXBRwCIv+5+933LfRy8L/sBOlX5S3iWN/+3O7aRNmq2DnYWtiv2fzaAd3Y39TicOZw6t7uP/O797L8QwGmBQAKIQ7EEfsUDxhUGgYcQR0THkUerx0hHa8b+Rk5GKoVOhOMEO0NdgvZCIAGdASjAgMBx//6/oT+a/5q/sT+y/+JAJAB5QJEBKsFHAetCH8JAQsPDHMMPw01DfMMVww+C7EJ5Ae4BfcCEgDe/DX5l/X08TTu2upk5yvkSeH23g7dVtt42h3aTdoh25vcZ97e4BPkcecj6zHvXfPK90/8kQC9BJ4IZQzCD3sS6BTxFjYY8xiXGXIZ1hglGOMWPBVnE2oRew82DQsLOwldB6sFOwQiA/4BYgEzAQgBMwHHAc8CaANmBNIFrgb2B08JVAprCyIM6gypDa0Nnw1xDcQM2AuJCvQIygaABFECev9H/Nb43vXC8kLvGuxo6d/mfOTg4mrhsuD03wvgx+CV4RHj8eSF5xvqj+347wr1x/Z089r2c/ov/XEA/AIVBj8IswqeDFwOuw/yENkRbxLlEu4SvxJGEugRDBEuEBgP+w33DNwL0AqbCZcIpAe8BhYGegUCBZ0ETgRuBCIEcwTtBL0EOwWYBcsFKAY5BjgGVAZLBj4G5gU+BbAEogOFArIBof/F/a/8N/pM+JH2P/SG8qjwDu+b7SzsYetq6tXp2um16Wjqv+pv69LsGe4D8NnxC/T59ff3gPr1/FH/ZgFcA34FOAd9CPgJGwtHDOsMbA3QDcANwg1tDRINkgwPDEcLrAoZCpAJBQlBCOcHbgceB/EGugZyBogGtQZOBhAGSwZABuUF0QW0BZQFNgXNBJME7gNWAzQDeQK5ATABLgBF/0r+d/1H/Aj73/mm+AL4+vbo9Rr1MPSz82Lz8fLq8r/yovIG8x3zdfNP9Av1r/Vs9on3xfjV+Tb7WPyN/f/+BQAWATkCAgOvA+AEnAUdBsQGLge+B1IIbwhuCOcIygizCK8ImAi+CFkI+Ae3B6AHXwfpBpIGKgbHBW4FBgWhBDQEnwNgAyQDrAJWAgACoAFQAdUAVwA4APb/dP/7/oH+Hv7D/Qf9Ufzv+177p/oj+p75AvnD+FT43Pfk97z3n/eo96L37fdW+Jn49vid+f75dvpr+xD8tPyA/VT+J/+0/3kASwHpAZsCMAOZA/wDhwQFBSgFbAW1BekFGQYmBkAGHwYWBgwG0QXBBW4FMgUrBdUEhwRdBEMEEQS2A3sDTwMuA/gCwQKhAmICLwLtAagBdwETAbEAgQA6AMH/Pv/O/nb+9P1Y/ez8cfz4+3r7EfvG+mX6S/ry+aj53vnZ+ej5Dfo0+pf62voa+6H7KPyE/O/8gv0a/r3+Nv+2/0UAqAA+AZUB7AFKAnECuQLrAiADIgMkAy4DDAMEA+sC2wLYArMCiwJ8AmkCSwIxAiUC9QHpAQgCDwIVAvsBBgIQAhYCHAIVAkQCRAIrAiYCHgIiAgkC3AGmAXQBQQEJAc4AcgAmAMP/X/8W/6z+Tf7r/Zb9Q/3w/Lr8ifx7/FT8Ivwn/Cn8LPxH/Gr8jvzJ/Ar9S/2p/eb9Kf6s/hX/df/v/0gAlwD7AFMBkAHSAQUCIgJGAlkCaQJhAj4CLQIEAtkBqQF7AVkBCQHgAMkAkwB5AEgAFwALAAkABQD//wgAGwAtAEcAZQCCAKwAzgDiAAYBKgFBAUoBTgFFAUcBYAE/ASwBJgHrALkAkgBpACsA6v/C/3T/Nf8f//j+xf6M/m7+Y/5B/if+Mf42/iX+KP4+/lf+h/6f/pf+t/4I/0L/WP+f/9n/6/8lAEYAdACyAKQAowCzALAAvQDMALQAoACsAIUAWwBtAIUAcQAvAAQABQAaAAAA3P/m/8z/zP/O/7b/5f/2/8n/x//s//z/AgAbACgANgBCAEoAWwCKAKUAiQCUAJkAnwDDALQArwCoAIgAcgBbAF0AUQA7ACYAAAAIAPX/xf+9/5z/ff+B/37/hP+N/4b/e/9v/3X/lv+e/6L/tv+3/9z/BgAWADsAPgA/AHAAigB5AIIAngB2AFwAbgBUADIAFgAHAAMA6f/d/9b/qP+F/4b/bf9g/3//d/9f/13/av+K/5b/nP+u/67/xf/4/woAIgBAADsAQQBUAG8AfABwAG4AfwCoAKMAigCaAIgAgQCAAF4AVgBHABwA+//9//b/1f/O/7X/p/+4/6X/pP++/6//m/+h/6z/vf/P/8r/x//r/wsAHgA6ADMAPQBZAFEAgACrAJYAewBiAHMAdQBUAEsAPwAqABEA/v/r/93/uP94/27/b/9X/1P/Wv9h/2P/Tv9H/3r/iP97/5H/jv+y/87/wv/8/w4ACwAwADUAWQB5AG0AcQCEAKMAqQCWAJsAngCOAH4AYwBWAFcAKgASAB0A8f/L/7X/p/+u/5r/jf+B/5H/sv+J/33/of+i/7P/z//c/+7/+/8FABcAJgA1ADAAQwBxAGkAawBvAG4AeQBWAGEAbQBQAE0AMgAbABQADwAAAO3/8f/o/8z/rv/C/8f/oP+0/63/pf/B/6z/pv+x/7//1P/Q/8z/2v/z//f/8v8EABIADAAcADsANgAfABoAKAArADUAPwAXACsAOwAEABMAEAD4//3/1//o//7/4//l/8n/0f8AAOn/2//o//X/AQDx/wAAIgAfACgAHwAPAD4ATQAkADcATQA2ACkAJQA6AEEAHgAYAA0A+v8NAAYA+P/2/97/3//g/9b/2f/M/8r/zP/Z/9z/zP/r//P/3f/m/+7/BQAXABIADgAPABwAHAASAA8AEgAIAAEAFAAdAB0AFQAAAP7/BQAAAO7/5f/o/+T/5f/r/+j/5v/m/+X/4//Y/+3/+//g/+z/9//+/xEAAAAAAAcA+v/0//L//P8CAAgABwD6/wUAEQAQAAcABwAbABoAFQAcAB0AIwAWAAUAGwApAAkAAwAYAAoADAAdABAADAAOAAYABwAHAAYABgD8//3/DAAMAAsAGAAWAAgACgAXAB8AJgAXAAAADAASABQAFAADAAMAAwADAAIA9v/x/+r/4f/i//D/6P/a/+X/3v/q/+3/y//c//b/9P/6//f/4//m//b/8P/v/+b/4v/v/+r/8//v/+T/6v/b/+3/+P/s/wQADAACAPz/8/8CABEAAQAEAAwA9v8FAB0AEwAfABsABQADAAgAEwAfABcACwATABAADwAVABEAHQAMAP3/EwAOABUAIwAKAAEACwAHAAEAAwAKABIACwAIAA8ADQAbACAAEAAIAAUAEAARAAwAAAD1/wQA//8EABgADAAMAAcAAQD8/+v/+//5/+j/9//x/+r/9//x/+7/7f/k/+b/3P/a/+j/4f/l//L/8v/0/+j/5f/v//f//f/w//P/CAAOAAsABAD8/wMACgAHAAIA//8EAAoABwAKAAwABwD+//v/AAAAAP3/+v/9//z/9v/+/wEAAAAAAAAACQAMAAwADAAQABUAEAANAAQADQAbAAoACAAJAAMADgALAAgACgD+//X/8f/2//r/+f/1//H/9//t/+T/+P/6//X/+//1//b/9////wYAAQD///n/BQAPAAIABAAEAAEA///+/wcAAAD7/wMABAABAPz/+/8HAAsA/f/w//P/8f8AAAwAAQD+//X/9P8AAP7/9//3//z/CAAHAAEABQANAA8ABAD+//r/9/8AAAQA/f/8//3/AwADAP//AAD9/wQABAD3//X/9P/7/wIAAQD7//v/CQANAAYA/f/z//T//f8AAP//9v/0//v/BAALAAIA+f/5//v/+//8//7/AAAFAP7/9f/9/wgADQADAPb/+P8BAP/////+/wAAAwD+////BAAAAPj/AQAMAAQA+v/3/wIACgD8//j/+f/8/wgABAACAAkA///6/wgACgAGAAAAAQAKAAsACgAMAAgABQAJAAEA/f////v//f/+//3/AAADAAAA9v/z//D/8v/y/+7/9P///wQABQAEAAUAAQAAAAwAAgD6//n//P8FAAQABQADAAAACAAGAP3/+P/x//r/CAAHAAMAAgD/////+//0/+//7v/3//7/AAD9//j///8MAA4ACAACAAQABQAAAAQAAgAAAAgABQD7//H/8f/6/wUACwAAAP7/AwAFAP7/+v/9//z//v8AAPr///8FAP3/AAAHAAUA/P/5/wEA//8EAAkABQAHAP3/9f/8//7/9v/3/wMADAAIAP//+f/4//v/9v/y//v/BQAAAPn/+f/8/wEA///8//z//f8AAP3/AAAJAAYAAAD5//n//P/9/wAAAwAAAP7/BAAGAAMAAQD8//f/9//5/wEABQADAAMA/v/7//7/AAADAAQABgAAAP3/AwAIAAgAAwD8//T/9v/+////+v8AAAcAAwD7//f//v8FAAUA/P/7/wMABwAJAAcA/v/0//L/+v8BAAAA+f/6//v//P8FAAgABQACAP3/+//+/wAAAQABAAAA/f/7//r//P8AAAYACAAAAAMACAD+//n/+//5//X/8//9/wgACQACAP7///8AAAIACAAIAPv/9P/5/wEABQAEAAUACgAJAP///P8AAAEA/P/6/wAAAgD9//b/8v/8/wQAAgAAAAIAAQD7//n//P///wEABQAJAAEA/f/8//v/AwALAAYA/f/2//f/+v///wcACAADAAAA/P/5//r/+P/7/wQABAD9//n//v8FAAQA/v8CAAsABwD7//P/+P8CAAgACAAEAAgACwAFAP////8AAP3//f/+//3//////wUACwAFAPz/8//z//j//P8AAAYACwAFAAAAAAABAP7//P8BAAMABAAEAAIAAwD+//X/+P8BAAUA/P/2//z/AwAHAAUA/////wAA+f/8/wEAAAD+////AgADAAIAAQAAAAEABAAFAAAAAAADAAUABAD8//j//f8AAP7/+v///wAA//8FAA0ADQABAPb/9v/5//7/AQAAAAEAAAAAAAQACQANABAACgD8//n/+f/6/wEABQABAPv/+//8//j/+P/6//7/BQAGAAAA//8CAAMAAAAAAP3//f8AAAAA+v/3//n///8GAAUAAAD6//f//v8EAAkACgAHAP//+f/5//3/AAACAAkABgAAAAAAAQACAP3/9f/0//f/+/8AAAAA/////wIABwADAP3//P/8//3//v8AAAIAAAAAAAMAAQD+/wEABAAHAAMA/v8AAP//+f/6//3/AAAAAAEAAwAAAPr/+f/5//z/AAAAAP7/AQABAAIAAwD//wIABgACAP//AQACAP7///8AAAAAAAAEAAUAAQABAAAAAAD9//j/9v/6//z//f8FAAsAAQD9/////f/7//3///8BAAQABAADAAEAAAAAAP7//P/8//r/9//4//3/AwADAAQABgAEAP//AAAFAAQAAAD+/wAA///4//b/+f/6//f/+v///wAABQAIAAUAAAD4//f//v8AAAAAAAD+//7/BAAFAAUABAADAP7/+v8AAAYAAAD//wQABAAAAPn/+f/+////+/8CAAoACAADAAAAAAABAAQAAAD6//3/AAAAAP3///8BAAMAAAD+/wEAAgAAAAAAAQAAAPv/+/8AAAQABwAGAAQAAwD9//f//P8CAAUACAAFAAAA/v////7/AQAEAP3/+f/8/wAAAwAIAAsABwACAPv/9P/3//v/+//+/wYACQACAPr/9v/8/wMAAgACAAkACgD///v///8AAP7//P/9//v/+v/9/wMACQACAPv///8AAPn/9P/6/wMACQAJAAkADAAHAAAA+f/8//7//f8AAAQA///3//f///8CAP3/+P///wUAAwAAAAAAAwAGAAAA/P/7//v//f8BAAgACAAGAAEAAgAFAAEA/f/+/wYAAwD///3//f/8//v///8CAAAA/v/7/wAABwAGAAQAAgD9//b/9P/2//n//v8DAAgACAACAPr/9v/7/wAAAAAAAAAAAAD7//v/AAAGAAQAAAAAAP//+//+/wAA/v/8/wAAAQAAAAAA+//7/wAAAwACAAAAAAAAAPz//P8BAAcABQD+//v/AAAGAAUAAQD///3/+//8//7/AAD///n/+v8AAAQABgAGAAgAAgD8//r//v8AAAEABgAJAAAA+P/2//f/9//5//z/+/8BAAgACgAKAAkABgD+//X/9//7//v/AAAFAAoACAACAAAA///4//L/8//4//7/AQAGAAgABwAAAPj//P///wAAAQACAAAA/f8AAAAA+//6//7///8CAAUAAAD7//v/BQAJAAIA/v/+/wAA/v/6//v/AAACAAAAAAAJAAkAAgADAAQABAAAAPz///8FAAIA+////wAA/f/6//3/AQAAAP7//v8AAAAA/f/9/wEABgAGAAMAAAD9//3//P///wEAAAABAAQABgACAAMABwAFAAAA///8//7//v/7//z///8BAAMAAQD///3/AAAAAPr//f8EAAcABAAAAP7////8//v/AAAAAAAAAgAGAAkABgABAP3//f/+/wIA///2//n/+//6//7/AgACAAIABQAIAAgAAwAAAP3/+f/1//H/9//+/wEABQAFAAgACwABAPr/AQAGAAAAAAABAAEA/P/2//f/9f/2//j//P8CAAcACQAKAAcACAAJAAEAAAD9//v/+v/3//r///8CAP/////8//v//P/9/wQADAAPAAoAAQD+//r/8//0//7////9////AQAFAAIAAwAGAAIAAgAGAAUABAAEAAMAAAD6//j/+P/6//3//f/+//r/AAAJAAoABQAAAAIAAAD5//j/9f/4/wAAAAADAAcAAwACAAUACAALAA4ACwAIAA0ACQAAAPz/+f/6//r//f8BAAgADgAMAAwACQAEAP//+v/z/+v/6P/o/+j/6P/u//X//f8AAAUACwAOABQAEQAOAAUAAAD///f/8P/w//T/9////wYADQAUABMAFQAUABIACwADAPr/7f/l/+D/2//W/9z/5v/u//n/AAAHAA0ADwAMAAUA9P/k/9z/0f/I/8P/w//D/83/3v/v////CQAbACEAIQAjAB0ADwD//+//4//Z/9T/1v/b/+X/+P8OACEAMwBEAEkATwBKAD0ALwAWAAEA8P/h/97/3//m//X/CAAlADoARABRAFkAWgBLADoAIwAMAPD/1//J/8D/xf/S/+P/9v8MAB4ALQA1ADwAMwAVAAIA6P/S/77/rP+j/6T/qv+z/8j/1v/w/wQAEgAfAB4AGQAHAPj/5f/P/8H/uf+3/7f/y//d/+z/AAAYAC4AMgA3ADYANAAoABwAFwACAPf/9f/4//D/8P8BAA0AFQAdACMAIgAaABoAGQANAAkADgATAA8ADQAcAB0AEAASABUACgD+//3/+//z/+v/9P/1//L//v8KAA8AAwAKABIADwALAAIADQD+//L//f/9//b/9//3//P/7v/t//f/6f/g/+b/6//r//P/BQATABsAKwA7ADwAQwBFAEMALwAlACMAGwAKAPf/BAD4//z/DAATACMALwBBAEkAUwBaAGcAWgBLAE0AOQAoAA4ADAD5/+L/4f/d/+D/2P/v/+n/7f/8//T/BgD2/+D/1P/I/5z/hv9r/0D/Ov8V/wv/8v7t/uv+1P7d/sb+wf6e/oD+Yf4p/gf+3P3N/cL93f0X/nf+9v6W/1MA8gDGAWoCBgOSA+IDKQQuBDIECgTbA5QDWQMmA+gC0QKiApYCbwJZAioC+AHGAXUBSAHyAN4AwgDOAP8ASgHOAS8CxAIUA2ADVgP2Am0CVwEXAG7+t/zD+tf4BfdU9QP0zfIz8rLxqfHV8UjyHPPo8yP1RvbJ90X59PrD/G3+UAD1Aa8DHAV5BosHbQj+CEMJjgleCUcJ7gifCE8I/QfSB5QHgQdrB2cHMAceB80GfAYnBq0FgAVSBZIFAwYOB1sIIwpGDFEOlBBFEpgT6RNKE3oRew5kChEFLP+P+P3xV+tU5QPgettB2N3VrNR71FfV8dZ12ZvcXODm5LLpD++89Jf6gAA3BpQLcxCNFNsXNxqUGysc2BvCGiMZCxeNFPMR7A7kC+AIsAW7Asn/P/0g+7L52/jl+MP5PfuO/R0ACQPSBX0IogpJDHYNHw6xDtkOZw/2D/wQTxLTE4EVuharF2MXOxaFE4oPUwrPA6T8vPQ17bLlAN9G2bXUfNFLz5bOr879zxHS6dRz2JrcZeGI5lHsB/Iu+E/+AgR4CT4OeBK/FVAYDxohG5IbTxvSGtgZlxgIFzsVDhOIEOoN5grQB5kEjQG9/kb8j/pb+Rz5gvmg+mz8l/4RAZADFwYTCNoJFQvOCy4MAgyyC/kKdQq4CUQJEQkICYcJ0gm9Cl4LDwxoDDEMpQvrCfYHwAQZAdn8DfhN8zvuwOlH5a/heN4A3EnaLNkA2QbZRtrW20jeReHn5GDpz+0i80/4xf3NApoHFQyFD7oS8BS1FqUXMBgrGKAX9xagFU4UVBIzEMINCwtUCFwFtAIhAAT+NfwO+336g/of+xL8vv18/6QBzQPwBQsIsgk0CxcM0Az6DOkM1AxyDI0Mywx8DYUO3g+BEfoSMxS+FJMUQRPpEFkNvAhoAz395/ZZ8BbqFOSb3tjZl9U90nbP0c3pzOfMMs5y0ObTatj93THk+Orm8cT4Nf8NBVYKoQ5QEhwVkheBGfYaOxztHGwdJh1rHP4a8hhfFjIT4A9yDFkJWAYRBC4C2AAYAIX/cv80/37/iP+//0EArwDMAZkC3gMYBTMGIgeYB+IHnAeNByYHRAfYB/8ICwtPDVoQHBOpFVMX3BcDF2sU0RCHC4UF1P7y9yvxoOq75BHfM9qU1avRJ85ty6vJo8hlyT7Lys6409/ZD+Gh6ITw9vc3/4cFEgsBEAcUhReWGjgdTx8LId8hGiJgIbIfOR3aGTwWHBJWDq0KegcrBS0D5AHTADQAov8S/+b+zf73/q3/8wB4Ap4EwgYBCQMLQgxKDTsN4gwdDCwLpwpRCvMK5gu1DbUPpxF0E0sUYxTqEp4Q9gxJCPQCJv1T9+XwWuuQ5QTg6Nrx1arRU80+yrHHaMZ3xu7HGMtAzx3Vh9vj4ibqefHd+EL/hAX6CkEQ0xQRGdEc6h+0IjgkSiUoJSMkRCKoH8QcKhn1FdESyg86DQoLGAk+B5MF3QMTAmIA6f6X/eL8oPz3/PP9Jf/2AM8CSgS5BbsGcQfnBxcIqghECVMK/wvLDRsQQRIdFGIV7hVCFVETlBB7DJkH8gEA/Mn1du9s6XHj191T2ITT9s4ay2nIjMYPxuPGUcn7zCXSLtgM34nm/O279ZL8YAOzCTMPahSyGLYcDCDOIuckVCYWJ+MmJiaBJDYifh9RHPEYjBU1EhoPRgx2CeUGdAQPAsn/f/1p+4j52feW9tn1qPX/9dX2EvjC+ab7df2G/3QBYANkBT8HcAmjCwYOlhD2EgoVrRYFGCgYLBdnFXISeQ6hCUEEXP4b+P7x2evC5Qbgqdro1aXR781iy/DJh8lfyrrMYdAR1dDaROFA6H3vzvbz/bEEBgvMEAYWdBofHjYhiCP6JMYl4SUjJdwj+iGpH9ocoBk+FqASIw91C+AHigQvATD+Wvvp+Lf28vTg8znzKfO68w/19PYe+Zn7Yv4GAY8DGQYYCAgKAAzEDX8PQhE+Ex4V4BZOGBIZQBmGGLkWzBMAEIwLPwabAK/6S/Qc7vzn5eEr3OrWTtJRzknLU8mMyO3Ih8qFzWbRQdb921XiCOnh7/j2yf0+BGkKIRBIFakZeR2pIA0jtCR9JZEl9iSHI5YhMh8uHNoYQhWWEfYNLgrBBmoDHgBE/WD62Pee9ZjzMPI58QXxj/Gd8kz0pfZI+Rb8G//sAcAEggcvCuoMoA+nEqIVuRifG9cd2x/9IOkgyB99HRQamRVSEDsKpgPM/J/1e+5054rg+tka1LfOA8qYxibE7cIow6XEnMevy+fQL9f/3XXlN+0O9cX8CATgCi0RyhaBG3kfjSK2JAwmhyZHJjglpiN8IdwexBtMGNoUJRF+DbEJ9wWWAhf/5Pvs+Cj28/M98iXx6fAo8Rny5/P09Y74Yvsf/uIAgwMjBm4IrAroDCAPnBHcEy8WhhhWGtIbrBzUHD8cqhplGDQVDxE7DN8G/ACH+gD0W+3r5qjgm9p71dXQJM2eyuvIZsjsyMDKn81L0f7VTtsy4ZTnEu6c9CD7igGeBywNWxLfFsAaLB6wIIAiwCMnJPsjMSPRIQUgph0IGxgY2hSmEToOsQo8B9kDmACN/eb6q/jb9pv1+vTc9EP1FPZM99r4gvpO/D/+PgAsAisERwZDCDAKUQxtDjoQDBKdE8cUtBXtFZsV0xQyE94Q7g1JCgQGNQEt/NT2NPHR647mp+Ev3VXZSdbV00LSZ9F50VHS3NNW1lXZ/9wo4cjlzuoN8I319/pdALYF3QqpDxAUCBhhGzQeaCDUIa8iBiObIsIhVyBlHhIcMxk+FrkSDg+LC8UHLQTCAMn9+Pqz+BL3l/X89MD05/TD9cL2LPgB+uj7/P1sANMCJwW5By0KlQweD1ERXhNaFbMWrhdBGAwYShfAFVkTVxCYDCIIPQO+/d/3H/Ij7Dfm2OC22xbXT9Mv0LrNbsz3yxbMes2BzzLS/tUh2v7egOQs6kbwmfbu/BoDJwn5DlEUFhlPHQch6SMqJsInjSi8KBso7iY/JfsiRiALHYwZxxXJEdANywnbBQ0CYv4z+1742/X885fysPE98Vrx/fG+8hn0+fX791D6Af3m//gCVAaqCRsNgxCCE0kWrhiBGnEbsRtQG9YZlBeMFKsQKAwLB4UBufu89c3v3+kl5OTe59mV1d7Rts51zM/KDco0yiTLC83kz4jT1dcC3bPi3uhz7yL2Af2xAxwKORDmFdsaIR/3IsYl+SeDKfgpDypoKf8nTCbTI+0gyh0wGnYWfxJjDmQKlgbfAkf/OPxb+f72L/WT88HyRfIa8ozySfN09Pf12Pfr+VP8FP/TAeIEBAj0Cu0NuRAMEwAVhhZKF10X3BaGFVsTohAeDfAIeQSG/0D69PSM7xbqD+Vn4AHcNtjk1DzSXdAqz5rO8s4U0KjRNNRM1+zaSd/v4xvph+4y9Ar60f/DBZYLHhFUFikbgx9MI30m9SiZKsYrLCyGK5AqxyhdJr0jWiCnHMIYsRSLEHoMaAhkBPgAoP2b+hn4vPXy87jy4fFw8Y7xDfLn8lr0EPYH+IP6GP2h/28CAAV2B/IJ2QtyDY4OHA9JD8UOqQ0TDOkJMwcdBIYAtfy/+H/0TPAQ7ADoMuSh4GPdndqq2PPW0dWn1d3Vz9aT2Mfak90N4fHkSOkU7hfzaPjx/YQDCwlrDosTTxjJHLUg9SOvJqMo8SmmKncqrylmKHEm/yMbIe0ddhquFuoSEQ8wC3oH0wNQACL9WPq393X1yfNM8kHxzvCs8NvwmPHZ8i305vX+9xX6Wfy4/gkBIAMTBdAGMwhdCRIKWApACrkJ9wi9B+IF4QOoARX/Y/xu+WT2cfOJ8Kbt7OqU6ELmNuS04mjhhuA14Ezg3+Dy4XfjjeUK6PrqY+7t8df18fkA/jgCYgaPCnkO6xFSFWgY9ho2He0eGyDdICsh8iAmICkfvB3TG+AZfxfEFBcSKA8bDC0JFwYfA2IAqP1J+xz5KffH9aD00vN+81/zrPNa9CL1T/a99xH5kvo3/MD9aP/4AB0CagOTBCcFyQUgBvoFtQUfBRAEuAJDAWv/Xf1W+xz5y/Zp9Ajy7+/X7cbrJOqR6EjnmeYQ5vnlWOb85g7oh+lk64ftBPDo8vH1I/mI/Nn/MAOkBtkJxAyQDzgSYRRFFvsXExntGXkaixpjGr0ZyBihFx0WWxRoElEQCQ6mC2sJOwccBRgDKgGN/xP+0/zS++D6T/r5+b351Pkq+pv6NPsV/Ov8x/3b/q7/dQBoAf8BaALMAvIC8gK7AlICpQHMANb/iv40/bH7+fle+JP2v/QW81zxze977ijtMuyA69nqkuqQ6uDqc+s77HLt2e5x8F7ybvSz9if5kvsw/sUAQQPTBSwIewqkDIcOMxClEQQT4hOSFBwVDRXvFJwU6RMaEwIStxBkD/ENXAy7Ch4JdgfQBVsE4gKEAV0ARf95/sf9Jv3M/KH8gPyh/An9R/20/Vr+6/6L/yMAwwBTAcIBJQJyApsCiwJaAhICjwHRAAEAAP/Q/Zj8SPvn+VT43PZ59evznPJh8TPwV++J7vPtuu2N7ZTt+e2b7nPvb/Cv8SnzxPSY9of4hPqc/NP++QAIAykFKAf2CL4KSQyXDc0OtA9bEO0QNxFGERoRthA6EJUPvg7GDbwMlwtaChwJxwd+BlQFIAQJAw4CMwF7ANn/gf9G/xj/Gv8v/2j/sv8IAG8A0gA3AagBGAJXAogCzwLtAsEChAJGAs8BIAFgAI3/if5v/S/82vqn+UL41PaQ9SX02vLM8Znwou/x7kDu9+247Y7t7u1V7tnuve/R8P/xXvPp9J/2d/hA+jf8NP4JAPAB2QOlBUwH7QhYCpkLxwycDWoOFw9tD7YP4Q++D20PEw+cDusNKw1kDHILjAq4CdsI+wcbB2IGtgX/BFwE5gOCAx8D7gK6Ao4CewJfAlQCTwJcAksCJwIoAhMC6AGnAUwB0wBbANP/Af9H/nj9XPxt+1f6DPni95D2UPU89PjyyvHW8OfvD+9q7t7tdO1D7T3tgO3r7XHuTe848D7xnvIE9I31NPff+NX6uPyC/m0ARgIhBNQFagf9CEgKlAvNDKcNgQ44D5QP9w8zEBIQ6w+3D1QP5Q5SDpoN7gwnDEkLZApvCYUIkwe6BtcF3AQeBGQDnALhATIBkQD0/23/7v6G/h7+nf1S/QD9gPw6/PX7hPs8+/n6pfpm+hn6yfl/+TP55/iU+En48feZ9133Efe89nz2M/YR9vP1wvXX9d717fU79oX25PYz97L3YPjq+Jf5Vfon+wT81Pza/cr+pv+5AKsBlQKDA0QEGgXbBXQGGQeqBxkIegjKCP8IMQlECT0JHAnnCMMIfwgiCLUHTQfrBl0G5wVuBdoEZwT/A5IDGQOpAlgCDgK4AWUBIgHwAM0AtQCYAHkAcABpAGQAUwBBAEoARgAvAA0A9P/L/6T/c/8X/8T+Xf4F/pr9Cf2T/BP8mvvy+lb65/lX+er4b/j096D3Nffv9sn2fPZi9nn2ePa19v32RvfP91P48fij+Vj6KPsW/AT94v3Y/uL/4AC9AaoCjgNjBFUFCwamBlUH/wdzCNQILAlYCaIJtgmsCboJmQlqCS4J6AiPCCcIsgdNB9EGLwbCBToFsAQzBJYDIAOhAhkCqQEwAcEAbQAUAL7/bf8P/9v+nf4+/hb+2/2U/WT9Cv3C/JT8SPz8+7D7Zfsj+976lfpJ+hj64Pmg+W/5O/kz+Rn59Pj2+OH4//gS+Qz5UvmJ+cj5I/pv+tz6YPvF+0/89vxl/Qv+tf41/+n/fQAbAc4BWQLxAo4DFASBBP8EbQWwBf0FOgZcBnIGeQZ2BmoGVgYwBvAFrAVxBRYFxQR2BAUEpwM/A9QCdAIMAqwBSwH3ALUAZwAnAAYAxP+W/3n/Tf88/yn/LP8f/xv/Gv8P/yv/F/8w/0j/Hv8k/yr/K/8L/+L+xf6a/n7+Sv4Y/vP9rf1l/T/9H/3T/Jv8evxI/Df8Ffz2+/L74vvv+/v7AfwW/DX8avyM/LH8+fw1/W79qP31/VT+e/61/iv/ef+y/wQAYgCtAOQAGwF5AdAB/QE9AnwCuQL6AigDUgN5A6IDyQPmA/8DMQRSBFgEdAR/BHMEagRxBG0ETwREBCQE8wPlA8EDjQNnAy8D+ALEAoECRALzAaEBagEVAbUAYgDy/5P/RP/T/mb+BP6J/R79rPwz/Ov7ifsW+7/6ffo8+t/5pPmO+W35Q/ks+TD5Mvk3+V35ivm1+fH5L/qA+tr6Qvu0+x38kfwN/aH9IP6n/lT/7v9+ABEBwQFqAvMChAMZBKwENQWpBRYGnQYNB1YHngfpBzgIWwhcCHUIlgiTCF8IKwgWCNgHcAcaB7sGYwbtBUcFzQRGBJkD9QI/Ap0B8AAgAGz/sf74/Vz9n/za+0b7oPr4+YL58vhv+Ab4kfdC9wH3vfaC9nP2dfZT9mX2pfbZ9hn3Y/fD9zD4n/g2+dr5bPr/+rf7evwK/av9jf5J/+H/nQBeAR4CwAJFA+QDdQTzBHQF6wVEBpoG9QYdB1EHlge0B6kHhwebB6YHdQckB90G1QaOBhEGwQWIBTwFrQQ3BN0DcQP4AnACEwKeARUBmgAfAMX/Xf/a/mj+I/65/TD96fyl/Ev89vuX+1L7Qvvw+n36U/oo+vj5z/mk+YP5ePld+Ur5WvlN+V75bvlt+Yf50Pkl+jL6XvrC+lT7eftw+1n8Ff1X/aX9Fv78/qr/9/9ZACwB9AFEAsgCXgP/A6sE9ARcBfwFcgbTBiMHaQe2B/kHNwhUCGoIiQiTCKUIlQhuCGIIHQjUB7YHVwffBnwGEgasBRYFWwTXA3wDygLsAVkBuwAAADP/g/4F/lX9g/zC+z77z/os+o/5JfnV+Fr4/ffL95D3cPdB9zj3SPdB93n3tPfZ9xz4cfja+EP5sfk3+s76ZPvw+5r8UP3p/ZP+Uv/8/5wAPwHxAZMCIAOuAzcE2gRJBYcFAgZnBqMG0Qb9BjkHSwdIBzgHQAdmBygH6gbfBq4GegYqBt4FswVkBfUEigRCBOsDdwMkA8cCVgLpAY8BQAHOAGwAHQC8/07/4v6W/j/+zP1v/RT9tfxh/AD8u/tx+/T6r/qS+kr66vmu+Yj5W/k++Q759PgB+RT5DfkA+U35h/mc+ef5H/pv+vb6X/uf+wj8nvwi/a39RP7L/mv/KAC2AC8B3gGjAjgDrgM7BM4EYwXXBUEGxwYXB2EHxwcOCFIIXwhnCKYIkAhbCFcISAgVCLIHWAcSB8YGWgbKBVMF3gRSBMsDNgOGAvwBcAG6AB8AgP/e/kX+qv30/EP82vtG+6D6Ifqa+SH5p/g7+O/3nfdI9wj3zPbC9tT2uvbQ9uj2Cfdh96L3+vdr+OT4YPnn+YD6FvvH+3/8Kf3a/aH+Z/8nAOMAsAGAAgQDuQOUBBsFkwUZBo4GAgdxB6QH8gc/CEEIcwiUCHoIawhVCC4I7weXB1MHEAeoBjQGtgVPBd4ERwS2AzgD1wIlApABSQHAAD4AxP9m/xn/pP5X/iH+3/2g/W/9Uv0j/eL8zPyp/I/8kfxI/ED8P/z/+/f71fvH+7z7ovuc+4H7fPt5+3j7fPty+1j7YPuV+5X7jvu7+/L7A/wl/G38rfz9/C39cf3i/TP+g/7p/lT/ov/0/2YA2wBDAZMB+QGGAuQCMwOwA/wDXQTdBBMFbAXSBRkGcQa8BuAGEAdiB4sHmgeUB6oHvweEB1sHHwfbBoYGGAavBQ4FmgQHBE0DqwLfAT4BhgC5/+v+Ef5v/af80fv2+jT6xfkf+WD41Pdt9yb31fZw9jP2KvYo9jz2VfZv9sD2Nfea9/n3ifhN+RT6s/pN+xX8/Pzb/YL+Nf8aAOEAfQEgAuMCewP6A4ME6QRHBZkF6wU2BlYGaAZ7BqIGqQaPBnsGWgZEBicG6gWzBaEFiAUqBdMEtwR2BCwE9AORA08DIAPzAsUCXAIpAvMBqAF6ARgB0wCmAFIA4v+S/1X/3f5j/ub9dv0O/ZT8Mfyu+xP7ovo++r/5PPm++Gz4M/jZ95b3Xvcx9z33PPcp91j3kffN9y74gPjw+GX5APqp+if77vu//Hr9Pf4J/93/owBuARkC9ALGA1gEDgWvBTsGuAYyB5wH2gc4CHUIggiqCMYIvAigCJEIeQg3CP0H0AeRBzYH8ga2BjgG7QWeBSAF1wRYBAEExQM3A+YClQITAqYBSAHfAFIA2f97/wr/g/72/V/90fw5/I37Avtf+rL5K/mT+Pb3Yffe9mn28vWS9Vv1NfXz9N309fQH9UP1kvX79Wv23vaO91f4I/kK+gL78Pvj/PL9EP8WAAkBEwIcAxsE/QTbBdEGlwc+CNsIZQnnCUwKlAq2CrYKwwrQCo8KOgoCCo4JHwmpCAgIiwf8BmkG3AUSBVYEwwM3A5kC7gFLAcYAYADp/3f///6l/nL+If7t/b79gf1b/TP9Af3G/Lj8qPxk/DH8+vu1+3b7G/u3+kb65fmT+Q75iPgL+LT3V/fi9qr2YvZO9k/2KvZa9p725vZU9+v3m/hb+UT6OPtU/Gj9iv7m/xkBQAJ9A7wEAgYXBwkIEAnkCY0KKQukCwIMIgwuDCEM6wuhCyQLjgr3CTQJWwiVB50GqwXLBLwD7AIfAhgBVQC4///+b/4F/q/9bv0w/R79FP0T/Tz9Xf1+/cD9D/47/nD+rf62/sf+1/6y/oX+WP7t/Vf91/w8/IX7y/r0+SP5WPiO99r2D/Zb9eH0bfQH9MfztvPB8/fzUvTC9Hr1T/ZM93v4pPkM+5X8EP6q/2ABCAOWBEcG0wc5CbUK3AvpDPMNqQ5HD8UP9w/7D+wPmw8TD2UOfg2GDIALZwoXCbcHcgYYBbwDdwJGAQ0A+P4P/ir9g/zu+3H7Mvvx+uj6FvtN+6L7/vt//BX9fv0L/qv+Gf+G/9L/AAAeAAEA7v+z/xf/gv7O/fr8JvwN++j50fiu94n2h/WF9GfzlfLg8Tjxw/Bt8GjwlPDn8FLxEPIk8zr0rfU099z45vrd/Oj+DwExA14FkQesCaILkA1MD9AQGhJNE0oU1BRPFXQVLhXeFFwUhBNNEu4QjA8FDikMOApmCHcGmQS6AtsAN/+U/R/88vrX+eD4J/i793r3OPdK97X3Hvih+Cv52fmz+n37T/wH/cH9b/7t/mn/rf+8/77/jf8r/67+8f0i/VT8Pvsb+vv42/fF9p31iPSW887yGPKU8U3xKvFI8Z3xNfLs8vHzTvWm9kP4Cfrw+wf+DwA0AmQEegaXCKkKbgwcDrcP+BAmEgETfBPoE/4T4hN/E8US/BHjEJUPMg6eDPUKKQlDB3gFsQPLAQsAc/7k/Jr7c/p6+bv4H/jJ97T36fcj+IX4V/kp+gL7/PsJ/SD+Mv89ACIB/wGlAi4DpgOtA5UDVgPLAh0COAEMAMH+YP2/+yr6afiB9vv0VPOd8UTwCe/g7QDteuwq7DHsdez27PvtNu+u8Jnyn/TW9mD58vuy/n4BNgQSB9AJWwy1DvMQFBPSFD4WWBcjGIEYoxiJGNIX6hbVFVoUmhKoEJ0OXAwGCqEHSgUSA9MAu/7M/A77fvk5+Dj3Zvbq9Zv1xPUv9p32i/eX+Kr5CPtn/ML9Nv+oANwB4wLiA5kEEwVpBVIF9QRqBIwDgQIlAXr/wP3W+7j5s/eR9UjzXvFg71bt4OuD6mTpsugn6APoTej76AbqbOso7UPvpPE39DD3O/py/dsAEQRkB6kK3Q3sEIkTHxZPGBoatRvBHHUdvx2oHTUdPBz5GmIZaxcpFcASKhBnDaAK1Qf8BC0Cpv8n/e76EPk099L1svTc82rzK/NY86PzVPRK9U32mvf0+Ir6//t2/RT/ZAC6AdACrQNnBMgEBgXrBGYEvQPaApQBKwB7/p/8wfqP+If2c/RN8nTwgO7G7GHrQ+pV6aPod+iA6Pbo2OkE66Tsje7V8GvzNvYy+V/8t/8iA4EGxwkgDUcQOBP7FVUYaBorHJQdgB70Hg0fpB7fHcMcMRs0GekWcBS3EbsOuguzCKAFsgLL/w/9o/pl+Gv2t/R184Ty2vGj8bDxIvLe8s3zHfWb9i348/m9+1z9Jf/VAEkCtAPGBJgFHwZxBnQGDQZ3BWEEJgOpAdv/DP7c+7L5dfcm9fzyz/Dt7hntluth6kzp2eif6KToQulA6pbrTu1f78Xxi/SD95/68f1QAawEHwiEC5UOiRFFFKkWwRhkGq0bihwKHQ4dlRzPG4caChk9FwYVmRLiDy8NWQpiB4MEogHv/mr8EPrQ9+T1WPT48ifyo/Fs8brxIPLs8jL0t/WB9275hPu+/RAAPQJZBHgGOgjGCf4KwAtUDHoMLwyHC1YKuwjYBo4E7AEk/xz87/i89V7yF+8O7CXpj+ZC5D3i6OAG4HXfm9824GPhReN45RzoP+vc7r/yw/YQ+1T/vANUCJgMnRBYFMoX+Rq6HesfgyHMInwjkCMwIyEi5SA1H+IcYBp/F4EUShHiDY4KGgfaA8MA6P1K+7/4svb/9Lbz8fJ18mfyuPJg82P02PWS91/5efuN/ab/4wHkA8oFeAfUCPMJogrmCsUKRgpqCfcHGgb/A2ABgv5/+yT4vPRU8eXthupL523k3uGs38ndZtys21jbuNuZ3N/d5N9l4mvlx+iB7LTw+/SF+S3+6AKpBzMMvxDfFIQY/RsqH+ch2SNUJYEmGyc0J5omZyX+IywiuR8FHRMa0BZYE6YPDwx7COYEhwFa/nz7uvhh9o/0EvMk8nzxPPF78fzxDPN29An28fcG+hX8UP6sAMQCvwSDBvIHQAkjCnsKggouClsJDggzBgMEjAGQ/pL7YPjO9HbxGO606oTnqOQ+4gXgOt4F3UzcFNxr3Fzdyd7A4D/jQua76X3tofES9pP6Jf/NA2wIAg1rETsVzhgjHOAePCH+IjMkDSVyJUwlVSQBI3QhQB+7HPoZ+hbKEycQeAwKCbUFbgIz/0/82fm89/n1dfSL8y/zEvNS8+nzAfVb9tr3vfmy+7v9zf/QAdkDnAU+B6AInQl/CvEK1wpzCsEJuQgjBx4F/gJxAJX9wfqy95H0nfGv7s/rJOnm5vjkPuMK4lbh9OAm4dzh6eKU5KHm/ejn6/XuR/L79bD5jv11AUcFFQm3DDYQbBMoFp0Y1RqZHNUdnh77HuweTB42HeYbFBrQF3YVxBLhDxAN3wm/BvID+ABL/vD7q/ne92T2MfVM9NTz3PMZ9K/0m/XP9kn41fms+579g/+SAYcDYwUnB5QI0AnRCoEL5wvmC3wLywrQCVQIhwacBF0C8v9Z/Xz6pvfd9DPyou8x7RHrGel450zmd+Uk5UTlvOWi5vbntenh613uKPFZ9I334fqX/hMCiQUhCVoMdg9bEskUAxfVGCkaHRuXG6sbSRtpGkIZsBeuFYITFRFuDrYLzQj3BUsDkQAb/vL75fke+L/2yPUI9ZH0gfTI9GP1Q/Zz99P4Yvow/Pb91//JAbYDjgUJB5UI8AmoCkkLpwufC0sLbwo6CdAHLAYsBNkBXv/E/Cb6YPeh9A3yfe8z7f/qAOmN51Lmf+Uk5SLlseWm5vLnr+nj62DuHvFK9IT32fpt/u0BcwXkCDkMZA82Et0UIxcBGXEaZBsTHCsczBsiG+kZZhiYFlsU4RFOD60M5wn9BigEjAEF/6D8l/rE+ED3FPYx9cL0ivSq9EL1EPYp94P4C/q2+3v9V/8oAQYDzwRrBt8HCgkDCrgKFAsWC7QKEwocCaoHCAYoBOABfP/9/Fz6nvfg9Fby4u+B7Wjrsuk+6A/nXuYz5lTm0+bk50jpD+s97anvc/J19an45vsc/4ECzAXnCO8Luw42EXUTYxXRFuYXrBjnGLQYHRgqFwQWcBSPEoAQQQ4ODKcJLAfnBKACYwBn/qb8MPv9+fL4XvgD+Nn3JPiW+FP5SfqC+/z8W/7v/5kBQgPtBGcG3AcqCTAKEwvQCyYMBgzMC04LVwo2CagHxAXbA38B9v5m/Kf5Afc/9IrxF++47Jzq2uhj5yXmZuVI5Vvlu+Wt5gnoxOnG6zPu8vC189z2GfpF/aIA4QMZByQK7AyFD8ARyhNsFaAWexfXF9oXhBexFpYVOhRsEoMQiA5LDAcKxQd2BUADOwFX/8b9Y/wp+2H6z/mm+br55Pmg+oX7avy1/TX/rQA+AtUDdAUUB3UIzwn9Cr8LWAzBDMAMSwybC7oKVwmqB70FXAP8AGn+gfuk+L/10fLl7zDtpOpa6F3mmeSK45Li3OEW4n3iPeOY5F7miOjs6qbtqvD282f37PqE/g8ClwXuCB8MLA/MESEUMxbEF/kYwBkgGioamhmuGKEXKxZJFEsSMxDpDZsLTQn+BqUEdgKhANv+O/32+wb7XPr8+fH5NPrC+pH7mvzJ/Tj/1ABfAgwExAVMB7oIBgotCxAMigzNDNgMdwyoC5MKOQlwB2wFGQN/AMv9zfrk9+L0rvHP7gXsXekD5+3kOePd4evgbOB84PrgzeEq4/3kIuem6YbssO8g87/2b/on/uoBnAUMCWAMgw9NEswU4RaYGOkZyBpOG1Eb3RoUGgEZlhfEFdMTphE2D9sMYArYB2EFFAMAAe3+Q/3W+5/62vk++Qv5HPl7+TL6B/sv/HH98v6IAAcCxgNiBeUGbAikCZYKagvwCwEM5wtuC4IKXAnBB/YF7wN0AfP+R/yC+b/25/My8YXuG+zr6eLnTub95A7kjON/4+njquT95YXne+kI7KnuqfHi9Cn4qPsY/3MC2AUNCewLnQ4OESET0BQfFioXuRfXF6QXCxcgFswUMBNwEWMPKQ3bCnsIIgbHA4YBhv+5/Rf8uvrH+Q35lfiO+MT4Vfk2+iL7YvzY/Uj/BgHVAmUEKAb4B4cJ5AoTDCcN/Q1vDoEOXA7VDdkMhwvICdcHfgXWAhIA/fwC+vn23/MA8SnugutD6Uzni+VG5Fnjw+K14u3ioePG5ELmL+hy6hvt6u8K83r29fmr/UoByARFCIgLkA45EaATrhUzF2MYEBlaGUQZvRjvF6sWRRWYE40RjA9MDf8KuAhfBiEE9wHy/wb+cfwj+/r5OPnP+K346Ph4+Tb6S/ua/Pf9nP9RAfMCnQRXBtUHCwkxCiAL1wseDA4M2QstCzQK6ghUB3UFPAPhAEL+i/vK+Pr1MvNL8J/tI+vO6Mzm++Sh47biKOIO4nLibuO55G/mpugy6xvuMfGh9C34sftt//8CgAbiCQsN+g+CEuQU4xZxGKQZbRrQGrEaSRpnGScYoRaYFG4SDBCADd0KFgh5BdsCcQA6/i/8pfoz+SP4iPcH9wL3Q/fE95b4kvnK+jL8yv1t/zkBGAPGBJAGJQiNCfQK5guPDO0M/AyiDLgLnQoCCfkGwwQfAkv/WvxJ+Sj2CPMG8DDtoeo86CPmnORK41XiBuL64WbiUOOr5Hvmoegz6w3uTPHV9I34cPxWAFsEJQi9CzIPWBIPFVEXOxl/GkUbnBtpG+Aa0hlyGNwW2xS0EmsQ5Q1NC6sIBAZbA8EATf7t+8X5yPcZ9uX0+fOC84zz9/PW9AD2jfd/+aD76f08AI0C0QQBB+wIjQr0CyINCA5zDqYOkg4NDkkNKgy6CvsI9gaaBOIB8v7t+8n4bvUq8vnu6esc6a3mpuTv4ubhWOE24bHhmuL6483l7ucz6t7sye/L8gn2Y/nm/GgA+QOiBwcLPw5rEVEUvhbVGFYaWxsMHAkcqBvTGqMZMRg1FhoU5BGKDwwNewr0B1kF3wJmABT+APwc+pD4QPcb9lH1+vTu9B71hfVv9qb35/h/+kv8QP45AD8CRAQhBggIlwmrCm4L9wscDL0LBgvlCXUIuQasBH0CFQCS/Qf7XPib9dLyKfB67fHq1+jv5lflMORs40TjmuNP5LTln+e26ULsJe9G8r/1R/nt/M0ApQRBCMoLLA85Ev8UiReHGdga7huPHI4cTxyoG4YaDxk6FyUV1BIeEGUNiApPB1wEaQFD/m/75/iV9pn0LfMf8lXxI/FN8czxvfIH9LX1dfdf+Zb7yv0SAGoCowS8BsYIlgoNDEQNPg7gDggP4w5hDjsNvAv2CbwHOAVyAmn/Nfzl+JD1TPIl71Ds3emT56flduR748biCOOh42Tk8eXM5+vph+xm76XyD/aO+Tv97QCLBAUIYAuWDnwRJhRuFjgYpxmTGiIbPRvFGvgZwBgbF+8UmBJFEJEN0Ao5CIkFzQJFAPL91vvg+S343faG9W309vOq84fz/fPe9O/1afdF+Ub7Yf26/zkCjQSyBuQIzwpRDLsN0g6WDxEQLhDoDykPEA5lDF8KJghZBT8CMP8X/K/4QvVV8pzvyewn6hDoR+aS5FHjleIU4ufhhuKx4w3lROcR6gzti/Ax9Pz3v/tR//ACHwYQCf8LeQ6tEJ8SZhQBFi4XKhi9GMoYehicF1QWxBTUEpQQQg7wC3gJIgcgBSEDQAHM/3b+FP3i+8T6w/kL+Yj4YPiM+Pn40vnd+iz83v2R/zIB5QKZBPwF8gbMB4EI8gg3CVoJcwlXCRQJqwjgBwIH9gVWBIMCqgBk/sj7P/m49iP0cvEO70DtXOvc6RDpSOjc5wbonehk6WDqBuy97WzvhPGf89T1Pfib+hr91P+gAmoFTAgxC/ENdxDMEuAUMhbkFjoX2BbTFXwU7hIYES0PiQ3qC1IKAgnNB4oGRAUCBIMCtgDK/sP8x/rp+Gj3efbs9QL2sfbA92H5MfsY/ST/5QCWAhEEFAUIBs0GYQfPBycItAgOCUsJdwlACQAJVggnB9EF+gPNAXf/1/wR+lv3uPQC8pDvju3d63PqW+nZ6LXoxehC6TbqU+uF7DzuD/DB8dTzDfZa+M/6i/1wACMDDwbpCGoL5w3pD54R8RKHE+cTxhMqE1QSKBEWEOwOig1TDBgLogk0CNAGKwVgA6QB4f/w/Rz8j/oT+fr3T/f/9j730fe1+Nr5APtE/Jf9wf71/xsBNwJ2A4oEtgXlBvkHNwlWCnkLPAyPDPcMoAymC5cK5AjhBtMEUQLR/0n9c/r597T1fvOO8bvvLu7C7HDrWup16ePoh+h26Ojouunt6p7snO7s8JLzavaa+av8oP/JAncFxwcZChcMvQ0LD0QQYhHTERQSYBIxErARAxE4EBIPiQ0YDF0KMAgWBkQEewKmABf/pv1i/FT7W/rN+Wf5KPlw+ej5a/oQ+/X7Hf05/mv/1gAsAlIDeAS2BaoGYQdNCBgJjgnvCTsKLwrCCR8JIQi9Bv8EBgPYAHT+C/yS+Vb3UfVI88fxmvB0747u5O107e3sgOyF7I/szOyR7cbuN/Dm8Tf0zvZq+Ur8MP/QARQEPgYpCHIJfgqdC5kMUw30DY8O+w4uD1APWA/tDhQOMA0XDHsK2ghPB7sFVAT9AvEB6gDG/wb/Wf6c/eH8WPz0+4H7Xvt0+8/7PfzK/NP9ov5k/1QA8wBrAcgBMwKzAugCIgOiAyYEyAROBaoF/AW8BVcFzgSBA/wBdAC8/tL86Po7+e73tPZr9ZX0wvPT8hTyZPHT8C7wue+U75fv6u+Y8KzxEPPL9L/2wPjt+jb9Uv9XAUIDAwXWBoAIBwpaC3cMqA2DDgsPjg/vD7wPOw/sDjQOQQ19DMIL0wqPCZAIoQc3Bq4EQQPDAREAhv5r/T/8HvuQ+oL6sPqy+iz7G/yF/O78i/0E/jj+e/4//9b/JgDSAPUBEwO+A6IEsgXrBd0F6AVBBfwDrwJ5Ac3/y/0H/HH68fhE98L1mfRg8yfyRfGF8Ivv/e7D7nbuaO7E7qfvoPDp8aXzb/Vy96L54fsg/nUAsALPBOcGpQg1Cq8L8QwEDhAP2w9BEKQQ9RD4EMoQihAUEIEPnw5nDSsMgQrOCEMHgAXXA1cCIQH6/+n+SP6Y/eH8Zfz8+2L7sPpU+vf5rvm6+d/5XPom+zX8Zv2H/sz/CAFRAkUD2AN6BM8EzQR+BCAEswPvAjwCoQHTAOv/Av/w/cD8dPsb+qn4/vZr9enzj/Jo8Xvw9+/J7wbwffBR8UzyWfPX9Fb26veU+S774fyO/h0AmwEeA40E9QVJB4kI0QkCCy0MJg3TDVoOrQ6lDk4Oyg0LDQQM0gqrCZEIcwdpBqYF0ATeA2MDzALuAUgBoADF/8D+9v1i/Zr8CfwY/EH8U/zM/Kb9dv4h/+n/uABNAcMBTQK2AsgCBQOEA+ADGgRdBM0E7gSDBBEEmwOhAlgBKgDH/hz9nftb+uX4V/cv9jX1F/Tv8gzyj/EX8ZTwkvDX8Dvx+/H78j70YvWn9lH41/l5+zv95P6BABsCqwMmBagG2QflCAMKqwoDC2wLpAufC54LiQtgCw4LqQpxCvcJRwmSCN4HFgfwBfgEJQQJAykCpQEXAYUANgAnAAcAu/+h/6H/b/9L/yr/KP9j/6j/FACUADgB8gGUAhUDaQO9A+MD0QOaAyEDpQJCAtoBQAGCAL7/1v7M/Yz8Qvv1+YH4HffK9aT0rPPf8lTy3PGc8aPxzPEb8oPyIPP98/P0+PU397H4PPrI+2b9If/AAFEC3AM2BZIGqgd/CGIJ5gk0Cq0K7gr8CgsLCQv+Cq8KLAq3CRMJRAhcB2oGeAWLBNADDgNcAtEBawEyAa8ARgD8/4f/Sv8Z/wD///5D/8z/GwCuAGcB/AGrAicDogMSBDAEZASdBJUEkwSYBGQEKQTCAwMDSgJeATkAF/+k/S782fpi+f73xfaw9cL0B/Ro8+vypfJ58nfyefKE8urybfMQ9P708PUh96L4K/q7+y/9sv4cAEwBeQJiA0MEEAXFBaAGOAfYB5QIEglgCZMJvgmaCUUJAgm0CD0ItgdTB/gGowYsBscFhQX9BI8ERgTbA1sD/QLAAk8C+AHMAaQBgQFXAVIBUQFcAWkBZwFxAW8BcAGBAXoBRwFHAVkBOAEnARQB+wCzAFsA/f89/4/+6f0H/UP8gfut+vz5TvmS+PL3U/e39iH2n/VL9QH12vTq9D71xfVG9vb2yveV+H/5cvpq+4T8e/14/rT/tQCvAcgCsQOWBF4F+gWcBikHgge1B/gHLwgtCCAI/wfRB5IHMgfwBoMG+QWmBTgFwARDBMIDbAMXA6kCTwIfAu4B3wHHAZYBnQGJAaQB0AGjAZEBlQHcAQ0C7QEaAiwCHgI8AgoCqwFbAQUBpQAUAHv/6/47/o391vwP/D37aPq0+e34FvhY9932dPbp9bb1sfWZ9av12/U29qb2Ovf997n4l/mO+nL7bPxx/WP+dv95AEoBPAIcA/ADzARhBSQG1wb/BkoHkgeZB6UHbgcyBxQHwAZvBiMGvgVVBdwEfwQdBK8DawMRA8IChwI9AhgC/QHqAQACAwLpAQoCSgJZAmECdQKgAskCxQK/AqYCcgJJAhUCvgF1AUIB1wBQAND/SP/G/iz+g/3i/Bn8TvvA+iL6c/nv+Gr4+/eo92/3TPcL9wr3SPdg94v32Pc5+NH4Zfnc+X/6KPvV+6X8Xf0j/vr+sv9oABEBpgFBAtgCVwO6AwQEVASdBL8E0QTkBAgFHQURBRoFGQULBRAFFAUkBTIFSgVmBWQFaQVrBXIFlAWbBYIFhwWhBZUFbQVIBSsF/gSzBGoEJgTEA0ADywJaAsEBCwFhAL//2f7g/Sv9Zfxz+576/PlZ+aH48vd89yb3m/Y79iz2BPYD9jD2c/bT9if3p/dB+Mj4hvld+jL7Ffzm/ND92v7I/5IATQEZAtMCVQPQA1sE3gQiBVwFsgXoBQ0GIwYYBuQFrgWWBVoFBQWsBGUEKQTHA4EDMgPRAqQCZgIkAv4B2gHGAakBkgF7AToBFAEdARwBAAHQAL0ArACCAH8AdgByAG4AMQD9/9j/s/9+/0T/F//I/oT+Of7T/YD9KP3F/HP8WPw0/O770vu++5H7bPth+3P7hPuc+7j7xPvm+yr8g/zd/CT9if39/T3+cv66/gX/X//J/x0AegDoAC0BewHYAR0CQwJiApACnQLQAgED8wL6AvIC/wIiAx4DOANbA2cDUAM9A2kDbwNQA1cDOgP3AqkCWgI9Ag8C2wHAAZQBZAERAcsAiwA3AP//v/+o/4n/RP80/wv/zv60/pj+Yv4Y/uH90P3I/aX9hf2I/Xz9X/1i/WX9cf14/U79SP1R/V79pv3R/e79Df4U/hv+Jv44/lP+pP7s/gn/Sf+D/6P/0P8YAHEArQDUAPAAGQFqAa8B0QHtAe4B3wHiAekB/QEZAjACSwJSAlcCfgK5As8CmgJeAjcCEAIBAgICGgIkAvwB1wGVAUsBDgHTAJkAQQD//6//bP9I/xj/Mv8d/87+tv6T/n7+Xv5B/jL+Bf7a/a79kP1l/VH9Xf0+/Tb9Wv13/Zb92v0h/j3+Qf4w/hr+If5g/rD++f5D/2//f/+S/9T/EABHAJwAogCLAKEA0wA9AawB/QEnAh8CDwICAhICLwI0AkYCLALnAcgB4gEmAkECOQIXAsYBoAGAAYEBwAHPAbABUwHqAMgApgClAMcAogBBANr/cv84/0f/Xf84/+L+Zv4O/hH+LP5i/p3+lv5V/ub9ov2h/aD9lP19/VL9DP0N/Wr95P2H/v/+F//v/rH+qf73/lj/hP+u/6H/Y/+I//H/hwAhAUUBEQHIAKYA1wAvAZEBwAGdAVcBJwFkAcsBNgLEAsACNwLKAXMBZQGbAcYBpQE/Ad4AlwC9AE4BzAEHAtgBPAGDABcAEQA5ADoAvv8J/5H+nf5B/wwAngCOAMP/sv7a/dL9U/7C/gb/sP7w/X79zP3j/hQA7wDcAKL/Sv6E/YT9Q/4l/4X/HP9u/hz+k/4BAIoBZAI6Av0Ag/+p/rz+h/9cAI8A+f8///L+ov9fAeMCaQPGAg4BTf9x/tn+AQDaALUAtv/I/rT+CgBtAkkEmgQZA5sAjf6//aD+WgBWAeUAdf8f/gf+tP8sAhYEVQRGAlT/Rf3W/Af+nv9wAPD/dv5k/c/98f+fAiMEqgNWAVT+evzC/GP++P9IAAn/b/3c/Dv+TgEiBP8EfwNbAEv9E/wg/Sj/fAAgAFj+qfyS/Mn+ZwIgBVMFFwO4//z8Wvzl/RYAHgE6AEv+8/x0/QUAZgOqBWkFsgJG/x39Gv2u/mAA7QDm/wb+CP0l/uwAzwNCBV4EkQGu/jP9g/0G/1gAWAAE/5j9bv0G/8MBDwSXBPsCKADI/fX8A/61/3wA7v9L/uH8Jf1g/1wCdASEBEgCU/9L/er8UP74/5oA+v94/nP98/0VAJoC5ANoA1sB+v6V/cb9HP9CAG4Afv9I/vj9Cf8eAfACfANHAgEAP/6c/Ub+l/9nAEgAPf9j/rn+HwD3ATsDNAO+Acb/hP5l/ln/PwBDAJj/b/7U/Zz+UwA5Ai8DggKcAJj+mP0G/nr/2AD9AP3/rv7a/U7+KwA7AgsDMAI3AF7+ff3t/ZH/9gAdAU8ADv9X/vP+fQDqAVUCXgGN/wX+gP1j/gMA+ADdAOb//v4F//z/pgGiAg8ClgD1/if+uf4uAGYBWwEsAKz+6/2m/qYAhgLXAnsBHP8x/fL8bv7vALkCvwJEATP/Bv6G/l0APgLGAoYBKv9F/c78/f0eAKQB8gEpAeD/Jv+M/6AASAEJAQcAwf7p/RL+Rf9ZAMkAyQAyAPz/vACqAR4CrwFBAGX+c/0a/rD/PwGeAXMAp/5q/dT95P9NAnADWQJ3/478b/uc/H3/XgJ9A5ECQAAn/tn9Xf+OAfACwQLhADj+vPzw/FT+IAAPAQ4BtQB5AMEAPwGGARkB4v/i/qb+B/+7//b/LP/1/YH9Vf5vADMDxwQTBKcBpf7S/Gf9w/9PAkgDrwFj/ob75PoY/RgBlQSfBYsDbf/V+9n6wvwbAOsCqwPyAU3/lf2i/Z7/NwKkA2MD1AG//wz+Z/2n/SH+tP5S/wMACwHkAf0BVwEkAAL/sv6F/8kAQQFKAPn9mfv2+rD8SAAIBNkF6wTrAan+G/0D/pMAJAPgA+8BZv5J+3T6jPyHAC8EawXqA2MAuvxI+0P87v62AcMCBAIvAJz+Mf77/uIAhQISA8MCfAHX/1T+HP2p/Cn9cP41APQB9gKbAugAEf8g/oj+bgBDAp0CIwH1/QT7/PmZ+4//fgODBagEkAF7/g79Xv5tAdUDNgT7AVL+a/u7+qT89P/CAp4DHQJr/zL9iPze/UIAGQJ6AjgBUf9C/rj+FgBVASgC+QEqAbMAOwAbANb/uP7P/Zf9m/6SAEAC4gKVATn/Z/1E/V3/GwLmA28DaQCl/BX6hPrq/SgC+QS4BOABav60/Pj9HAExBBsFQAPm/9v8BPxc/Zv/cwGtAWEAhP5y/c/9//55AEoBEwFMAFP/Gv/L/44ABwEWAccAbABgAF8AMwDf/xP/eP6k/mb/rgCdAWUBNwDK/g/+df4TAAYCtALiAQgA3P2q/Ar9xf72ADAC7gGUAAH/Rf7T/pEAdgI9A68CIQFz/4X+nf5H/5v/iv8s/5v+kf4S/8D/XwCyALsApgC8AM4ApgCOADsAvP/W/xcAJABrAGoAHwAOAPf/AAAtADsA/v9r//f+eP43/gT/MABwAYkCNwLPAHr/cP4O/p7+nf8rAOP/If9T/iX+R/9aAXoDvgRqBMQCsQDR/t/9K/6b/oD+GP50/T39G/7J/2kBVAJwApgBiQAWAOP/5f/9/8T/a/8v/2T/DwDJACwB6ABeABoAFQA8ABwAfP+W/oH9KP0l/goANAJIA9UCWwGm/wX/Zv81AOUAgADu/s38n/te/Lb++AGsBKIFwQSvAmsA4P5d/iv+BP6W/cf8s/x8/b/+TgCzAVsCHALKAW0B9gDAAOn/kP7k/Rn+Gv+4ADcClwLfAaMAWv8p/w4AxgAOAYcA3/45/br8wv32/yICHQOSAjIBw/8R/7H/qgDxAFkA6v4Y/QH8iPxK/s4AVAPHBAoFBQQ/AmgA0v7d/R791/wr/aT9ZP4V/6v/RgC5AC8BrQEHAuoBFgG0/w7+2Pwe/cb+4wD5AtsD3QLqAOv+1P0x/qH/5gDzAPr/If5v/Kv8pv4uAWcDJATBAp4ASv/s/sP/9ADGADj/Xv0Q/Aj8Ov5RAU0DggRBBIwCWwHCAD8A/P86/2L9I/yQ/KD9df++AXwCnQF3ACT/l/4RAIMB/AB2/3z9w/u7/DUAwAM3BhgGsgJn/sb7gvuj/f0AWQLzAMT+lvza+0P+DQJsBM8EAAOx/7/9Av5P//4AfAG3/0T9J/zb/ET/dQLZA8gCLwG3/2T/JwHwAs8C9gD4/RH72PrP/acBdASjBK4B0P3E+zT83/4XAr8CsQDO/Zn7+vu1/3oE7wZaBgcDaP7M+xb8+v0zADwB/f/P/TX9YP7qAAUExwR2Am7/NP2z/IT+8gCAAWEApv6J/HX8b/++ApcEIgQnAZz9TPzQ/bAAbwPgA4kBj/6Z/Lf8Tf/3AtcEtQPyAI/9IPtu+0v9Lv9zAEAAYf8q/w4A2AGAA0AEgQNqAV3/Kf6M/VL9RP0H/WH9wf7SAFoDMAU+BVUDQAB+/TD8wfxn/rL/0P/+/u79u/0s/5cB5QP/BAwEXQGB/sH8jPzu/QAAWgFRAZwAMgArALIAkAEeAjwClwHW//D9jPxp+1r7n/xn/oUAkAKTA1cDbAJ0AfUA+AAhAZ0AGf9G/Xn7svrx+8j+XwJbBXQGVgXRAgoAyP2V/HP8Vf2G/hj/Hf+e/k7+SP/vALICZwSsBAoDYgB4/Vb7bPvE/XIAeQJ0A5wC/gA5AEEA2QA1ApcC2ACG/hv8FvoG+qT7uP1OAPYCDQQdBBAEuALJACIA1P88/0b/2f41/Q/87/u2/G3/XwM4Bv8GbgWTATb9zfqs+kj8S/9rAUQBzv8S/m/96P7PARsEtgR1A2QAYv0C/En87f0aANMBhgJiAvoBnwGBAVoBqwDX/1//Ev+//jH+Hv3o+6D7tfxk/y8DEAarBo4EpQCI/fr84/5iAXACOgEd/gr7Kvp8/GgBCwZ5B18F5QBB/B/6QPtT/jIBQgIsAff+Y/2K/Vr/ugEwA9UCGgF0/5/+o/40/1T/8/43/zAAagHTAl8DXAKdAM3+j/3a/VT/iwCqAGr/HP04+4T77v0iAUgElwUKBEwB3v7b/Rf/UwGfAlACaACt/ST84fwT/7wBqwNXAwYBfv7X/K38RP5RACwB9QAqANL+Hf7M/uv/IwEhAssB5wB3AOn/rf////z/3v9FAOkAQQF4AWoBcQBB/67+df6//rj/bgA7AIn/VP4p/Wv9sP43APEByQJiAokBegB4/3//kQBAASkBuwDQ/wr/Kv/C/yYAQQDm/w7/p/7P/kb/RwC0AAMAOv+x/qH+Xf+VAJYB7QF8AUoANP/s/nr/rQB+AWABqgDS/57/+P8wADIA6/9T/8r+pv4A/7r/hwCkAL7/n/7q/Tb+pf9EAWYCkAKMASgARP80/ykAagG4ASYBOQAj/6X+Gf+w/wkALwDC/zD/Mv+b/zEAvQB0AFL/lf6n/mj/9QA+Ai0CDwGR/13+W/6N//cA6wH6AQ0BzP8C/+b+gP+CAM0APgCZ/wH/k/7d/pj/2/+n/yT/qv7Q/rj/EAG9AU4BXwB7/0j/AgDkAJ0B5AH6AN7/Mf/N/mb/gQAEAaQA2f/d/if+f/4v/7f/+f97/wL/L/+7/64ApwHaARMB8P9D/zj/2P+yADABOgGbAOL/iP++/3cA7gDdADIAaP8J/+3+IP9a/0T/A//9/kv/pP8iALQA0ACBAEAAFgAeANQAlAFkAfMASABQ/1f/z/9DAOAAywAiADj/pv7f/mP/8P83ABwA2f+b/3D/uP9MAKIA6gDKAD0A/v8DAAkAGgAYACQAXQBXAHgAqQCSAHAA2/9I/zP/MP89/4T/W/+r/pP+4P5U/+P/MgBxAFkAHwBEAL0AEwEUAeUAYADS/6n/BgB8AKYAmABaAO//W/8i/zX/Jf9Z/6D/i/+h/8P/qP/e/9X/tP8dAKUAHQFTAXwBBAHy/2//P/+Y/4AAVAGUASYBlgDp/3//WP8p/1j/nv+3/5//Pf/3/u3++v5v/wAAhAAMAQIBlgBRAC0A9P8JAEkAMgBEADYACgAmAD8AQgAhAPj/gv8b/+j+mf61/vT+P/+o//j/IADp/7X/0P9DAN4AXAGmATABAwAR/8b+4P6Z/+cA2QH6AXgBWQAy/7n+v/5c/ycAQQAdAN7/VP/S/rL+Rv8WAM4AXQFYAfIAeADn/4D/jf/x/1EAmwCDAC4ALwAzABgA3/+a/4L/bP+A/1//9v4J/4z/9/8dAA0A2f+y/8D/JwDCACEBIgGsAOf/Kf/y/mb/SABjARkC+gHNAFj/U/79/ev+JwDVAM4A8v/0/rH+2v7f/rz/0gAmAUgB8wBlAMv/T/9R/8//nQAeAVkBAwFMANr/rP/K/9H/y//X/8n/gf8e/+H+7/6C/x8AXAANAKn/tP/c/z4ArwDhAJAA+f+e/2P/of85ANoAMwEJAaQA/P84/6D+xf6b/1MAogBEAH//0f7D/lr/6v+DAPgA4gC5AKoAOgC3/7P/3v8xAMAABAHjANIAqwA+ABEAPgBPAAgAr/9W/wz/OP+R/9f/BwDY/2n/E/8k/5j/SAATAWYBCwERAPv+n/7p/r//3wB6AUYBhQCp//L+1P4Z/2//EABKAC0A7f9H/7X+i/4O/9v/iADsAL8AdQAvAPL/0P+b/5z/4/87ALwA5gC9ALIAcgBBAEIAEwC8/3X/UP9O/8X/HAAxADMApf9T/2T/sP9lABoBlAFdAbIA0v/i/n3+8P5MAJ8BEwK7AdMAw//3/tH+RP/q/14AgABHAKn/C//r/hH/fv9SAOQAPgEWAVIA2v9u/0n/d/+d/+D/AgBVALUAtwBuACAA9P+m/4r/hf9U/1P/fP/B//L/3P/C/7j/oP+q//D/SQB5AGUANQDe/3n/XP+E/9D/UwDnAB4B+wBoANP/wf+9/9n/GAAWAAUA6P/A/7z/vf/X/yAAZgCIAIcAZAAlAOr/uv+6/+v/7v/V/9v/DABcAH8AcwAtAN3/0//m/+j/1f/J/+D/CQAhAAYA0//o/wkABwAmAAkA2f/s/+b/zv+7/7j/zv/0/wEAAwAiACAACgAAABAAIQAXABAA///4//f/7//u/+7/CQAcACMAMgAfAAkAEwD9/+v/CAD9/+X/0v/J/wAALwA4ADEAGAD6//P/7f/p/xIAIQAqACEA2v+//87/6f8EABAACQDz/+v/z/+8/9D/5/8AABAAEAAGAA8AAgDs//7/+P/7/w0AAgARABcAAADz/9H/wP/l/xAANgBAACEACgAHAPn/5/8CABwAGQAbAPf/3//d//D/LgA9ACkAAgDh/+n/9f8RACMAJwAUAOf/3P/l/wEALAA6ACMADgACANT/uv+3/87/GQA2ACwAGgDz//D//P8CABgAHgAXABgAEQD1/8//0f/q//P/7v/v/wcACQDq/9r/1P/i/xcAMgAkABQA8P/a//D/AQAQAC0ALwAOAO7/1P/Z//n/EQAdAB0AEwAAAOb/2//y/woADwAPAPn/6P/p/+j/7f/2/wQABAAIAAYA9//t/87/2P///xcAJQAUAAIA9P/4/wkAEAAYABgAIQAiAAsA8f/f/9z/8/8QABoAJwAoAB0AEADx/+v/AAAKAAUAAwD//+//5v/r//n/+f8FABcAEgASAAMA+/8CAP3/+f/y/+r/4P/k//r/BAAEAAAAAAD8//H/7f/0/wAA///0/+z/8//4//P/+f8FABIAGwAbABMAAgD6//z/AQD9//H/8//9/wAAAAD9//n/+/8DABEAEgACAP3/AwADAP7/AwAJAAQA/f/7/wsAEgD///j/+//5/wEACwANAAgA+f/4////AgAGAAUAAwD///j/9P/y//n/+f///wsACwABAPP/7P/w//3/BwANABMABAD2//r/AQAQABgADwACAPT/5f/j/+z/+P8KABQAEgAQAAAA9f/0/+z/8f8CAAkABQD5//X/+f/8////AQAGAAQACQAOAAEA+f/0//f///8AAAUACQAIAAQAAQAAAP7//v/8//r//P/+//r/9f/5/wAABAAEAP7///8GAAsACgADAP///P/3//v/AgAFAAcABQABAAAAAwD///T/9f/+/wgABgD9//r/9v/9/wMABAAGAAcAFAAbAA4A///y//D/+f8EAAkACwAHAAMAAQD5//n//P/8/wAABgAIAAYA/v/y//L/+f///wYACwANAAoABQAGAAcAAgAAAAAA+//y//b/AQADAP/////8//P/7v/6/wcAAwD5//j/+v/6////BAAHAAgABAAAAPr/8v/y//z/AQAAAPr/9/8DAA0ADAAOAAkA///5//3/BQAKAAIA/P8AAAkADgAFAPT/8/8AAAsABwD///j/8v/z//n/AQAEAAUAAwABAAEAAQADAAAA/f8AAAAAAQADAP7/+f///wMAAQAAAP//AwABAPv//v/9//v/AAAFAAIA/v/7////BQAHAAYABAAEAAQA/v/1//b//P/+//3//v8AAAQACAAJAAIA+v/1//X/+P/9/////f/8/wAACAAKAAYAAgD8//r///8DAAIA///7//z/+//4//v/9//4/wIABwACAPn/9f/6/wAAAgD+//3//v////3//P8BAAIAAwAHAAsACQD9//T/8f/v//T//v8BAP7//v8AAAYABgAFAAkACAAGAAEA+v/4//r//f///wQACgAMAAsABQAAAPz//v8AAP7//f////7/+P/2//3/AwAEAAIACAAHAAIA/f/y//T/AAAGAAAA9//z//j/+f/6//3/AAAAAAAA//////7//f/9//v/AAAEAAQAAAD6//j//P/+////+//+/wcACwAHAAEAAAAFAAgABQD//wAABQAEAP//+/8AAAIAAAAAAAAA/v/7//v/AQACAAAAAAD+//v//P8BAAAA//8BAAAA+v/7/////P/7//7/BQAGAP//+f/7/wAABAACAAAABAAHAAYABwAGAP//9v/4//7/AAAAAP7///8AAAAABQAJAAsACAACAP//+//6//j//f8HAA4ACQAEAAAA+//8////AQABAPr/9//1//T/+v8AAAcABwAFAAIAAAD8//j//v8EAAIAAQADAAMAAQD8//r//P//////AAADAAMAAgD+//z/AAD+//z//v////7/+v/5/wIACgAIAAsADgAJAP7/9v/6/wIAAgABAAIAAgAAAPv/AAAAAP7///8AAP7/+//4//v//v8DAAYABAAAAAMABQADAAAAAgACAP7/+v/0//r/AgADAAAA///+/wAABQAAAPr/+f/5//j/9P/3/wEAAwAEAAUACQAIAAUAAgD///7/AAD+//v//f///wIABQAFAAAA//8AAAIAAgD//wAAAAD5//P/8f/5/wQABQABAAAAAQACAAMAAAD8//z///8EAAAA+f/0//v/AwAGAAYAAQABAAUABgACAP3/9v/z//P/9//8//z///8DAAIAAwAGAAkAAQD6////BQAGAAAA//8DAAMAAwAEAAIAAAACAAYAAAD//wAAAAD7//X/+f///wMAAgAAAAEAAwABAP7///8BAAEAAAACAAMAAQAAAP//AgAFAAAA//8DAAIA+P/0//f/9//6////BAAIAAMA/v/7//7//f/6//r///8GAAcAAQD///3//P/9////BwAJAAQA/////wAA/f/9/wAABwAIAAAA+v/9/////f/5//f/+/8DAAcABAABAAIAAQD+//3///8AAAIABQAIAAIAAAAAAP3//P/8//z///8AAAIAAQD//wAAAAD7//X/9v/+//3///8AAAMACQAHAAAA/P8AAAYABAD9//f//P8FAAUA/f/6/wAACAAHAAUAAQAAAAAAAAD///3/+//9/wEABAD///3/BQAFAAMAAAADAAMAAAD8//r/AAAFAAgAAQD8//v//P/7//j/+v///////////wQABgABAAEAAwAEAAMABQAGAAEA/v/9////AQAAAPj/+/8DAAIA/f/7//3/+/8AAAQA///7//3/AgAGAAcABwAAAP3//f8AAAIABQAGAAUAAgAAAAAA/f/8//z//f8AAP//AAAEAAIAAQD9//r//f8AAP////8AAAAAAAD8//f//v8GAAgABQD///7/AwAGAAAA//8EAAMAAAD//wEAAgD8//j//f8BAAQABQAFAAMAAwABAAAA/v/2//T//f8DAAAA/P/6/wAACQALAAYAAAD8//j/9//6//z/+f/3//v/AAAFAAcABQABAAMAAQD+//7/AAD9//z/AQAEAAAA///8//r//f////7/AAD9//v//f///wAAAAAEAAQABAACAAMAAAD5//f/+P/7/wAABQAEAAMAAAD8//X/9//9/wAACAAJAAcAAQD+////AAAAAAIAAwABAP///f///wIAAwD//wAA/v/7//7/AAABAAAA///9//3/AAAAAP7/CAAMAAQAAAD+//n/+P/7//7/BAAEAAAAAwACAPz/+f/0//v/BAADAAAA/v/6//r//f/8////AwAHAAkACwAFAAAA+f/1//n/AAAFAAUAAwD9//f//P8AAP7/AAAAAP7//f8AAAMABgAFAAAA//8AAP///v8AAAEAAwABAP7///8BAAAAAAAGAAgAAwD4//X/+v/9//7/AAD///7/AwAHAAYABAAAAAAABAD9//r/BAAKAAUA//////3/+f/5////BwAFAAAA+v/5/////f/6//7/BAAGAAAAAAAAAAUACQAHAAQAAwAEAAEA/f8AAAIA/v/1//P/+/8DAAUAAQADAAQA/v/9/wQABQADAAEA/f8AAAAA/P/8/wIABQAAAAAA/P/4//j/+f8BAAoABwAAAAAAAwAFAAgACAD+//f/9f/0//j//P8DAAoACQAEAP7/+//7/wIABwAGAAQA///6//r/AAAJAAkAAwD9//j/+/8BAAUABAACAP3/+f8AAAYABAAAAAAAAAD8//3/AAADAAIAAAD//////v/8//7/BwALAAQA/f/8//3//f/+/wAAAAD5//n//P8AAAAA/f8AAAQAAQD///7/AQAGAAMA/v8AAAAA/v/8//7/AwACAAAAAAAAAAAA/v8AAAIAAgD+//f/+f/8//7/AQABAAIAAAD8////BAAHAAQA/P/2//b/+v8AAAsAEAAGAPr/9////wIABAADAPz/9f/4////AgAAAPz/AQACAPz//P8EAAgABgAGAAYAAAD6//T/+P8AAAMAAwABAPn/8v/0//z/AwAOAAwAAAD6//3/AAADAAMAAgD8//f//P8GAAwACgAEAPz/8//w//X/AAAHAAQA/v/6//T/8//+/wMABQALAAkAAgD///7/AAAAAPf/9P/4////AwAEAAQAAwAAAPv/+f/+/wAAAgAOABIACQAAAPz/+P/2//r/AAADAAMAAQABAP7/+v/6//3//f/+/wYACQADAP7//v////z/+v/4//n///8EAAsACwAFAPn/9P/7/wQABgD///n/AQAJAAkAAgD8//n/+P/8/wMABgAEAAAA/v/9//z/AAAAAP//AAAGAAMA///9//z//f///wMACAAHAAQABAADAAAA+v/3//r/AAADAAYACgALAP7/9f/0//T/+P/+/wQACQAJAAQAAgABAP//AAABAP//+/8AAAUAAgD+//3//f/3//L/9P8BAAwAEAAOAAAA8//y//b//P8DAAoACgAIAAQAAwAAAPr//P/+//7/+v/+/wcADwAOAAMA+P/v/+//+v8EAAoACAADAAAA+//4//b/+P/9/wAAAgAIAAoABgAAAPz//f/9/wAABAAHAAcACQAHAP3/8f/r/+z/+P8FAA0ACwAIAAgAAgD+//////8AAAQABQAHAAUAAAD4//T/9f/4////AAAEAAkACgADAPv/+f/3//f/AAALAA0ACgABAPj/9P/4//z/AgADAAMACQAIAAIA/P/6//r/9f/2//z///8DAAMACAAGAPv/8v/0//r///8AAAIACAAJAAMA/v/+//7///8CAAQABAACAAIA///+//3/+f/6//7/AwALAAoAAAD3//P/+v///wEAAgADAAAA/v/7//j/+/8AAAIAAAAAAAQACQAJAAgACAADAPr/9//6/wEAAgADAAMA/v/4//T/9P/8/wEA/v8BAAQAAwAAAP//AgADAAEA//8AAAQAAgAAAAEA+//2//3/BAAHAAcABQADAAAA/P/4//n/AAACAAAA/////////f/+//7/+P/7//3/AAAGAAoACgAGAAIA/f///wUACAAEAAEAAAABAAEA/f/4//j//v/7//f//f/9//r/+f/6/wAACAAKAAUAAgAAAAAAAQABAAMABAAGAAcABQAAAAIABQAAAPr//P8AAAQABgADAAEAAAD+//v/9//1//b/+v8BAAYAAQD+//3/AgADAAAA//8AAAIABgAFAP7/9//3//3/BAALAAkAAwADAAIAAQACAAAAAQADAAUAAQD8//v/+v/5//f/+P/5//z/AAABAAMABgADAP//AQADAAMABgAIAAIA/v/4//T/9/8AAAYABQABAAEAAwAIAAcA///7//z//P///wQABAABAAAA/P/1//X/+v8AAAQABwAEAP////8DAAcABAACAAYAAwABAAAAAAACAAIA/v/8/wAAAAD9//z//P/9//n/+f///wIAAwACAAYABgAAAP//AAD9//v/+v/4//r/AQAGAAQAAAD5//7/AwD///j/9P/4/////v/+/////v/+//7/AAAFAAcAAwAAAP7/+//7//3/+P/5//v/+//5//v/AAADAAkACgADAAAAAgADAAAA/v/9//b/+v8AAP3//v////3//P/9//z//v////////8BAAUABwAFAAQABgD///v//P/+/wEAAAAAAAIA///6//n//v////7/AgAGAP//+v/+//3/+f/5//v///8IAAwACwAJAAQABQAKAAgAAgD///7/+//7//z/+v/6//n/AAAEAAMABAAEAAAA//8BAP//+f/4//z/AwADAAAAAAD///z//f8DAP//9//3/wAAAQABAAAA//8AAAIA///6//3/AgAFAAMAAQAAAPz/+P/2//j//P/9/wEABgAHAAIA/f/6//j/+f/8/wIABgAMAAwAAgD8/wAAAgAAAPz//P/9//3/+//5//r///8DAAYABwAAAAIABwAIAAIAAQAAAPr/9//9/wMABAADAAIAAQD8//7/AAABAP////8BAAMABQABAPz//f////7/AQAIAAwACAADAAAAAAD9//v/+f/8/wQABgAAAP7/AAABAAkACQAFAAIAAAD8//3/AAD9//v///////r/+//6//n/+v8CAAIAAQAGAAQABQAGAAAA+v8AAAUAAgAAAP//+P/4//z/+//6//v/AAADAAUAAgD+//n//f8DAAMA/////wEAAwAHAAcAAAD5//f///8EAAEA/f8EAAgABAADAAIAAQAEAAYABAAAAPn/9P/2//r//v8AAP7//f8AAAYACwAIAAMAAwAEAAEA/P/6//7/AAAAAP//+////wMAAwAAAPv///8EAAMA///6//j//P8EAAQA/v////////8AAPv/+P/9//3/+v//////AAAAAP3//f8DAAcAAgABAAYABgAFAP//9v/1//j//P/9//3/AAAAAAIAAwD///j/+v/+/wQACAAEAAMABAACAPv/+f/+////AQAGAAgAAgD///7/AAACAAIAAgADAAEA/v/9//z//P/+////+v/7/wAAAAACAAIA///8//z//v8AAP///v///wAAAQAFAAgAAwD5//X//P///wAA/v8AAAIA///9//z//f8AAP///f8AAAgACQD///j/+f///wMAAgACAAUABwAGAAQA/f/1//T/+P/6//7/BgAGAAUABQAAAPf/9P/8/wAABgAHAAQABQABAAAA+v/1//b/+/8AAAYACgAHAAAA9v/0//n/AAABAAAAAAAAAAIABAADAP7/+v/7/wAAAwACAAIABgAFAP//+P/6/wAA///+/wUABwABAAAAAAD+//7/AAD///3/AAAEAAQAAgD///7/AAAAAP//AQAEAAIAAAD7//z/AQACAAAA+P/6/wUADwAQAAgA/v/z//P/+f///////v8BAAcABgAAAPr//P8AAP////8DAAgACQAAAPv///8AAAEA//8CAAkACAABAP7//f/9//r/9v/4/wAABQADAAAAAAACAAIAAAAAAP///f8BAAgABgABAP3//P8BAAYAAwD/////AgABAPz//f////7/AgABAAAAAAD+//n/+/8CAAYABwABAPn//f8DAPz/+f/7//3/AAAFAAkAAgD7//z/AAAEAAMA///9/wAAAAD//wAA/////wUABgAEAAIA/v/6//b//f8CAAEA///9/wIABQAAAP3/+//5//n///8EAAQAAwABAP3/9//4//7/AAAAAP////8AAP///f/8////AgADAAAA//////3///8AAP//+//8/wAA/P/+/wIABQABAAAAAAACAAUAAQACAAYABgACAAAA/v8AAPz//P////3/+//7//7////+//7/AAACAAQAAAADAAYAAQD+//n/+f/9/wAA//8AAAMAAwACAAAA/v/9//n//P8BAAEAAgAAAP///P8AAAAA+v/4//v///8FAAcACAACAPz/+//+/wEABAAHAAcABQAAAPv/+/8AAP7/+////wIABAACAP3/+//9//3/AAAIAAgAAgD///z//f/+//v/+v///wEA/f/7/wAAAQACAAMAAwAAAPz//P///wUABQACAAAABAADAP7///8CAAEA/P/7//3///8BAAIA///8////BwACAAAAAAAAAAAA/v/8//v//P///wAAAgAAAPv/+//+//7//v8EAAUABgAGAAAA/f8AAAIA//8AAAEAAAD+//7/AAACAAMA/v/6/wAABQADAAQAAwADAAIAAAD+/wAAAgAFAAkACAACAPz//f///wAA/v/+/wIABAD///n/+P/8//3///8EAAQAAgAAAAAAAAD+/wAABQAAAP3//v8CAAIAAgAAAAAA/v/7//r//v8CAAMABAAEAAAA/f/9//v//f/+/wEAAAD9//7/AgAEAAEAAQAAAAAAAAAAAAAAAAAAAAAABAAIAAUAAAAAAAAA/P/7//v/AAADAAAAAAABAAAA//8AAP///v8AAAEAAAACAAMAAwAAAAAAAwAAAAAAAAADAAIA+//5/wAABAABAPv/+v/9/wAAAAD//wEABAADAP7//f/+////AwAFAAUAAgD9//v//f/8//f//P8AAPz//P8AAAYABgABAPv/+//9//z/+//8//n/+f/8//z//v8BAAQAAgAEAAcABQABAAAAAQADAAQAAgADAAMAAwAAAAAA+//2//X/+f8BAAUABQAAAAIAAAD6//j/9//7//v//v8EAAMA/v/8/////P/4//3/BAAHAAUAAwAAAAAAAgAEAAQAAgAAAP//AQADAAQAAQD/////+v/4//v//v///wAAAgADAAEAAAD+//z///8CAAEABQAGAAIAAAD7//j/+P/8//7/AQAFAAIABAAIAAAA+//+/wAAAAAAAP3//f8AAAAA/P/+/wAA///+////AQAGAAUAAAD7//z/AAD///n/+/8EAAoACQAAAPr/+v/+/wQABAD+//v///8BAAAAAAAAAP//+//8//7//////wAAAwABAP///v/+/wIAAwACAAMABAAAAPv//f8AAAEAAAACAAEA/v/8/wAAAgAAAAAA/f/+/wAA/f8AAAYACAAHAAMAAwAAAPv//f8AAP///f8AAAEAAAAAAAAA/f/5//n/+//9/wAACAAIAAAA+v/8/wEAAAD9////AAABAAIA+//4//n/+f8AAAUAAgABAAQABgAAAP//AAACAAIA/P/7/wMABgACAP7/AAACAAAA/f/6//z//f/5//v//v8BAAUABQADAAEAAQAEAAMA/////wQABwACAAAA/f/8//v//P///wIAAQADAAIA/f/5//r/AAACAP//AwAJAAUA/f/8/wMAAgD8//3///8AAP3///8EAAMAAgADAAEAAQACAP//+v/2//j/AAAGAAUA///6//7////8////AwABAAEA///7//z/+v/3//3/AAD+/wQAAwD9/wMAAAD0//r/BAAAAP3/AwAHAAkAAQDy//j/BgADAPv/+v8DAA0ABAD4//X/AQAPAAIA8P/5/wwABgD2//X///8QABEA+f/y/wAACAD//+z/9P8SABUA+//r////EQAHAPT/9P8JABMACADz/+//DQAcAAIA3v/l/xUAHwD0/+P/BgAjAAkA5v/0/xgAJwAEANz/8f8YABwA+P/f/wMAIgAFAMz/zv8ZAC4A8f/P//T/JQATANr/3P8VAC0AAADW/+//GwAaAPH/2P/4/xsACADn/+//EQAYAPb/6/8DAAUA9//7/wkAAADi/+z/EwAaAPD/1P8HAEEAEAC+/9L/NABVAPH/n//1/2MALgCo/6j/OQBqAOj/jP/x/30AQACP/4r/OACIAPL/c//s/4kAVACT/2v/NgCuABIAZ/+9/5MAfwCV/2D/LQCaAP3/dP/n/3sAQQCo/7H/QgBjAPb/sP/+/2EALACu/7v/SgBgANz/n/8LAGoAAgCR/+H/WAAxALT/wv9KAGEA1v99/+n/egA2AH//hv9HAKEA6v8w/7L/mQB9AJX/Zf83AJkAFgCD/5v/PgB5APf/j//L/0gAWwDd/4n/2v9eAFYArf98/zQAngAgAIf/kv9JAKQAAABH/5//twDHAKD/EP/d/w4BwAAn/+r+cgBXATUAzv5S/+AAIQGm/5b+4P9wAXMAz/49/9QADwGV/+r+EAAFAVsAKf9h/6cA1gDY/yP/qf/WAJoAUf84/14A4wDW/y7//v+PAC0Aef90/2cAngCX/zf/SAD1AOr/zP6T/yUBAgEJ/1T+wwAoAqj/xv2i/+MB6AB0/m/+pQC5AT0AUf7y/lABqgFI/8D9CgCiAtkAwf2S/r4BCQI0/+X9y//GAS4B4P5B/o0ANAJqAA/+GP+4AUIBz/7R/rwAIQGs/w3/DAC/ADEAZf+k/14AiQD8/3D/1v+xAI0Aef89/ysAxAAYACD/Yv+kANAAbP8Y/zYAhgD8/6X/pP8AAF8AKACD/63/TgAXAOz/2/+k/xwAfgDz/3f/0f9/AJQAzf8q/7//EQGbALH+I/83ARYBDv+B/noAoQHI/zP+s/+5AbgAuP43/6IA+QBIAMz+/v6SAYIBwv6Z/uIAvAE3AML+eP6VABcDAwDz+3j/XQRbAUP80f1vAgkDUv9N/Bn/bwRcAo37Ev3nA3kDl/08/JYAtQNgAYD8I/06A6wDof3v+8MAuAMaAen8EP1xAmkEo/7V+iQA4gT4ABz8ZP1ZAgoEO//V+uj+vQVNAhf6yvzJBOgDCv28+w4BrwRsAUv7vfx5BEgEdvyJ++YBFwT7/zj84P3EApUD3v09+2oB5wTQ/8T71P5wA54CKP4u/EMAJgViAeT6Y/0iBJcDK/1P+2YAowQyAUf75/zoA/gD4vzq++YBIgTC/638uP9eA+oBh/3n/VYChAJa/nj97QATAuj/8P3g/mwBUgEL/7L9FgDOAtkA3/15/lwCSwPT/lj8qADjBEYA0/qu/owEKgLx+3/8tQFmA1n/T/tX/voDigJY/M38vQLMAzX/Y/yV/7wDpgLf/C382gItBGv+XfuC/ywDFwEX/lj8sf9JBPUB+/ve+78DugVB/qT6pAB5BsUBIfu4/c0DGwMb/kn8lf+JA6QAp/x4/oUBPQHk/gP/Z/9sAKoB6v+u/48AkQDWACgB2P+3/p0AUAGY/w//SwA4/1b/TQHp/Yv92QFHAdL9+/6ZAmcAZf/AAT8Av/+PAW0AjP6xAREDHv4g/dsBvQKO/c/8BQCMABoAlv4F/xgAQAFrAcH9Af88A4ABqv3H/wEETgEw/Zn/tAKeAOj9yfzF/ygDU/8G/LP9GgIJAjf9h/1w/4wC1ALF/Qb/gwOFA5H/s/0DAFkBRQHy/iH8Xv9EBFAAJfvA/YkCSwLc+w/7FwK9Ber/9fm5AXQHrwAr/VL/0wDVAVQBa/35/I0DZgMB+yb9EQSX/477IABoAi3+3/4wBEcBFf70AHQCRQH5/5n/Ev+sAA8Dsf/O+04AeQMB/jr75v8aA4X/wf1A/zsAWwNAAuf8bP2KAwcDLf33/v0BLgBGAHYAI/0w/0ME6P5e+dL/VQVi/8n7WABFAVMA2gBQ/w7+jgEcA039Cv2BA1YDGP3r/FwCbAFS/qz/QAAe/1n/GwDd/3UAOwBp/ef+3QPtAO/8hwAnAjIAjf8VAAf/cABkA1z94/uDBBYE3PwM/SgCygFU/7r/8v3s/kwEwgBq+h4AOgbDADb6W/8sBR4BT/7e/UP/hwNzAvv88/zsAnICBP7o/koA+v9aAcYA6fs3/2YFDwDM+vX/mgQb/3v98AHiAFT/a/76/qYCWAKM+zT7gAXHBG/6a/vBA00EY/1B+qf/yAcyApX1K/3rC0cDofQf/tsIEAEx+/z91AC4ArQCp/qC+Z0GugZ++g36hwMEBeL/yv26/K8AgASK/3v7zv/JBLEB+vyO/UgB7gKE/1P7qv0wBbkCUPom//0HOwEI+LsBEQi9/Bv7tQI+AAr/ewOu/nX81QXFAyn4wfxyBeP/nPzm/tEApwRgA7P8TfweBJgBz/uCAR8AwP12BAYBWPiJ/yQFevqb/CYHiv8Q/L0GvwFy+RADKAFw+L0BcAbR+hL65wcEBWf6AP0h//AAawSr/sT3PgGaCj4AdvmfAUYEZf4N/yr/2Pkh/1wFSAD3+0P+TQQdBxn95/VAASYGwP5M/Bz+XAOBByMDT/jH/FkNiwPx8pH+HgqN//331QC6BAn+4vuGAJUEDgEZ+Zz9jQk+BNL23vpGCEcEbPnV/LL+RQEEBwb+KPkzBRAJAfzw+ccFIgM3/c8Ai/8VAFIChfkT/OQGj/qJ8yQFPgkz94/5MguNANb3zAOVA379oQIKBgX92v40B+f/dv04ACz7d/7OBmv8V/fMBZoDNvt6AmIBivheBAoIQvOR+v8LFwEM+gIFlwVT+eYBqAUj+On/QgXH+Cj8UA2WBCzwe/1UECsC2/AU/HELewd3+rP1GAKDDPkB2PH1/P8NswEb+Or8IAA3A9oCv/l39/QJFQ31+Yv20wTFCeX6M/VDAPIGkP+/+MEB1wS4/nD+WACrASECCwJx/zH9zgB+BKb8uffKBPMHevzg+NwAggS8+4D4Av2FBIYHy//W+kACmgxcAqv1gv1lBaQCAPsa+vz8sADcAx/8QfxQCHEJlf6b/HYDNP5p+icCrQAE+LQEqRAf+IPtjQgRCY/oMO4SDSMFIvqRBnMH/wTzDf0IhflUBEAOnwBP+p/3rfroBrH8v+gB+WgP1vwu7G780wg+A8T83/pgBM0Upgtv9vH58QbkCR4ArPMG9/YHSw3Z90rq/f7rDFr+F/Y7AXIMCgg0/TT/AAOh/a799QalAkz1VwDACq76SfRU+sP9qQL4/6P5GP7jCOMDzvrTBIQDcvZTBT0PKvhf8u8LmgpQ8Or6zQqW/KcBoQvF91X39Ay6AobxBAIOB5T3FgRcBmvygAEkDk76G/DTA2AP3/uA9Vn5IgIJCzv1BvwCDWn5CQFCCCn4of0+BDL+BADnAIr9wgSmCI762PfkAdQICAip88f1OBDYBID02ATRAG/2aQbPCIX7L/3aA/EBbv5H+t7+hgF49D38qAex/qT9jv1qAMQCnP/y/I/4EAMtCV/64PgkDdQJr/QJ/vYArvzfBKAB0vjP9J4N+w1o+S8Bsfv8B9sT1Pjo8GcHGw+p+ljw5QJuCR8Ccvsh7iYDpRKk9Gfr+AIQEEQBQ/CU+l4LmgZy/HP4AQDXBQb/1P/Q/VD5WfjWB04KE+7v+roXvgpm59j0uCDsC1Xmo+4PF98ecfGh8+EBNP8YFkQACehN3wcWwEhBz8a0aTEmQdrOMMN2PnwSk9GoESQFVPTjFJwGR9xd8AxA3gvpsTsEDDIc+YfkufupCLsFvxcc5XDfwDcsDTHDPwIoPmv+P83cG4giGcjXDYQsEMSg8oo7RwGL0UACyyGr/nv2I+02+6snL/433V//ARMSCBTf9gFnGAnckQrsFzzYQP2IJ+fvOuC/LGn7ZdYRN2IMKLvyFwZBvtD+5Bk5tPHb130m9wGvy98kvxnkzf0RzxpK8BkLEv6z3gcPzjCe2cveXDLL9t/zWRms2gv5jizv7L/aLyAEERfaLwpAFE7o6gvbF4/kD+82I7gNNNQYBXIiweW2BRoSt+jXCgEGpOYQCOUc4PZI1jQNoTrR5YXKrx37JIzsdtwvG/keotxl9EoSrwIW+Yf4Afbr+uMh8wYoxZP6Tjj8/YjFSQubNhXTsvJiOrbU6+qUQjn4x8CcFH8/VeIPyUsWuiIGBlTtXd38H5EsFOaI6Zb4qhF/KN3xm8ysC18/cv94zJTz6BAODfkGjepu5jIYcyFl5Lvg/ScKEM/YZQKJD2b/NQxk4mbnoUeHCJCgTB1aVUTFdstHR639abvdN2QLv8Y7PDEMz6ciEcBcfNlNrm8zPSfL4mQFpAEc9F8KRQVS/Tns2AI1Gq7lKPkxFVH2vfRPAuoW9fxZ8LcQFP5o+jsLO/Qo9QMPrwHj9ZsG3ggQ73f1yhsk7ZDgVyh/FEzShfZgRBL3HrlQInc58tAK3+FLP/65rTIdFj7T0snMsTXTF4/IrwtkJunbOPFgKDr/+9bsDrc8BOENysIvaBWk3B34CwviCx31peo++00elBZv0Q3wITKXA7/o6wgf9lz5pAuf9eMKphQ96urr4in/EBfR8vsbD2f5wAC5AXn4Nwu3D5/STwkpRbLGndTfR4QQ5daL9c4R0wBRBusKD9X6A8MxYtxj8/IcsNlkDJYwANNL6IxB7v+qty8czyV3zgYINx/43QQD0ihp4HjvYjRx7CTMBysmK+fEctquOXMd/8eU5W466QSB2OAUphM+8jrveQNmETYDp+bV9IYo7vti3VQfVAxA2F/9eRwe/s//CQbb19QLOjrx3QzX4hcGDhD+CgmkAX/nDv/6IokApO9ZBkgAEeV2Dg44xrzZuEVdhDKNrdjfQEC3B5PrgBKy3of9bkOZ5YS8Py3KNanMIs38LcYhpNgQ/TIC8+gOICAb8Ms65dRHdAniu7UhCywn0wf2sSIuAvTeYfkwKLD3WN/CFEAM8uwX9XkQiAVR8QAFf/c0Fg8mU7pm7YVlKezVpC0y/jAnw0oFJg6H1Yoo+Q8YwugOPCyE6OTtrx6I9tvasjs0EHizViAvI4/tiQP35+r9XRoE8izoEx1gCGXR8A85MBHmT9K0EFE2Y+/ixKEtpyEU1SMICwtx9ZkVpwZyy7MCMEBR20DQJydsD//qZv3qDnX5U+1BGBcNHuNY+cYdaBT32232RCf25uvvEiZz66vUxSCaLUHXd9VPL3od/8ZDAJtCVNfK121HHARkxoMchhfB0iQMNibB2L/lBDULBRfEixS5IxLhivKFFpcX/t/a3BY/ZBuBsSoBkkoE5jLeVyu74+Dd70J89Ra+uy4QLyqyuOTJadLpQaaFMTocRt3BHfQRarFDF7JfOsGXw0Y16B/X5ozspgS8/s8SsgU01GUQNTAZ2e/ZvCqgKvLZncr2Hiw0O+0T29wOLA3T89YOAQDZ2bULdikj6yriuxxSCnPhjv+vDAcDvwPA7VvzFi6uFIrKVvifJ834kvOZEVnq2uspK/AKvM7O+Q8nQwi76zfoxBIdHWbZY/SZLzX70txxEgIZtPPd/nv0guY4KSEOO8XPCjQxQ+ws2dcc6RWS2Yj5uxcEA07+WQE37tgETyQC8nLdOhARF0P81PCS7lwJORN/AZricuwbNkQRiMKZ+rcxRQEI48b+9g1PC/cDm/XN6q0KfCLv6t3PmCM0KOjRH+/ZDAwNVRaD2ZLngzMEFwvY9/M/IMX5S+68EFL99PDdDsgC2OeyFNkTBtQ2/VchzvhU7Q0FCxXP8+HsnRQGFx7xjebGEVYP+O2eAeIB3vB4/icTYQu/5NME5hDV6Y4Qsg5K4gHuviSrHFnWG/hRGOf2Uf24DZb8DuOHCPQXJO4lCLkBtNxwFMkpIPDl5QQOJ/fF+Ncw3fDky3kXKhZkAMsIltWO6L8+iwESyfwUIxk967sEyhH69iPyywR7Dt0C3+tu+TAUNPpz9a8GRAIzANL1l/0ABiYGHP5+5z0HkyBp+lftNvzLEF8SiuNx8e0f8Pz96jMRZQOt45waPR220Wbk+xlDLZn9brol/MFN9g4Ns7H540zo5sDPPyuHBtjf0gXjC1D/3vxU+UAIoxCk4fj/9TSa2JPMzjPtJ3DSV+erLwL55+siKRHiE9btM5oM2sa4AdMw/uxI4mspnQNk3lgYrBCB5LD2sBjaALThGQRDFaX//e4YA8EPhO5x/+H/Ef7YF27t+vKKGuYNnunQ6sgheAvi2qsDLibS64PW8CWjHsnYjuc5EjsZTPZJ63gPgQT39V0JlgZ//BnyDgz5EuHgivVwGMgFaezx9dQetfyO6o8Q+AGp9uIA5QIR9qkCDxGe9D4AfQqt9i0BUwUz9hX2cRORBrzTqAmAMNHpU97ZDbIdt/1t61/83gVrCSECrADG9KMAKiUU7UfMPSvyJna6jdvlQX8YZsXjBa4ms+h5BCwUBu1G+FsUrAnM5oAAhB2v6E/0ZhrU6KfvDCTZ/gLTORGFJ2nop+9IEDIAFvZUDc4ORO8J6k8TCRpC8u71Xv1+BDALhfT+51MD7xkc4xL1IzC/8m/oyxkbB7L1CAPo/873lgIJA7/9dQ2O74fb1CpYJy/Q5+NtJcQbfeAB6BMRgAJmAWYDqvWXB98OtgBp8kL4xxNEA67suv7P/qAE6xKV5hPkiCuMC+7RjhH2HQvenQWRHVLWygQkQRHbG8rJMascHdg86wERrgi5+XYOofCY5JYvlhAAttL/D1ZU9vazIQr6Rn0EUcNY9UogrAuf/T3z2ejjBjUk8f8PzuTt0zgmEujSp/mmGzoTCO0l4AwnBCDvvCrx9UqL+1HEEwzSHdTq1fssCnz5/g6E9WXosx33GP3qI9wNE6gwM+mo3I8Jxg0XAp30C/9QCab64AZeBOr1PAdH9SH7hg/S+p38lwPtCJrwju4VIhkOA9tL9/0cc/pI+OULjOv9/sMSafFKENoZAs+T7gBDbAGZvxsKMSAS7ogMXgPCzkgTqTjF5N3bRBkWELT0nAPs9mjqpxlWFHvYrPNQLSYPt9g/5noeRh7D57niYgtrHyEAwdtO+NIeqQXV7Ir6RP6+FPEP0uJr9AMWEwjn6mIC9Rlv8PTryBKlDq3rpfehF4UANPHuAvQHwABY6fn67CZO+vrbGhflElDsHgyoAaraNhMQKpDc8OOgJKEBeOt4DZL49fLIInwJmtTfB8YdsezI9Zz+Y/yFEWkDUev8AjAZx/NK7VAPZ/lx9WcauQ6a4HfuSS1CBJHM1BLzIhbhve0+HfoIxeCAA2AYMuK4+HksjPcK2KoSeCUv6mzfRhZ9Ggv4M+lQ++wYkgTN6yjx1wSXIVwCyNkW9pMk9xlzzsHh9jJRDyDg//sAFl8IPvDN90wQEga97Lv2ThZyCjHh7/3HE+r5sfgwAhsRDfe38H0OkgDsAUzySPKFIgIH6OsHB0EGgfjK/UIFb/kL+TYHJPlH/CkRQfYb8j8CE/7W/5gBHQBm/WMBAgKZ/nL+QgGYALQABwBe/a8AhQLs/YP+bgGKACoACv8TAEkAGgAeANv+8v94ABYA8v+fAHQAkf54ACkA6f6SAbb/2f5uATD/ugDZAFr+PwFw/2z/FgFX/igBlgBB/ogBWwDM/n3/aQAAAvz+Gf7bADcAdAFIAH79twAXAkb/Rv9eACAAs/6X/9IBBwCo/6gAF/8+/7UAYwDa/2X/GQDcANf/rv9fAP//1f/Q/4cA2P+i/5EAof/6/0sABgDA//7/ewDO/3H/UQBWAOT/qP93/1sAbwDl/6IAzv/2/mYAaQCp/9f/qwBtAAP/vf/wAPn/AgDG/0j/kACAAJH/uP8rACcAy//l/2oA7P/A/xkA5f/6/xkA9/8ZAAcA3v8RAAsA7v/1/w4AGwDo/+P/HwAFAAIA/v/f/wwAGADy//H/BQAGAPj/+/8MAP7/9/8DAP7/AAAEAP3/BgACAPj/AwACAP3//v8BAAIA+v/7/wQAAwABAAEA//8CAAEA/f8AAAEAAAAAAAAAAQAAAP//AAD+////AAAAAP//////////AQAAAP3/AQACAP7/AAAAAAAAAAAAAAEAAAAAAAEAAAAAAAIAAAD//wAAAAD+/wAAAgD//wAAAQAAAAAAAAABAAAAAQABAP//AAAAAAAAAAAAAAAAAAD/////AgADAAAA//8AAAAAAAAAAP//AAABAP//AAACAAAAAAAAAAAAAAAAAAAAAAAAAAIAAQAAAAEAAAAAAAAA/v8AAAAAAAABAAAAAAAAAAAA///+/wAAAAAAAAAAAAAAAP//AQABAAAAAQABAAEAAAAAAAIAAQD//wAAAAAAAAAAAQD//wAAAAAAAAAAAAABAAAAAAD//wAAAQAAAAAA//8AAAAAAAD//wAAAQAAAAAA///+/wEAAAD+/wEAAAAAAAAAAAD//wAAAQAAAAAAAAAAAAAAAAAAAAEAAAAAAP//AAAAAAAAAAD//wAAAAAAAAAAAAABAP//AAAAAP//AQAAAP//AAAAAAAA//8AAAAAAAAAAAAAAAABAAAAAAAAAAAAAAAAAAAAAAA=\" type=\"audio/wav\" />\n",
              "                    Your browser does not support the audio element.\n",
              "                </audio>\n",
              "              "
            ]
          },
          "metadata": {},
          "execution_count": 40
        }
      ]
    },
    {
      "cell_type": "code",
      "source": [
        "rand_int = random.randint(0, len(train_data)-1)\n",
        "\n",
        "print(\"Target text:\", train_data[rand_int][\"sentence\"])\n",
        "print(\"Input array shape:\", train_data[rand_int][\"audio\"][\"array\"].shape)\n",
        "print(\"Sampling rate:\", train_data[rand_int][\"audio\"][\"sampling_rate\"])"
      ],
      "metadata": {
        "colab": {
          "base_uri": "https://localhost:8080/"
        },
        "id": "JzURKaWLKXEX",
        "outputId": "1cebd9b9-b4ef-4260-c4b9-fbc08df1488f"
      },
      "execution_count": null,
      "outputs": [
        {
          "output_type": "stream",
          "name": "stdout",
          "text": [
            "Target text: inatakiwa kupanda mti sehemu iliyokatwa mti\n",
            "Input array shape: (78336,)\n",
            "Sampling rate: 16000\n"
          ]
        }
      ]
    },
    {
      "cell_type": "code",
      "source": [
        "def prepare_dataset(batch):\n",
        "    audio = batch[\"audio\"]\n",
        "\n",
        "    # batched output is \"un-batched\"\n",
        "    batch[\"input_values\"] = processor(audio[\"array\"], sampling_rate=audio[\"sampling_rate\"]).input_values[0]\n",
        "    batch[\"input_length\"] = len(batch[\"input_values\"])\n",
        "\n",
        "    with processor.as_target_processor():\n",
        "        batch[\"labels\"] = processor(batch[\"sentence\"]).input_ids\n",
        "    return batch"
      ],
      "metadata": {
        "id": "DHA4wwNPKtbq"
      },
      "execution_count": null,
      "outputs": []
    },
    {
      "cell_type": "code",
      "source": [
        "train_data = train_data.map(prepare_dataset, remove_columns=train_data.column_names)\n",
        "validation_data = validation_data.map(prepare_dataset, remove_columns=validation_data.column_names)\n",
        "test_data = test_data.map(prepare_dataset, remove_columns=test_data.column_names)"
      ],
      "metadata": {
        "colab": {
          "base_uri": "https://localhost:8080/",
          "height": 168,
          "referenced_widgets": [
            "7c0d1d6a9328456986dff39dc69fd347",
            "ff6c13d6f74542ffabe99a9202943659",
            "b52cfbbbf7dd4fbb8050c8d181e49131",
            "36605ba356dd486ba13712d8e287664c",
            "8d79d70864b24b17983f4bc13b5dd4b1",
            "a57110ccefb148d98d6e4699362177e9",
            "7c27e971ee7247c199d53b4b5bc749c8",
            "116f675e1f1446cb945a7db7d8c95aa0",
            "10db594a07aa438493af34cf7cb2e634",
            "5633ec8da3d64d7eb53ba71c5561e728",
            "e79194028e46445c91ba8e3e946d6bc4",
            "2181bd0dbe2b47579f86884b02129112",
            "3bf3fb70c2054bd1bfbfaaff554ec64f",
            "e4047063ee6e44deb88a1809615a18af",
            "8f948739d380408e9cffab199fcc5d2b",
            "21e4c19a759d43618a606957c80cf2a1",
            "32db8556d630493cbf4f5556f02632b3",
            "2dab37e456ad401299620c3456b34400",
            "69b01653991148f8a587821ce2d08bbd",
            "c8b433ade81d404994855a6c31fb5335",
            "d542d9a77d4e4255b0fa318a631eb25e",
            "4bf5f1e931d441c8b81de0a5936853cf",
            "fb8239fee2c84d00af5892133d551c0b",
            "eb0b60d5310d46329ff7c9c2044ac782",
            "5a8e1ac301ef42459b60a550302d18f2",
            "8ccb18d5e5d54a0dbb40afa4f14390ed",
            "a26b43e6f40945b98d1c46df5a79f2a9",
            "4bc853e8ab3a4750bc290579d7689d2a",
            "1543193e619d49d79ecace88dfe63f6c",
            "c1ccb2ab8c534ca4b215d11154c7c0d6",
            "3c9891be0bdc408989548710c0e6ca5b",
            "4a81cdce748c459e8357140153b21a32",
            "acae7ed0a987487196f7c8df73a4c4da"
          ]
        },
        "id": "MFnJzIsEK0fb",
        "outputId": "e3c17cd6-f0fe-419c-875a-a5647cef1efb"
      },
      "execution_count": null,
      "outputs": [
        {
          "output_type": "display_data",
          "data": {
            "text/plain": [
              "Map:   0%|          | 0/26614 [00:00<?, ? examples/s]"
            ],
            "application/vnd.jupyter.widget-view+json": {
              "version_major": 2,
              "version_minor": 0,
              "model_id": "7c0d1d6a9328456986dff39dc69fd347"
            }
          },
          "metadata": {}
        },
        {
          "output_type": "stream",
          "name": "stderr",
          "text": [
            "/usr/local/lib/python3.10/dist-packages/transformers/models/wav2vec2/processing_wav2vec2.py:155: UserWarning: `as_target_processor` is deprecated and will be removed in v5 of Transformers. You can process your labels by using the argument `text` of the regular `__call__` method (either in the same call as your audio inputs, or in a separate call.\n",
            "  warnings.warn(\n"
          ]
        },
        {
          "output_type": "display_data",
          "data": {
            "text/plain": [
              "Map:   0%|          | 0/10233 [00:00<?, ? examples/s]"
            ],
            "application/vnd.jupyter.widget-view+json": {
              "version_major": 2,
              "version_minor": 0,
              "model_id": "2181bd0dbe2b47579f86884b02129112"
            }
          },
          "metadata": {}
        },
        {
          "output_type": "display_data",
          "data": {
            "text/plain": [
              "Map:   0%|          | 0/10238 [00:00<?, ? examples/s]"
            ],
            "application/vnd.jupyter.widget-view+json": {
              "version_major": 2,
              "version_minor": 0,
              "model_id": "fb8239fee2c84d00af5892133d551c0b"
            }
          },
          "metadata": {}
        }
      ]
    },
    {
      "cell_type": "code",
      "source": [
        "from datasets import concatenate_datasets\n",
        "\n",
        "# Concatenate cv_swahili_train and cv_swahili_validate\n",
        "combined_train_validate = concatenate_datasets([train_data, validation_data])"
      ],
      "metadata": {
        "id": "qOzUVLDSOIFO"
      },
      "execution_count": null,
      "outputs": []
    },
    {
      "cell_type": "code",
      "source": [
        "import torch\n",
        "\n",
        "from dataclasses import dataclass, field\n",
        "from typing import Any, Dict, List, Optional, Union\n",
        "\n",
        "@dataclass\n",
        "class DataCollatorCTCWithPadding:\n",
        "    \"\"\"\n",
        "    Data collator that will dynamically pad the inputs received.\n",
        "    Args:\n",
        "        processor (:class:`~transformers.Wav2Vec2Processor`)\n",
        "            The processor used for proccessing the data.\n",
        "        padding (:obj:`bool`, :obj:`str` or :class:`~transformers.tokenization_utils_base.PaddingStrategy`, `optional`, defaults to :obj:`True`):\n",
        "            Select a strategy to pad the returned sequences (according to the model's padding side and padding index)\n",
        "            among:\n",
        "            * :obj:`True` or :obj:`'longest'`: Pad to the longest sequence in the batch (or no padding if only a single\n",
        "              sequence if provided).\n",
        "            * :obj:`'max_length'`: Pad to a maximum length specified with the argument :obj:`max_length` or to the\n",
        "              maximum acceptable input length for the model if that argument is not provided.\n",
        "            * :obj:`False` or :obj:`'do_not_pad'` (default): No padding (i.e., can output a batch with sequences of\n",
        "              different lengths).\n",
        "    \"\"\"\n",
        "\n",
        "    processor: Wav2Vec2Processor\n",
        "    padding: Union[bool, str] = True\n",
        "\n",
        "    def __call__(self, features: List[Dict[str, Union[List[int], torch.Tensor]]]) -> Dict[str, torch.Tensor]:\n",
        "        # split inputs and labels since they have to be of different lengths and need\n",
        "        # different padding methods\n",
        "        input_features = [{\"input_values\": feature[\"input_values\"]} for feature in features]\n",
        "        label_features = [{\"input_ids\": feature[\"labels\"]} for feature in features]\n",
        "\n",
        "        batch = self.processor.pad(\n",
        "            input_features,\n",
        "            padding=self.padding,\n",
        "            return_tensors=\"pt\",\n",
        "        )\n",
        "        with self.processor.as_target_processor():\n",
        "            labels_batch = self.processor.pad(\n",
        "                label_features,\n",
        "                padding=self.padding,\n",
        "                return_tensors=\"pt\",\n",
        "            )\n",
        "\n",
        "        # replace padding with -100 to ignore loss correctly\n",
        "        labels = labels_batch[\"input_ids\"].masked_fill(labels_batch.attention_mask.ne(1), -100)\n",
        "\n",
        "        batch[\"labels\"] = labels\n",
        "\n",
        "        return batch"
      ],
      "metadata": {
        "id": "ocV7kM5dPIRk"
      },
      "execution_count": null,
      "outputs": []
    },
    {
      "cell_type": "code",
      "source": [
        "data_collator = DataCollatorCTCWithPadding(processor=processor, padding=True)"
      ],
      "metadata": {
        "id": "weddHGjTPSzj"
      },
      "execution_count": null,
      "outputs": []
    },
    {
      "cell_type": "code",
      "source": [
        "!pip install jiwer"
      ],
      "metadata": {
        "colab": {
          "base_uri": "https://localhost:8080/"
        },
        "id": "ynjvVrdAPdxA",
        "outputId": "e725f0c2-d256-4b16-aae8-62c31b0f8cd9"
      },
      "execution_count": null,
      "outputs": [
        {
          "output_type": "stream",
          "name": "stdout",
          "text": [
            "Requirement already satisfied: jiwer in /usr/local/lib/python3.10/dist-packages (3.0.3)\n",
            "Requirement already satisfied: click<9.0.0,>=8.1.3 in /usr/local/lib/python3.10/dist-packages (from jiwer) (8.1.7)\n",
            "Requirement already satisfied: rapidfuzz<4,>=3 in /usr/local/lib/python3.10/dist-packages (from jiwer) (3.4.0)\n"
          ]
        }
      ]
    },
    {
      "cell_type": "code",
      "source": [
        "wer_metric = load_metric(\"wer\")"
      ],
      "metadata": {
        "colab": {
          "base_uri": "https://localhost:8080/"
        },
        "id": "xVv9GWoMPV58",
        "outputId": "77a0c523-7ab8-4f63-c9c9-bcd93ab8abe5"
      },
      "execution_count": null,
      "outputs": [
        {
          "output_type": "stream",
          "name": "stderr",
          "text": [
            "<ipython-input-48-605de035dfd7>:1: FutureWarning: load_metric is deprecated and will be removed in the next major version of datasets. Use 'evaluate.load' instead, from the new library 🤗 Evaluate: https://huggingface.co/docs/evaluate\n",
            "  wer_metric = load_metric(\"wer\")\n"
          ]
        }
      ]
    },
    {
      "cell_type": "code",
      "source": [
        "def compute_metrics(pred):\n",
        "    pred_logits = pred.predictions\n",
        "    pred_ids = np.argmax(pred_logits, axis=-1)\n",
        "\n",
        "    pred.label_ids[pred.label_ids == -100] = processor.tokenizer.pad_token_id\n",
        "\n",
        "    pred_str = processor.batch_decode(pred_ids)\n",
        "    # we do not want to group tokens when computing the metrics\n",
        "    label_str = processor.batch_decode(pred.label_ids, group_tokens=False)\n",
        "\n",
        "    wer = wer_metric.compute(predictions=pred_str, references=label_str)\n",
        "\n",
        "    return {\"wer\": wer}"
      ],
      "metadata": {
        "id": "_sWCz-WQP5-f"
      },
      "execution_count": null,
      "outputs": []
    },
    {
      "cell_type": "code",
      "source": [
        "from transformers import Wav2Vec2ForCTC\n",
        "\n",
        "model = Wav2Vec2ForCTC.from_pretrained(\n",
        "    \"facebook/wav2vec2-xls-r-300m\",\n",
        "    ctc_loss_reduction=\"mean\",\n",
        "    pad_token_id=processor.tokenizer.pad_token_id,\n",
        "    vocab_size=len(processor.tokenizer),\n",
        ")"
      ],
      "metadata": {
        "colab": {
          "base_uri": "https://localhost:8080/"
        },
        "id": "YrjgVh5AQCu0",
        "outputId": "25559630-1516-46d4-bb5b-0b6778e37abf"
      },
      "execution_count": null,
      "outputs": [
        {
          "output_type": "stream",
          "name": "stderr",
          "text": [
            "Some weights of Wav2Vec2ForCTC were not initialized from the model checkpoint at facebook/wav2vec2-xls-r-300m and are newly initialized: ['lm_head.bias', 'lm_head.weight']\n",
            "You should probably TRAIN this model on a down-stream task to be able to use it for predictions and inference.\n"
          ]
        }
      ]
    },
    {
      "cell_type": "code",
      "source": [
        "model.freeze_feature_extractor()"
      ],
      "metadata": {
        "colab": {
          "base_uri": "https://localhost:8080/"
        },
        "id": "D-8oDVszQvts",
        "outputId": "386aafb7-a5eb-4127-af60-b4589ef9bc96"
      },
      "execution_count": null,
      "outputs": [
        {
          "output_type": "stream",
          "name": "stderr",
          "text": [
            "/usr/local/lib/python3.10/dist-packages/transformers/models/wav2vec2/modeling_wav2vec2.py:1925: FutureWarning: The method `freeze_feature_extractor` is deprecated and will be removed in Transformers v5.Please use the equivalent `freeze_feature_encoder` method instead.\n",
            "  warnings.warn(\n"
          ]
        }
      ]
    },
    {
      "cell_type": "code",
      "source": [
        "from huggingface_hub import notebook_login\n",
        "\n",
        "notebook_login()"
      ],
      "metadata": {
        "colab": {
          "base_uri": "https://localhost:8080/",
          "height": 331,
          "referenced_widgets": [
            "55fec2b98dee4ea78de98ae2d77a1e3c",
            "a6b558d097964d73b78a1b344e632b0a",
            "a29af3ce58eb439b858115a3e317114d",
            "159d631bc75f402a8d7854466407ffda",
            "9773280ba2b445f68b2a196a9e85530f",
            "029338fc3a1845c4b472cc2a62c8954e",
            "ae73039799bd4c4b95eef7bba8776fae",
            "cd7e5f500cc54cd285f836ca3b962282",
            "56e4ae0f39f64bc6a8c6188bd3e363f7",
            "20f3fc992f2f4514bf4f8ffb66aab373",
            "f5495c7f2b3c4e198006d41ae20b57fd",
            "afc70556de3248b4a40522d5a5bcd739",
            "6c8c48f35640459d9c5b1176116875ab",
            "0bac6e70aa32459ab385b1105473296c",
            "1e570044a4fa4ac093bb736e2f5ca25f",
            "d23b65e597e54bb6884d0d80379f4ca1",
            "da87229f4791436fb9d3d6b4a991b8c1"
          ]
        },
        "id": "3swP1CHfR2sA",
        "outputId": "ae55a61a-5739-46a9-cfe0-6fa3fc6881bb"
      },
      "execution_count": null,
      "outputs": [
        {
          "output_type": "display_data",
          "data": {
            "text/plain": [
              "VBox(children=(HTML(value='<center> <img\\nsrc=https://huggingface.co/front/assets/huggingface_logo-noborder.sv…"
            ],
            "application/vnd.jupyter.widget-view+json": {
              "version_major": 2,
              "version_minor": 0,
              "model_id": "55fec2b98dee4ea78de98ae2d77a1e3c"
            }
          },
          "metadata": {}
        }
      ]
    },
    {
      "cell_type": "code",
      "source": [
        "from huggingface_hub import create_repo\n",
        "#create_repo(\"m-team_model\")"
      ],
      "metadata": {
        "id": "9cpmIzMpRvDq"
      },
      "execution_count": null,
      "outputs": []
    },
    {
      "cell_type": "code",
      "source": [
        "repo_name = \"m-team_model\"\n",
        "#tokenizer.push_to_hub(repo_name)"
      ],
      "metadata": {
        "id": "2Tsa07cGSPGK"
      },
      "execution_count": null,
      "outputs": []
    },
    {
      "cell_type": "code",
      "source": [
        "!pip install accelerate==0.20.1\n",
        "!pip install transformers[torch]"
      ],
      "metadata": {
        "colab": {
          "base_uri": "https://localhost:8080/",
          "height": 1000
        },
        "id": "F39zZmu2Q2O8",
        "outputId": "c7029eb7-14f7-458f-9c56-5deb6c3dcd58"
      },
      "execution_count": null,
      "outputs": [
        {
          "output_type": "stream",
          "name": "stdout",
          "text": [
            "Collecting accelerate==0.20.1\n",
            "  Using cached accelerate-0.20.1-py3-none-any.whl (227 kB)\n",
            "Requirement already satisfied: numpy>=1.17 in /usr/local/lib/python3.10/dist-packages (from accelerate==0.20.1) (1.23.5)\n",
            "Requirement already satisfied: packaging>=20.0 in /usr/local/lib/python3.10/dist-packages (from accelerate==0.20.1) (23.2)\n",
            "Requirement already satisfied: psutil in /usr/local/lib/python3.10/dist-packages (from accelerate==0.20.1) (5.9.5)\n",
            "Requirement already satisfied: pyyaml in /usr/local/lib/python3.10/dist-packages (from accelerate==0.20.1) (6.0.1)\n",
            "Requirement already satisfied: torch>=1.6.0 in /usr/local/lib/python3.10/dist-packages (from accelerate==0.20.1) (2.0.1+cu118)\n",
            "Requirement already satisfied: filelock in /usr/local/lib/python3.10/dist-packages (from torch>=1.6.0->accelerate==0.20.1) (3.12.4)\n",
            "Requirement already satisfied: typing-extensions in /usr/local/lib/python3.10/dist-packages (from torch>=1.6.0->accelerate==0.20.1) (4.5.0)\n",
            "Requirement already satisfied: sympy in /usr/local/lib/python3.10/dist-packages (from torch>=1.6.0->accelerate==0.20.1) (1.12)\n",
            "Requirement already satisfied: networkx in /usr/local/lib/python3.10/dist-packages (from torch>=1.6.0->accelerate==0.20.1) (3.1)\n",
            "Requirement already satisfied: jinja2 in /usr/local/lib/python3.10/dist-packages (from torch>=1.6.0->accelerate==0.20.1) (3.1.2)\n",
            "Requirement already satisfied: triton==2.0.0 in /usr/local/lib/python3.10/dist-packages (from torch>=1.6.0->accelerate==0.20.1) (2.0.0)\n",
            "Requirement already satisfied: cmake in /usr/local/lib/python3.10/dist-packages (from triton==2.0.0->torch>=1.6.0->accelerate==0.20.1) (3.27.6)\n",
            "Requirement already satisfied: lit in /usr/local/lib/python3.10/dist-packages (from triton==2.0.0->torch>=1.6.0->accelerate==0.20.1) (17.0.2)\n",
            "Requirement already satisfied: MarkupSafe>=2.0 in /usr/local/lib/python3.10/dist-packages (from jinja2->torch>=1.6.0->accelerate==0.20.1) (2.1.3)\n",
            "Requirement already satisfied: mpmath>=0.19 in /usr/local/lib/python3.10/dist-packages (from sympy->torch>=1.6.0->accelerate==0.20.1) (1.3.0)\n",
            "Installing collected packages: accelerate\n",
            "  Attempting uninstall: accelerate\n",
            "    Found existing installation: accelerate 0.20.3\n",
            "    Uninstalling accelerate-0.20.3:\n",
            "      Successfully uninstalled accelerate-0.20.3\n",
            "Successfully installed accelerate-0.20.1\n"
          ]
        },
        {
          "output_type": "display_data",
          "data": {
            "application/vnd.colab-display-data+json": {
              "pip_warning": {
                "packages": [
                  "accelerate"
                ]
              }
            }
          },
          "metadata": {}
        },
        {
          "output_type": "stream",
          "name": "stdout",
          "text": [
            "Requirement already satisfied: transformers[torch] in /usr/local/lib/python3.10/dist-packages (4.34.0)\n",
            "Requirement already satisfied: filelock in /usr/local/lib/python3.10/dist-packages (from transformers[torch]) (3.12.4)\n",
            "Requirement already satisfied: huggingface-hub<1.0,>=0.16.4 in /usr/local/lib/python3.10/dist-packages (from transformers[torch]) (0.17.3)\n",
            "Requirement already satisfied: numpy>=1.17 in /usr/local/lib/python3.10/dist-packages (from transformers[torch]) (1.23.5)\n",
            "Requirement already satisfied: packaging>=20.0 in /usr/local/lib/python3.10/dist-packages (from transformers[torch]) (23.2)\n",
            "Requirement already satisfied: pyyaml>=5.1 in /usr/local/lib/python3.10/dist-packages (from transformers[torch]) (6.0.1)\n",
            "Requirement already satisfied: regex!=2019.12.17 in /usr/local/lib/python3.10/dist-packages (from transformers[torch]) (2023.6.3)\n",
            "Requirement already satisfied: requests in /usr/local/lib/python3.10/dist-packages (from transformers[torch]) (2.31.0)\n",
            "Requirement already satisfied: tokenizers<0.15,>=0.14 in /usr/local/lib/python3.10/dist-packages (from transformers[torch]) (0.14.1)\n",
            "Requirement already satisfied: safetensors>=0.3.1 in /usr/local/lib/python3.10/dist-packages (from transformers[torch]) (0.4.0)\n",
            "Requirement already satisfied: tqdm>=4.27 in /usr/local/lib/python3.10/dist-packages (from transformers[torch]) (4.66.1)\n",
            "Requirement already satisfied: torch!=1.12.0,>=1.10 in /usr/local/lib/python3.10/dist-packages (from transformers[torch]) (2.0.1+cu118)\n",
            "Collecting accelerate>=0.20.3 (from transformers[torch])\n",
            "  Using cached accelerate-0.23.0-py3-none-any.whl (258 kB)\n",
            "Requirement already satisfied: psutil in /usr/local/lib/python3.10/dist-packages (from accelerate>=0.20.3->transformers[torch]) (5.9.5)\n",
            "Requirement already satisfied: fsspec in /usr/local/lib/python3.10/dist-packages (from huggingface-hub<1.0,>=0.16.4->transformers[torch]) (2023.6.0)\n",
            "Requirement already satisfied: typing-extensions>=3.7.4.3 in /usr/local/lib/python3.10/dist-packages (from huggingface-hub<1.0,>=0.16.4->transformers[torch]) (4.5.0)\n",
            "Requirement already satisfied: sympy in /usr/local/lib/python3.10/dist-packages (from torch!=1.12.0,>=1.10->transformers[torch]) (1.12)\n",
            "Requirement already satisfied: networkx in /usr/local/lib/python3.10/dist-packages (from torch!=1.12.0,>=1.10->transformers[torch]) (3.1)\n",
            "Requirement already satisfied: jinja2 in /usr/local/lib/python3.10/dist-packages (from torch!=1.12.0,>=1.10->transformers[torch]) (3.1.2)\n",
            "Requirement already satisfied: triton==2.0.0 in /usr/local/lib/python3.10/dist-packages (from torch!=1.12.0,>=1.10->transformers[torch]) (2.0.0)\n",
            "Requirement already satisfied: cmake in /usr/local/lib/python3.10/dist-packages (from triton==2.0.0->torch!=1.12.0,>=1.10->transformers[torch]) (3.27.6)\n",
            "Requirement already satisfied: lit in /usr/local/lib/python3.10/dist-packages (from triton==2.0.0->torch!=1.12.0,>=1.10->transformers[torch]) (17.0.2)\n",
            "Requirement already satisfied: charset-normalizer<4,>=2 in /usr/local/lib/python3.10/dist-packages (from requests->transformers[torch]) (3.3.0)\n",
            "Requirement already satisfied: idna<4,>=2.5 in /usr/local/lib/python3.10/dist-packages (from requests->transformers[torch]) (3.4)\n",
            "Requirement already satisfied: urllib3<3,>=1.21.1 in /usr/local/lib/python3.10/dist-packages (from requests->transformers[torch]) (2.0.6)\n",
            "Requirement already satisfied: certifi>=2017.4.17 in /usr/local/lib/python3.10/dist-packages (from requests->transformers[torch]) (2023.7.22)\n",
            "Requirement already satisfied: MarkupSafe>=2.0 in /usr/local/lib/python3.10/dist-packages (from jinja2->torch!=1.12.0,>=1.10->transformers[torch]) (2.1.3)\n",
            "Requirement already satisfied: mpmath>=0.19 in /usr/local/lib/python3.10/dist-packages (from sympy->torch!=1.12.0,>=1.10->transformers[torch]) (1.3.0)\n",
            "Installing collected packages: accelerate\n",
            "  Attempting uninstall: accelerate\n",
            "    Found existing installation: accelerate 0.20.1\n",
            "    Uninstalling accelerate-0.20.1:\n",
            "      Successfully uninstalled accelerate-0.20.1\n",
            "Successfully installed accelerate-0.23.0\n"
          ]
        },
        {
          "output_type": "display_data",
          "data": {
            "application/vnd.colab-display-data+json": {
              "pip_warning": {
                "packages": [
                  "accelerate"
                ]
              }
            }
          },
          "metadata": {}
        }
      ]
    },
    {
      "cell_type": "code",
      "source": [
        "from transformers import TrainingArguments\n",
        "\n",
        "# Check if you are running on a CUDA-enabled device before enabling FP16\n",
        "import torch\n",
        "if torch.cuda.is_available():\n",
        "    fp16_enabled = True\n",
        "else:\n",
        "    fp16_enabled = False\n",
        "    print(\"CUDA device not available. Disabling FP16.\")\n",
        "\n",
        "training_args = TrainingArguments(\n",
        "  output_dir=repo_name,\n",
        "  group_by_length=True,\n",
        "  per_device_train_batch_size=16,\n",
        "  gradient_accumulation_steps=2,\n",
        "  evaluation_strategy=\"steps\",\n",
        "  num_train_epochs=30,\n",
        "  gradient_checkpointing=True,\n",
        "  fp16=fp16_enabled,  # Enable FP16 only if CUDA is available\n",
        "  save_steps=400,\n",
        "  eval_steps=400,\n",
        "  logging_steps=400,\n",
        "  learning_rate=3e-4,\n",
        "  warmup_steps=500,\n",
        "  save_total_limit=2,\n",
        "  push_to_hub=True,\n",
        ")"
      ],
      "metadata": {
        "colab": {
          "base_uri": "https://localhost:8080/"
        },
        "id": "0ldLHgHKROcY",
        "outputId": "dc9fbdbd-c5c9-4d8f-c1c2-ad1c85077f80"
      },
      "execution_count": null,
      "outputs": [
        {
          "output_type": "stream",
          "name": "stdout",
          "text": [
            "CUDA device not available. Disabling FP16.\n"
          ]
        }
      ]
    },
    {
      "cell_type": "code",
      "source": [
        "from transformers import Trainer\n",
        "\n",
        "trainer = Trainer(\n",
        "    model=model,\n",
        "    data_collator=data_collator,\n",
        "    args=training_args,\n",
        "    compute_metrics=compute_metrics,\n",
        "    train_dataset=combined_train_validate,\n",
        "    eval_dataset=test_data,\n",
        "    tokenizer=processor.feature_extractor,\n",
        ")"
      ],
      "metadata": {
        "id": "Hafi0lkMSzuG"
      },
      "execution_count": null,
      "outputs": []
    },
    {
      "cell_type": "code",
      "source": [
        "trainer.train()"
      ],
      "metadata": {
        "id": "sOG-2eVDXIuG",
        "colab": {
          "base_uri": "https://localhost:8080/",
          "height": 175
        },
        "outputId": "631963bb-6256-4f90-a321-879a198a51a2"
      },
      "execution_count": 1,
      "outputs": [
        {
          "output_type": "error",
          "ename": "NameError",
          "evalue": "ignored",
          "traceback": [
            "\u001b[0;31m---------------------------------------------------------------------------\u001b[0m",
            "\u001b[0;31mNameError\u001b[0m                                 Traceback (most recent call last)",
            "\u001b[0;32m<ipython-input-1-3435b262f1ae>\u001b[0m in \u001b[0;36m<cell line: 1>\u001b[0;34m()\u001b[0m\n\u001b[0;32m----> 1\u001b[0;31m \u001b[0mtrainer\u001b[0m\u001b[0;34m.\u001b[0m\u001b[0mtrain\u001b[0m\u001b[0;34m(\u001b[0m\u001b[0;34m)\u001b[0m\u001b[0;34m\u001b[0m\u001b[0;34m\u001b[0m\u001b[0m\n\u001b[0m",
            "\u001b[0;31mNameError\u001b[0m: name 'trainer' is not defined"
          ]
        }
      ]
    },
    {
      "cell_type": "code",
      "source": [],
      "metadata": {
        "id": "EVtcmnCV2OSc"
      },
      "execution_count": null,
      "outputs": []
    }
  ]
}